{
 "cells": [
  {
   "cell_type": "code",
   "execution_count": null,
   "id": "f470de41-f6d0-42e5-89d1-fc08b823c55e",
   "metadata": {},
   "outputs": [],
   "source": []
  },
  {
   "cell_type": "code",
   "execution_count": 35,
   "id": "054b9101-aa58-423c-8c9e-9cd7f09be049",
   "metadata": {},
   "outputs": [],
   "source": [
    "import pandas  as pd\n",
    "import numpy as np\n",
    "import matplotlib.pyplot as plt\n",
    "%matplotlib inline\n",
    "import scipy.stats as stats\n",
    "import math\n"
   ]
  },
  {
   "cell_type": "code",
   "execution_count": 36,
   "id": "c1dd0a87-287d-4498-985b-fedcf0f2f3df",
   "metadata": {},
   "outputs": [],
   "source": [
    "sample_dat=[1.13, 1.55, 1.43, 0.92, 1.25, 1.36, 1.32, 0.85, 1.07, 1.48, 1.20, 1.33, 1.18, 1.22, 1.29]"
   ]
  },
  {
   "cell_type": "code",
   "execution_count": 37,
   "id": "2295fba8-60e3-4276-8cc9-6824f6b49884",
   "metadata": {},
   "outputs": [],
   "source": [
    "sample_mean=np.mean(sample_dat)"
   ]
  },
  {
   "cell_type": "code",
   "execution_count": 38,
   "id": "f0d107b7-09b7-4822-94fc-f0c9e5abe0d2",
   "metadata": {},
   "outputs": [],
   "source": [
    "sample_std=np.std(sample_dat)"
   ]
  },
  {
   "cell_type": "code",
   "execution_count": 39,
   "id": "298e78f4-f476-41dd-a0eb-3494a6c3ae90",
   "metadata": {},
   "outputs": [],
   "source": [
    "degrre=len(sample_dat)-1\n"
   ]
  },
  {
   "cell_type": "code",
   "execution_count": 40,
   "id": "cd6b916f-2a5d-4862-9393-1898313eca39",
   "metadata": {},
   "outputs": [],
   "source": [
    "cl=0.99"
   ]
  },
  {
   "cell_type": "code",
   "execution_count": 41,
   "id": "0ba84543-2fac-438c-ae73-674f5abf434c",
   "metadata": {},
   "outputs": [],
   "source": [
    "alpha=(1-cl)/2"
   ]
  },
  {
   "cell_type": "code",
   "execution_count": 42,
   "id": "04cff1c1-a553-4875-8039-4151f3858f3f",
   "metadata": {},
   "outputs": [],
   "source": [
    "t_value=stats.t.ppf(1-alpha,degrre)"
   ]
  },
  {
   "cell_type": "code",
   "execution_count": 43,
   "id": "2dfab0dc-d3db-4474-9732-586c31e8d0f8",
   "metadata": {},
   "outputs": [],
   "source": [
    "margin_error=t_value*(sample_std/math.sqrt(len(sample_dat)))"
   ]
  },
  {
   "cell_type": "code",
   "execution_count": 44,
   "id": "29f6c037-9c65-4c73-ab39-3b0937555a8a",
   "metadata": {},
   "outputs": [],
   "source": [
    "upper_limit=sample_mean+margin_error\n",
    "lower_limit=sample_mean-margin_error"
   ]
  },
  {
   "cell_type": "code",
   "execution_count": 45,
   "id": "1eee86a4-6361-46fd-a6cb-b1dbdbe3c1b4",
   "metadata": {},
   "outputs": [
    {
     "name": "stdout",
     "output_type": "stream",
     "text": [
      "Confidence Interval: (1.095231668626123, 1.3821016647072102)\n"
     ]
    }
   ],
   "source": [
    "# 99% Confidence Interval using Sample Standard Deviation (T-distribution):\n",
    "print(f\"Confidence Interval: ({lower_limit}, {upper_limit})\")"
   ]
  },
  {
   "cell_type": "code",
   "execution_count": 46,
   "id": "60f20b2e-e4b1-45f1-a54a-1a365a79ab03",
   "metadata": {},
   "outputs": [],
   "source": [
    "confidence_level_99 = 0.99\n",
    "z_score = stats.norm.ppf((1 + confidence_level_99) / 2)\n"
   ]
  },
  {
   "cell_type": "code",
   "execution_count": 47,
   "id": "3c202195-a069-42fe-a1bd-eabd3d8050b0",
   "metadata": {},
   "outputs": [],
   "source": [
    "population_std_deviation = 0.2  "
   ]
  },
  {
   "cell_type": "code",
   "execution_count": 48,
   "id": "0a9f49f0-7662-47ec-b879-e41825d0ab89",
   "metadata": {},
   "outputs": [],
   "source": [
    "standard_error = population_std_deviation / np.sqrt(len(sample_dat))\n"
   ]
  },
  {
   "cell_type": "code",
   "execution_count": 49,
   "id": "a3393d2f-5d4e-42cf-8ba7-492fbaf9b7bb",
   "metadata": {},
   "outputs": [],
   "source": [
    "margin_of_error = z_score * standard_error"
   ]
  },
  {
   "cell_type": "code",
   "execution_count": 50,
   "id": "7fa9431d-41ca-40a1-b8bb-55d3fef8a654",
   "metadata": {},
   "outputs": [
    {
     "data": {
      "text/plain": [
       "(1.1056514133957607, 1.3716819199375725)"
      ]
     },
     "execution_count": 50,
     "metadata": {},
     "output_type": "execute_result"
    }
   ],
   "source": [
    "#99% Confidence Interval using Known Population Standard Deviation (Z-distribution):\n",
    "confidence_interval_known_std_99 = (sample_mean - margin_of_error, sample_mean + margin_of_error)\n",
    "\n",
    "confidence_interval_known_std_99"
   ]
  },
  {
   "cell_type": "code",
   "execution_count": null,
   "id": "eca64428-873a-498c-8e94-594e7e73b615",
   "metadata": {},
   "outputs": [],
   "source": []
  }
 ],
 "metadata": {
  "kernelspec": {
   "display_name": "Python 3 (ipykernel)",
   "language": "python",
   "name": "python3"
  },
  "language_info": {
   "codemirror_mode": {
    "name": "ipython",
    "version": 3
   },
   "file_extension": ".py",
   "mimetype": "text/x-python",
   "name": "python",
   "nbconvert_exporter": "python",
   "pygments_lexer": "ipython3",
   "version": "3.12.4"
  }
 },
 "nbformat": 4,
 "nbformat_minor": 5
}
