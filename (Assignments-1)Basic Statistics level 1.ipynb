{
 "cells": [
  {
   "cell_type": "markdown",
   "id": "c33b68a0-dd72-49fd-89ba-d90421b76290",
   "metadata": {},
   "source": [
    "# BASIC STATISTICS"
   ]
  },
  {
   "cell_type": "markdown",
   "id": "8c3eff40-7c9e-422d-8441-90cb9c05b830",
   "metadata": {},
   "source": [
    "## Descriptive Analytics and Data Preprocessing on Sales & Discounts Dataset"
   ]
  },
  {
   "cell_type": "markdown",
   "id": "94548e9c-175f-4749-93b4-682b6b2d52a0",
   "metadata": {},
   "source": [
    "## Descriptive Analytics for Numerical Columns"
   ]
  },
  {
   "cell_type": "code",
   "execution_count": 179,
   "id": "296a41df-28a7-415b-8388-0b5d31b33384",
   "metadata": {},
   "outputs": [],
   "source": [
    "import pandas as pd\n",
    "import numpy as np\n",
    "import matplotlib.pyplot as plt\n",
    "%matplotlib inline\n",
    "import seaborn as sns"
   ]
  },
  {
   "cell_type": "code",
   "execution_count": 180,
   "id": "c1f369ee-5698-4290-b38d-9a3f6ea62074",
   "metadata": {},
   "outputs": [],
   "source": [
    "df=pd.read_csv(r\"D:\\DATA SCIENCE ASSIGNMENTS\\Data Science Assignments\\Basic stats - 1\\Basic stats - 1\\sales_data_with_discounts.csv\")"
   ]
  },
  {
   "cell_type": "code",
   "execution_count": 181,
   "id": "8bb5e006-8dde-4b30-aa7d-380c54f5c8fd",
   "metadata": {},
   "outputs": [
    {
     "name": "stdout",
     "output_type": "stream",
     "text": [
      "<class 'pandas.core.frame.DataFrame'>\n",
      "RangeIndex: 450 entries, 0 to 449\n",
      "Data columns (total 13 columns):\n",
      " #   Column             Non-Null Count  Dtype  \n",
      "---  ------             --------------  -----  \n",
      " 0   Date               450 non-null    object \n",
      " 1   Day                450 non-null    object \n",
      " 2   SKU                450 non-null    object \n",
      " 3   City               450 non-null    object \n",
      " 4   Volume             450 non-null    int64  \n",
      " 5   BU                 450 non-null    object \n",
      " 6   Brand              450 non-null    object \n",
      " 7   Model              450 non-null    object \n",
      " 8   Avg Price          450 non-null    int64  \n",
      " 9   Total Sales Value  450 non-null    int64  \n",
      " 10  Discount Rate (%)  450 non-null    float64\n",
      " 11  Discount Amount    450 non-null    float64\n",
      " 12  Net Sales Value    450 non-null    float64\n",
      "dtypes: float64(3), int64(3), object(7)\n",
      "memory usage: 45.8+ KB\n"
     ]
    }
   ],
   "source": [
    "df.info()"
   ]
  },
  {
   "cell_type": "code",
   "execution_count": 182,
   "id": "5bbdbcf1-6724-4ddb-bc4f-7d3eaf37d4b1",
   "metadata": {},
   "outputs": [
    {
     "data": {
      "text/html": [
       "<div>\n",
       "<style scoped>\n",
       "    .dataframe tbody tr th:only-of-type {\n",
       "        vertical-align: middle;\n",
       "    }\n",
       "\n",
       "    .dataframe tbody tr th {\n",
       "        vertical-align: top;\n",
       "    }\n",
       "\n",
       "    .dataframe thead th {\n",
       "        text-align: right;\n",
       "    }\n",
       "</style>\n",
       "<table border=\"1\" class=\"dataframe\">\n",
       "  <thead>\n",
       "    <tr style=\"text-align: right;\">\n",
       "      <th></th>\n",
       "      <th>Date</th>\n",
       "      <th>Day</th>\n",
       "      <th>SKU</th>\n",
       "      <th>City</th>\n",
       "      <th>Volume</th>\n",
       "      <th>BU</th>\n",
       "      <th>Brand</th>\n",
       "      <th>Model</th>\n",
       "      <th>Avg Price</th>\n",
       "      <th>Total Sales Value</th>\n",
       "      <th>Discount Rate (%)</th>\n",
       "      <th>Discount Amount</th>\n",
       "      <th>Net Sales Value</th>\n",
       "    </tr>\n",
       "  </thead>\n",
       "  <tbody>\n",
       "    <tr>\n",
       "      <th>0</th>\n",
       "      <td>01-04-2021</td>\n",
       "      <td>Thursday</td>\n",
       "      <td>M01</td>\n",
       "      <td>C</td>\n",
       "      <td>15</td>\n",
       "      <td>Mobiles</td>\n",
       "      <td>RealU</td>\n",
       "      <td>RU-10</td>\n",
       "      <td>12100</td>\n",
       "      <td>181500</td>\n",
       "      <td>11.654820</td>\n",
       "      <td>21153.498820</td>\n",
       "      <td>160346.501180</td>\n",
       "    </tr>\n",
       "    <tr>\n",
       "      <th>1</th>\n",
       "      <td>01-04-2021</td>\n",
       "      <td>Thursday</td>\n",
       "      <td>M02</td>\n",
       "      <td>C</td>\n",
       "      <td>10</td>\n",
       "      <td>Mobiles</td>\n",
       "      <td>RealU</td>\n",
       "      <td>RU-9 Plus</td>\n",
       "      <td>10100</td>\n",
       "      <td>101000</td>\n",
       "      <td>11.560498</td>\n",
       "      <td>11676.102961</td>\n",
       "      <td>89323.897039</td>\n",
       "    </tr>\n",
       "    <tr>\n",
       "      <th>2</th>\n",
       "      <td>01-04-2021</td>\n",
       "      <td>Thursday</td>\n",
       "      <td>M03</td>\n",
       "      <td>C</td>\n",
       "      <td>7</td>\n",
       "      <td>Mobiles</td>\n",
       "      <td>YouM</td>\n",
       "      <td>YM-99</td>\n",
       "      <td>16100</td>\n",
       "      <td>112700</td>\n",
       "      <td>9.456886</td>\n",
       "      <td>10657.910157</td>\n",
       "      <td>102042.089843</td>\n",
       "    </tr>\n",
       "    <tr>\n",
       "      <th>3</th>\n",
       "      <td>01-04-2021</td>\n",
       "      <td>Thursday</td>\n",
       "      <td>M04</td>\n",
       "      <td>C</td>\n",
       "      <td>6</td>\n",
       "      <td>Mobiles</td>\n",
       "      <td>YouM</td>\n",
       "      <td>YM-99 Plus</td>\n",
       "      <td>20100</td>\n",
       "      <td>120600</td>\n",
       "      <td>6.935385</td>\n",
       "      <td>8364.074702</td>\n",
       "      <td>112235.925298</td>\n",
       "    </tr>\n",
       "    <tr>\n",
       "      <th>4</th>\n",
       "      <td>01-04-2021</td>\n",
       "      <td>Thursday</td>\n",
       "      <td>M05</td>\n",
       "      <td>C</td>\n",
       "      <td>3</td>\n",
       "      <td>Mobiles</td>\n",
       "      <td>YouM</td>\n",
       "      <td>YM-98</td>\n",
       "      <td>8100</td>\n",
       "      <td>24300</td>\n",
       "      <td>17.995663</td>\n",
       "      <td>4372.946230</td>\n",
       "      <td>19927.053770</td>\n",
       "    </tr>\n",
       "  </tbody>\n",
       "</table>\n",
       "</div>"
      ],
      "text/plain": [
       "         Date       Day  SKU City  Volume       BU  Brand       Model  \\\n",
       "0  01-04-2021  Thursday  M01    C      15  Mobiles  RealU       RU-10   \n",
       "1  01-04-2021  Thursday  M02    C      10  Mobiles  RealU   RU-9 Plus   \n",
       "2  01-04-2021  Thursday  M03    C       7  Mobiles   YouM       YM-99   \n",
       "3  01-04-2021  Thursday  M04    C       6  Mobiles   YouM  YM-99 Plus   \n",
       "4  01-04-2021  Thursday  M05    C       3  Mobiles   YouM      YM-98    \n",
       "\n",
       "   Avg Price  Total Sales Value  Discount Rate (%)  Discount Amount  \\\n",
       "0      12100             181500          11.654820     21153.498820   \n",
       "1      10100             101000          11.560498     11676.102961   \n",
       "2      16100             112700           9.456886     10657.910157   \n",
       "3      20100             120600           6.935385      8364.074702   \n",
       "4       8100              24300          17.995663      4372.946230   \n",
       "\n",
       "   Net Sales Value  \n",
       "0    160346.501180  \n",
       "1     89323.897039  \n",
       "2    102042.089843  \n",
       "3    112235.925298  \n",
       "4     19927.053770  "
      ]
     },
     "execution_count": 182,
     "metadata": {},
     "output_type": "execute_result"
    }
   ],
   "source": [
    "df.head()"
   ]
  },
  {
   "cell_type": "code",
   "execution_count": 183,
   "id": "3ba8bb46-89ba-44ab-90f7-5a15340f5957",
   "metadata": {},
   "outputs": [
    {
     "data": {
      "text/plain": [
       "Date                 0\n",
       "Day                  0\n",
       "SKU                  0\n",
       "City                 0\n",
       "Volume               0\n",
       "BU                   0\n",
       "Brand                0\n",
       "Model                0\n",
       "Avg Price            0\n",
       "Total Sales Value    0\n",
       "Discount Rate (%)    0\n",
       "Discount Amount      0\n",
       "Net Sales Value      0\n",
       "dtype: int64"
      ]
     },
     "execution_count": 183,
     "metadata": {},
     "output_type": "execute_result"
    }
   ],
   "source": [
    "df.isnull().sum()"
   ]
  },
  {
   "cell_type": "code",
   "execution_count": 184,
   "id": "7008fd3e-4031-4875-b096-1668b4801351",
   "metadata": {},
   "outputs": [
    {
     "data": {
      "text/html": [
       "<div>\n",
       "<style scoped>\n",
       "    .dataframe tbody tr th:only-of-type {\n",
       "        vertical-align: middle;\n",
       "    }\n",
       "\n",
       "    .dataframe tbody tr th {\n",
       "        vertical-align: top;\n",
       "    }\n",
       "\n",
       "    .dataframe thead th {\n",
       "        text-align: right;\n",
       "    }\n",
       "</style>\n",
       "<table border=\"1\" class=\"dataframe\">\n",
       "  <thead>\n",
       "    <tr style=\"text-align: right;\">\n",
       "      <th></th>\n",
       "      <th>Volume</th>\n",
       "      <th>Avg Price</th>\n",
       "      <th>Total Sales Value</th>\n",
       "      <th>Discount Rate (%)</th>\n",
       "      <th>Discount Amount</th>\n",
       "      <th>Net Sales Value</th>\n",
       "    </tr>\n",
       "  </thead>\n",
       "  <tbody>\n",
       "    <tr>\n",
       "      <th>count</th>\n",
       "      <td>450.000000</td>\n",
       "      <td>450.000000</td>\n",
       "      <td>450.000000</td>\n",
       "      <td>450.000000</td>\n",
       "      <td>450.000000</td>\n",
       "      <td>450.000000</td>\n",
       "    </tr>\n",
       "    <tr>\n",
       "      <th>mean</th>\n",
       "      <td>5.066667</td>\n",
       "      <td>10453.433333</td>\n",
       "      <td>33812.835556</td>\n",
       "      <td>15.155242</td>\n",
       "      <td>3346.499424</td>\n",
       "      <td>30466.336131</td>\n",
       "    </tr>\n",
       "    <tr>\n",
       "      <th>std</th>\n",
       "      <td>4.231602</td>\n",
       "      <td>18079.904840</td>\n",
       "      <td>50535.074173</td>\n",
       "      <td>4.220602</td>\n",
       "      <td>4509.902963</td>\n",
       "      <td>46358.656624</td>\n",
       "    </tr>\n",
       "    <tr>\n",
       "      <th>min</th>\n",
       "      <td>1.000000</td>\n",
       "      <td>290.000000</td>\n",
       "      <td>400.000000</td>\n",
       "      <td>5.007822</td>\n",
       "      <td>69.177942</td>\n",
       "      <td>326.974801</td>\n",
       "    </tr>\n",
       "    <tr>\n",
       "      <th>25%</th>\n",
       "      <td>3.000000</td>\n",
       "      <td>465.000000</td>\n",
       "      <td>2700.000000</td>\n",
       "      <td>13.965063</td>\n",
       "      <td>460.459304</td>\n",
       "      <td>2202.208645</td>\n",
       "    </tr>\n",
       "    <tr>\n",
       "      <th>50%</th>\n",
       "      <td>4.000000</td>\n",
       "      <td>1450.000000</td>\n",
       "      <td>5700.000000</td>\n",
       "      <td>16.577766</td>\n",
       "      <td>988.933733</td>\n",
       "      <td>4677.788059</td>\n",
       "    </tr>\n",
       "    <tr>\n",
       "      <th>75%</th>\n",
       "      <td>6.000000</td>\n",
       "      <td>10100.000000</td>\n",
       "      <td>53200.000000</td>\n",
       "      <td>18.114718</td>\n",
       "      <td>5316.495427</td>\n",
       "      <td>47847.912852</td>\n",
       "    </tr>\n",
       "    <tr>\n",
       "      <th>max</th>\n",
       "      <td>31.000000</td>\n",
       "      <td>60100.000000</td>\n",
       "      <td>196400.000000</td>\n",
       "      <td>19.992407</td>\n",
       "      <td>25738.022194</td>\n",
       "      <td>179507.479049</td>\n",
       "    </tr>\n",
       "  </tbody>\n",
       "</table>\n",
       "</div>"
      ],
      "text/plain": [
       "           Volume     Avg Price  Total Sales Value  Discount Rate (%)  \\\n",
       "count  450.000000    450.000000         450.000000         450.000000   \n",
       "mean     5.066667  10453.433333       33812.835556          15.155242   \n",
       "std      4.231602  18079.904840       50535.074173           4.220602   \n",
       "min      1.000000    290.000000         400.000000           5.007822   \n",
       "25%      3.000000    465.000000        2700.000000          13.965063   \n",
       "50%      4.000000   1450.000000        5700.000000          16.577766   \n",
       "75%      6.000000  10100.000000       53200.000000          18.114718   \n",
       "max     31.000000  60100.000000      196400.000000          19.992407   \n",
       "\n",
       "       Discount Amount  Net Sales Value  \n",
       "count       450.000000       450.000000  \n",
       "mean       3346.499424     30466.336131  \n",
       "std        4509.902963     46358.656624  \n",
       "min          69.177942       326.974801  \n",
       "25%         460.459304      2202.208645  \n",
       "50%         988.933733      4677.788059  \n",
       "75%        5316.495427     47847.912852  \n",
       "max       25738.022194    179507.479049  "
      ]
     },
     "execution_count": 184,
     "metadata": {},
     "output_type": "execute_result"
    }
   ],
   "source": [
    "df.describe()"
   ]
  },
  {
   "cell_type": "code",
   "execution_count": 185,
   "id": "02c415b5-113a-4e1e-ae47-df1f82a37502",
   "metadata": {},
   "outputs": [],
   "source": [
    "df_num=df.select_dtypes(include=['number'])"
   ]
  },
  {
   "cell_type": "code",
   "execution_count": 186,
   "id": "2b7a40ec-d1ef-4c58-8075-74b8b6c74aa9",
   "metadata": {},
   "outputs": [
    {
     "data": {
      "text/html": [
       "<div>\n",
       "<style scoped>\n",
       "    .dataframe tbody tr th:only-of-type {\n",
       "        vertical-align: middle;\n",
       "    }\n",
       "\n",
       "    .dataframe tbody tr th {\n",
       "        vertical-align: top;\n",
       "    }\n",
       "\n",
       "    .dataframe thead th {\n",
       "        text-align: right;\n",
       "    }\n",
       "</style>\n",
       "<table border=\"1\" class=\"dataframe\">\n",
       "  <thead>\n",
       "    <tr style=\"text-align: right;\">\n",
       "      <th></th>\n",
       "      <th>Volume</th>\n",
       "      <th>Avg Price</th>\n",
       "      <th>Total Sales Value</th>\n",
       "      <th>Discount Rate (%)</th>\n",
       "      <th>Discount Amount</th>\n",
       "      <th>Net Sales Value</th>\n",
       "    </tr>\n",
       "  </thead>\n",
       "  <tbody>\n",
       "    <tr>\n",
       "      <th>0</th>\n",
       "      <td>15</td>\n",
       "      <td>12100</td>\n",
       "      <td>181500</td>\n",
       "      <td>11.654820</td>\n",
       "      <td>21153.498820</td>\n",
       "      <td>160346.501180</td>\n",
       "    </tr>\n",
       "    <tr>\n",
       "      <th>1</th>\n",
       "      <td>10</td>\n",
       "      <td>10100</td>\n",
       "      <td>101000</td>\n",
       "      <td>11.560498</td>\n",
       "      <td>11676.102961</td>\n",
       "      <td>89323.897039</td>\n",
       "    </tr>\n",
       "    <tr>\n",
       "      <th>2</th>\n",
       "      <td>7</td>\n",
       "      <td>16100</td>\n",
       "      <td>112700</td>\n",
       "      <td>9.456886</td>\n",
       "      <td>10657.910157</td>\n",
       "      <td>102042.089843</td>\n",
       "    </tr>\n",
       "    <tr>\n",
       "      <th>3</th>\n",
       "      <td>6</td>\n",
       "      <td>20100</td>\n",
       "      <td>120600</td>\n",
       "      <td>6.935385</td>\n",
       "      <td>8364.074702</td>\n",
       "      <td>112235.925298</td>\n",
       "    </tr>\n",
       "    <tr>\n",
       "      <th>4</th>\n",
       "      <td>3</td>\n",
       "      <td>8100</td>\n",
       "      <td>24300</td>\n",
       "      <td>17.995663</td>\n",
       "      <td>4372.946230</td>\n",
       "      <td>19927.053770</td>\n",
       "    </tr>\n",
       "  </tbody>\n",
       "</table>\n",
       "</div>"
      ],
      "text/plain": [
       "   Volume  Avg Price  Total Sales Value  Discount Rate (%)  Discount Amount  \\\n",
       "0      15      12100             181500          11.654820     21153.498820   \n",
       "1      10      10100             101000          11.560498     11676.102961   \n",
       "2       7      16100             112700           9.456886     10657.910157   \n",
       "3       6      20100             120600           6.935385      8364.074702   \n",
       "4       3       8100              24300          17.995663      4372.946230   \n",
       "\n",
       "   Net Sales Value  \n",
       "0    160346.501180  \n",
       "1     89323.897039  \n",
       "2    102042.089843  \n",
       "3    112235.925298  \n",
       "4     19927.053770  "
      ]
     },
     "execution_count": 186,
     "metadata": {},
     "output_type": "execute_result"
    }
   ],
   "source": [
    "df_num.head()"
   ]
  },
  {
   "cell_type": "code",
   "execution_count": 187,
   "id": "b61efbc0-2495-4c58-810e-03f5475efaa9",
   "metadata": {},
   "outputs": [
    {
     "data": {
      "text/html": [
       "<div>\n",
       "<style scoped>\n",
       "    .dataframe tbody tr th:only-of-type {\n",
       "        vertical-align: middle;\n",
       "    }\n",
       "\n",
       "    .dataframe tbody tr th {\n",
       "        vertical-align: top;\n",
       "    }\n",
       "\n",
       "    .dataframe thead th {\n",
       "        text-align: right;\n",
       "    }\n",
       "</style>\n",
       "<table border=\"1\" class=\"dataframe\">\n",
       "  <thead>\n",
       "    <tr style=\"text-align: right;\">\n",
       "      <th></th>\n",
       "      <th>Volume</th>\n",
       "      <th>Avg Price</th>\n",
       "      <th>Total Sales Value</th>\n",
       "      <th>Discount Rate (%)</th>\n",
       "      <th>Discount Amount</th>\n",
       "      <th>Net Sales Value</th>\n",
       "    </tr>\n",
       "  </thead>\n",
       "  <tbody>\n",
       "    <tr>\n",
       "      <th>count</th>\n",
       "      <td>450.000000</td>\n",
       "      <td>450.000000</td>\n",
       "      <td>450.000000</td>\n",
       "      <td>450.000000</td>\n",
       "      <td>450.000000</td>\n",
       "      <td>450.000000</td>\n",
       "    </tr>\n",
       "    <tr>\n",
       "      <th>mean</th>\n",
       "      <td>5.066667</td>\n",
       "      <td>10453.433333</td>\n",
       "      <td>33812.835556</td>\n",
       "      <td>15.155242</td>\n",
       "      <td>3346.499424</td>\n",
       "      <td>30466.336131</td>\n",
       "    </tr>\n",
       "    <tr>\n",
       "      <th>std</th>\n",
       "      <td>4.231602</td>\n",
       "      <td>18079.904840</td>\n",
       "      <td>50535.074173</td>\n",
       "      <td>4.220602</td>\n",
       "      <td>4509.902963</td>\n",
       "      <td>46358.656624</td>\n",
       "    </tr>\n",
       "    <tr>\n",
       "      <th>min</th>\n",
       "      <td>1.000000</td>\n",
       "      <td>290.000000</td>\n",
       "      <td>400.000000</td>\n",
       "      <td>5.007822</td>\n",
       "      <td>69.177942</td>\n",
       "      <td>326.974801</td>\n",
       "    </tr>\n",
       "    <tr>\n",
       "      <th>25%</th>\n",
       "      <td>3.000000</td>\n",
       "      <td>465.000000</td>\n",
       "      <td>2700.000000</td>\n",
       "      <td>13.965063</td>\n",
       "      <td>460.459304</td>\n",
       "      <td>2202.208645</td>\n",
       "    </tr>\n",
       "    <tr>\n",
       "      <th>50%</th>\n",
       "      <td>4.000000</td>\n",
       "      <td>1450.000000</td>\n",
       "      <td>5700.000000</td>\n",
       "      <td>16.577766</td>\n",
       "      <td>988.933733</td>\n",
       "      <td>4677.788059</td>\n",
       "    </tr>\n",
       "    <tr>\n",
       "      <th>75%</th>\n",
       "      <td>6.000000</td>\n",
       "      <td>10100.000000</td>\n",
       "      <td>53200.000000</td>\n",
       "      <td>18.114718</td>\n",
       "      <td>5316.495427</td>\n",
       "      <td>47847.912852</td>\n",
       "    </tr>\n",
       "    <tr>\n",
       "      <th>max</th>\n",
       "      <td>31.000000</td>\n",
       "      <td>60100.000000</td>\n",
       "      <td>196400.000000</td>\n",
       "      <td>19.992407</td>\n",
       "      <td>25738.022194</td>\n",
       "      <td>179507.479049</td>\n",
       "    </tr>\n",
       "  </tbody>\n",
       "</table>\n",
       "</div>"
      ],
      "text/plain": [
       "           Volume     Avg Price  Total Sales Value  Discount Rate (%)  \\\n",
       "count  450.000000    450.000000         450.000000         450.000000   \n",
       "mean     5.066667  10453.433333       33812.835556          15.155242   \n",
       "std      4.231602  18079.904840       50535.074173           4.220602   \n",
       "min      1.000000    290.000000         400.000000           5.007822   \n",
       "25%      3.000000    465.000000        2700.000000          13.965063   \n",
       "50%      4.000000   1450.000000        5700.000000          16.577766   \n",
       "75%      6.000000  10100.000000       53200.000000          18.114718   \n",
       "max     31.000000  60100.000000      196400.000000          19.992407   \n",
       "\n",
       "       Discount Amount  Net Sales Value  \n",
       "count       450.000000       450.000000  \n",
       "mean       3346.499424     30466.336131  \n",
       "std        4509.902963     46358.656624  \n",
       "min          69.177942       326.974801  \n",
       "25%         460.459304      2202.208645  \n",
       "50%         988.933733      4677.788059  \n",
       "75%        5316.495427     47847.912852  \n",
       "max       25738.022194    179507.479049  "
      ]
     },
     "execution_count": 187,
     "metadata": {},
     "output_type": "execute_result"
    }
   ],
   "source": [
    "df_num.describe()"
   ]
  },
  {
   "cell_type": "code",
   "execution_count": 188,
   "id": "0f81f393-5285-46d8-bac9-995172934705",
   "metadata": {},
   "outputs": [
    {
     "data": {
      "text/plain": [
       "Volume                   5.066667\n",
       "Avg Price            10453.433333\n",
       "Total Sales Value    33812.835556\n",
       "Discount Rate (%)       15.155242\n",
       "Discount Amount       3346.499424\n",
       "Net Sales Value      30466.336131\n",
       "dtype: float64"
      ]
     },
     "execution_count": 188,
     "metadata": {},
     "output_type": "execute_result"
    }
   ],
   "source": [
    "df_num.mean()"
   ]
  },
  {
   "cell_type": "code",
   "execution_count": 189,
   "id": "6b4367d1-0dea-4921-9c69-3675b70d9990",
   "metadata": {},
   "outputs": [],
   "source": [
    "## MEAN  OF  NUMERICAL COLUMNS ARE\n",
    "#Volume                   5.066667\n",
    "#Avg Price            10453.433333\n",
    "#Total Sales Value    33812.835556\n",
    "#Discount Rate (%)       15.155242\n",
    "#Discount Amount       3346.499424\n",
    "#Net Sales Value      30466.336131"
   ]
  },
  {
   "cell_type": "code",
   "execution_count": 190,
   "id": "3b7af8dd-9c5a-4f83-841f-a77067e57b46",
   "metadata": {},
   "outputs": [
    {
     "data": {
      "text/plain": [
       "Volume                  4.000000\n",
       "Avg Price            1450.000000\n",
       "Total Sales Value    5700.000000\n",
       "Discount Rate (%)      16.577766\n",
       "Discount Amount       988.933733\n",
       "Net Sales Value      4677.788059\n",
       "dtype: float64"
      ]
     },
     "execution_count": 190,
     "metadata": {},
     "output_type": "execute_result"
    }
   ],
   "source": [
    "df_num.median()"
   ]
  },
  {
   "cell_type": "code",
   "execution_count": 191,
   "id": "73894b34-d6d7-495d-a33b-65ffe0e786ea",
   "metadata": {},
   "outputs": [],
   "source": [
    "#median of numerical columns\n",
    "# Volume                  4.000000\n",
    "# Avg Price            1450.000000\n",
    "# Total Sales Value    5700.000000\n",
    "# Discount Rate (%)      16.577766\n",
    "# Discount Amount       988.933733\n",
    "# Net Sales Value      4677.788059at64"
   ]
  },
  {
   "cell_type": "code",
   "execution_count": 192,
   "id": "7fbe8ae3-95f3-43c7-bf49-6ea36dccea39",
   "metadata": {},
   "outputs": [
    {
     "data": {
      "text/html": [
       "<div>\n",
       "<style scoped>\n",
       "    .dataframe tbody tr th:only-of-type {\n",
       "        vertical-align: middle;\n",
       "    }\n",
       "\n",
       "    .dataframe tbody tr th {\n",
       "        vertical-align: top;\n",
       "    }\n",
       "\n",
       "    .dataframe thead th {\n",
       "        text-align: right;\n",
       "    }\n",
       "</style>\n",
       "<table border=\"1\" class=\"dataframe\">\n",
       "  <thead>\n",
       "    <tr style=\"text-align: right;\">\n",
       "      <th></th>\n",
       "      <th>0</th>\n",
       "      <th>1</th>\n",
       "      <th>2</th>\n",
       "      <th>3</th>\n",
       "      <th>4</th>\n",
       "      <th>5</th>\n",
       "    </tr>\n",
       "  </thead>\n",
       "  <tbody>\n",
       "    <tr>\n",
       "      <th>0</th>\n",
       "      <td>11.65482</td>\n",
       "      <td>15.000000</td>\n",
       "      <td>12100.000000</td>\n",
       "      <td>21153.498820</td>\n",
       "      <td>160346.501180</td>\n",
       "      <td>181500.0</td>\n",
       "    </tr>\n",
       "    <tr>\n",
       "      <th>1</th>\n",
       "      <td>10.00000</td>\n",
       "      <td>11.560498</td>\n",
       "      <td>10100.000000</td>\n",
       "      <td>11676.102961</td>\n",
       "      <td>89323.897039</td>\n",
       "      <td>101000.0</td>\n",
       "    </tr>\n",
       "    <tr>\n",
       "      <th>2</th>\n",
       "      <td>7.00000</td>\n",
       "      <td>9.456886</td>\n",
       "      <td>10657.910157</td>\n",
       "      <td>16100.000000</td>\n",
       "      <td>102042.089843</td>\n",
       "      <td>112700.0</td>\n",
       "    </tr>\n",
       "    <tr>\n",
       "      <th>3</th>\n",
       "      <td>6.00000</td>\n",
       "      <td>6.935385</td>\n",
       "      <td>8364.074702</td>\n",
       "      <td>20100.000000</td>\n",
       "      <td>112235.925298</td>\n",
       "      <td>120600.0</td>\n",
       "    </tr>\n",
       "    <tr>\n",
       "      <th>4</th>\n",
       "      <td>3.00000</td>\n",
       "      <td>17.995663</td>\n",
       "      <td>4372.946230</td>\n",
       "      <td>8100.000000</td>\n",
       "      <td>19927.053770</td>\n",
       "      <td>24300.0</td>\n",
       "    </tr>\n",
       "    <tr>\n",
       "      <th>...</th>\n",
       "      <td>...</td>\n",
       "      <td>...</td>\n",
       "      <td>...</td>\n",
       "      <td>...</td>\n",
       "      <td>...</td>\n",
       "      <td>...</td>\n",
       "    </tr>\n",
       "    <tr>\n",
       "      <th>445</th>\n",
       "      <td>2.00000</td>\n",
       "      <td>15.475687</td>\n",
       "      <td>402.367873</td>\n",
       "      <td>1300.000000</td>\n",
       "      <td>2197.632127</td>\n",
       "      <td>2600.0</td>\n",
       "    </tr>\n",
       "    <tr>\n",
       "      <th>446</th>\n",
       "      <td>6.00000</td>\n",
       "      <td>17.057027</td>\n",
       "      <td>2600.000000</td>\n",
       "      <td>2660.896242</td>\n",
       "      <td>12939.103758</td>\n",
       "      <td>15600.0</td>\n",
       "    </tr>\n",
       "    <tr>\n",
       "      <th>447</th>\n",
       "      <td>2.00000</td>\n",
       "      <td>18.965550</td>\n",
       "      <td>606.897606</td>\n",
       "      <td>1600.000000</td>\n",
       "      <td>2593.102394</td>\n",
       "      <td>3200.0</td>\n",
       "    </tr>\n",
       "    <tr>\n",
       "      <th>448</th>\n",
       "      <td>3.00000</td>\n",
       "      <td>16.793014</td>\n",
       "      <td>957.201826</td>\n",
       "      <td>1900.000000</td>\n",
       "      <td>4742.798174</td>\n",
       "      <td>5700.0</td>\n",
       "    </tr>\n",
       "    <tr>\n",
       "      <th>449</th>\n",
       "      <td>3100.00000</td>\n",
       "      <td>NaN</td>\n",
       "      <td>NaN</td>\n",
       "      <td>NaN</td>\n",
       "      <td>NaN</td>\n",
       "      <td>NaN</td>\n",
       "    </tr>\n",
       "  </tbody>\n",
       "</table>\n",
       "<p>450 rows × 6 columns</p>\n",
       "</div>"
      ],
      "text/plain": [
       "              0          1             2             3              4  \\\n",
       "0      11.65482  15.000000  12100.000000  21153.498820  160346.501180   \n",
       "1      10.00000  11.560498  10100.000000  11676.102961   89323.897039   \n",
       "2       7.00000   9.456886  10657.910157  16100.000000  102042.089843   \n",
       "3       6.00000   6.935385   8364.074702  20100.000000  112235.925298   \n",
       "4       3.00000  17.995663   4372.946230   8100.000000   19927.053770   \n",
       "..          ...        ...           ...           ...            ...   \n",
       "445     2.00000  15.475687    402.367873   1300.000000    2197.632127   \n",
       "446     6.00000  17.057027   2600.000000   2660.896242   12939.103758   \n",
       "447     2.00000  18.965550    606.897606   1600.000000    2593.102394   \n",
       "448     3.00000  16.793014    957.201826   1900.000000    4742.798174   \n",
       "449  3100.00000        NaN           NaN           NaN            NaN   \n",
       "\n",
       "            5  \n",
       "0    181500.0  \n",
       "1    101000.0  \n",
       "2    112700.0  \n",
       "3    120600.0  \n",
       "4     24300.0  \n",
       "..        ...  \n",
       "445    2600.0  \n",
       "446   15600.0  \n",
       "447    3200.0  \n",
       "448    5700.0  \n",
       "449       NaN  \n",
       "\n",
       "[450 rows x 6 columns]"
      ]
     },
     "execution_count": 192,
     "metadata": {},
     "output_type": "execute_result"
    }
   ],
   "source": [
    "df_num.mode(axis=1)"
   ]
  },
  {
   "cell_type": "code",
   "execution_count": 193,
   "id": "4b58730a-bdcd-42db-bf92-838f6d972551",
   "metadata": {},
   "outputs": [
    {
     "data": {
      "text/plain": [
       "Volume                   4.231602\n",
       "Avg Price            18079.904840\n",
       "Total Sales Value    50535.074173\n",
       "Discount Rate (%)        4.220602\n",
       "Discount Amount       4509.902963\n",
       "Net Sales Value      46358.656624\n",
       "dtype: float64"
      ]
     },
     "execution_count": 193,
     "metadata": {},
     "output_type": "execute_result"
    }
   ],
   "source": [
    "df_num.std()"
   ]
  },
  {
   "cell_type": "code",
   "execution_count": 194,
   "id": "a69e5bf1-b6b0-4535-9249-49f179306801",
   "metadata": {},
   "outputs": [],
   "source": [
    "#  std of columns\n",
    "#Volume                   4.231602\n",
    "#Avg Price            18079.904840\n",
    "#Total Sales Value    50535.074173\n",
    "#Discount Rate (%)        4.220602\n",
    "#Discount Amount       4509.902963\n",
    "#Net Sales Value      46358.656624"
   ]
  },
  {
   "cell_type": "markdown",
   "id": "8fec0743-a2f1-4e81-aeb2-a7a4083c1d4d",
   "metadata": {},
   "source": [
    "### For the dataset, we observed that there are no null values, and there are six numerical columns. We calculated the mean, median, mode, and standard deviation for these numerical columns. However, when it comes to the mode, we found multiple modes with the same frequency or cases where all values are unique.\n",
    "\n",
    "\n",
    "\n",
    "\n",
    "\n",
    "\n"
   ]
  },
  {
   "cell_type": "markdown",
   "id": "e396a7be-dcd2-4941-8952-ce2f66cf7805",
   "metadata": {},
   "source": [
    "## Data Visualization"
   ]
  },
  {
   "cell_type": "code",
   "execution_count": 197,
   "id": "47563829-8256-49a3-913b-1d8b850e00bb",
   "metadata": {},
   "outputs": [
    {
     "data": {
      "image/png": "[encoded data removed]",
      "text/plain": [
       "<Figure size 1200x1200 with 6 Axes>"
      ]
     },
     "metadata": {},
     "output_type": "display_data"
    }
   ],
   "source": [
    "\n",
    "ax=df_num.hist(figsize=(12,12),grid=False)"
   ]
  },
  {
   "cell_type": "code",
   "execution_count": 198,
   "id": "253e95af-8623-41f2-b617-f09c7473d052",
   "metadata": {},
   "outputs": [],
   "source": [
    "skewness_values = df_num.skew()"
   ]
  },
  {
   "cell_type": "code",
   "execution_count": 199,
   "id": "d3486683-7625-4d76-a4d4-83c62f62a1ee",
   "metadata": {},
   "outputs": [
    {
     "name": "stdout",
     "output_type": "stream",
     "text": [
      "Volume               2.731724\n",
      "Avg Price            1.908873\n",
      "Total Sales Value    1.534729\n",
      "Discount Rate (%)   -1.062294\n",
      "Discount Amount      1.913038\n",
      "Net Sales Value      1.540822\n",
      "dtype: float64\n"
     ]
    }
   ],
   "source": [
    "print(skewness_values)"
   ]
  },
  {
   "cell_type": "code",
   "execution_count": 200,
   "id": "1b9355d1-140c-42f2-9d2c-9a6d2712b5aa",
   "metadata": {},
   "outputs": [],
   "source": [
    "# we can observed from above plots\n",
    "# with respect volume,avg price, discount amount, net sales value  it is postive skewness\n",
    "# with respect to discount rate negatively present\n",
    "# we can observe the plots  there are many outlayers\n"
   ]
  },
  {
   "cell_type": "code",
   "execution_count": 201,
   "id": "e8279cac-804d-4aed-8e4d-8ba6e3ba155e",
   "metadata": {},
   "outputs": [
    {
     "data": {
      "image/png": "[encoded data removed]",
      "text/plain": [
       "<Figure size 640x480 with 1 Axes>"
      ]
     },
     "metadata": {},
     "output_type": "display_data"
    }
   ],
   "source": [
    "ax=sns.boxplot(df_num,orient='h',)"
   ]
  },
  {
   "cell_type": "code",
   "execution_count": 202,
   "id": "028e1fce-110d-4771-9cc8-dc3d031125c5",
   "metadata": {},
   "outputs": [
    {
     "data": {
      "application/vnd.plotly.v1+json": {
       "config": {
        "plotlyServerURL": "https://plot.ly"
       },
       "data": [
        {
         "alignmentgroup": "True",
         "hovertemplate": "variable=%{x}<br>value=%{y}<extra></extra>",
         "legendgroup": "",
         "marker": {
          "color": "#636efa"
         },
         "name": "",
         "notched": false,
         "offsetgroup": "",
         "orientation": "v",
         "showlegend": false,
         "type": "box",
         "x": [
          "Volume",
          "Volume",
          "Volume",
          "Volume",
          "Volume",
          "Volume",
          "Volume",
          "Volume",
          "Volume",
          "Volume",
          "Volume",
          "Volume",
          "Volume",
          "Volume",
          "Volume",
          "Volume",
          "Volume",
          "Volume",
          "Volume",
          "Volume",
          "Volume",
          "Volume",
          "Volume",
          "Volume",
          "Volume",
          "Volume",
          "Volume",
          "Volume",
          "Volume",
          "Volume",
          "Volume",
          "Volume",
          "Volume",
          "Volume",
          "Volume",
          "Volume",
          "Volume",
          "Volume",
          "Volume",
          "Volume",
          "Volume",
          "Volume",
          "Volume",
          "Volume",
          "Volume",
          "Volume",
          "Volume",
          "Volume",
          "Volume",
          "Volume",
          "Volume",
          "Volume",
          "Volume",
          "Volume",
          "Volume",
          "Volume",
          "Volume",
          "Volume",
          "Volume",
          "Volume",
          "Volume",
          "Volume",
          "Volume",
          "Volume",
          "Volume",
          "Volume",
          "Volume",
          "Volume",
          "Volume",
          "Volume",
          "Volume",
          "Volume",
          "Volume",
          "Volume",
          "Volume",
          "Volume",
          "Volume",
          "Volume",
          "Volume",
          "Volume",
          "Volume",
          "Volume",
          "Volume",
          "Volume",
          "Volume",
          "Volume",
          "Volume",
          "Volume",
          "Volume",
          "Volume",
          "Volume",
          "Volume",
          "Volume",
          "Volume",
          "Volume",
          "Volume",
          "Volume",
          "Volume",
          "Volume",
          "Volume",
          "Volume",
          "Volume",
          "Volume",
          "Volume",
          "Volume",
          "Volume",
          "Volume",
          "Volume",
          "Volume",
          "Volume",
          "Volume",
          "Volume",
          "Volume",
          "Volume",
          "Volume",
          "Volume",
          "Volume",
          "Volume",
          "Volume",
          "Volume",
          "Volume",
          "Volume",
          "Volume",
          "Volume",
          "Volume",
          "Volume",
          "Volume",
          "Volume",
          "Volume",
          "Volume",
          "Volume",
          "Volume",
          "Volume",
          "Volume",
          "Volume",
          "Volume",
          "Volume",
          "Volume",
          "Volume",
          "Volume",
          "Volume",
          "Volume",
          "Volume",
          "Volume",
          "Volume",
          "Volume",
          "Volume",
          "Volume",
          "Volume",
          "Volume",
          "Volume",
          "Volume",
          "Volume",
          "Volume",
          "Volume",
          "Volume",
          "Volume",
          "Volume",
          "Volume",
          "Volume",
          "Volume",
          "Volume",
          "Volume",
          "Volume",
          "Volume",
          "Volume",
          "Volume",
          "Volume",
          "Volume",
          "Volume",
          "Volume",
          "Volume",
          "Volume",
          "Volume",
          "Volume",
          "Volume",
          "Volume",
          "Volume",
          "Volume",
          "Volume",
          "Volume",
          "Volume",
          "Volume",
          "Volume",
          "Volume",
          "Volume",
          "Volume",
          "Volume",
          "Volume",
          "Volume",
          "Volume",
          "Volume",
          "Volume",
          "Volume",
          "Volume",
          "Volume",
          "Volume",
          "Volume",
          "Volume",
          "Volume",
          "Volume",
          "Volume",
          "Volume",
          "Volume",
          "Volume",
          "Volume",
          "Volume",
          "Volume",
          "Volume",
          "Volume",
          "Volume",
          "Volume",
          "Volume",
          "Volume",
          "Volume",
          "Volume",
          "Volume",
          "Volume",
          "Volume",
          "Volume",
          "Volume",
          "Volume",
          "Volume",
          "Volume",
          "Volume",
          "Volume",
          "Volume",
          "Volume",
          "Volume",
          "Volume",
          "Volume",
          "Volume",
          "Volume",
          "Volume",
          "Volume",
          "Volume",
          "Volume",
          "Volume",
          "Volume",
          "Volume",
          "Volume",
          "Volume",
          "Volume",
          "Volume",
          "Volume",
          "Volume",
          "Volume",
          "Volume",
          "Volume",
          "Volume",
          "Volume",
          "Volume",
          "Volume",
          "Volume",
          "Volume",
          "Volume",
          "Volume",
          "Volume",
          "Volume",
          "Volume",
          "Volume",
          "Volume",
          "Volume",
          "Volume",
          "Volume",
          "Volume",
          "Volume",
          "Volume",
          "Volume",
          "Volume",
          "Volume",
          "Volume",
          "Volume",
          "Volume",
          "Volume",
          "Volume",
          "Volume",
          "Volume",
          "Volume",
          "Volume",
          "Volume",
          "Volume",
          "Volume",
          "Volume",
          "Volume",
          "Volume",
          "Volume",
          "Volume",
          "Volume",
          "Volume",
          "Volume",
          "Volume",
          "Volume",
          "Volume",
          "Volume",
          "Volume",
          "Volume",
          "Volume",
          "Volume",
          "Volume",
          "Volume",
          "Volume",
          "Volume",
          "Volume",
          "Volume",
          "Volume",
          "Volume",
          "Volume",
          "Volume",
          "Volume",
          "Volume",
          "Volume",
          "Volume",
          "Volume",
          "Volume",
          "Volume",
          "Volume",
          "Volume",
          "Volume",
          "Volume",
          "Volume",
          "Volume",
          "Volume",
          "Volume",
          "Volume",
          "Volume",
          "Volume",
          "Volume",
          "Volume",
          "Volume",
          "Volume",
          "Volume",
          "Volume",
          "Volume",
          "Volume",
          "Volume",
          "Volume",
          "Volume",
          "Volume",
          "Volume",
          "Volume",
          "Volume",
          "Volume",
          "Volume",
          "Volume",
          "Volume",
          "Volume",
          "Volume",
          "Volume",
          "Volume",
          "Volume",
          "Volume",
          "Volume",
          "Volume",
          "Volume",
          "Volume",
          "Volume",
          "Volume",
          "Volume",
          "Volume",
          "Volume",
          "Volume",
          "Volume",
          "Volume",
          "Volume",
          "Volume",
          "Volume",
          "Volume",
          "Volume",
          "Volume",
          "Volume",
          "Volume",
          "Volume",
          "Volume",
          "Volume",
          "Volume",
          "Volume",
          "Volume",
          "Volume",
          "Volume",
          "Volume",
          "Volume",
          "Volume",
          "Volume",
          "Volume",
          "Volume",
          "Volume",
          "Volume",
          "Volume",
          "Volume",
          "Volume",
          "Volume",
          "Volume",
          "Volume",
          "Volume",
          "Volume",
          "Volume",
          "Volume",
          "Volume",
          "Volume",
          "Volume",
          "Volume",
          "Volume",
          "Volume",
          "Volume",
          "Volume",
          "Volume",
          "Volume",
          "Volume",
          "Volume",
          "Volume",
          "Volume",
          "Volume",
          "Volume",
          "Volume",
          "Volume",
          "Volume",
          "Volume",
          "Volume",
          "Volume",
          "Volume",
          "Volume",
          "Volume",
          "Volume",
          "Volume",
          "Volume",
          "Volume",
          "Volume",
          "Volume",
          "Volume",
          "Volume",
          "Volume",
          "Volume",
          "Volume",
          "Volume",
          "Volume",
          "Volume",
          "Volume",
          "Volume",
          "Volume",
          "Volume",
          "Volume",
          "Volume",
          "Volume",
          "Volume",
          "Volume",
          "Volume",
          "Volume",
          "Volume",
          "Volume",
          "Avg Price",
          "Avg Price",
          "Avg Price",
          "Avg Price",
          "Avg Price",
          "Avg Price",
          "Avg Price",
          "Avg Price",
          "Avg Price",
          "Avg Price",
          "Avg Price",
          "Avg Price",
          "Avg Price",
          "Avg Price",
          "Avg Price",
          "Avg Price",
          "Avg Price",
          "Avg Price",
          "Avg Price",
          "Avg Price",
          "Avg Price",
          "Avg Price",
          "Avg Price",
          "Avg Price",
          "Avg Price",
          "Avg Price",
          "Avg Price",
          "Avg Price",
          "Avg Price",
          "Avg Price",
          "Avg Price",
          "Avg Price",
          "Avg Price",
          "Avg Price",
          "Avg Price",
          "Avg Price",
          "Avg Price",
          "Avg Price",
          "Avg Price",
          "Avg Price",
          "Avg Price",
          "Avg Price",
          "Avg Price",
          "Avg Price",
          "Avg Price",
          "Avg Price",
          "Avg Price",
          "Avg Price",
          "Avg Price",
          "Avg Price",
          "Avg Price",
          "Avg Price",
          "Avg Price",
          "Avg Price",
          "Avg Price",
          "Avg Price",
          "Avg Price",
          "Avg Price",
          "Avg Price",
          "Avg Price",
          "Avg Price",
          "Avg Price",
          "Avg Price",
          "Avg Price",
          "Avg Price",
          "Avg Price",
          "Avg Price",
          "Avg Price",
          "Avg Price",
          "Avg Price",
          "Avg Price",
          "Avg Price",
          "Avg Price",
          "Avg Price",
          "Avg Price",
          "Avg Price",
          "Avg Price",
          "Avg Price",
          "Avg Price",
          "Avg Price",
          "Avg Price",
          "Avg Price",
          "Avg Price",
          "Avg Price",
          "Avg Price",
          "Avg Price",
          "Avg Price",
          "Avg Price",
          "Avg Price",
          "Avg Price",
          "Avg Price",
          "Avg Price",
          "Avg Price",
          "Avg Price",
          "Avg Price",
          "Avg Price",
          "Avg Price",
          "Avg Price",
          "Avg Price",
          "Avg Price",
          "Avg Price",
          "Avg Price",
          "Avg Price",
          "Avg Price",
          "Avg Price",
          "Avg Price",
          "Avg Price",
          "Avg Price",
          "Avg Price",
          "Avg Price",
          "Avg Price",
          "Avg Price",
          "Avg Price",
          "Avg Price",
          "Avg Price",
          "Avg Price",
          "Avg Price",
          "Avg Price",
          "Avg Price",
          "Avg Price",
          "Avg Price",
          "Avg Price",
          "Avg Price",
          "Avg Price",
          "Avg Price",
          "Avg Price",
          "Avg Price",
          "Avg Price",
          "Avg Price",
          "Avg Price",
          "Avg Price",
          "Avg Price",
          "Avg Price",
          "Avg Price",
          "Avg Price",
          "Avg Price",
          "Avg Price",
          "Avg Price",
          "Avg Price",
          "Avg Price",
          "Avg Price",
          "Avg Price",
          "Avg Price",
          "Avg Price",
          "Avg Price",
          "Avg Price",
          "Avg Price",
          "Avg Price",
          "Avg Price",
          "Avg Price",
          "Avg Price",
          "Avg Price",
          "Avg Price",
          "Avg Price",
          "Avg Price",
          "Avg Price",
          "Avg Price",
          "Avg Price",
          "Avg Price",
          "Avg Price",
          "Avg Price",
          "Avg Price",
          "Avg Price",
          "Avg Price",
          "Avg Price",
          "Avg Price",
          "Avg Price",
          "Avg Price",
          "Avg Price",
          "Avg Price",
          "Avg Price",
          "Avg Price",
          "Avg Price",
          "Avg Price",
          "Avg Price",
          "Avg Price",
          "Avg Price",
          "Avg Price",
          "Avg Price",
          "Avg Price",
          "Avg Price",
          "Avg Price",
          "Avg Price",
          "Avg Price",
          "Avg Price",
          "Avg Price",
          "Avg Price",
          "Avg Price",
          "Avg Price",
          "Avg Price",
          "Avg Price",
          "Avg Price",
          "Avg Price",
          "Avg Price",
          "Avg Price",
          "Avg Price",
          "Avg Price",
          "Avg Price",
          "Avg Price",
          "Avg Price",
          "Avg Price",
          "Avg Price",
          "Avg Price",
          "Avg Price",
          "Avg Price",
          "Avg Price",
          "Avg Price",
          "Avg Price",
          "Avg Price",
          "Avg Price",
          "Avg Price",
          "Avg Price",
          "Avg Price",
          "Avg Price",
          "Avg Price",
          "Avg Price",
          "Avg Price",
          "Avg Price",
          "Avg Price",
          "Avg Price",
          "Avg Price",
          "Avg Price",
          "Avg Price",
          "Avg Price",
          "Avg Price",
          "Avg Price",
          "Avg Price",
          "Avg Price",
          "Avg Price",
          "Avg Price",
          "Avg Price",
          "Avg Price",
          "Avg Price",
          "Avg Price",
          "Avg Price",
          "Avg Price",
          "Avg Price",
          "Avg Price",
          "Avg Price",
          "Avg Price",
          "Avg Price",
          "Avg Price",
          "Avg Price",
          "Avg Price",
          "Avg Price",
          "Avg Price",
          "Avg Price",
          "Avg Price",
          "Avg Price",
          "Avg Price",
          "Avg Price",
          "Avg Price",
          "Avg Price",
          "Avg Price",
          "Avg Price",
          "Avg Price",
          "Avg Price",
          "Avg Price",
          "Avg Price",
          "Avg Price",
          "Avg Price",
          "Avg Price",
          "Avg Price",
          "Avg Price",
          "Avg Price",
          "Avg Price",
          "Avg Price",
          "Avg Price",
          "Avg Price",
          "Avg Price",
          "Avg Price",
          "Avg Price",
          "Avg Price",
          "Avg Price",
          "Avg Price",
          "Avg Price",
          "Avg Price",
          "Avg Price",
          "Avg Price",
          "Avg Price",
          "Avg Price",
          "Avg Price",
          "Avg Price",
          "Avg Price",
          "Avg Price",
          "Avg Price",
          "Avg Price",
          "Avg Price",
          "Avg Price",
          "Avg Price",
          "Avg Price",
          "Avg Price",
          "Avg Price",
          "Avg Price",
          "Avg Price",
          "Avg Price",
          "Avg Price",
          "Avg Price",
          "Avg Price",
          "Avg Price",
          "Avg Price",
          "Avg Price",
          "Avg Price",
          "Avg Price",
          "Avg Price",
          "Avg Price",
          "Avg Price",
          "Avg Price",
          "Avg Price",
          "Avg Price",
          "Avg Price",
          "Avg Price",
          "Avg Price",
          "Avg Price",
          "Avg Price",
          "Avg Price",
          "Avg Price",
          "Avg Price",
          "Avg Price",
          "Avg Price",
          "Avg Price",
          "Avg Price",
          "Avg Price",
          "Avg Price",
          "Avg Price",
          "Avg Price",
          "Avg Price",
          "Avg Price",
          "Avg Price",
          "Avg Price",
          "Avg Price",
          "Avg Price",
          "Avg Price",
          "Avg Price",
          "Avg Price",
          "Avg Price",
          "Avg Price",
          "Avg Price",
          "Avg Price",
          "Avg Price",
          "Avg Price",
          "Avg Price",
          "Avg Price",
          "Avg Price",
          "Avg Price",
          "Avg Price",
          "Avg Price",
          "Avg Price",
          "Avg Price",
          "Avg Price",
          "Avg Price",
          "Avg Price",
          "Avg Price",
          "Avg Price",
          "Avg Price",
          "Avg Price",
          "Avg Price",
          "Avg Price",
          "Avg Price",
          "Avg Price",
          "Avg Price",
          "Avg Price",
          "Avg Price",
          "Avg Price",
          "Avg Price",
          "Avg Price",
          "Avg Price",
          "Avg Price",
          "Avg Price",
          "Avg Price",
          "Avg Price",
          "Avg Price",
          "Avg Price",
          "Avg Price",
          "Avg Price",
          "Avg Price",
          "Avg Price",
          "Avg Price",
          "Avg Price",
          "Avg Price",
          "Avg Price",
          "Avg Price",
          "Avg Price",
          "Avg Price",
          "Avg Price",
          "Avg Price",
          "Avg Price",
          "Avg Price",
          "Avg Price",
          "Avg Price",
          "Avg Price",
          "Avg Price",
          "Avg Price",
          "Avg Price",
          "Avg Price",
          "Avg Price",
          "Avg Price",
          "Avg Price",
          "Avg Price",
          "Avg Price",
          "Avg Price",
          "Avg Price",
          "Avg Price",
          "Avg Price",
          "Avg Price",
          "Avg Price",
          "Avg Price",
          "Avg Price",
          "Avg Price",
          "Avg Price",
          "Avg Price",
          "Avg Price",
          "Avg Price",
          "Avg Price",
          "Avg Price",
          "Avg Price",
          "Avg Price",
          "Avg Price",
          "Avg Price",
          "Avg Price",
          "Avg Price",
          "Avg Price",
          "Avg Price",
          "Avg Price",
          "Avg Price",
          "Avg Price",
          "Avg Price",
          "Avg Price",
          "Avg Price",
          "Avg Price",
          "Avg Price",
          "Avg Price",
          "Avg Price",
          "Avg Price",
          "Avg Price",
          "Avg Price",
          "Avg Price",
          "Avg Price",
          "Avg Price",
          "Avg Price",
          "Avg Price",
          "Avg Price",
          "Avg Price",
          "Avg Price",
          "Avg Price",
          "Avg Price",
          "Avg Price",
          "Avg Price",
          "Avg Price",
          "Avg Price",
          "Total Sales Value",
          "Total Sales Value",
          "Total Sales Value",
          "Total Sales Value",
          "Total Sales Value",
          "Total Sales Value",
          "Total Sales Value",
          "Total Sales Value",
          "Total Sales Value",
          "Total Sales Value",
          "Total Sales Value",
          "Total Sales Value",
          "Total Sales Value",
          "Total Sales Value",
          "Total Sales Value",
          "Total Sales Value",
          "Total Sales Value",
          "Total Sales Value",
          "Total Sales Value",
          "Total Sales Value",
          "Total Sales Value",
          "Total Sales Value",
          "Total Sales Value",
          "Total Sales Value",
          "Total Sales Value",
          "Total Sales Value",
          "Total Sales Value",
          "Total Sales Value",
          "Total Sales Value",
          "Total Sales Value",
          "Total Sales Value",
          "Total Sales Value",
          "Total Sales Value",
          "Total Sales Value",
          "Total Sales Value",
          "Total Sales Value",
          "Total Sales Value",
          "Total Sales Value",
          "Total Sales Value",
          "Total Sales Value",
          "Total Sales Value",
          "Total Sales Value",
          "Total Sales Value",
          "Total Sales Value",
          "Total Sales Value",
          "Total Sales Value",
          "Total Sales Value",
          "Total Sales Value",
          "Total Sales Value",
          "Total Sales Value",
          "Total Sales Value",
          "Total Sales Value",
          "Total Sales Value",
          "Total Sales Value",
          "Total Sales Value",
          "Total Sales Value",
          "Total Sales Value",
          "Total Sales Value",
          "Total Sales Value",
          "Total Sales Value",
          "Total Sales Value",
          "Total Sales Value",
          "Total Sales Value",
          "Total Sales Value",
          "Total Sales Value",
          "Total Sales Value",
          "Total Sales Value",
          "Total Sales Value",
          "Total Sales Value",
          "Total Sales Value",
          "Total Sales Value",
          "Total Sales Value",
          "Total Sales Value",
          "Total Sales Value",
          "Total Sales Value",
          "Total Sales Value",
          "Total Sales Value",
          "Total Sales Value",
          "Total Sales Value",
          "Total Sales Value",
          "Total Sales Value",
          "Total Sales Value",
          "Total Sales Value",
          "Total Sales Value",
          "Total Sales Value",
          "Total Sales Value",
          "Total Sales Value",
          "Total Sales Value",
          "Total Sales Value",
          "Total Sales Value",
          "Total Sales Value",
          "Total Sales Value",
          "Total Sales Value",
          "Total Sales Value",
          "Total Sales Value",
          "Total Sales Value",
          "Total Sales Value",
          "Total Sales Value",
          "Total Sales Value",
          "Total Sales Value",
          "Total Sales Value",
          "Total Sales Value",
          "Total Sales Value",
          "Total Sales Value",
          "Total Sales Value",
          "Total Sales Value",
          "Total Sales Value",
          "Total Sales Value",
          "Total Sales Value",
          "Total Sales Value",
          "Total Sales Value",
          "Total Sales Value",
          "Total Sales Value",
          "Total Sales Value",
          "Total Sales Value",
          "Total Sales Value",
          "Total Sales Value",
          "Total Sales Value",
          "Total Sales Value",
          "Total Sales Value",
          "Total Sales Value",
          "Total Sales Value",
          "Total Sales Value",
          "Total Sales Value",
          "Total Sales Value",
          "Total Sales Value",
          "Total Sales Value",
          "Total Sales Value",
          "Total Sales Value",
          "Total Sales Value",
          "Total Sales Value",
          "Total Sales Value",
          "Total Sales Value",
          "Total Sales Value",
          "Total Sales Value",
          "Total Sales Value",
          "Total Sales Value",
          "Total Sales Value",
          "Total Sales Value",
          "Total Sales Value",
          "Total Sales Value",
          "Total Sales Value",
          "Total Sales Value",
          "Total Sales Value",
          "Total Sales Value",
          "Total Sales Value",
          "Total Sales Value",
          "Total Sales Value",
          "Total Sales Value",
          "Total Sales Value",
          "Total Sales Value",
          "Total Sales Value",
          "Total Sales Value",
          "Total Sales Value",
          "Total Sales Value",
          "Total Sales Value",
          "Total Sales Value",
          "Total Sales Value",
          "Total Sales Value",
          "Total Sales Value",
          "Total Sales Value",
          "Total Sales Value",
          "Total Sales Value",
          "Total Sales Value",
          "Total Sales Value",
          "Total Sales Value",
          "Total Sales Value",
          "Total Sales Value",
          "Total Sales Value",
          "Total Sales Value",
          "Total Sales Value",
          "Total Sales Value",
          "Total Sales Value",
          "Total Sales Value",
          "Total Sales Value",
          "Total Sales Value",
          "Total Sales Value",
          "Total Sales Value",
          "Total Sales Value",
          "Total Sales Value",
          "Total Sales Value",
          "Total Sales Value",
          "Total Sales Value",
          "Total Sales Value",
          "Total Sales Value",
          "Total Sales Value",
          "Total Sales Value",
          "Total Sales Value",
          "Total Sales Value",
          "Total Sales Value",
          "Total Sales Value",
          "Total Sales Value",
          "Total Sales Value",
          "Total Sales Value",
          "Total Sales Value",
          "Total Sales Value",
          "Total Sales Value",
          "Total Sales Value",
          "Total Sales Value",
          "Total Sales Value",
          "Total Sales Value",
          "Total Sales Value",
          "Total Sales Value",
          "Total Sales Value",
          "Total Sales Value",
          "Total Sales Value",
          "Total Sales Value",
          "Total Sales Value",
          "Total Sales Value",
          "Total Sales Value",
          "Total Sales Value",
          "Total Sales Value",
          "Total Sales Value",
          "Total Sales Value",
          "Total Sales Value",
          "Total Sales Value",
          "Total Sales Value",
          "Total Sales Value",
          "Total Sales Value",
          "Total Sales Value",
          "Total Sales Value",
          "Total Sales Value",
          "Total Sales Value",
          "Total Sales Value",
          "Total Sales Value",
          "Total Sales Value",
          "Total Sales Value",
          "Total Sales Value",
          "Total Sales Value",
          "Total Sales Value",
          "Total Sales Value",
          "Total Sales Value",
          "Total Sales Value",
          "Total Sales Value",
          "Total Sales Value",
          "Total Sales Value",
          "Total Sales Value",
          "Total Sales Value",
          "Total Sales Value",
          "Total Sales Value",
          "Total Sales Value",
          "Total Sales Value",
          "Total Sales Value",
          "Total Sales Value",
          "Total Sales Value",
          "Total Sales Value",
          "Total Sales Value",
          "Total Sales Value",
          "Total Sales Value",
          "Total Sales Value",
          "Total Sales Value",
          "Total Sales Value",
          "Total Sales Value",
          "Total Sales Value",
          "Total Sales Value",
          "Total Sales Value",
          "Total Sales Value",
          "Total Sales Value",
          "Total Sales Value",
          "Total Sales Value",
          "Total Sales Value",
          "Total Sales Value",
          "Total Sales Value",
          "Total Sales Value",
          "Total Sales Value",
          "Total Sales Value",
          "Total Sales Value",
          "Total Sales Value",
          "Total Sales Value",
          "Total Sales Value",
          "Total Sales Value",
          "Total Sales Value",
          "Total Sales Value",
          "Total Sales Value",
          "Total Sales Value",
          "Total Sales Value",
          "Total Sales Value",
          "Total Sales Value",
          "Total Sales Value",
          "Total Sales Value",
          "Total Sales Value",
          "Total Sales Value",
          "Total Sales Value",
          "Total Sales Value",
          "Total Sales Value",
          "Total Sales Value",
          "Total Sales Value",
          "Total Sales Value",
          "Total Sales Value",
          "Total Sales Value",
          "Total Sales Value",
          "Total Sales Value",
          "Total Sales Value",
          "Total Sales Value",
          "Total Sales Value",
          "Total Sales Value",
          "Total Sales Value",
          "Total Sales Value",
          "Total Sales Value",
          "Total Sales Value",
          "Total Sales Value",
          "Total Sales Value",
          "Total Sales Value",
          "Total Sales Value",
          "Total Sales Value",
          "Total Sales Value",
          "Total Sales Value",
          "Total Sales Value",
          "Total Sales Value",
          "Total Sales Value",
          "Total Sales Value",
          "Total Sales Value",
          "Total Sales Value",
          "Total Sales Value",
          "Total Sales Value",
          "Total Sales Value",
          "Total Sales Value",
          "Total Sales Value",
          "Total Sales Value",
          "Total Sales Value",
          "Total Sales Value",
          "Total Sales Value",
          "Total Sales Value",
          "Total Sales Value",
          "Total Sales Value",
          "Total Sales Value",
          "Total Sales Value",
          "Total Sales Value",
          "Total Sales Value",
          "Total Sales Value",
          "Total Sales Value",
          "Total Sales Value",
          "Total Sales Value",
          "Total Sales Value",
          "Total Sales Value",
          "Total Sales Value",
          "Total Sales Value",
          "Total Sales Value",
          "Total Sales Value",
          "Total Sales Value",
          "Total Sales Value",
          "Total Sales Value",
          "Total Sales Value",
          "Total Sales Value",
          "Total Sales Value",
          "Total Sales Value",
          "Total Sales Value",
          "Total Sales Value",
          "Total Sales Value",
          "Total Sales Value",
          "Total Sales Value",
          "Total Sales Value",
          "Total Sales Value",
          "Total Sales Value",
          "Total Sales Value",
          "Total Sales Value",
          "Total Sales Value",
          "Total Sales Value",
          "Total Sales Value",
          "Total Sales Value",
          "Total Sales Value",
          "Total Sales Value",
          "Total Sales Value",
          "Total Sales Value",
          "Total Sales Value",
          "Total Sales Value",
          "Total Sales Value",
          "Total Sales Value",
          "Total Sales Value",
          "Total Sales Value",
          "Total Sales Value",
          "Total Sales Value",
          "Total Sales Value",
          "Total Sales Value",
          "Total Sales Value",
          "Total Sales Value",
          "Total Sales Value",
          "Total Sales Value",
          "Total Sales Value",
          "Total Sales Value",
          "Total Sales Value",
          "Total Sales Value",
          "Total Sales Value",
          "Total Sales Value",
          "Total Sales Value",
          "Total Sales Value",
          "Total Sales Value",
          "Total Sales Value",
          "Total Sales Value",
          "Total Sales Value",
          "Total Sales Value",
          "Total Sales Value",
          "Total Sales Value",
          "Total Sales Value",
          "Total Sales Value",
          "Total Sales Value",
          "Total Sales Value",
          "Total Sales Value",
          "Total Sales Value",
          "Total Sales Value",
          "Total Sales Value",
          "Total Sales Value",
          "Total Sales Value",
          "Total Sales Value",
          "Total Sales Value",
          "Total Sales Value",
          "Total Sales Value",
          "Total Sales Value",
          "Total Sales Value",
          "Total Sales Value",
          "Total Sales Value",
          "Total Sales Value",
          "Total Sales Value",
          "Total Sales Value",
          "Total Sales Value",
          "Total Sales Value",
          "Total Sales Value",
          "Total Sales Value",
          "Total Sales Value",
          "Total Sales Value",
          "Total Sales Value",
          "Total Sales Value",
          "Total Sales Value",
          "Total Sales Value",
          "Total Sales Value",
          "Total Sales Value",
          "Total Sales Value",
          "Total Sales Value",
          "Total Sales Value",
          "Total Sales Value",
          "Total Sales Value",
          "Total Sales Value",
          "Total Sales Value",
          "Total Sales Value",
          "Total Sales Value",
          "Total Sales Value",
          "Total Sales Value",
          "Total Sales Value",
          "Total Sales Value",
          "Total Sales Value",
          "Total Sales Value",
          "Total Sales Value",
          "Total Sales Value",
          "Total Sales Value",
          "Total Sales Value",
          "Total Sales Value",
          "Total Sales Value",
          "Total Sales Value",
          "Total Sales Value",
          "Total Sales Value",
          "Discount Rate (%)",
          "Discount Rate (%)",
          "Discount Rate (%)",
          "Discount Rate (%)",
          "Discount Rate (%)",
          "Discount Rate (%)",
          "Discount Rate (%)",
          "Discount Rate (%)",
          "Discount Rate (%)",
          "Discount Rate (%)",
          "Discount Rate (%)",
          "Discount Rate (%)",
          "Discount Rate (%)",
          "Discount Rate (%)",
          "Discount Rate (%)",
          "Discount Rate (%)",
          "Discount Rate (%)",
          "Discount Rate (%)",
          "Discount Rate (%)",
          "Discount Rate (%)",
          "Discount Rate (%)",
          "Discount Rate (%)",
          "Discount Rate (%)",
          "Discount Rate (%)",
          "Discount Rate (%)",
          "Discount Rate (%)",
          "Discount Rate (%)",
          "Discount Rate (%)",
          "Discount Rate (%)",
          "Discount Rate (%)",
          "Discount Rate (%)",
          "Discount Rate (%)",
          "Discount Rate (%)",
          "Discount Rate (%)",
          "Discount Rate (%)",
          "Discount Rate (%)",
          "Discount Rate (%)",
          "Discount Rate (%)",
          "Discount Rate (%)",
          "Discount Rate (%)",
          "Discount Rate (%)",
          "Discount Rate (%)",
          "Discount Rate (%)",
          "Discount Rate (%)",
          "Discount Rate (%)",
          "Discount Rate (%)",
          "Discount Rate (%)",
          "Discount Rate (%)",
          "Discount Rate (%)",
          "Discount Rate (%)",
          "Discount Rate (%)",
          "Discount Rate (%)",
          "Discount Rate (%)",
          "Discount Rate (%)",
          "Discount Rate (%)",
          "Discount Rate (%)",
          "Discount Rate (%)",
          "Discount Rate (%)",
          "Discount Rate (%)",
          "Discount Rate (%)",
          "Discount Rate (%)",
          "Discount Rate (%)",
          "Discount Rate (%)",
          "Discount Rate (%)",
          "Discount Rate (%)",
          "Discount Rate (%)",
          "Discount Rate (%)",
          "Discount Rate (%)",
          "Discount Rate (%)",
          "Discount Rate (%)",
          "Discount Rate (%)",
          "Discount Rate (%)",
          "Discount Rate (%)",
          "Discount Rate (%)",
          "Discount Rate (%)",
          "Discount Rate (%)",
          "Discount Rate (%)",
          "Discount Rate (%)",
          "Discount Rate (%)",
          "Discount Rate (%)",
          "Discount Rate (%)",
          "Discount Rate (%)",
          "Discount Rate (%)",
          "Discount Rate (%)",
          "Discount Rate (%)",
          "Discount Rate (%)",
          "Discount Rate (%)",
          "Discount Rate (%)",
          "Discount Rate (%)",
          "Discount Rate (%)",
          "Discount Rate (%)",
          "Discount Rate (%)",
          "Discount Rate (%)",
          "Discount Rate (%)",
          "Discount Rate (%)",
          "Discount Rate (%)",
          "Discount Rate (%)",
          "Discount Rate (%)",
          "Discount Rate (%)",
          "Discount Rate (%)",
          "Discount Rate (%)",
          "Discount Rate (%)",
          "Discount Rate (%)",
          "Discount Rate (%)",
          "Discount Rate (%)",
          "Discount Rate (%)",
          "Discount Rate (%)",
          "Discount Rate (%)",
          "Discount Rate (%)",
          "Discount Rate (%)",
          "Discount Rate (%)",
          "Discount Rate (%)",
          "Discount Rate (%)",
          "Discount Rate (%)",
          "Discount Rate (%)",
          "Discount Rate (%)",
          "Discount Rate (%)",
          "Discount Rate (%)",
          "Discount Rate (%)",
          "Discount Rate (%)",
          "Discount Rate (%)",
          "Discount Rate (%)",
          "Discount Rate (%)",
          "Discount Rate (%)",
          "Discount Rate (%)",
          "Discount Rate (%)",
          "Discount Rate (%)",
          "Discount Rate (%)",
          "Discount Rate (%)",
          "Discount Rate (%)",
          "Discount Rate (%)",
          "Discount Rate (%)",
          "Discount Rate (%)",
          "Discount Rate (%)",
          "Discount Rate (%)",
          "Discount Rate (%)",
          "Discount Rate (%)",
          "Discount Rate (%)",
          "Discount Rate (%)",
          "Discount Rate (%)",
          "Discount Rate (%)",
          "Discount Rate (%)",
          "Discount Rate (%)",
          "Discount Rate (%)",
          "Discount Rate (%)",
          "Discount Rate (%)",
          "Discount Rate (%)",
          "Discount Rate (%)",
          "Discount Rate (%)",
          "Discount Rate (%)",
          "Discount Rate (%)",
          "Discount Rate (%)",
          "Discount Rate (%)",
          "Discount Rate (%)",
          "Discount Rate (%)",
          "Discount Rate (%)",
          "Discount Rate (%)",
          "Discount Rate (%)",
          "Discount Rate (%)",
          "Discount Rate (%)",
          "Discount Rate (%)",
          "Discount Rate (%)",
          "Discount Rate (%)",
          "Discount Rate (%)",
          "Discount Rate (%)",
          "Discount Rate (%)",
          "Discount Rate (%)",
          "Discount Rate (%)",
          "Discount Rate (%)",
          "Discount Rate (%)",
          "Discount Rate (%)",
          "Discount Rate (%)",
          "Discount Rate (%)",
          "Discount Rate (%)",
          "Discount Rate (%)",
          "Discount Rate (%)",
          "Discount Rate (%)",
          "Discount Rate (%)",
          "Discount Rate (%)",
          "Discount Rate (%)",
          "Discount Rate (%)",
          "Discount Rate (%)",
          "Discount Rate (%)",
          "Discount Rate (%)",
          "Discount Rate (%)",
          "Discount Rate (%)",
          "Discount Rate (%)",
          "Discount Rate (%)",
          "Discount Rate (%)",
          "Discount Rate (%)",
          "Discount Rate (%)",
          "Discount Rate (%)",
          "Discount Rate (%)",
          "Discount Rate (%)",
          "Discount Rate (%)",
          "Discount Rate (%)",
          "Discount Rate (%)",
          "Discount Rate (%)",
          "Discount Rate (%)",
          "Discount Rate (%)",
          "Discount Rate (%)",
          "Discount Rate (%)",
          "Discount Rate (%)",
          "Discount Rate (%)",
          "Discount Rate (%)",
          "Discount Rate (%)",
          "Discount Rate (%)",
          "Discount Rate (%)",
          "Discount Rate (%)",
          "Discount Rate (%)",
          "Discount Rate (%)",
          "Discount Rate (%)",
          "Discount Rate (%)",
          "Discount Rate (%)",
          "Discount Rate (%)",
          "Discount Rate (%)",
          "Discount Rate (%)",
          "Discount Rate (%)",
          "Discount Rate (%)",
          "Discount Rate (%)",
          "Discount Rate (%)",
          "Discount Rate (%)",
          "Discount Rate (%)",
          "Discount Rate (%)",
          "Discount Rate (%)",
          "Discount Rate (%)",
          "Discount Rate (%)",
          "Discount Rate (%)",
          "Discount Rate (%)",
          "Discount Rate (%)",
          "Discount Rate (%)",
          "Discount Rate (%)",
          "Discount Rate (%)",
          "Discount Rate (%)",
          "Discount Rate (%)",
          "Discount Rate (%)",
          "Discount Rate (%)",
          "Discount Rate (%)",
          "Discount Rate (%)",
          "Discount Rate (%)",
          "Discount Rate (%)",
          "Discount Rate (%)",
          "Discount Rate (%)",
          "Discount Rate (%)",
          "Discount Rate (%)",
          "Discount Rate (%)",
          "Discount Rate (%)",
          "Discount Rate (%)",
          "Discount Rate (%)",
          "Discount Rate (%)",
          "Discount Rate (%)",
          "Discount Rate (%)",
          "Discount Rate (%)",
          "Discount Rate (%)",
          "Discount Rate (%)",
          "Discount Rate (%)",
          "Discount Rate (%)",
          "Discount Rate (%)",
          "Discount Rate (%)",
          "Discount Rate (%)",
          "Discount Rate (%)",
          "Discount Rate (%)",
          "Discount Rate (%)",
          "Discount Rate (%)",
          "Discount Rate (%)",
          "Discount Rate (%)",
          "Discount Rate (%)",
          "Discount Rate (%)",
          "Discount Rate (%)",
          "Discount Rate (%)",
          "Discount Rate (%)",
          "Discount Rate (%)",
          "Discount Rate (%)",
          "Discount Rate (%)",
          "Discount Rate (%)",
          "Discount Rate (%)",
          "Discount Rate (%)",
          "Discount Rate (%)",
          "Discount Rate (%)",
          "Discount Rate (%)",
          "Discount Rate (%)",
          "Discount Rate (%)",
          "Discount Rate (%)",
          "Discount Rate (%)",
          "Discount Rate (%)",
          "Discount Rate (%)",
          "Discount Rate (%)",
          "Discount Rate (%)",
          "Discount Rate (%)",
          "Discount Rate (%)",
          "Discount Rate (%)",
          "Discount Rate (%)",
          "Discount Rate (%)",
          "Discount Rate (%)",
          "Discount Rate (%)",
          "Discount Rate (%)",
          "Discount Rate (%)",
          "Discount Rate (%)",
          "Discount Rate (%)",
          "Discount Rate (%)",
          "Discount Rate (%)",
          "Discount Rate (%)",
          "Discount Rate (%)",
          "Discount Rate (%)",
          "Discount Rate (%)",
          "Discount Rate (%)",
          "Discount Rate (%)",
          "Discount Rate (%)",
          "Discount Rate (%)",
          "Discount Rate (%)",
          "Discount Rate (%)",
          "Discount Rate (%)",
          "Discount Rate (%)",
          "Discount Rate (%)",
          "Discount Rate (%)",
          "Discount Rate (%)",
          "Discount Rate (%)",
          "Discount Rate (%)",
          "Discount Rate (%)",
          "Discount Rate (%)",
          "Discount Rate (%)",
          "Discount Rate (%)",
          "Discount Rate (%)",
          "Discount Rate (%)",
          "Discount Rate (%)",
          "Discount Rate (%)",
          "Discount Rate (%)",
          "Discount Rate (%)",
          "Discount Rate (%)",
          "Discount Rate (%)",
          "Discount Rate (%)",
          "Discount Rate (%)",
          "Discount Rate (%)",
          "Discount Rate (%)",
          "Discount Rate (%)",
          "Discount Rate (%)",
          "Discount Rate (%)",
          "Discount Rate (%)",
          "Discount Rate (%)",
          "Discount Rate (%)",
          "Discount Rate (%)",
          "Discount Rate (%)",
          "Discount Rate (%)",
          "Discount Rate (%)",
          "Discount Rate (%)",
          "Discount Rate (%)",
          "Discount Rate (%)",
          "Discount Rate (%)",
          "Discount Rate (%)",
          "Discount Rate (%)",
          "Discount Rate (%)",
          "Discount Rate (%)",
          "Discount Rate (%)",
          "Discount Rate (%)",
          "Discount Rate (%)",
          "Discount Rate (%)",
          "Discount Rate (%)",
          "Discount Rate (%)",
          "Discount Rate (%)",
          "Discount Rate (%)",
          "Discount Rate (%)",
          "Discount Rate (%)",
          "Discount Rate (%)",
          "Discount Rate (%)",
          "Discount Rate (%)",
          "Discount Rate (%)",
          "Discount Rate (%)",
          "Discount Rate (%)",
          "Discount Rate (%)",
          "Discount Rate (%)",
          "Discount Rate (%)",
          "Discount Rate (%)",
          "Discount Rate (%)",
          "Discount Rate (%)",
          "Discount Rate (%)",
          "Discount Rate (%)",
          "Discount Rate (%)",
          "Discount Rate (%)",
          "Discount Rate (%)",
          "Discount Rate (%)",
          "Discount Rate (%)",
          "Discount Rate (%)",
          "Discount Rate (%)",
          "Discount Rate (%)",
          "Discount Rate (%)",
          "Discount Rate (%)",
          "Discount Rate (%)",
          "Discount Rate (%)",
          "Discount Rate (%)",
          "Discount Rate (%)",
          "Discount Rate (%)",
          "Discount Rate (%)",
          "Discount Rate (%)",
          "Discount Rate (%)",
          "Discount Rate (%)",
          "Discount Rate (%)",
          "Discount Rate (%)",
          "Discount Rate (%)",
          "Discount Rate (%)",
          "Discount Rate (%)",
          "Discount Rate (%)",
          "Discount Rate (%)",
          "Discount Rate (%)",
          "Discount Rate (%)",
          "Discount Rate (%)",
          "Discount Rate (%)",
          "Discount Rate (%)",
          "Discount Rate (%)",
          "Discount Rate (%)",
          "Discount Rate (%)",
          "Discount Rate (%)",
          "Discount Rate (%)",
          "Discount Rate (%)",
          "Discount Rate (%)",
          "Discount Rate (%)",
          "Discount Rate (%)",
          "Discount Rate (%)",
          "Discount Rate (%)",
          "Discount Rate (%)",
          "Discount Rate (%)",
          "Discount Rate (%)",
          "Discount Rate (%)",
          "Discount Rate (%)",
          "Discount Rate (%)",
          "Discount Rate (%)",
          "Discount Rate (%)",
          "Discount Rate (%)",
          "Discount Rate (%)",
          "Discount Rate (%)",
          "Discount Rate (%)",
          "Discount Rate (%)",
          "Discount Rate (%)",
          "Discount Rate (%)",
          "Discount Rate (%)",
          "Discount Rate (%)",
          "Discount Rate (%)",
          "Discount Rate (%)",
          "Discount Rate (%)",
          "Discount Rate (%)",
          "Discount Rate (%)",
          "Discount Rate (%)",
          "Discount Rate (%)",
          "Discount Rate (%)",
          "Discount Rate (%)",
          "Discount Rate (%)",
          "Discount Rate (%)",
          "Discount Rate (%)",
          "Discount Rate (%)",
          "Discount Rate (%)",
          "Discount Rate (%)",
          "Discount Amount",
          "Discount Amount",
          "Discount Amount",
          "Discount Amount",
          "Discount Amount",
          "Discount Amount",
          "Discount Amount",
          "Discount Amount",
          "Discount Amount",
          "Discount Amount",
          "Discount Amount",
          "Discount Amount",
          "Discount Amount",
          "Discount Amount",
          "Discount Amount",
          "Discount Amount",
          "Discount Amount",
          "Discount Amount",
          "Discount Amount",
          "Discount Amount",
          "Discount Amount",
          "Discount Amount",
          "Discount Amount",
          "Discount Amount",
          "Discount Amount",
          "Discount Amount",
          "Discount Amount",
          "Discount Amount",
          "Discount Amount",
          "Discount Amount",
          "Discount Amount",
          "Discount Amount",
          "Discount Amount",
          "Discount Amount",
          "Discount Amount",
          "Discount Amount",
          "Discount Amount",
          "Discount Amount",
          "Discount Amount",
          "Discount Amount",
          "Discount Amount",
          "Discount Amount",
          "Discount Amount",
          "Discount Amount",
          "Discount Amount",
          "Discount Amount",
          "Discount Amount",
          "Discount Amount",
          "Discount Amount",
          "Discount Amount",
          "Discount Amount",
          "Discount Amount",
          "Discount Amount",
          "Discount Amount",
          "Discount Amount",
          "Discount Amount",
          "Discount Amount",
          "Discount Amount",
          "Discount Amount",
          "Discount Amount",
          "Discount Amount",
          "Discount Amount",
          "Discount Amount",
          "Discount Amount",
          "Discount Amount",
          "Discount Amount",
          "Discount Amount",
          "Discount Amount",
          "Discount Amount",
          "Discount Amount",
          "Discount Amount",
          "Discount Amount",
          "Discount Amount",
          "Discount Amount",
          "Discount Amount",
          "Discount Amount",
          "Discount Amount",
          "Discount Amount",
          "Discount Amount",
          "Discount Amount",
          "Discount Amount",
          "Discount Amount",
          "Discount Amount",
          "Discount Amount",
          "Discount Amount",
          "Discount Amount",
          "Discount Amount",
          "Discount Amount",
          "Discount Amount",
          "Discount Amount",
          "Discount Amount",
          "Discount Amount",
          "Discount Amount",
          "Discount Amount",
          "Discount Amount",
          "Discount Amount",
          "Discount Amount",
          "Discount Amount",
          "Discount Amount",
          "Discount Amount",
          "Discount Amount",
          "Discount Amount",
          "Discount Amount",
          "Discount Amount",
          "Discount Amount",
          "Discount Amount",
          "Discount Amount",
          "Discount Amount",
          "Discount Amount",
          "Discount Amount",
          "Discount Amount",
          "Discount Amount",
          "Discount Amount",
          "Discount Amount",
          "Discount Amount",
          "Discount Amount",
          "Discount Amount",
          "Discount Amount",
          "Discount Amount",
          "Discount Amount",
          "Discount Amount",
          "Discount Amount",
          "Discount Amount",
          "Discount Amount",
          "Discount Amount",
          "Discount Amount",
          "Discount Amount",
          "Discount Amount",
          "Discount Amount",
          "Discount Amount",
          "Discount Amount",
          "Discount Amount",
          "Discount Amount",
          "Discount Amount",
          "Discount Amount",
          "Discount Amount",
          "Discount Amount",
          "Discount Amount",
          "Discount Amount",
          "Discount Amount",
          "Discount Amount",
          "Discount Amount",
          "Discount Amount",
          "Discount Amount",
          "Discount Amount",
          "Discount Amount",
          "Discount Amount",
          "Discount Amount",
          "Discount Amount",
          "Discount Amount",
          "Discount Amount",
          "Discount Amount",
          "Discount Amount",
          "Discount Amount",
          "Discount Amount",
          "Discount Amount",
          "Discount Amount",
          "Discount Amount",
          "Discount Amount",
          "Discount Amount",
          "Discount Amount",
          "Discount Amount",
          "Discount Amount",
          "Discount Amount",
          "Discount Amount",
          "Discount Amount",
          "Discount Amount",
          "Discount Amount",
          "Discount Amount",
          "Discount Amount",
          "Discount Amount",
          "Discount Amount",
          "Discount Amount",
          "Discount Amount",
          "Discount Amount",
          "Discount Amount",
          "Discount Amount",
          "Discount Amount",
          "Discount Amount",
          "Discount Amount",
          "Discount Amount",
          "Discount Amount",
          "Discount Amount",
          "Discount Amount",
          "Discount Amount",
          "Discount Amount",
          "Discount Amount",
          "Discount Amount",
          "Discount Amount",
          "Discount Amount",
          "Discount Amount",
          "Discount Amount",
          "Discount Amount",
          "Discount Amount",
          "Discount Amount",
          "Discount Amount",
          "Discount Amount",
          "Discount Amount",
          "Discount Amount",
          "Discount Amount",
          "Discount Amount",
          "Discount Amount",
          "Discount Amount",
          "Discount Amount",
          "Discount Amount",
          "Discount Amount",
          "Discount Amount",
          "Discount Amount",
          "Discount Amount",
          "Discount Amount",
          "Discount Amount",
          "Discount Amount",
          "Discount Amount",
          "Discount Amount",
          "Discount Amount",
          "Discount Amount",
          "Discount Amount",
          "Discount Amount",
          "Discount Amount",
          "Discount Amount",
          "Discount Amount",
          "Discount Amount",
          "Discount Amount",
          "Discount Amount",
          "Discount Amount",
          "Discount Amount",
          "Discount Amount",
          "Discount Amount",
          "Discount Amount",
          "Discount Amount",
          "Discount Amount",
          "Discount Amount",
          "Discount Amount",
          "Discount Amount",
          "Discount Amount",
          "Discount Amount",
          "Discount Amount",
          "Discount Amount",
          "Discount Amount",
          "Discount Amount",
          "Discount Amount",
          "Discount Amount",
          "Discount Amount",
          "Discount Amount",
          "Discount Amount",
          "Discount Amount",
          "Discount Amount",
          "Discount Amount",
          "Discount Amount",
          "Discount Amount",
          "Discount Amount",
          "Discount Amount",
          "Discount Amount",
          "Discount Amount",
          "Discount Amount",
          "Discount Amount",
          "Discount Amount",
          "Discount Amount",
          "Discount Amount",
          "Discount Amount",
          "Discount Amount",
          "Discount Amount",
          "Discount Amount",
          "Discount Amount",
          "Discount Amount",
          "Discount Amount",
          "Discount Amount",
          "Discount Amount",
          "Discount Amount",
          "Discount Amount",
          "Discount Amount",
          "Discount Amount",
          "Discount Amount",
          "Discount Amount",
          "Discount Amount",
          "Discount Amount",
          "Discount Amount",
          "Discount Amount",
          "Discount Amount",
          "Discount Amount",
          "Discount Amount",
          "Discount Amount",
          "Discount Amount",
          "Discount Amount",
          "Discount Amount",
          "Discount Amount",
          "Discount Amount",
          "Discount Amount",
          "Discount Amount",
          "Discount Amount",
          "Discount Amount",
          "Discount Amount",
          "Discount Amount",
          "Discount Amount",
          "Discount Amount",
          "Discount Amount",
          "Discount Amount",
          "Discount Amount",
          "Discount Amount",
          "Discount Amount",
          "Discount Amount",
          "Discount Amount",
          "Discount Amount",
          "Discount Amount",
          "Discount Amount",
          "Discount Amount",
          "Discount Amount",
          "Discount Amount",
          "Discount Amount",
          "Discount Amount",
          "Discount Amount",
          "Discount Amount",
          "Discount Amount",
          "Discount Amount",
          "Discount Amount",
          "Discount Amount",
          "Discount Amount",
          "Discount Amount",
          "Discount Amount",
          "Discount Amount",
          "Discount Amount",
          "Discount Amount",
          "Discount Amount",
          "Discount Amount",
          "Discount Amount",
          "Discount Amount",
          "Discount Amount",
          "Discount Amount",
          "Discount Amount",
          "Discount Amount",
          "Discount Amount",
          "Discount Amount",
          "Discount Amount",
          "Discount Amount",
          "Discount Amount",
          "Discount Amount",
          "Discount Amount",
          "Discount Amount",
          "Discount Amount",
          "Discount Amount",
          "Discount Amount",
          "Discount Amount",
          "Discount Amount",
          "Discount Amount",
          "Discount Amount",
          "Discount Amount",
          "Discount Amount",
          "Discount Amount",
          "Discount Amount",
          "Discount Amount",
          "Discount Amount",
          "Discount Amount",
          "Discount Amount",
          "Discount Amount",
          "Discount Amount",
          "Discount Amount",
          "Discount Amount",
          "Discount Amount",
          "Discount Amount",
          "Discount Amount",
          "Discount Amount",
          "Discount Amount",
          "Discount Amount",
          "Discount Amount",
          "Discount Amount",
          "Discount Amount",
          "Discount Amount",
          "Discount Amount",
          "Discount Amount",
          "Discount Amount",
          "Discount Amount",
          "Discount Amount",
          "Discount Amount",
          "Discount Amount",
          "Discount Amount",
          "Discount Amount",
          "Discount Amount",
          "Discount Amount",
          "Discount Amount",
          "Discount Amount",
          "Discount Amount",
          "Discount Amount",
          "Discount Amount",
          "Discount Amount",
          "Discount Amount",
          "Discount Amount",
          "Discount Amount",
          "Discount Amount",
          "Discount Amount",
          "Discount Amount",
          "Discount Amount",
          "Discount Amount",
          "Discount Amount",
          "Discount Amount",
          "Discount Amount",
          "Discount Amount",
          "Discount Amount",
          "Discount Amount",
          "Discount Amount",
          "Discount Amount",
          "Discount Amount",
          "Discount Amount",
          "Discount Amount",
          "Discount Amount",
          "Discount Amount",
          "Discount Amount",
          "Discount Amount",
          "Discount Amount",
          "Discount Amount",
          "Discount Amount",
          "Discount Amount",
          "Discount Amount",
          "Discount Amount",
          "Discount Amount",
          "Discount Amount",
          "Discount Amount",
          "Discount Amount",
          "Discount Amount",
          "Discount Amount",
          "Discount Amount",
          "Discount Amount",
          "Discount Amount",
          "Discount Amount",
          "Discount Amount",
          "Discount Amount",
          "Discount Amount",
          "Discount Amount",
          "Discount Amount",
          "Discount Amount",
          "Discount Amount",
          "Discount Amount",
          "Discount Amount",
          "Discount Amount",
          "Discount Amount",
          "Discount Amount",
          "Discount Amount",
          "Discount Amount",
          "Discount Amount",
          "Discount Amount",
          "Discount Amount",
          "Discount Amount",
          "Discount Amount",
          "Discount Amount",
          "Discount Amount",
          "Discount Amount",
          "Discount Amount",
          "Discount Amount",
          "Discount Amount",
          "Discount Amount",
          "Discount Amount",
          "Net Sales Value",
          "Net Sales Value",
          "Net Sales Value",
          "Net Sales Value",
          "Net Sales Value",
          "Net Sales Value",
          "Net Sales Value",
          "Net Sales Value",
          "Net Sales Value",
          "Net Sales Value",
          "Net Sales Value",
          "Net Sales Value",
          "Net Sales Value",
          "Net Sales Value",
          "Net Sales Value",
          "Net Sales Value",
          "Net Sales Value",
          "Net Sales Value",
          "Net Sales Value",
          "Net Sales Value",
          "Net Sales Value",
          "Net Sales Value",
          "Net Sales Value",
          "Net Sales Value",
          "Net Sales Value",
          "Net Sales Value",
          "Net Sales Value",
          "Net Sales Value",
          "Net Sales Value",
          "Net Sales Value",
          "Net Sales Value",
          "Net Sales Value",
          "Net Sales Value",
          "Net Sales Value",
          "Net Sales Value",
          "Net Sales Value",
          "Net Sales Value",
          "Net Sales Value",
          "Net Sales Value",
          "Net Sales Value",
          "Net Sales Value",
          "Net Sales Value",
          "Net Sales Value",
          "Net Sales Value",
          "Net Sales Value",
          "Net Sales Value",
          "Net Sales Value",
          "Net Sales Value",
          "Net Sales Value",
          "Net Sales Value",
          "Net Sales Value",
          "Net Sales Value",
          "Net Sales Value",
          "Net Sales Value",
          "Net Sales Value",
          "Net Sales Value",
          "Net Sales Value",
          "Net Sales Value",
          "Net Sales Value",
          "Net Sales Value",
          "Net Sales Value",
          "Net Sales Value",
          "Net Sales Value",
          "Net Sales Value",
          "Net Sales Value",
          "Net Sales Value",
          "Net Sales Value",
          "Net Sales Value",
          "Net Sales Value",
          "Net Sales Value",
          "Net Sales Value",
          "Net Sales Value",
          "Net Sales Value",
          "Net Sales Value",
          "Net Sales Value",
          "Net Sales Value",
          "Net Sales Value",
          "Net Sales Value",
          "Net Sales Value",
          "Net Sales Value",
          "Net Sales Value",
          "Net Sales Value",
          "Net Sales Value",
          "Net Sales Value",
          "Net Sales Value",
          "Net Sales Value",
          "Net Sales Value",
          "Net Sales Value",
          "Net Sales Value",
          "Net Sales Value",
          "Net Sales Value",
          "Net Sales Value",
          "Net Sales Value",
          "Net Sales Value",
          "Net Sales Value",
          "Net Sales Value",
          "Net Sales Value",
          "Net Sales Value",
          "Net Sales Value",
          "Net Sales Value",
          "Net Sales Value",
          "Net Sales Value",
          "Net Sales Value",
          "Net Sales Value",
          "Net Sales Value",
          "Net Sales Value",
          "Net Sales Value",
          "Net Sales Value",
          "Net Sales Value",
          "Net Sales Value",
          "Net Sales Value",
          "Net Sales Value",
          "Net Sales Value",
          "Net Sales Value",
          "Net Sales Value",
          "Net Sales Value",
          "Net Sales Value",
          "Net Sales Value",
          "Net Sales Value",
          "Net Sales Value",
          "Net Sales Value",
          "Net Sales Value",
          "Net Sales Value",
          "Net Sales Value",
          "Net Sales Value",
          "Net Sales Value",
          "Net Sales Value",
          "Net Sales Value",
          "Net Sales Value",
          "Net Sales Value",
          "Net Sales Value",
          "Net Sales Value",
          "Net Sales Value",
          "Net Sales Value",
          "Net Sales Value",
          "Net Sales Value",
          "Net Sales Value",
          "Net Sales Value",
          "Net Sales Value",
          "Net Sales Value",
          "Net Sales Value",
          "Net Sales Value",
          "Net Sales Value",
          "Net Sales Value",
          "Net Sales Value",
          "Net Sales Value",
          "Net Sales Value",
          "Net Sales Value",
          "Net Sales Value",
          "Net Sales Value",
          "Net Sales Value",
          "Net Sales Value",
          "Net Sales Value",
          "Net Sales Value",
          "Net Sales Value",
          "Net Sales Value",
          "Net Sales Value",
          "Net Sales Value",
          "Net Sales Value",
          "Net Sales Value",
          "Net Sales Value",
          "Net Sales Value",
          "Net Sales Value",
          "Net Sales Value",
          "Net Sales Value",
          "Net Sales Value",
          "Net Sales Value",
          "Net Sales Value",
          "Net Sales Value",
          "Net Sales Value",
          "Net Sales Value",
          "Net Sales Value",
          "Net Sales Value",
          "Net Sales Value",
          "Net Sales Value",
          "Net Sales Value",
          "Net Sales Value",
          "Net Sales Value",
          "Net Sales Value",
          "Net Sales Value",
          "Net Sales Value",
          "Net Sales Value",
          "Net Sales Value",
          "Net Sales Value",
          "Net Sales Value",
          "Net Sales Value",
          "Net Sales Value",
          "Net Sales Value",
          "Net Sales Value",
          "Net Sales Value",
          "Net Sales Value",
          "Net Sales Value",
          "Net Sales Value",
          "Net Sales Value",
          "Net Sales Value",
          "Net Sales Value",
          "Net Sales Value",
          "Net Sales Value",
          "Net Sales Value",
          "Net Sales Value",
          "Net Sales Value",
          "Net Sales Value",
          "Net Sales Value",
          "Net Sales Value",
          "Net Sales Value",
          "Net Sales Value",
          "Net Sales Value",
          "Net Sales Value",
          "Net Sales Value",
          "Net Sales Value",
          "Net Sales Value",
          "Net Sales Value",
          "Net Sales Value",
          "Net Sales Value",
          "Net Sales Value",
          "Net Sales Value",
          "Net Sales Value",
          "Net Sales Value",
          "Net Sales Value",
          "Net Sales Value",
          "Net Sales Value",
          "Net Sales Value",
          "Net Sales Value",
          "Net Sales Value",
          "Net Sales Value",
          "Net Sales Value",
          "Net Sales Value",
          "Net Sales Value",
          "Net Sales Value",
          "Net Sales Value",
          "Net Sales Value",
          "Net Sales Value",
          "Net Sales Value",
          "Net Sales Value",
          "Net Sales Value",
          "Net Sales Value",
          "Net Sales Value",
          "Net Sales Value",
          "Net Sales Value",
          "Net Sales Value",
          "Net Sales Value",
          "Net Sales Value",
          "Net Sales Value",
          "Net Sales Value",
          "Net Sales Value",
          "Net Sales Value",
          "Net Sales Value",
          "Net Sales Value",
          "Net Sales Value",
          "Net Sales Value",
          "Net Sales Value",
          "Net Sales Value",
          "Net Sales Value",
          "Net Sales Value",
          "Net Sales Value",
          "Net Sales Value",
          "Net Sales Value",
          "Net Sales Value",
          "Net Sales Value",
          "Net Sales Value",
          "Net Sales Value",
          "Net Sales Value",
          "Net Sales Value",
          "Net Sales Value",
          "Net Sales Value",
          "Net Sales Value",
          "Net Sales Value",
          "Net Sales Value",
          "Net Sales Value",
          "Net Sales Value",
          "Net Sales Value",
          "Net Sales Value",
          "Net Sales Value",
          "Net Sales Value",
          "Net Sales Value",
          "Net Sales Value",
          "Net Sales Value",
          "Net Sales Value",
          "Net Sales Value",
          "Net Sales Value",
          "Net Sales Value",
          "Net Sales Value",
          "Net Sales Value",
          "Net Sales Value",
          "Net Sales Value",
          "Net Sales Value",
          "Net Sales Value",
          "Net Sales Value",
          "Net Sales Value",
          "Net Sales Value",
          "Net Sales Value",
          "Net Sales Value",
          "Net Sales Value",
          "Net Sales Value",
          "Net Sales Value",
          "Net Sales Value",
          "Net Sales Value",
          "Net Sales Value",
          "Net Sales Value",
          "Net Sales Value",
          "Net Sales Value",
          "Net Sales Value",
          "Net Sales Value",
          "Net Sales Value",
          "Net Sales Value",
          "Net Sales Value",
          "Net Sales Value",
          "Net Sales Value",
          "Net Sales Value",
          "Net Sales Value",
          "Net Sales Value",
          "Net Sales Value",
          "Net Sales Value",
          "Net Sales Value",
          "Net Sales Value",
          "Net Sales Value",
          "Net Sales Value",
          "Net Sales Value",
          "Net Sales Value",
          "Net Sales Value",
          "Net Sales Value",
          "Net Sales Value",
          "Net Sales Value",
          "Net Sales Value",
          "Net Sales Value",
          "Net Sales Value",
          "Net Sales Value",
          "Net Sales Value",
          "Net Sales Value",
          "Net Sales Value",
          "Net Sales Value",
          "Net Sales Value",
          "Net Sales Value",
          "Net Sales Value",
          "Net Sales Value",
          "Net Sales Value",
          "Net Sales Value",
          "Net Sales Value",
          "Net Sales Value",
          "Net Sales Value",
          "Net Sales Value",
          "Net Sales Value",
          "Net Sales Value",
          "Net Sales Value",
          "Net Sales Value",
          "Net Sales Value",
          "Net Sales Value",
          "Net Sales Value",
          "Net Sales Value",
          "Net Sales Value",
          "Net Sales Value",
          "Net Sales Value",
          "Net Sales Value",
          "Net Sales Value",
          "Net Sales Value",
          "Net Sales Value",
          "Net Sales Value",
          "Net Sales Value",
          "Net Sales Value",
          "Net Sales Value",
          "Net Sales Value",
          "Net Sales Value",
          "Net Sales Value",
          "Net Sales Value",
          "Net Sales Value",
          "Net Sales Value",
          "Net Sales Value",
          "Net Sales Value",
          "Net Sales Value",
          "Net Sales Value",
          "Net Sales Value",
          "Net Sales Value",
          "Net Sales Value",
          "Net Sales Value",
          "Net Sales Value",
          "Net Sales Value",
          "Net Sales Value",
          "Net Sales Value",
          "Net Sales Value",
          "Net Sales Value",
          "Net Sales Value",
          "Net Sales Value",
          "Net Sales Value",
          "Net Sales Value",
          "Net Sales Value",
          "Net Sales Value",
          "Net Sales Value",
          "Net Sales Value",
          "Net Sales Value",
          "Net Sales Value",
          "Net Sales Value",
          "Net Sales Value",
          "Net Sales Value",
          "Net Sales Value",
          "Net Sales Value",
          "Net Sales Value",
          "Net Sales Value",
          "Net Sales Value",
          "Net Sales Value",
          "Net Sales Value",
          "Net Sales Value",
          "Net Sales Value",
          "Net Sales Value",
          "Net Sales Value",
          "Net Sales Value",
          "Net Sales Value",
          "Net Sales Value",
          "Net Sales Value",
          "Net Sales Value",
          "Net Sales Value",
          "Net Sales Value",
          "Net Sales Value",
          "Net Sales Value",
          "Net Sales Value",
          "Net Sales Value",
          "Net Sales Value",
          "Net Sales Value",
          "Net Sales Value",
          "Net Sales Value",
          "Net Sales Value",
          "Net Sales Value",
          "Net Sales Value",
          "Net Sales Value",
          "Net Sales Value",
          "Net Sales Value",
          "Net Sales Value",
          "Net Sales Value",
          "Net Sales Value",
          "Net Sales Value",
          "Net Sales Value",
          "Net Sales Value",
          "Net Sales Value",
          "Net Sales Value",
          "Net Sales Value",
          "Net Sales Value",
          "Net Sales Value",
          "Net Sales Value",
          "Net Sales Value",
          "Net Sales Value",
          "Net Sales Value",
          "Net Sales Value",
          "Net Sales Value",
          "Net Sales Value",
          "Net Sales Value",
          "Net Sales Value",
          "Net Sales Value",
          "Net Sales Value",
          "Net Sales Value",
          "Net Sales Value",
          "Net Sales Value"
         ],
         "x0": " ",
         "xaxis": "x",
         "y": [
          15,
          10,
          7,
          6,
          3,
          3,
          3,
          2,
          2,
          3,
          13,
          4,
          4,
          9,
          5,
          5,
          3,
          3,
          1,
          4,
          10,
          8,
          7,
          5,
          5,
          4,
          5,
          3,
          1,
          3,
          11,
          8,
          7,
          6,
          2,
          3,
          3,
          1,
          3,
          3,
          29,
          8,
          6,
          9,
          7,
          3,
          3,
          1,
          2,
          3,
          13,
          3,
          4,
          6,
          7,
          6,
          4,
          3,
          1,
          2,
          5,
          5,
          5,
          5,
          4,
          2,
          4,
          1,
          1,
          2,
          24,
          14,
          4,
          6,
          6,
          6,
          5,
          3,
          2,
          4,
          12,
          9,
          5,
          5,
          3,
          3,
          6,
          3,
          3,
          1,
          9,
          9,
          3,
          6,
          3,
          2,
          3,
          2,
          2,
          2,
          25,
          15,
          11,
          7,
          6,
          4,
          4,
          4,
          3,
          1,
          10,
          10,
          3,
          3,
          7,
          5,
          4,
          2,
          1,
          3,
          3,
          6,
          5,
          3,
          3,
          3,
          3,
          3,
          2,
          2,
          15,
          7,
          10,
          8,
          4,
          4,
          4,
          2,
          2,
          2,
          14,
          3,
          2,
          5,
          4,
          4,
          4,
          2,
          3,
          1,
          7,
          6,
          4,
          6,
          5,
          2,
          2,
          3,
          2,
          2,
          9,
          12,
          8,
          2,
          3,
          6,
          2,
          1,
          2,
          3,
          12,
          6,
          6,
          6,
          7,
          3,
          5,
          3,
          3,
          1,
          12,
          2,
          7,
          4,
          4,
          3,
          3,
          3,
          3,
          3,
          22,
          10,
          11,
          11,
          2,
          3,
          2,
          2,
          4,
          3,
          12,
          12,
          7,
          3,
          3,
          4,
          4,
          3,
          2,
          1,
          14,
          7,
          7,
          5,
          6,
          3,
          3,
          2,
          2,
          1,
          2,
          11,
          11,
          2,
          5,
          4,
          3,
          2,
          3,
          3,
          7,
          9,
          7,
          3,
          6,
          3,
          5,
          2,
          3,
          2,
          15,
          7,
          7,
          7,
          5,
          2,
          3,
          2,
          2,
          1,
          31,
          12,
          7,
          4,
          8,
          2,
          4,
          2,
          2,
          1,
          16,
          6,
          5,
          2,
          5,
          4,
          3,
          2,
          2,
          1,
          3,
          6,
          4,
          5,
          4,
          4,
          2,
          2,
          3,
          2,
          24,
          11,
          12,
          4,
          3,
          3,
          3,
          3,
          2,
          2,
          5,
          4,
          5,
          4,
          5,
          5,
          5,
          1,
          3,
          2,
          12,
          7,
          6,
          4,
          4,
          3,
          3,
          1,
          3,
          3,
          22,
          2,
          11,
          6,
          4,
          2,
          4,
          2,
          2,
          3,
          13,
          9,
          5,
          4,
          6,
          6,
          4,
          3,
          3,
          1,
          4,
          7,
          3,
          6,
          4,
          3,
          2,
          1,
          3,
          3,
          15,
          7,
          3,
          8,
          5,
          3,
          4,
          3,
          3,
          4,
          12,
          8,
          2,
          4,
          6,
          4,
          4,
          1,
          2,
          1,
          9,
          6,
          7,
          7,
          5,
          3,
          3,
          1,
          2,
          2,
          14,
          14,
          3,
          7,
          7,
          5,
          4,
          2,
          3,
          3,
          4,
          6,
          6,
          3,
          5,
          3,
          4,
          4,
          3,
          3,
          11,
          7,
          6,
          3,
          4,
          3,
          3,
          2,
          2,
          2,
          29,
          2,
          5,
          4,
          7,
          6,
          4,
          2,
          3,
          3,
          15,
          7,
          6,
          5,
          6,
          3,
          4,
          3,
          2,
          2,
          13,
          6,
          4,
          5,
          3,
          3,
          3,
          1,
          3,
          2,
          2,
          17,
          4,
          5,
          7,
          4,
          3,
          3,
          2,
          4,
          10,
          3,
          7,
          3,
          6,
          2,
          6,
          2,
          3,
          1,
          12100,
          10100,
          16100,
          20100,
          8100,
          8100,
          49100,
          54100,
          55100,
          60100,
          400,
          300,
          390,
          465,
          290,
          450,
          500,
          400,
          560,
          1099,
          450,
          500,
          900,
          1300,
          2099,
          1300,
          2600,
          1600,
          1900,
          3100,
          12100,
          10100,
          16100,
          20100,
          8100,
          8100,
          49100,
          54100,
          55100,
          60100,
          400,
          300,
          390,
          465,
          290,
          450,
          500,
          400,
          560,
          1099,
          450,
          500,
          900,
          1300,
          2099,
          1300,
          2600,
          1600,
          1900,
          3100,
          12100,
          10100,
          16100,
          20100,
          8100,
          8100,
          49100,
          54100,
          55100,
          60100,
          400,
          300,
          390,
          465,
          290,
          450,
          500,
          400,
          560,
          1099,
          450,
          500,
          900,
          1300,
          2099,
          1300,
          2600,
          1600,
          1900,
          3100,
          12100,
          10100,
          16100,
          20100,
          8100,
          8100,
          49100,
          54100,
          55100,
          60100,
          400,
          300,
          390,
          465,
          290,
          450,
          500,
          400,
          560,
          1099,
          450,
          500,
          900,
          1300,
          2099,
          1300,
          2600,
          1600,
          1900,
          3100,
          12100,
          10100,
          16100,
          20100,
          8100,
          8100,
          49100,
          54100,
          55100,
          60100,
          400,
          300,
          390,
          465,
          290,
          450,
          500,
          400,
          560,
          1099,
          450,
          500,
          900,
          1300,
          2099,
          1300,
          2600,
          1600,
          1900,
          3100,
          12100,
          10100,
          16100,
          20100,
          8100,
          8100,
          49100,
          54100,
          55100,
          60100,
          400,
          300,
          390,
          465,
          290,
          450,
          500,
          400,
          560,
          1099,
          450,
          500,
          900,
          1300,
          2099,
          1300,
          2600,
          1600,
          1900,
          3100,
          12100,
          10100,
          16100,
          20100,
          8100,
          8100,
          49100,
          54100,
          55100,
          60100,
          400,
          300,
          390,
          465,
          290,
          450,
          500,
          400,
          560,
          1099,
          450,
          500,
          900,
          1300,
          2099,
          1300,
          2600,
          1600,
          1900,
          3100,
          12100,
          10100,
          16100,
          20100,
          8100,
          8100,
          49100,
          54100,
          55100,
          60100,
          400,
          300,
          390,
          465,
          290,
          450,
          500,
          400,
          560,
          1099,
          450,
          500,
          900,
          1300,
          2099,
          1300,
          2600,
          1600,
          1900,
          3100,
          12100,
          10100,
          16100,
          20100,
          8100,
          8100,
          49100,
          54100,
          55100,
          60100,
          400,
          300,
          390,
          465,
          290,
          450,
          500,
          400,
          560,
          1099,
          450,
          500,
          900,
          1300,
          2099,
          1300,
          2600,
          1600,
          1900,
          3100,
          12100,
          10100,
          16100,
          20100,
          8100,
          8100,
          49100,
          54100,
          55100,
          60100,
          400,
          300,
          390,
          465,
          290,
          450,
          500,
          400,
          560,
          1099,
          450,
          500,
          900,
          1300,
          2099,
          1300,
          2600,
          1600,
          1900,
          3100,
          12100,
          10100,
          16100,
          20100,
          8100,
          8100,
          49100,
          54100,
          55100,
          60100,
          400,
          300,
          390,
          465,
          290,
          450,
          500,
          400,
          560,
          1099,
          450,
          500,
          900,
          1300,
          2099,
          1300,
          2600,
          1600,
          1900,
          3100,
          12100,
          10100,
          16100,
          20100,
          8100,
          8100,
          49100,
          54100,
          55100,
          60100,
          400,
          300,
          390,
          465,
          290,
          450,
          500,
          400,
          560,
          1099,
          450,
          500,
          900,
          1300,
          2099,
          1300,
          2600,
          1600,
          1900,
          3100,
          12100,
          10100,
          16100,
          20100,
          8100,
          8100,
          49100,
          54100,
          55100,
          60100,
          400,
          300,
          390,
          465,
          290,
          450,
          500,
          400,
          560,
          1099,
          450,
          500,
          900,
          1300,
          2099,
          1300,
          2600,
          1600,
          1900,
          3100,
          12100,
          10100,
          16100,
          20100,
          8100,
          8100,
          49100,
          54100,
          55100,
          60100,
          400,
          300,
          390,
          465,
          290,
          450,
          500,
          400,
          560,
          1099,
          450,
          500,
          900,
          1300,
          2099,
          1300,
          2600,
          1600,
          1900,
          3100,
          12100,
          10100,
          16100,
          20100,
          8100,
          8100,
          49100,
          54100,
          55100,
          60100,
          400,
          300,
          390,
          465,
          290,
          450,
          500,
          400,
          560,
          1099,
          450,
          500,
          900,
          1300,
          2099,
          1300,
          2600,
          1600,
          1900,
          3100,
          181500,
          101000,
          112700,
          120600,
          24300,
          24300,
          147300,
          108200,
          110200,
          180300,
          5200,
          1200,
          1560,
          4185,
          1450,
          2250,
          1500,
          1200,
          560,
          4396,
          4500,
          4000,
          6300,
          6500,
          10495,
          5200,
          13000,
          4800,
          1900,
          9300,
          133100,
          80800,
          112700,
          120600,
          16200,
          24300,
          147300,
          54100,
          165300,
          180300,
          11600,
          2400,
          2340,
          4185,
          2030,
          1350,
          1500,
          400,
          1120,
          3297,
          5850,
          1500,
          3600,
          7800,
          14693,
          7800,
          10400,
          4800,
          1900,
          6200,
          60500,
          50500,
          80500,
          100500,
          32400,
          16200,
          196400,
          54100,
          55100,
          120200,
          9600,
          4200,
          1560,
          2790,
          1740,
          2700,
          2500,
          1200,
          1120,
          4396,
          5400,
          4500,
          4500,
          6500,
          6297,
          3900,
          15600,
          4800,
          5700,
          3100,
          108900,
          90900,
          48300,
          120600,
          24300,
          16200,
          147300,
          108200,
          110200,
          120200,
          10000,
          4500,
          4290,
          3255,
          1740,
          1800,
          2000,
          1600,
          1680,
          1099,
          4500,
          5000,
          2700,
          3900,
          14693,
          6500,
          10400,
          3200,
          1900,
          9300,
          36300,
          60600,
          80500,
          60300,
          24300,
          24300,
          147300,
          162300,
          110200,
          120200,
          6000,
          2100,
          3900,
          3720,
          1160,
          1800,
          2000,
          800,
          1120,
          2198,
          6300,
          1500,
          1800,
          6500,
          8396,
          5200,
          10400,
          3200,
          5700,
          3100,
          84700,
          60600,
          64400,
          120600,
          40500,
          16200,
          98200,
          162300,
          110200,
          120200,
          3600,
          3600,
          3120,
          930,
          870,
          2700,
          1000,
          400,
          1120,
          3297,
          5400,
          3000,
          5400,
          7800,
          14693,
          3900,
          13000,
          4800,
          5700,
          3100,
          145200,
          20200,
          112700,
          80400,
          32400,
          24300,
          147300,
          162300,
          165300,
          180300,
          8800,
          3000,
          4290,
          5115,
          580,
          1350,
          1000,
          800,
          2240,
          3297,
          5400,
          6000,
          6300,
          3900,
          6297,
          5200,
          10400,
          4800,
          3800,
          3100,
          169400,
          70700,
          112700,
          100500,
          48600,
          24300,
          147300,
          108200,
          110200,
          60100,
          800,
          3300,
          4290,
          930,
          1450,
          1800,
          1500,
          800,
          1680,
          3297,
          3150,
          4500,
          6300,
          3900,
          12594,
          3900,
          13000,
          3200,
          5700,
          6200,
          181500,
          70700,
          112700,
          140700,
          40500,
          16200,
          147300,
          108200,
          110200,
          60100,
          12400,
          3600,
          2730,
          1860,
          2320,
          900,
          2000,
          800,
          1120,
          1099,
          7200,
          3000,
          4500,
          2600,
          10495,
          5200,
          7800,
          3200,
          3800,
          3100,
          36300,
          60600,
          64400,
          100500,
          32400,
          32400,
          98200,
          108200,
          165300,
          120200,
          9600,
          3300,
          4680,
          1860,
          870,
          1350,
          1500,
          1200,
          1120,
          2198,
          2250,
          2000,
          4500,
          5200,
          10495,
          6500,
          13000,
          1600,
          5700,
          6200,
          145200,
          70700,
          96600,
          80400,
          32400,
          24300,
          147300,
          54100,
          165300,
          180300,
          8800,
          600,
          4290,
          2790,
          1160,
          900,
          2000,
          800,
          1120,
          3297,
          5850,
          4500,
          4500,
          5200,
          12594,
          7800,
          10400,
          4800,
          5700,
          3100,
          48400,
          70700,
          48300,
          120600,
          32400,
          24300,
          98200,
          54100,
          165300,
          180300,
          6000,
          2100,
          1170,
          3720,
          1450,
          1350,
          2000,
          1200,
          1680,
          4396,
          5400,
          4000,
          1800,
          5200,
          12594,
          5200,
          10400,
          1600,
          3800,
          3100,
          108900,
          60600,
          112700,
          140700,
          40500,
          24300,
          147300,
          54100,
          110200,
          120200,
          5600,
          4200,
          1170,
          3255,
          2030,
          2250,
          2000,
          800,
          1680,
          3297,
          1800,
          3000,
          5400,
          3900,
          10495,
          3900,
          10400,
          6400,
          5700,
          9300,
          133100,
          70700,
          96600,
          60300,
          32400,
          24300,
          147300,
          108200,
          110200,
          120200,
          11600,
          600,
          1950,
          1860,
          2030,
          2700,
          2000,
          800,
          1680,
          3297,
          6750,
          3500,
          5400,
          6500,
          12594,
          3900,
          10400,
          4800,
          3800,
          6200,
          157300,
          60600,
          64400,
          100500,
          24300,
          24300,
          147300,
          54100,
          165300,
          120200,
          800,
          5100,
          1560,
          2325,
          2030,
          1800,
          1500,
          1200,
          1120,
          4396,
          4500,
          1500,
          6300,
          3900,
          12594,
          2600,
          15600,
          3200,
          5700,
          3100,
          11.654820286277229,
          11.560497981172013,
          9.456885675868351,
          6.935385325,
          17.995663499847538,
          16.996488910376506,
          9.228811758,
          5.553719335858815,
          7.410104486,
          9.928443556922565,
          18.869241650349192,
          16.578315839170525,
          18.15940810281622,
          18.509507661487792,
          15.516590589482744,
          18.120928359044605,
          18.11487059931267,
          17.506967212926114,
          16.723064529319696,
          16.735953685973765,
          19.52748279287061,
          19.19432326805784,
          18.06086733176471,
          18.70696234082248,
          19.938599568896866,
          18.84207796300867,
          15.22271398029837,
          19.60701230337276,
          16.668537503167975,
          16.577215459421417,
          13.10714037,
          11.463709496680202,
          9.816115051228891,
          6.214888201701022,
          18.735169283110185,
          17.988541652817347,
          5.252112549273296,
          9.238957338523049,
          8.440205804268277,
          9.087093183,
          19.68807392701107,
          16.221400717005285,
          18.062949881658987,
          17.300651364087425,
          17.296753022092158,
          15.999206110049954,
          18.519110434599973,
          17.294485572056967,
          15.970574895801048,
          18.46486650271903,
          17.68346638923947,
          15.348901860554824,
          16.507743182560283,
          18.007000090221872,
          18.114262113072808,
          15.46512976386208,
          18.017017754952228,
          16.361022367492804,
          18.39585553993682,
          17.004750688604858,
          10.872805596507074,
          10.924438305127364,
          8.668041319975172,
          9.15394956510188,
          17.14675853,
          18.531892689272368,
          8.601079913939643,
          7.621790957934959,
          8.907134380813915,
          5.007822189204133,
          17.050296756410482,
          16.988645263794755,
          19.276068842283127,
          17.943877040928143,
          18.18516737,
          19.88747923876981,
          17.811924888427626,
          18.703844700598,
          17.253385885722242,
          16.946078261315066,
          19.18987070662069,
          17.361322083094507,
          16.02048658180877,
          19.357934276476374,
          15.234732926198292,
          18.60252596927542,
          17.406483200942667,
          18.333913713826863,
          15.980169189765196,
          15.444062499880264,
          13.97120599044711,
          12.454656502759502,
          8.417729657551561,
          5.870670938165718,
          16.789339641673248,
          15.77608924263355,
          8.569248919012532,
          7.823773919213602,
          6.710453536396899,
          6.095201440402829,
          17.93227484021013,
          17.216943503508052,
          16.530115799511485,
          15.251729901882404,
          16.440144508699397,
          16.45459054571782,
          19.68043912697078,
          16.09063730242208,
          17.399930976359215,
          18.468603160082225,
          18.32601839,
          19.78474373,
          15.089827398292504,
          19.129058785086663,
          17.788713430687906,
          19.664976226088747,
          15.763121102348151,
          19.976878852757167,
          18.90416189542705,
          17.67182384213527,
          12.138161178646731,
          14.568101405876613,
          8.097087086978906,
          7.747990880089501,
          15.416672988182352,
          17.328633769441627,
          8.532277919222786,
          5.935084193732397,
          7.584590638090228,
          9.086087808184844,
          17.712694366059047,
          17.297226571292995,
          16.631517798104518,
          17.57311945929308,
          17.80206774460188,
          17.720234230056935,
          15.546114238860747,
          16.34737903216006,
          16.55972731,
          16.116142409871937,
          17.19470437031755,
          17.344507543451314,
          17.673372623533588,
          16.12159665461466,
          18.93978420230747,
          17.37960448895497,
          18.09216823548678,
          17.606097637738944,
          17.34439087327293,
          15.571977508677003,
          12.909518695550387,
          12.30153101000048,
          7.732667088605965,
          7.233846742335281,
          19.766831365800545,
          17.280653277840116,
          5.420506661087877,
          6.849975641919071,
          8.412626482,
          7.256695570137941,
          15.748829671065495,
          16.297069597052808,
          17.50762493541124,
          15.1832518428718,
          15.938455664261197,
          17.928214808149125,
          16.535162659048446,
          18.256299861322955,
          19.823368540983964,
          18.849528742533984,
          16.425245732431218,
          16.664805311476034,
          15.949968876338524,
          15.04362021431778,
          15.361697147391324,
          16.434022160959007,
          16.037142358953453,
          17.505278151312616,
          18.18304095386449,
          19.589124796030404,
          11.830807065757378,
          12.542569443833564,
          8.741302312619077,
          7.988812722257784,
          17.618584504223975,
          16.065576095795734,
          8.658225361838774,
          7.178725899241335,
          8.469412279922093,
          9.815204448449323,
          18.1827493,
          19.765153002365825,
          18.92254531147246,
          19.281034650470858,
          16.32460954733587,
          18.37684554984166,
          19.064839659653387,
          19.80471510796803,
          15.43763350743192,
          17.255076532776307,
          19.712827800715463,
          17.641355011219655,
          15.023751382395178,
          16.419682015631825,
          18.02035182755711,
          16.376949996056055,
          17.47825748343215,
          19.44792540341673,
          16.299804815008002,
          17.896569377392915,
          14.951726212630405,
          12.89156528,
          7.679385595700298,
          5.794802079132935,
          19.573817544625605,
          15.821231411481408,
          9.238450997439106,
          9.66608228994852,
          5.059801277154096,
          9.549832271096296,
          15.572393552260316,
          18.238803806330296,
          19.290096487627693,
          19.910383731112333,
          16.179877661293183,
          15.394282418650445,
          19.3585164762582,
          16.95879599,
          15.407747962556613,
          16.47136519172397,
          15.433532890326084,
          16.36791411468696,
          15.621580491719644,
          19.53824509570855,
          18.270293510266427,
          15.13260350934779,
          18.46189327518684,
          15.512031643665622,
          18.27644174,
          17.446359233235064,
          14.18072848140974,
          12.018882550575643,
          6.8582545692088726,
          7.208362951650773,
          17.163530232883033,
          16.637783394762867,
          7.341874344,
          9.771367467386684,
          6.473304705016388,
          6.439919959844064,
          17.383934419542282,
          18.19607161886354,
          18.06839101100181,
          16.37059554802535,
          19.81697935484416,
          18.488201692458688,
          16.866970455692478,
          15.733725334060328,
          17.579216196028618,
          17.157583429640418,
          19.14081734702039,
          19.00377425590465,
          16.692868112380438,
          17.79136355557608,
          17.077659911214088,
          16.475250778378637,
          17.56215896478952,
          18.96663746046982,
          17.645393099050505,
          17.967140745969115,
          11.055737610601057,
          11.089181533506844,
          8.977343373608086,
          7.421325599756022,
          16.55384816728682,
          17.916967740237514,
          7.802860890712338,
          9.835773221649369,
          6.268913808500697,
          6.819110662867928,
          19.358680561154664,
          16.989392099533365,
          17.486581496995672,
          15.910879946410272,
          15.142414582224038,
          15.562571068980672,
          17.631190157525147,
          18.57874079,
          16.38611185129275,
          16.93486485,
          17.567207007320203,
          17.50576723926849,
          15.69166816204708,
          15.387569812034188,
          19.71631112064685,
          19.53756201,
          16.813584438418655,
          19.008249819154447,
          17.68404468466699,
          17.25697328037778,
          14.804872842537035,
          12.235384909777393,
          6.170397894995827,
          5.072124185625713,
          19.735603599981864,
          19.940610270596174,
          8.394469320070762,
          6.106930704565366,
          6.508719077620175,
          9.058746494473578,
          18.18850808050756,
          17.11762611534941,
          16.38558507315613,
          19.12478535136138,
          15.08981884368552,
          18.484266350177315,
          17.12451515523473,
          19.99240704193018,
          18.496026255860414,
          15.189462972324602,
          15.184208763066303,
          19.586695249039863,
          19.38396295954193,
          17.532956267424286,
          15.414069193640822,
          18.907667806517047,
          19.505267589109387,
          16.633587502836683,
          17.39005186,
          15.884585970545755,
          11.373284494894524,
          14.543081726618366,
          7.826353712362323,
          8.491486174501922,
          17.337519103119437,
          15.608132560631024,
          6.066191918625036,
          9.791440079818337,
          5.084108426,
          7.7852682485613505,
          17.944983621038663,
          18.608386289838247,
          17.691253121203026,
          15.671319590244828,
          17.85265232658667,
          15.62485856943532,
          17.856694031534317,
          15.770607296808862,
          18.396734384081515,
          17.06230087626719,
          18.86666515,
          18.81403992251914,
          15.282012114668662,
          19.658731682629465,
          15.815118150903215,
          18.39797564,
          15.866930268436874,
          18.075415642705345,
          18.284851872547016,
          19.518796120885742,
          11.524539230295993,
          10.213810468042144,
          9.282922284442732,
          9.050468381243416,
          18.20853577279757,
          17.332796591638523,
          9.012749993982965,
          9.350885905323567,
          6.326891692775114,
          9.766900148699394,
          15.777249859064732,
          15.229304442688909,
          19.28772746,
          15.60269272274946,
          15.892574208908874,
          18.896467585467096,
          16.910579249287487,
          19.70033865255617,
          19.14985254610939,
          19.240252523603576,
          18.162499060632666,
          19.98225655005082,
          16.14683638678368,
          17.08635767990947,
          19.94004576107969,
          19.779006866153992,
          16.64271659980247,
          18.722344392748926,
          17.600281769941432,
          16.857977908607836,
          12.185270263226371,
          13.963014728119951,
          9.852661168268146,
          6.415230294327099,
          17.73983300508189,
          19.17680154386712,
          9.0850151618866,
          5.055218412429214,
          5.4118021861669225,
          5.511042321019265,
          15.042477125501795,
          17.232149290972764,
          18.98898033,
          15.716729075087828,
          17.228389814068915,
          16.27280994568704,
          19.34909310194873,
          18.99129131753696,
          15.915601890636466,
          15.239116676500377,
          15.306006713238707,
          15.19158998254244,
          15.953024294750776,
          18.62938274091684,
          16.954566884971847,
          18.864268684287676,
          18.71790805277376,
          19.91591999825912,
          15.553473626805486,
          17.414973804849325,
          10.161940419951064,
          14.686374208896371,
          5.485156670073213,
          5.466379335661308,
          17.250382709384482,
          15.842078721704562,
          6.008199566158192,
          6.642595335085532,
          5.425910532590122,
          8.440678834544997,
          18.999270165031213,
          19.965340034290687,
          17.779865225407995,
          19.52019766172181,
          15.770057720595435,
          16.332136927068014,
          16.21466375518408,
          15.722275799583652,
          19.18500512,
          18.68568031901656,
          16.47799820687296,
          16.80302997490994,
          17.147528049146253,
          16.442619307927696,
          15.072954200256858,
          15.47568742173152,
          17.057027189656758,
          18.965550182210706,
          16.793014485395556,
          15.333299833359746,
          21153.49881959317,
          11676.102960983731,
          10657.910156703634,
          8364.074702073072,
          4372.946230462952,
          4130.1468052214905,
          13594.039718999667,
          6009.124321399238,
          8165.935143619563,
          17900.983733131387,
          981.200565818158,
          198.93979007004629,
          283.2867664,
          774.6228956332641,
          224.99056354749976,
          407.7208880785036,
          271.72305898969006,
          210.08360655511336,
          93.64916136419028,
          735.7125240354067,
          878.7367256791777,
          767.7729307223136,
          1137.8346419011768,
          1215.952552153461,
          2092.556024755726,
          979.7880540764507,
          1978.952817438788,
          941.1365905618924,
          316.7022125601915,
          1541.6810377261918,
          17445.603828100593,
          9262.677273317604,
          11062.761662734962,
          7495.155171251433,
          3035.097424,
          4371.215621634616,
          7736.3617850795645,
          4998.27592,
          13951.660194455462,
          16384.029009441005,
          2283.8165755332843,
          389.3136172081268,
          422.6730272308203,
          724.0322595870588,
          351.1240863484708,
          215.9892824856744,
          277.7866565189996,
          69.17794228822787,
          178.87043883297173,
          608.7866485946464,
          1034.482783770509,
          230.2335279083224,
          594.2787545721702,
          1404.546007037306,
          2661.5285322737877,
          1206.2801215812424,
          1873.769846515032,
          785.3290736396547,
          349.5212552587996,
          1054.2945426935012,
          6578.047386,
          5516.841344089318,
          6977.773262580014,
          9199.719313,
          5555.549763666768,
          3002.166615662124,
          16892.520950977458,
          4123.388908242812,
          4907.831043828467,
          6019.402271423368,
          1636.8284886154065,
          713.5231010793797,
          300.7066739396168,
          500.6341694418952,
          316.4219122,
          536.9619394467849,
          445.2981222106906,
          224.446136407176,
          193.2379219200891,
          744.9496003674103,
          1036.253018157517,
          781.2594937392528,
          720.9218961813946,
          1258.2657279709645,
          959.3311323627064,
          725.4985128017413,
          2715.411379347056,
          880.0278582636894,
          910.8696438166164,
          478.7659374962882,
          15214.643323596902,
          11321.282761008388,
          4065.763424597404,
          7080.029151427856,
          4079.8095329265993,
          2555.726457306635,
          12622.50365770546,
          8465.323380589118,
          7394.919797109382,
          7326.432131364201,
          1793.227484021013,
          774.7624576578623,
          709.1419677990427,
          496.4438083062723,
          286.05851445136955,
          296.1826298229208,
          393.60878253941553,
          257.4501968387533,
          292.31884040283484,
          202.96994872930364,
          824.6708274,
          989.2371867,
          407.4253397538976,
          746.0332926183797,
          2613.695664370974,
          1278.2234546957686,
          1639.3645946442075,
          639.2601232882294,
          359.1790760131139,
          1643.4796173185805,
          4406.152507848764,
          8828.269451961227,
          6518.155105,
          4672.038501,
          3746.2515361283113,
          4210.858005974315,
          12568.045375015165,
          9632.641646,
          8358.218883175432,
          10921.477545438182,
          1062.7616619635428,
          363.2417579971529,
          648.6291941260762,
          653.7200438857026,
          206.50398583738183,
          318.96421614102485,
          310.92228477721494,
          130.77903225728048,
          185.46894582812064,
          354.2328101689852,
          1083.2663753300055,
          260.16761315176973,
          318.1207072236046,
          1047.903782549953,
          1590.1842816257354,
          903.7394334256584,
          1881.5854964906252,
          563.3951244076462,
          988.6302797765568,
          482.7313027689872,
          10934.36233513118,
          7454.727792,
          4979.837605062242,
          8724.019171256348,
          8005.566703149221,
          2799.465831010099,
          5322.937541188297,
          11117.510466834652,
          9270.714383551673,
          8722.548075305805,
          566.9578681583579,
          586.6945055,
          546.2378979848307,
          141.20424213870774,
          138.6645642790724,
          484.0617998200264,
          165.35162659048444,
          73.02519944529182,
          222.0217276590204,
          621.4689626413455,
          886.9632695512857,
          499.9441593,
          861.2983193222805,
          1173.4023767167869,
          2257.0941618662077,
          640.9268642774013,
          2084.828506663949,
          840.2533512630056,
          1036.433334370276,
          607.2628686769425,
          17178.331859479713,
          2533.599028,
          9851.447706321698,
          6423.005428695258,
          5708.4213793685685,
          3903.934991278363,
          12753.565957988514,
          11651.072134468686,
          13999.93849871122,
          17696.813620554134,
          1600.0819382556272,
          592.9545900709747,
          811.7771938621686,
          986.2249223715844,
          94.68273537454805,
          248.08741492286245,
          190.64839659653387,
          158.43772086374423,
          345.8029906,
          568.8998732856348,
          1064.4927012386352,
          1058.4813006731792,
          946.496337090896,
          640.3675986096412,
          1134.7415545812712,
          851.6013997949149,
          1817.7387782769435,
          933.5004194,
          619.392583,
          554.7936506991804,
          25328.224204195907,
          9114.336652,
          8654.667566354236,
          5823.776089528599,
          9512.875326688045,
          3844.5592329899823,
          13608.238319227805,
          10458.70104,
          5575.901007423813,
          5739.449194928873,
          124.57914841808253,
          601.8805256088998,
          827.5451393,
          185.16656869934468,
          234.60822608875117,
          277.09708353570795,
          290.3777471,
          135.6703679,
          258.8501657709511,
          543.0609103711392,
          486.1562860452716,
          736.5561351609133,
          984.1595709783376,
          761.9915587326334,
          2300.960764682954,
          590.1715368645638,
          2400.046125774289,
          496.3850125972999,
          1041.7571792393028,
          1081.674272460574,
          25738.02219375868,
          8497.349963,
          7729.252899498399,
          10142.166672972637,
          6951.2297443176285,
          2695.3209099515843,
          10814.580908727954,
          10572.619599712394,
          7133.581784928059,
          3870.391895866282,
          2155.607868023243,
          655.0585782790876,
          493.26707460034953,
          304.4930771932715,
          459.7539210323845,
          166.3938152321282,
          337.3394091138496,
          125.86980267248262,
          196.88722139552053,
          188.5618418917482,
          1378.1388489854685,
          570.1132276771395,
          751.1790650571197,
          462.57545244497805,
          1792.3004076819186,
          856.7130404756892,
          1369.8483992535828,
          606.9323987350342,
          670.5249377639192,
          556.9813631250425,
          4013.232752648183,
          6720.044009305148,
          5781.409132603607,
          7458.432227754803,
          5363.446806200929,
          5805.097547836955,
          7662.4093946795165,
          10642.306625824614,
          10362.514525451652,
          8196.571017,
          1858.433333870848,
          560.6499393,
          818.3720140593974,
          295.9423670032311,
          131.73900686534913,
          210.09470943123907,
          264.4678523628772,
          222.9448894546092,
          183.5244527344788,
          372.2283295,
          395.26215766470455,
          350.1153447853698,
          706.1250672921186,
          800.1536302257778,
          2069.2268521118867,
          1269.941530500357,
          2185.765976994425,
          304.13199710647115,
          1007.9905470260184,
          1069.9323433834222,
          21496.67536736378,
          8650.417131212616,
          5960.604367,
          4077.987845243073,
          6394.335566394124,
          4845.568295754872,
          12365.053308464232,
          3303.8495111698635,
          10758.912635306153,
          16332.91992953586,
          1600.5887110846652,
          102.70575669209646,
          702.9415996383979,
          533.5815113029824,
          175.04189858675204,
          166.35839715159582,
          342.49030310469453,
          159.93925633544143,
          207.15549406563667,
          500.79659419754216,
          888.2762126393787,
          881.4012862067939,
          872.2783331793868,
          911.7137259060628,
          1941.247874247125,
          1474.7980889083296,
          2028.5478292673763,
          798.4122001361608,
          991.2329560641352,
          492.4221650869184,
          5504.669695528949,
          10281.958780719186,
          3780.128843071002,
          10240.73232644932,
          5617.356189410698,
          3792.776212233339,
          5957.000464089785,
          5297.16908318172,
          8404.031228425323,
          14036.838652156111,
          1076.6990172623198,
          390.7761120866032,
          206.9876615180754,
          582.9730887571076,
          258.8634587355067,
          210.9355906873768,
          357.13388063068635,
          189.24728756170632,
          309.0651376525695,
          750.0587465207058,
          1018.7999178928936,
          752.5615969007656,
          275.0762180640359,
          1022.2540474967324,
          1991.755979924751,
          956.6947332531784,
          1650.1607479174352,
          289.2066502832855,
          694.8243711567867,
          605.0826797474581,
          12550.223221792336,
          6189.569144,
          10461.85341456696,
          12734.009012409486,
          7374.456987983018,
          4211.869571768161,
          13275.780741136909,
          5058.829274780051,
          6972.234645438176,
          11739.81397873667,
          883.5259921,
          639.6307865929342,
          225.66641125104533,
          507.8676481254949,
          322.61925644085017,
          425.17052067300966,
          338.2115849857497,
          157.60270922044933,
          321.71752277463776,
          634.3511257,
          326.9249830913879,
          599.4676965015246,
          871.9291648863186,
          666.3679495164693,
          2092.707802625314,
          771.3812677800057,
          1730.8425263794568,
          1198.2300411359313,
          1003.2160608866616,
          1567.7919455005288,
          16218.594720354302,
          9871.851412780805,
          9517.670688547028,
          3868.383867479241,
          5747.705893646532,
          4659.962775159711,
          13382.22733345896,
          5469.746322,
          5963.806009155948,
          6624.272869865156,
          1744.9273465582085,
          103.39289574583658,
          370.2851163679746,
          292.3311607966336,
          349.7363132,
          439.3658685335501,
          386.98186203897455,
          151.9303305402957,
          267.3821117626926,
          502.4336768242174,
          1033.155453143613,
          531.7056493889854,
          861.4633119165419,
          1210.9098781595944,
          2135.2581534933543,
          735.7064786872193,
          1946.6624374884707,
          955.9641599164376,
          591.0319978186085,
          1079.7283759006582,
          15984.732280583024,
          8899.942770591202,
          3532.4408955271488,
          5493.711232339615,
          4191.842998380429,
          3849.625129374208,
          8850.077960951015,
          3593.6440762812726,
          8969.030110371472,
          10145.695959123086,
          151.9941613202497,
          1018.232341748825,
          277.3658975163647,
          453.8445956350321,
          320.1321717280873,
          293.97846468722423,
          243.2199563277612,
          188.6673095950038,
          214.8720573840411,
          821.4225068239679,
          741.5099193092833,
          252.04544962364912,
          1080.2942670962138,
          641.2621530091802,
          1898.2878519803487,
          402.3678729650195,
          2660.896241586454,
          606.8976058307425,
          957.2018256675468,
          475.33229483415215,
          160346.50118040683,
          89323.89703901627,
          102042.08984329636,
          112235.92529792692,
          19927.053769537048,
          20169.85319477851,
          133705.96028100033,
          102190.87567860076,
          102034.06485638044,
          162399.01626686862,
          4218.799434181842,
          1001.0602099299538,
          1276.713233596067,
          3410.377104366736,
          1225.0094364525005,
          1842.2791119214965,
          1228.27694101031,
          989.9163934448866,
          466.35083863580974,
          3660.287475964593,
          3621.2632743208223,
          3232.2270692776865,
          5162.165358098823,
          5284.0474478465385,
          8402.443975244274,
          4220.211945923549,
          11021.047182561211,
          3858.863409438108,
          1583.2977874398084,
          7758.318962273808,
          115654.3961718994,
          71537.32273,
          101637.23833726504,
          113104.84482874857,
          13164.90257613615,
          19928.784378365384,
          139563.63821492044,
          49101.72407985903,
          151348.33980554453,
          163915.971,
          9316.183424466715,
          2010.6863827918733,
          1917.32697276918,
          3460.967740412941,
          1678.8759136515291,
          1134.0107175143255,
          1222.2133434810005,
          330.8220577117721,
          941.1295611670282,
          2688.213351405353,
          4815.517216229491,
          1269.7664720916775,
          3005.7212454278297,
          6395.4539929626935,
          12031.471467726213,
          6593.719878418758,
          8526.230153484968,
          4014.670926360345,
          1550.4787447412004,
          5145.705457306499,
          53921.95261411322,
          44983.15865591068,
          73522.22673741999,
          91300.28069,
          26844.450236333232,
          13197.833384337877,
          179507.47904902254,
          49976.61109175719,
          50192.16895617153,
          114180.59772857664,
          7963.171511384594,
          3486.4768989206204,
          1259.2933260603832,
          2289.365830558105,
          1423.5780877694751,
          2163.038060553215,
          2054.701877789309,
          975.5538636,
          926.7620780799108,
          3651.0503996325897,
          4363.7469818424825,
          3718.740506260747,
          3779.0781038186055,
          5241.734272029035,
          5337.668867637293,
          3174.5014871982585,
          12884.588620652945,
          3919.972141736311,
          4789.130356183384,
          2621.234062503712,
          93685.35668,
          79578.71723899161,
          44234.2365754026,
          113519.97084857216,
          20220.19047,
          13644.273542693363,
          134677.49634229453,
          99734.67661941088,
          102805.08020289062,
          112873.5678686358,
          8206.772515978988,
          3725.2375423421377,
          3580.858032200957,
          2758.556191693728,
          1453.9414855486305,
          1503.8173701770793,
          1606.3912174605844,
          1342.5498031612467,
          1387.681159597165,
          896.0300512706964,
          3675.3291725801582,
          4010.762813281055,
          2292.574660246102,
          3153.9667073816204,
          12079.304335629024,
          5221.776545304231,
          8760.635405355792,
          2560.73987671177,
          1540.820923986886,
          7656.5203826814195,
          31893.847492151235,
          51771.73054803877,
          73981.84489498199,
          55627.96149930603,
          20553.74846387169,
          20089.14199402569,
          134731.95462498485,
          152667.35835357232,
          101841.78111682455,
          109278.5224545618,
          4937.238338036457,
          1736.758242002847,
          3251.370805873924,
          3066.2799561142974,
          953.4960141626182,
          1481.0357838589753,
          1689.0777152227852,
          669.2209677427195,
          934.5310541718792,
          1843.7671898310148,
          5216.733624669994,
          1239.8323868482305,
          1481.8792927763957,
          5452.096217450047,
          6805.815718374264,
          4296.260566574341,
          8518.414503509375,
          2636.604875592354,
          4711.369720223443,
          2617.268697231013,
          73765.63766486882,
          53145.272207939706,
          59420.16239493776,
          111875.98082874365,
          32494.43329685078,
          13400.5341689899,
          92877.06246,
          151182.48953316535,
          100929.28561644832,
          111477.4519246942,
          3033.042131841642,
          3013.305494506099,
          2573.762102015169,
          788.7957578612923,
          731.3354357209275,
          2215.9382001799736,
          834.6483734095156,
          326.97480055470817,
          897.9782723409796,
          2675.5310373586544,
          4513.0367304487145,
          2500.055840655719,
          4538.701680677719,
          6626.597623283213,
          12435.905838133793,
          3259.073135722598,
          10915.17149333605,
          3959.7466487369934,
          4663.566665629724,
          2492.7371313230574,
          128021.66814052028,
          17666.40097234562,
          102848.55229367832,
          73976.99457130473,
          26691.57862063143,
          20396.06500872164,
          134546.43404201147,
          150648.92786553132,
          151300.0615012888,
          162603.18637944586,
          7199.918061744373,
          2407.045409929025,
          3478.2228061378314,
          4128.775077628416,
          485.317264625452,
          1101.9125850771377,
          809.3516034034661,
          641.5622791362557,
          1894.197009433525,
          2728.100126714365,
          4335.507298761365,
          4941.518699326821,
          5353.503662909104,
          3259.6324013903586,
          5162.258445418729,
          4348.398600205085,
          8582.261221723056,
          3866.499580635997,
          3180.607417029696,
          2545.2063493008195,
          144071.7757958041,
          61585.66335,
          104045.33243364576,
          94676.22391,
          39087.12467331196,
          20455.44076701002,
          133691.7616807722,
          97741.29896,
          104624.09899257618,
          54360.55080507113,
          675.4208515819175,
          2698.119474,
          3462.454860680772,
          744.8334313006553,
          1215.391773911249,
          1522.902916464292,
          1209.622252856127,
          664.3296321,
          1421.1498342290488,
          2753.9390896288605,
          2663.8437139547286,
          3763.443864839087,
          5315.840429021662,
          3138.008441267367,
          10293.039235317046,
          3309.8284631354363,
          10599.95387422571,
          2703.614987,
          4658.242820760697,
          5118.325727539426,
          155761.9778062413,
          62202.65003674302,
          104970.7471005016,
          130557.83332702736,
          33548.77025568237,
          13504.679090048416,
          136485.41909127205,
          97627.3804,
          103066.41821507194,
          56229.60810413372,
          10244.392131976758,
          2944.9414217209123,
          2236.7329253996504,
          1555.5069228067284,
          1860.2460789676156,
          733.6061847678718,
          1662.6605908861504,
          674.1301973275174,
          923.1127786044794,
          910.438158108252,
          5821.861151014532,
          2429.8867723228605,
          3748.82093494288,
          2137.424547555022,
          8702.699592318082,
          4343.286959524311,
          6430.151600746417,
          2593.0676012649656,
          3129.4750622360807,
          2543.0186368749573,
          32286.767247351818,
          53879.955990694856,
          58618.59086739639,
          93041.56777,
          27036.55319379907,
          26594.902452163045,
          90537.59060532048,
          97557.6933741754,
          154937.48547454836,
          112003.42898323276,
          7741.566666129152,
          2739.350060715399,
          3861.6279859406022,
          1564.057632996769,
          738.2609931346509,
          1139.9052905687608,
          1235.5321476371228,
          977.0551105453908,
          936.4755472655212,
          1825.771670519881,
          1854.7378423352957,
          1649.88465521463,
          3793.874932707881,
          4399.846369774223,
          8425.773147888114,
          5230.058469499643,
          10814.234023005574,
          1295.868002893529,
          4692.009452973982,
          5130.067656616578,
          123703.3246326362,
          62049.58286878739,
          90639.39563343403,
          76322.01215475693,
          26005.664433605874,
          19454.43170424513,
          134934.94669153576,
          50796.150488830135,
          154541.08736469384,
          163967.08007046414,
          7199.411288915335,
          497.2942433079036,
          3587.0584003616023,
          2256.418488697017,
          984.9581014,
          733.6416028484042,
          1657.5096968953055,
          640.0607436645586,
          912.8445059343632,
          2796.203405802458,
          4961.723787360621,
          3618.598713793206,
          3627.721666820613,
          4288.286274093937,
          10652.752125752875,
          6325.201911,
          8371.452170732624,
          4001.5877998638393,
          4708.767043935864,
          2607.577834913081,
          42895.33030447105,
          60418.041219280814,
          44519.871156929,
          110359.26767355068,
          26782.643810589303,
          20507.223787766663,
          92242.99953591022,
          48802.83091681828,
          156895.96877157467,
          166263.16134784388,
          4923.300983,
          1709.2238879133968,
          963.0123384819246,
          3137.0269112428923,
          1191.1365412644932,
          1139.0644093126232,
          1642.8661193693138,
          1010.7527124382937,
          1370.9348623474305,
          3645.941253479294,
          4381.200082107106,
          3247.438403099234,
          1524.923781935964,
          4177.745952503268,
          10602.24402007525,
          4243.305266746822,
          8749.839252082566,
          1310.7933497167146,
          3105.1756288432134,
          2494.9173202525417,
          96349.77677820766,
          54410.43085636646,
          102238.14658543305,
          127965.99098759051,
          33125.543012016984,
          20088.13042823184,
          134024.2192588631,
          49041.17072521995,
          103227.76535456182,
          108460.18602126332,
          4716.474007892375,
          3560.3692134070657,
          944.3335887489546,
          2747.1323518745053,
          1707.3807435591498,
          1824.8294793269904,
          1661.7884150142504,
          642.3972907795506,
          1358.2824772253623,
          2662.648874,
          1473.075016908612,
          2400.532303498476,
          4528.070835113682,
          3233.6320504835307,
          8402.292197374685,
          3128.6187322199944,
          8669.157473620544,
          5201.769958864069,
          4696.783939113338,
          7732.208054499471,
          116881.4052796457,
          60828.14859,
          87082.32931145297,
          56431.61613252076,
          26652.294106353467,
          19640.03722484029,
          133917.77266654104,
          102730.2536777516,
          104236.19399084404,
          113575.72713013484,
          9855.072653441792,
          496.6071042541634,
          1579.7148836320252,
          1567.6688392033664,
          1680.2636867744009,
          2260.634131,
          1613.018137961025,
          648.0696694597043,
          1412.6178882373074,
          2794.5663231757826,
          5716.844546856387,
          2968.2943506110146,
          4538.536688083458,
          5289.090121840405,
          10458.741846506646,
          3164.2935213127807,
          8453.337563,
          3844.035840083562,
          3208.9680021813915,
          5120.271624099341,
          141315.26771941697,
          51700.05723,
          60867.55910447285,
          95006.2887676604,
          20108.15700161957,
          20450.37487062579,
          138449.92203904898,
          50506.35592371873,
          156330.96988962853,
          110054.30404087692,
          648.0058386797502,
          4081.767658251175,
          1282.6341024836352,
          1871.155404364968,
          1709.867828271913,
          1506.0215353127758,
          1256.780043672239,
          1011.332690404996,
          905.1279426159588,
          3574.577493176032,
          3758.4900806907167,
          1247.9545503763509,
          5219.705732903786,
          3258.737847,
          10695.712148019653,
          2197.6321270349804,
          12939.103758413548,
          2593.1023941692574,
          4742.7981743324535,
          2624.667705165848
         ],
         "y0": " ",
         "yaxis": "y"
        }
       ],
       "layout": {
        "boxmode": "group",
        "height": 600,
        "legend": {
         "tracegroupgap": 0
        },
        "margin": {
         "t": 60
        },
        "template": {
         "data": {
          "bar": [
           {
            "error_x": {
             "color": "#2a3f5f"
            },
            "error_y": {
             "color": "#2a3f5f"
            },
            "marker": {
             "line": {
              "color": "#E5ECF6",
              "width": 0.5
             },
             "pattern": {
              "fillmode": "overlay",
              "size": 10,
              "solidity": 0.2
             }
            },
            "type": "bar"
           }
          ],
          "barpolar": [
           {
            "marker": {
             "line": {
              "color": "#E5ECF6",
              "width": 0.5
             },
             "pattern": {
              "fillmode": "overlay",
              "size": 10,
              "solidity": 0.2
             }
            },
            "type": "barpolar"
           }
          ],
          "carpet": [
           {
            "aaxis": {
             "endlinecolor": "#2a3f5f",
             "gridcolor": "white",
             "linecolor": "white",
             "minorgridcolor": "white",
             "startlinecolor": "#2a3f5f"
            },
            "baxis": {
             "endlinecolor": "#2a3f5f",
             "gridcolor": "white",
             "linecolor": "white",
             "minorgridcolor": "white",
             "startlinecolor": "#2a3f5f"
            },
            "type": "carpet"
           }
          ],
          "choropleth": [
           {
            "colorbar": {
             "outlinewidth": 0,
             "ticks": ""
            },
            "type": "choropleth"
           }
          ],
          "contour": [
           {
            "colorbar": {
             "outlinewidth": 0,
             "ticks": ""
            },
            "colorscale": [
             [
              0,
              "#0d0887"
             ],
             [
              0.1111111111111111,
              "#46039f"
             ],
             [
              0.2222222222222222,
              "#7201a8"
             ],
             [
              0.3333333333333333,
              "#9c179e"
             ],
             [
              0.4444444444444444,
              "#bd3786"
             ],
             [
              0.5555555555555556,
              "#d8576b"
             ],
             [
              0.6666666666666666,
              "#ed7953"
             ],
             [
              0.7777777777777778,
              "#fb9f3a"
             ],
             [
              0.8888888888888888,
              "#fdca26"
             ],
             [
              1,
              "#f0f921"
             ]
            ],
            "type": "contour"
           }
          ],
          "contourcarpet": [
           {
            "colorbar": {
             "outlinewidth": 0,
             "ticks": ""
            },
            "type": "contourcarpet"
           }
          ],
          "heatmap": [
           {
            "colorbar": {
             "outlinewidth": 0,
             "ticks": ""
            },
            "colorscale": [
             [
              0,
              "#0d0887"
             ],
             [
              0.1111111111111111,
              "#46039f"
             ],
             [
              0.2222222222222222,
              "#7201a8"
             ],
             [
              0.3333333333333333,
              "#9c179e"
             ],
             [
              0.4444444444444444,
              "#bd3786"
             ],
             [
              0.5555555555555556,
              "#d8576b"
             ],
             [
              0.6666666666666666,
              "#ed7953"
             ],
             [
              0.7777777777777778,
              "#fb9f3a"
             ],
             [
              0.8888888888888888,
              "#fdca26"
             ],
             [
              1,
              "#f0f921"
             ]
            ],
            "type": "heatmap"
           }
          ],
          "heatmapgl": [
           {
            "colorbar": {
             "outlinewidth": 0,
             "ticks": ""
            },
            "colorscale": [
             [
              0,
              "#0d0887"
             ],
             [
              0.1111111111111111,
              "#46039f"
             ],
             [
              0.2222222222222222,
              "#7201a8"
             ],
             [
              0.3333333333333333,
              "#9c179e"
             ],
             [
              0.4444444444444444,
              "#bd3786"
             ],
             [
              0.5555555555555556,
              "#d8576b"
             ],
             [
              0.6666666666666666,
              "#ed7953"
             ],
             [
              0.7777777777777778,
              "#fb9f3a"
             ],
             [
              0.8888888888888888,
              "#fdca26"
             ],
             [
              1,
              "#f0f921"
             ]
            ],
            "type": "heatmapgl"
           }
          ],
          "histogram": [
           {
            "marker": {
             "pattern": {
              "fillmode": "overlay",
              "size": 10,
              "solidity": 0.2
             }
            },
            "type": "histogram"
           }
          ],
          "histogram2d": [
           {
            "colorbar": {
             "outlinewidth": 0,
             "ticks": ""
            },
            "colorscale": [
             [
              0,
              "#0d0887"
             ],
             [
              0.1111111111111111,
              "#46039f"
             ],
             [
              0.2222222222222222,
              "#7201a8"
             ],
             [
              0.3333333333333333,
              "#9c179e"
             ],
             [
              0.4444444444444444,
              "#bd3786"
             ],
             [
              0.5555555555555556,
              "#d8576b"
             ],
             [
              0.6666666666666666,
              "#ed7953"
             ],
             [
              0.7777777777777778,
              "#fb9f3a"
             ],
             [
              0.8888888888888888,
              "#fdca26"
             ],
             [
              1,
              "#f0f921"
             ]
            ],
            "type": "histogram2d"
           }
          ],
          "histogram2dcontour": [
           {
            "colorbar": {
             "outlinewidth": 0,
             "ticks": ""
            },
            "colorscale": [
             [
              0,
              "#0d0887"
             ],
             [
              0.1111111111111111,
              "#46039f"
             ],
             [
              0.2222222222222222,
              "#7201a8"
             ],
             [
              0.3333333333333333,
              "#9c179e"
             ],
             [
              0.4444444444444444,
              "#bd3786"
             ],
             [
              0.5555555555555556,
              "#d8576b"
             ],
             [
              0.6666666666666666,
              "#ed7953"
             ],
             [
              0.7777777777777778,
              "#fb9f3a"
             ],
             [
              0.8888888888888888,
              "#fdca26"
             ],
             [
              1,
              "#f0f921"
             ]
            ],
            "type": "histogram2dcontour"
           }
          ],
          "mesh3d": [
           {
            "colorbar": {
             "outlinewidth": 0,
             "ticks": ""
            },
            "type": "mesh3d"
           }
          ],
          "parcoords": [
           {
            "line": {
             "colorbar": {
              "outlinewidth": 0,
              "ticks": ""
             }
            },
            "type": "parcoords"
           }
          ],
          "pie": [
           {
            "automargin": true,
            "type": "pie"
           }
          ],
          "scatter": [
           {
            "fillpattern": {
             "fillmode": "overlay",
             "size": 10,
             "solidity": 0.2
            },
            "type": "scatter"
           }
          ],
          "scatter3d": [
           {
            "line": {
             "colorbar": {
              "outlinewidth": 0,
              "ticks": ""
             }
            },
            "marker": {
             "colorbar": {
              "outlinewidth": 0,
              "ticks": ""
             }
            },
            "type": "scatter3d"
           }
          ],
          "scattercarpet": [
           {
            "marker": {
             "colorbar": {
              "outlinewidth": 0,
              "ticks": ""
             }
            },
            "type": "scattercarpet"
           }
          ],
          "scattergeo": [
           {
            "marker": {
             "colorbar": {
              "outlinewidth": 0,
              "ticks": ""
             }
            },
            "type": "scattergeo"
           }
          ],
          "scattergl": [
           {
            "marker": {
             "colorbar": {
              "outlinewidth": 0,
              "ticks": ""
             }
            },
            "type": "scattergl"
           }
          ],
          "scattermapbox": [
           {
            "marker": {
             "colorbar": {
              "outlinewidth": 0,
              "ticks": ""
             }
            },
            "type": "scattermapbox"
           }
          ],
          "scatterpolar": [
           {
            "marker": {
             "colorbar": {
              "outlinewidth": 0,
              "ticks": ""
             }
            },
            "type": "scatterpolar"
           }
          ],
          "scatterpolargl": [
           {
            "marker": {
             "colorbar": {
              "outlinewidth": 0,
              "ticks": ""
             }
            },
            "type": "scatterpolargl"
           }
          ],
          "scatterternary": [
           {
            "marker": {
             "colorbar": {
              "outlinewidth": 0,
              "ticks": ""
             }
            },
            "type": "scatterternary"
           }
          ],
          "surface": [
           {
            "colorbar": {
             "outlinewidth": 0,
             "ticks": ""
            },
            "colorscale": [
             [
              0,
              "#0d0887"
             ],
             [
              0.1111111111111111,
              "#46039f"
             ],
             [
              0.2222222222222222,
              "#7201a8"
             ],
             [
              0.3333333333333333,
              "#9c179e"
             ],
             [
              0.4444444444444444,
              "#bd3786"
             ],
             [
              0.5555555555555556,
              "#d8576b"
             ],
             [
              0.6666666666666666,
              "#ed7953"
             ],
             [
              0.7777777777777778,
              "#fb9f3a"
             ],
             [
              0.8888888888888888,
              "#fdca26"
             ],
             [
              1,
              "#f0f921"
             ]
            ],
            "type": "surface"
           }
          ],
          "table": [
           {
            "cells": {
             "fill": {
              "color": "#EBF0F8"
             },
             "line": {
              "color": "white"
             }
            },
            "header": {
             "fill": {
              "color": "#C8D4E3"
             },
             "line": {
              "color": "white"
             }
            },
            "type": "table"
           }
          ]
         },
         "layout": {
          "annotationdefaults": {
           "arrowcolor": "#2a3f5f",
           "arrowhead": 0,
           "arrowwidth": 1
          },
          "autotypenumbers": "strict",
          "coloraxis": {
           "colorbar": {
            "outlinewidth": 0,
            "ticks": ""
           }
          },
          "colorscale": {
           "diverging": [
            [
             0,
             "#8e0152"
            ],
            [
             0.1,
             "#c51b7d"
            ],
            [
             0.2,
             "#de77ae"
            ],
            [
             0.3,
             "#f1b6da"
            ],
            [
             0.4,
             "#fde0ef"
            ],
            [
             0.5,
             "#f7f7f7"
            ],
            [
             0.6,
             "#e6f5d0"
            ],
            [
             0.7,
             "#b8e186"
            ],
            [
             0.8,
             "#7fbc41"
            ],
            [
             0.9,
             "#4d9221"
            ],
            [
             1,
             "#276419"
            ]
           ],
           "sequential": [
            [
             0,
             "#0d0887"
            ],
            [
             0.1111111111111111,
             "#46039f"
            ],
            [
             0.2222222222222222,
             "#7201a8"
            ],
            [
             0.3333333333333333,
             "#9c179e"
            ],
            [
             0.4444444444444444,
             "#bd3786"
            ],
            [
             0.5555555555555556,
             "#d8576b"
            ],
            [
             0.6666666666666666,
             "#ed7953"
            ],
            [
             0.7777777777777778,
             "#fb9f3a"
            ],
            [
             0.8888888888888888,
             "#fdca26"
            ],
            [
             1,
             "#f0f921"
            ]
           ],
           "sequentialminus": [
            [
             0,
             "#0d0887"
            ],
            [
             0.1111111111111111,
             "#46039f"
            ],
            [
             0.2222222222222222,
             "#7201a8"
            ],
            [
             0.3333333333333333,
             "#9c179e"
            ],
            [
             0.4444444444444444,
             "#bd3786"
            ],
            [
             0.5555555555555556,
             "#d8576b"
            ],
            [
             0.6666666666666666,
             "#ed7953"
            ],
            [
             0.7777777777777778,
             "#fb9f3a"
            ],
            [
             0.8888888888888888,
             "#fdca26"
            ],
            [
             1,
             "#f0f921"
            ]
           ]
          },
          "colorway": [
           "#636efa",
           "#EF553B",
           "#00cc96",
           "#ab63fa",
           "#FFA15A",
           "#19d3f3",
           "#FF6692",
           "#B6E880",
           "#FF97FF",
           "#FECB52"
          ],
          "font": {
           "color": "#2a3f5f"
          },
          "geo": {
           "bgcolor": "white",
           "lakecolor": "white",
           "landcolor": "#E5ECF6",
           "showlakes": true,
           "showland": true,
           "subunitcolor": "white"
          },
          "hoverlabel": {
           "align": "left"
          },
          "hovermode": "closest",
          "mapbox": {
           "style": "light"
          },
          "paper_bgcolor": "white",
          "plot_bgcolor": "#E5ECF6",
          "polar": {
           "angularaxis": {
            "gridcolor": "white",
            "linecolor": "white",
            "ticks": ""
           },
           "bgcolor": "#E5ECF6",
           "radialaxis": {
            "gridcolor": "white",
            "linecolor": "white",
            "ticks": ""
           }
          },
          "scene": {
           "xaxis": {
            "backgroundcolor": "#E5ECF6",
            "gridcolor": "white",
            "gridwidth": 2,
            "linecolor": "white",
            "showbackground": true,
            "ticks": "",
            "zerolinecolor": "white"
           },
           "yaxis": {
            "backgroundcolor": "#E5ECF6",
            "gridcolor": "white",
            "gridwidth": 2,
            "linecolor": "white",
            "showbackground": true,
            "ticks": "",
            "zerolinecolor": "white"
           },
           "zaxis": {
            "backgroundcolor": "#E5ECF6",
            "gridcolor": "white",
            "gridwidth": 2,
            "linecolor": "white",
            "showbackground": true,
            "ticks": "",
            "zerolinecolor": "white"
           }
          },
          "shapedefaults": {
           "line": {
            "color": "#2a3f5f"
           }
          },
          "ternary": {
           "aaxis": {
            "gridcolor": "white",
            "linecolor": "white",
            "ticks": ""
           },
           "baxis": {
            "gridcolor": "white",
            "linecolor": "white",
            "ticks": ""
           },
           "bgcolor": "#E5ECF6",
           "caxis": {
            "gridcolor": "white",
            "linecolor": "white",
            "ticks": ""
           }
          },
          "title": {
           "x": 0.05
          },
          "xaxis": {
           "automargin": true,
           "gridcolor": "white",
           "linecolor": "white",
           "ticks": "",
           "title": {
            "standoff": 15
           },
           "zerolinecolor": "white",
           "zerolinewidth": 2
          },
          "yaxis": {
           "automargin": true,
           "gridcolor": "white",
           "linecolor": "white",
           "ticks": "",
           "title": {
            "standoff": 15
           },
           "zerolinecolor": "white",
           "zerolinewidth": 2
          }
         }
        },
        "width": 600,
        "xaxis": {
         "anchor": "y",
         "autorange": true,
         "domain": [
          0,
          1
         ],
         "range": [
          -0.5,
          5.5
         ],
         "title": {
          "text": "variable"
         },
         "type": "category"
        },
        "yaxis": {
         "anchor": "x",
         "autorange": true,
         "domain": [
          0,
          1
         ],
         "range": [
          -10910.055555555555,
          207311.05555555556
         ],
         "title": {
          "text": "value"
         },
         "type": "linear"
        }
       }
      },
      "image/png": "[encoded data removed]",
      "text/html": [
       "<div>                            <div id=\"ecd75d04-0bfb-46c5-bd3e-22e8ea1c5c56\" class=\"plotly-graph-div\" style=\"height:600px; width:600px;\"></div>            <script type=\"text/javascript\">                require([\"plotly\"], function(Plotly) {                    window.PLOTLYENV=window.PLOTLYENV || {};                                    if (document.getElementById(\"ecd75d04-0bfb-46c5-bd3e-22e8ea1c5c56\")) {                    Plotly.newPlot(                        \"ecd75d04-0bfb-46c5-bd3e-22e8ea1c5c56\",                        [{\"alignmentgroup\":\"True\",\"hovertemplate\":\"variable=%{x}\\u003cbr\\u003evalue=%{y}\\u003cextra\\u003e\\u003c\\u002fextra\\u003e\",\"legendgroup\":\"\",\"marker\":{\"color\":\"#636efa\"},\"name\":\"\",\"notched\":false,\"offsetgroup\":\"\",\"orientation\":\"v\",\"showlegend\":false,\"x\":[\"Volume\",\"Volume\",\"Volume\",\"Volume\",\"Volume\",\"Volume\",\"Volume\",\"Volume\",\"Volume\",\"Volume\",\"Volume\",\"Volume\",\"Volume\",\"Volume\",\"Volume\",\"Volume\",\"Volume\",\"Volume\",\"Volume\",\"Volume\",\"Volume\",\"Volume\",\"Volume\",\"Volume\",\"Volume\",\"Volume\",\"Volume\",\"Volume\",\"Volume\",\"Volume\",\"Volume\",\"Volume\",\"Volume\",\"Volume\",\"Volume\",\"Volume\",\"Volume\",\"Volume\",\"Volume\",\"Volume\",\"Volume\",\"Volume\",\"Volume\",\"Volume\",\"Volume\",\"Volume\",\"Volume\",\"Volume\",\"Volume\",\"Volume\",\"Volume\",\"Volume\",\"Volume\",\"Volume\",\"Volume\",\"Volume\",\"Volume\",\"Volume\",\"Volume\",\"Volume\",\"Volume\",\"Volume\",\"Volume\",\"Volume\",\"Volume\",\"Volume\",\"Volume\",\"Volume\",\"Volume\",\"Volume\",\"Volume\",\"Volume\",\"Volume\",\"Volume\",\"Volume\",\"Volume\",\"Volume\",\"Volume\",\"Volume\",\"Volume\",\"Volume\",\"Volume\",\"Volume\",\"Volume\",\"Volume\",\"Volume\",\"Volume\",\"Volume\",\"Volume\",\"Volume\",\"Volume\",\"Volume\",\"Volume\",\"Volume\",\"Volume\",\"Volume\",\"Volume\",\"Volume\",\"Volume\",\"Volume\",\"Volume\",\"Volume\",\"Volume\",\"Volume\",\"Volume\",\"Volume\",\"Volume\",\"Volume\",\"Volume\",\"Volume\",\"Volume\",\"Volume\",\"Volume\",\"Volume\",\"Volume\",\"Volume\",\"Volume\",\"Volume\",\"Volume\",\"Volume\",\"Volume\",\"Volume\",\"Volume\",\"Volume\",\"Volume\",\"Volume\",\"Volume\",\"Volume\",\"Volume\",\"Volume\",\"Volume\",\"Volume\",\"Volume\",\"Volume\",\"Volume\",\"Volume\",\"Volume\",\"Volume\",\"Volume\",\"Volume\",\"Volume\",\"Volume\",\"Volume\",\"Volume\",\"Volume\",\"Volume\",\"Volume\",\"Volume\",\"Volume\",\"Volume\",\"Volume\",\"Volume\",\"Volume\",\"Volume\",\"Volume\",\"Volume\",\"Volume\",\"Volume\",\"Volume\",\"Volume\",\"Volume\",\"Volume\",\"Volume\",\"Volume\",\"Volume\",\"Volume\",\"Volume\",\"Volume\",\"Volume\",\"Volume\",\"Volume\",\"Volume\",\"Volume\",\"Volume\",\"Volume\",\"Volume\",\"Volume\",\"Volume\",\"Volume\",\"Volume\",\"Volume\",\"Volume\",\"Volume\",\"Volume\",\"Volume\",\"Volume\",\"Volume\",\"Volume\",\"Volume\",\"Volume\",\"Volume\",\"Volume\",\"Volume\",\"Volume\",\"Volume\",\"Volume\",\"Volume\",\"Volume\",\"Volume\",\"Volume\",\"Volume\",\"Volume\",\"Volume\",\"Volume\",\"Volume\",\"Volume\",\"Volume\",\"Volume\",\"Volume\",\"Volume\",\"Volume\",\"Volume\",\"Volume\",\"Volume\",\"Volume\",\"Volume\",\"Volume\",\"Volume\",\"Volume\",\"Volume\",\"Volume\",\"Volume\",\"Volume\",\"Volume\",\"Volume\",\"Volume\",\"Volume\",\"Volume\",\"Volume\",\"Volume\",\"Volume\",\"Volume\",\"Volume\",\"Volume\",\"Volume\",\"Volume\",\"Volume\",\"Volume\",\"Volume\",\"Volume\",\"Volume\",\"Volume\",\"Volume\",\"Volume\",\"Volume\",\"Volume\",\"Volume\",\"Volume\",\"Volume\",\"Volume\",\"Volume\",\"Volume\",\"Volume\",\"Volume\",\"Volume\",\"Volume\",\"Volume\",\"Volume\",\"Volume\",\"Volume\",\"Volume\",\"Volume\",\"Volume\",\"Volume\",\"Volume\",\"Volume\",\"Volume\",\"Volume\",\"Volume\",\"Volume\",\"Volume\",\"Volume\",\"Volume\",\"Volume\",\"Volume\",\"Volume\",\"Volume\",\"Volume\",\"Volume\",\"Volume\",\"Volume\",\"Volume\",\"Volume\",\"Volume\",\"Volume\",\"Volume\",\"Volume\",\"Volume\",\"Volume\",\"Volume\",\"Volume\",\"Volume\",\"Volume\",\"Volume\",\"Volume\",\"Volume\",\"Volume\",\"Volume\",\"Volume\",\"Volume\",\"Volume\",\"Volume\",\"Volume\",\"Volume\",\"Volume\",\"Volume\",\"Volume\",\"Volume\",\"Volume\",\"Volume\",\"Volume\",\"Volume\",\"Volume\",\"Volume\",\"Volume\",\"Volume\",\"Volume\",\"Volume\",\"Volume\",\"Volume\",\"Volume\",\"Volume\",\"Volume\",\"Volume\",\"Volume\",\"Volume\",\"Volume\",\"Volume\",\"Volume\",\"Volume\",\"Volume\",\"Volume\",\"Volume\",\"Volume\",\"Volume\",\"Volume\",\"Volume\",\"Volume\",\"Volume\",\"Volume\",\"Volume\",\"Volume\",\"Volume\",\"Volume\",\"Volume\",\"Volume\",\"Volume\",\"Volume\",\"Volume\",\"Volume\",\"Volume\",\"Volume\",\"Volume\",\"Volume\",\"Volume\",\"Volume\",\"Volume\",\"Volume\",\"Volume\",\"Volume\",\"Volume\",\"Volume\",\"Volume\",\"Volume\",\"Volume\",\"Volume\",\"Volume\",\"Volume\",\"Volume\",\"Volume\",\"Volume\",\"Volume\",\"Volume\",\"Volume\",\"Volume\",\"Volume\",\"Volume\",\"Volume\",\"Volume\",\"Volume\",\"Volume\",\"Volume\",\"Volume\",\"Volume\",\"Volume\",\"Volume\",\"Volume\",\"Volume\",\"Volume\",\"Volume\",\"Volume\",\"Volume\",\"Volume\",\"Volume\",\"Volume\",\"Volume\",\"Volume\",\"Volume\",\"Volume\",\"Volume\",\"Volume\",\"Volume\",\"Volume\",\"Volume\",\"Volume\",\"Volume\",\"Volume\",\"Volume\",\"Volume\",\"Volume\",\"Volume\",\"Volume\",\"Volume\",\"Volume\",\"Volume\",\"Volume\",\"Volume\",\"Volume\",\"Volume\",\"Volume\",\"Volume\",\"Volume\",\"Volume\",\"Volume\",\"Volume\",\"Volume\",\"Volume\",\"Volume\",\"Volume\",\"Volume\",\"Volume\",\"Volume\",\"Volume\",\"Volume\",\"Volume\",\"Volume\",\"Volume\",\"Volume\",\"Volume\",\"Volume\",\"Volume\",\"Volume\",\"Volume\",\"Volume\",\"Volume\",\"Volume\",\"Volume\",\"Volume\",\"Volume\",\"Volume\",\"Avg Price\",\"Avg Price\",\"Avg Price\",\"Avg Price\",\"Avg Price\",\"Avg Price\",\"Avg Price\",\"Avg Price\",\"Avg Price\",\"Avg Price\",\"Avg Price\",\"Avg Price\",\"Avg Price\",\"Avg Price\",\"Avg Price\",\"Avg Price\",\"Avg Price\",\"Avg Price\",\"Avg Price\",\"Avg Price\",\"Avg Price\",\"Avg Price\",\"Avg Price\",\"Avg Price\",\"Avg Price\",\"Avg Price\",\"Avg Price\",\"Avg Price\",\"Avg Price\",\"Avg Price\",\"Avg Price\",\"Avg Price\",\"Avg Price\",\"Avg Price\",\"Avg Price\",\"Avg Price\",\"Avg Price\",\"Avg Price\",\"Avg Price\",\"Avg Price\",\"Avg Price\",\"Avg Price\",\"Avg Price\",\"Avg Price\",\"Avg Price\",\"Avg Price\",\"Avg Price\",\"Avg Price\",\"Avg Price\",\"Avg Price\",\"Avg Price\",\"Avg Price\",\"Avg Price\",\"Avg Price\",\"Avg Price\",\"Avg Price\",\"Avg Price\",\"Avg Price\",\"Avg Price\",\"Avg Price\",\"Avg Price\",\"Avg Price\",\"Avg Price\",\"Avg Price\",\"Avg Price\",\"Avg Price\",\"Avg Price\",\"Avg Price\",\"Avg Price\",\"Avg Price\",\"Avg Price\",\"Avg Price\",\"Avg Price\",\"Avg Price\",\"Avg Price\",\"Avg Price\",\"Avg Price\",\"Avg Price\",\"Avg Price\",\"Avg Price\",\"Avg Price\",\"Avg Price\",\"Avg Price\",\"Avg Price\",\"Avg Price\",\"Avg Price\",\"Avg Price\",\"Avg Price\",\"Avg Price\",\"Avg Price\",\"Avg Price\",\"Avg Price\",\"Avg Price\",\"Avg Price\",\"Avg Price\",\"Avg Price\",\"Avg Price\",\"Avg Price\",\"Avg Price\",\"Avg Price\",\"Avg Price\",\"Avg Price\",\"Avg Price\",\"Avg Price\",\"Avg Price\",\"Avg Price\",\"Avg Price\",\"Avg Price\",\"Avg Price\",\"Avg Price\",\"Avg Price\",\"Avg Price\",\"Avg Price\",\"Avg Price\",\"Avg Price\",\"Avg Price\",\"Avg Price\",\"Avg Price\",\"Avg Price\",\"Avg Price\",\"Avg Price\",\"Avg Price\",\"Avg Price\",\"Avg Price\",\"Avg Price\",\"Avg Price\",\"Avg Price\",\"Avg Price\",\"Avg Price\",\"Avg Price\",\"Avg Price\",\"Avg Price\",\"Avg Price\",\"Avg Price\",\"Avg Price\",\"Avg Price\",\"Avg Price\",\"Avg Price\",\"Avg Price\",\"Avg Price\",\"Avg Price\",\"Avg Price\",\"Avg Price\",\"Avg Price\",\"Avg Price\",\"Avg Price\",\"Avg Price\",\"Avg Price\",\"Avg Price\",\"Avg Price\",\"Avg Price\",\"Avg Price\",\"Avg Price\",\"Avg Price\",\"Avg Price\",\"Avg Price\",\"Avg Price\",\"Avg Price\",\"Avg Price\",\"Avg Price\",\"Avg Price\",\"Avg Price\",\"Avg Price\",\"Avg Price\",\"Avg Price\",\"Avg Price\",\"Avg Price\",\"Avg Price\",\"Avg Price\",\"Avg Price\",\"Avg Price\",\"Avg Price\",\"Avg Price\",\"Avg Price\",\"Avg Price\",\"Avg Price\",\"Avg Price\",\"Avg Price\",\"Avg Price\",\"Avg Price\",\"Avg Price\",\"Avg Price\",\"Avg Price\",\"Avg Price\",\"Avg Price\",\"Avg Price\",\"Avg Price\",\"Avg Price\",\"Avg Price\",\"Avg Price\",\"Avg Price\",\"Avg Price\",\"Avg Price\",\"Avg Price\",\"Avg Price\",\"Avg Price\",\"Avg Price\",\"Avg Price\",\"Avg Price\",\"Avg Price\",\"Avg Price\",\"Avg Price\",\"Avg Price\",\"Avg Price\",\"Avg Price\",\"Avg Price\",\"Avg Price\",\"Avg Price\",\"Avg Price\",\"Avg Price\",\"Avg Price\",\"Avg Price\",\"Avg Price\",\"Avg Price\",\"Avg Price\",\"Avg Price\",\"Avg Price\",\"Avg Price\",\"Avg Price\",\"Avg Price\",\"Avg Price\",\"Avg Price\",\"Avg Price\",\"Avg Price\",\"Avg Price\",\"Avg Price\",\"Avg Price\",\"Avg Price\",\"Avg Price\",\"Avg Price\",\"Avg Price\",\"Avg Price\",\"Avg Price\",\"Avg Price\",\"Avg Price\",\"Avg Price\",\"Avg Price\",\"Avg Price\",\"Avg Price\",\"Avg Price\",\"Avg Price\",\"Avg Price\",\"Avg Price\",\"Avg Price\",\"Avg Price\",\"Avg Price\",\"Avg Price\",\"Avg Price\",\"Avg Price\",\"Avg Price\",\"Avg Price\",\"Avg Price\",\"Avg Price\",\"Avg Price\",\"Avg Price\",\"Avg Price\",\"Avg Price\",\"Avg Price\",\"Avg Price\",\"Avg Price\",\"Avg Price\",\"Avg Price\",\"Avg Price\",\"Avg Price\",\"Avg Price\",\"Avg Price\",\"Avg Price\",\"Avg Price\",\"Avg Price\",\"Avg Price\",\"Avg Price\",\"Avg Price\",\"Avg Price\",\"Avg Price\",\"Avg Price\",\"Avg Price\",\"Avg Price\",\"Avg Price\",\"Avg Price\",\"Avg Price\",\"Avg Price\",\"Avg Price\",\"Avg Price\",\"Avg Price\",\"Avg Price\",\"Avg Price\",\"Avg Price\",\"Avg Price\",\"Avg Price\",\"Avg Price\",\"Avg Price\",\"Avg Price\",\"Avg Price\",\"Avg Price\",\"Avg Price\",\"Avg Price\",\"Avg Price\",\"Avg Price\",\"Avg Price\",\"Avg Price\",\"Avg Price\",\"Avg Price\",\"Avg Price\",\"Avg Price\",\"Avg Price\",\"Avg Price\",\"Avg Price\",\"Avg Price\",\"Avg Price\",\"Avg Price\",\"Avg Price\",\"Avg Price\",\"Avg Price\",\"Avg Price\",\"Avg Price\",\"Avg Price\",\"Avg Price\",\"Avg Price\",\"Avg Price\",\"Avg Price\",\"Avg Price\",\"Avg Price\",\"Avg Price\",\"Avg Price\",\"Avg Price\",\"Avg Price\",\"Avg Price\",\"Avg Price\",\"Avg Price\",\"Avg Price\",\"Avg Price\",\"Avg Price\",\"Avg Price\",\"Avg Price\",\"Avg Price\",\"Avg Price\",\"Avg Price\",\"Avg Price\",\"Avg Price\",\"Avg Price\",\"Avg Price\",\"Avg Price\",\"Avg Price\",\"Avg Price\",\"Avg Price\",\"Avg Price\",\"Avg Price\",\"Avg Price\",\"Avg Price\",\"Avg Price\",\"Avg Price\",\"Avg Price\",\"Avg Price\",\"Avg Price\",\"Avg Price\",\"Avg Price\",\"Avg Price\",\"Avg Price\",\"Avg Price\",\"Avg Price\",\"Avg Price\",\"Avg Price\",\"Avg Price\",\"Avg Price\",\"Avg Price\",\"Avg Price\",\"Avg Price\",\"Avg Price\",\"Avg Price\",\"Avg Price\",\"Avg Price\",\"Avg Price\",\"Avg Price\",\"Avg Price\",\"Avg Price\",\"Avg Price\",\"Avg Price\",\"Avg Price\",\"Avg Price\",\"Avg Price\",\"Avg Price\",\"Avg Price\",\"Avg Price\",\"Avg Price\",\"Avg Price\",\"Avg Price\",\"Avg Price\",\"Avg Price\",\"Avg Price\",\"Avg Price\",\"Avg Price\",\"Avg Price\",\"Avg Price\",\"Avg Price\",\"Avg Price\",\"Avg Price\",\"Avg Price\",\"Avg Price\",\"Avg Price\",\"Avg Price\",\"Avg Price\",\"Avg Price\",\"Avg Price\",\"Avg Price\",\"Avg Price\",\"Avg Price\",\"Avg Price\",\"Avg Price\",\"Avg Price\",\"Avg Price\",\"Avg Price\",\"Avg Price\",\"Avg Price\",\"Avg Price\",\"Avg Price\",\"Avg Price\",\"Avg Price\",\"Avg Price\",\"Avg Price\",\"Avg Price\",\"Avg Price\",\"Avg Price\",\"Avg Price\",\"Avg Price\",\"Avg Price\",\"Avg Price\",\"Avg Price\",\"Avg Price\",\"Avg Price\",\"Avg Price\",\"Avg Price\",\"Avg Price\",\"Avg Price\",\"Avg Price\",\"Avg Price\",\"Avg Price\",\"Avg Price\",\"Avg Price\",\"Avg Price\",\"Avg Price\",\"Avg Price\",\"Avg Price\",\"Avg Price\",\"Avg Price\",\"Avg Price\",\"Avg Price\",\"Avg Price\",\"Avg Price\",\"Avg Price\",\"Avg Price\",\"Total Sales Value\",\"Total Sales Value\",\"Total Sales Value\",\"Total Sales Value\",\"Total Sales Value\",\"Total Sales Value\",\"Total Sales Value\",\"Total Sales Value\",\"Total Sales Value\",\"Total Sales Value\",\"Total Sales Value\",\"Total Sales Value\",\"Total Sales Value\",\"Total Sales Value\",\"Total Sales Value\",\"Total Sales Value\",\"Total Sales Value\",\"Total Sales Value\",\"Total Sales Value\",\"Total Sales Value\",\"Total Sales Value\",\"Total Sales Value\",\"Total Sales Value\",\"Total Sales Value\",\"Total Sales Value\",\"Total Sales Value\",\"Total Sales Value\",\"Total Sales Value\",\"Total Sales Value\",\"Total Sales Value\",\"Total Sales Value\",\"Total Sales Value\",\"Total Sales Value\",\"Total Sales Value\",\"Total Sales Value\",\"Total Sales Value\",\"Total Sales Value\",\"Total Sales Value\",\"Total Sales Value\",\"Total Sales Value\",\"Total Sales Value\",\"Total Sales Value\",\"Total Sales Value\",\"Total Sales Value\",\"Total Sales Value\",\"Total Sales Value\",\"Total Sales Value\",\"Total Sales Value\",\"Total Sales Value\",\"Total Sales Value\",\"Total Sales Value\",\"Total Sales Value\",\"Total Sales Value\",\"Total Sales Value\",\"Total Sales Value\",\"Total Sales Value\",\"Total Sales Value\",\"Total Sales Value\",\"Total Sales Value\",\"Total Sales Value\",\"Total Sales Value\",\"Total Sales Value\",\"Total Sales Value\",\"Total Sales Value\",\"Total Sales Value\",\"Total Sales Value\",\"Total Sales Value\",\"Total Sales Value\",\"Total Sales Value\",\"Total Sales Value\",\"Total Sales Value\",\"Total Sales Value\",\"Total Sales Value\",\"Total Sales Value\",\"Total Sales Value\",\"Total Sales Value\",\"Total Sales Value\",\"Total Sales Value\",\"Total Sales Value\",\"Total Sales Value\",\"Total Sales Value\",\"Total Sales Value\",\"Total Sales Value\",\"Total Sales Value\",\"Total Sales Value\",\"Total Sales Value\",\"Total Sales Value\",\"Total Sales Value\",\"Total Sales Value\",\"Total Sales Value\",\"Total Sales Value\",\"Total Sales Value\",\"Total Sales Value\",\"Total Sales Value\",\"Total Sales Value\",\"Total Sales Value\",\"Total Sales Value\",\"Total Sales Value\",\"Total Sales Value\",\"Total Sales Value\",\"Total Sales Value\",\"Total Sales Value\",\"Total Sales Value\",\"Total Sales Value\",\"Total Sales Value\",\"Total Sales Value\",\"Total Sales Value\",\"Total Sales Value\",\"Total Sales Value\",\"Total Sales Value\",\"Total Sales Value\",\"Total Sales Value\",\"Total Sales Value\",\"Total Sales Value\",\"Total Sales Value\",\"Total Sales Value\",\"Total Sales Value\",\"Total Sales Value\",\"Total Sales Value\",\"Total Sales Value\",\"Total Sales Value\",\"Total Sales Value\",\"Total Sales Value\",\"Total Sales Value\",\"Total Sales Value\",\"Total Sales Value\",\"Total Sales Value\",\"Total Sales Value\",\"Total Sales Value\",\"Total Sales Value\",\"Total Sales Value\",\"Total Sales Value\",\"Total Sales Value\",\"Total Sales Value\",\"Total Sales Value\",\"Total Sales Value\",\"Total Sales Value\",\"Total Sales Value\",\"Total Sales Value\",\"Total Sales Value\",\"Total Sales Value\",\"Total Sales Value\",\"Total Sales Value\",\"Total Sales Value\",\"Total Sales Value\",\"Total Sales Value\",\"Total Sales Value\",\"Total Sales Value\",\"Total Sales Value\",\"Total Sales Value\",\"Total Sales Value\",\"Total Sales Value\",\"Total Sales Value\",\"Total Sales Value\",\"Total Sales Value\",\"Total Sales Value\",\"Total Sales Value\",\"Total Sales Value\",\"Total Sales Value\",\"Total Sales Value\",\"Total Sales Value\",\"Total Sales Value\",\"Total Sales Value\",\"Total Sales Value\",\"Total Sales Value\",\"Total Sales Value\",\"Total Sales Value\",\"Total Sales Value\",\"Total Sales Value\",\"Total Sales Value\",\"Total Sales Value\",\"Total Sales Value\",\"Total Sales Value\",\"Total Sales Value\",\"Total Sales Value\",\"Total Sales Value\",\"Total Sales Value\",\"Total Sales Value\",\"Total Sales Value\",\"Total Sales Value\",\"Total Sales Value\",\"Total Sales Value\",\"Total Sales Value\",\"Total Sales Value\",\"Total Sales Value\",\"Total Sales Value\",\"Total Sales Value\",\"Total Sales Value\",\"Total Sales Value\",\"Total Sales Value\",\"Total Sales Value\",\"Total Sales Value\",\"Total Sales Value\",\"Total Sales Value\",\"Total Sales Value\",\"Total Sales Value\",\"Total Sales Value\",\"Total Sales Value\",\"Total Sales Value\",\"Total Sales Value\",\"Total Sales Value\",\"Total Sales Value\",\"Total Sales Value\",\"Total Sales Value\",\"Total Sales Value\",\"Total Sales Value\",\"Total Sales Value\",\"Total Sales Value\",\"Total Sales Value\",\"Total Sales Value\",\"Total Sales Value\",\"Total Sales Value\",\"Total Sales Value\",\"Total Sales Value\",\"Total Sales Value\",\"Total Sales Value\",\"Total Sales Value\",\"Total Sales Value\",\"Total Sales Value\",\"Total Sales Value\",\"Total Sales Value\",\"Total Sales Value\",\"Total Sales Value\",\"Total Sales Value\",\"Total Sales Value\",\"Total Sales Value\",\"Total Sales Value\",\"Total Sales Value\",\"Total Sales Value\",\"Total Sales Value\",\"Total Sales Value\",\"Total Sales Value\",\"Total Sales Value\",\"Total Sales Value\",\"Total Sales Value\",\"Total Sales Value\",\"Total Sales Value\",\"Total Sales Value\",\"Total Sales Value\",\"Total Sales Value\",\"Total Sales Value\",\"Total Sales Value\",\"Total Sales Value\",\"Total Sales Value\",\"Total Sales Value\",\"Total Sales Value\",\"Total Sales Value\",\"Total Sales Value\",\"Total Sales Value\",\"Total Sales Value\",\"Total Sales Value\",\"Total Sales Value\",\"Total Sales Value\",\"Total Sales Value\",\"Total Sales Value\",\"Total Sales Value\",\"Total Sales Value\",\"Total Sales Value\",\"Total Sales Value\",\"Total Sales Value\",\"Total Sales Value\",\"Total Sales Value\",\"Total Sales Value\",\"Total Sales Value\",\"Total Sales Value\",\"Total Sales Value\",\"Total Sales Value\",\"Total Sales Value\",\"Total Sales Value\",\"Total Sales Value\",\"Total Sales Value\",\"Total Sales Value\",\"Total Sales Value\",\"Total Sales Value\",\"Total Sales Value\",\"Total Sales Value\",\"Total Sales Value\",\"Total Sales Value\",\"Total Sales Value\",\"Total Sales Value\",\"Total Sales Value\",\"Total Sales Value\",\"Total Sales Value\",\"Total Sales Value\",\"Total Sales Value\",\"Total Sales Value\",\"Total Sales Value\",\"Total Sales Value\",\"Total Sales Value\",\"Total Sales Value\",\"Total Sales Value\",\"Total Sales Value\",\"Total Sales Value\",\"Total Sales Value\",\"Total Sales Value\",\"Total Sales Value\",\"Total Sales Value\",\"Total Sales Value\",\"Total Sales Value\",\"Total Sales Value\",\"Total Sales Value\",\"Total Sales Value\",\"Total Sales Value\",\"Total Sales Value\",\"Total Sales Value\",\"Total Sales Value\",\"Total Sales Value\",\"Total Sales Value\",\"Total Sales Value\",\"Total Sales Value\",\"Total Sales Value\",\"Total Sales Value\",\"Total Sales Value\",\"Total Sales Value\",\"Total Sales Value\",\"Total Sales Value\",\"Total Sales Value\",\"Total Sales Value\",\"Total Sales Value\",\"Total Sales Value\",\"Total Sales Value\",\"Total Sales Value\",\"Total Sales Value\",\"Total Sales Value\",\"Total Sales Value\",\"Total Sales Value\",\"Total Sales Value\",\"Total Sales Value\",\"Total Sales Value\",\"Total Sales Value\",\"Total Sales Value\",\"Total Sales Value\",\"Total Sales Value\",\"Total Sales Value\",\"Total Sales Value\",\"Total Sales Value\",\"Total Sales Value\",\"Total Sales Value\",\"Total Sales Value\",\"Total Sales Value\",\"Total Sales Value\",\"Total Sales Value\",\"Total Sales Value\",\"Total Sales Value\",\"Total Sales Value\",\"Total Sales Value\",\"Total Sales Value\",\"Total Sales Value\",\"Total Sales Value\",\"Total Sales Value\",\"Total Sales Value\",\"Total Sales Value\",\"Total Sales Value\",\"Total Sales Value\",\"Total Sales Value\",\"Total Sales Value\",\"Total Sales Value\",\"Total Sales Value\",\"Total Sales Value\",\"Total Sales Value\",\"Total Sales Value\",\"Total Sales Value\",\"Total Sales Value\",\"Total Sales Value\",\"Total Sales Value\",\"Total Sales Value\",\"Total Sales Value\",\"Total Sales Value\",\"Total Sales Value\",\"Total Sales Value\",\"Total Sales Value\",\"Total Sales Value\",\"Total Sales Value\",\"Total Sales Value\",\"Total Sales Value\",\"Total Sales Value\",\"Total Sales Value\",\"Total Sales Value\",\"Total Sales Value\",\"Total Sales Value\",\"Total Sales Value\",\"Total Sales Value\",\"Total Sales Value\",\"Total Sales Value\",\"Total Sales Value\",\"Total Sales Value\",\"Total Sales Value\",\"Total Sales Value\",\"Total Sales Value\",\"Total Sales Value\",\"Total Sales Value\",\"Total Sales Value\",\"Total Sales Value\",\"Total Sales Value\",\"Total Sales Value\",\"Total Sales Value\",\"Total Sales Value\",\"Total Sales Value\",\"Total Sales Value\",\"Total Sales Value\",\"Total Sales Value\",\"Total Sales Value\",\"Total Sales Value\",\"Total Sales Value\",\"Total Sales Value\",\"Total Sales Value\",\"Total Sales Value\",\"Total Sales Value\",\"Total Sales Value\",\"Total Sales Value\",\"Total Sales Value\",\"Total Sales Value\",\"Total Sales Value\",\"Total Sales Value\",\"Total Sales Value\",\"Total Sales Value\",\"Total Sales Value\",\"Total Sales Value\",\"Total Sales Value\",\"Total Sales Value\",\"Total Sales Value\",\"Total Sales Value\",\"Total Sales Value\",\"Total Sales Value\",\"Total Sales Value\",\"Total Sales Value\",\"Total Sales Value\",\"Total Sales Value\",\"Total Sales Value\",\"Total Sales Value\",\"Total Sales Value\",\"Total Sales Value\",\"Total Sales Value\",\"Total Sales Value\",\"Total Sales Value\",\"Total Sales Value\",\"Total Sales Value\",\"Total Sales Value\",\"Total Sales Value\",\"Total Sales Value\",\"Total Sales Value\",\"Total Sales Value\",\"Total Sales Value\",\"Total Sales Value\",\"Total Sales Value\",\"Total Sales Value\",\"Total Sales Value\",\"Total Sales Value\",\"Total Sales Value\",\"Total Sales Value\",\"Discount Rate (%)\",\"Discount Rate (%)\",\"Discount Rate (%)\",\"Discount Rate (%)\",\"Discount Rate (%)\",\"Discount Rate (%)\",\"Discount Rate (%)\",\"Discount Rate (%)\",\"Discount Rate (%)\",\"Discount Rate (%)\",\"Discount Rate (%)\",\"Discount Rate (%)\",\"Discount Rate (%)\",\"Discount Rate (%)\",\"Discount Rate (%)\",\"Discount Rate (%)\",\"Discount Rate (%)\",\"Discount Rate (%)\",\"Discount Rate (%)\",\"Discount Rate (%)\",\"Discount Rate (%)\",\"Discount Rate (%)\",\"Discount Rate (%)\",\"Discount Rate (%)\",\"Discount Rate (%)\",\"Discount Rate (%)\",\"Discount Rate (%)\",\"Discount Rate (%)\",\"Discount Rate (%)\",\"Discount Rate (%)\",\"Discount Rate (%)\",\"Discount Rate (%)\",\"Discount Rate (%)\",\"Discount Rate (%)\",\"Discount Rate (%)\",\"Discount Rate (%)\",\"Discount Rate (%)\",\"Discount Rate (%)\",\"Discount Rate (%)\",\"Discount Rate (%)\",\"Discount Rate (%)\",\"Discount Rate (%)\",\"Discount Rate (%)\",\"Discount Rate (%)\",\"Discount Rate (%)\",\"Discount Rate (%)\",\"Discount Rate (%)\",\"Discount Rate (%)\",\"Discount Rate (%)\",\"Discount Rate (%)\",\"Discount Rate (%)\",\"Discount Rate (%)\",\"Discount Rate (%)\",\"Discount Rate (%)\",\"Discount Rate (%)\",\"Discount Rate (%)\",\"Discount Rate (%)\",\"Discount Rate (%)\",\"Discount Rate (%)\",\"Discount Rate (%)\",\"Discount Rate (%)\",\"Discount Rate (%)\",\"Discount Rate (%)\",\"Discount Rate (%)\",\"Discount Rate (%)\",\"Discount Rate (%)\",\"Discount Rate (%)\",\"Discount Rate (%)\",\"Discount Rate (%)\",\"Discount Rate (%)\",\"Discount Rate (%)\",\"Discount Rate (%)\",\"Discount Rate (%)\",\"Discount Rate (%)\",\"Discount Rate (%)\",\"Discount Rate (%)\",\"Discount Rate (%)\",\"Discount Rate (%)\",\"Discount Rate (%)\",\"Discount Rate (%)\",\"Discount Rate (%)\",\"Discount Rate (%)\",\"Discount Rate (%)\",\"Discount Rate (%)\",\"Discount Rate (%)\",\"Discount Rate (%)\",\"Discount Rate (%)\",\"Discount Rate (%)\",\"Discount Rate (%)\",\"Discount Rate (%)\",\"Discount Rate (%)\",\"Discount Rate (%)\",\"Discount Rate (%)\",\"Discount Rate (%)\",\"Discount Rate (%)\",\"Discount Rate (%)\",\"Discount Rate (%)\",\"Discount Rate (%)\",\"Discount Rate (%)\",\"Discount Rate (%)\",\"Discount Rate (%)\",\"Discount Rate (%)\",\"Discount Rate (%)\",\"Discount Rate (%)\",\"Discount Rate (%)\",\"Discount Rate (%)\",\"Discount Rate (%)\",\"Discount Rate (%)\",\"Discount Rate (%)\",\"Discount Rate (%)\",\"Discount Rate (%)\",\"Discount Rate (%)\",\"Discount Rate (%)\",\"Discount Rate (%)\",\"Discount Rate (%)\",\"Discount Rate (%)\",\"Discount Rate (%)\",\"Discount Rate (%)\",\"Discount Rate (%)\",\"Discount Rate (%)\",\"Discount Rate (%)\",\"Discount Rate (%)\",\"Discount Rate (%)\",\"Discount Rate (%)\",\"Discount Rate (%)\",\"Discount Rate (%)\",\"Discount Rate (%)\",\"Discount Rate (%)\",\"Discount Rate (%)\",\"Discount Rate (%)\",\"Discount Rate (%)\",\"Discount Rate (%)\",\"Discount Rate (%)\",\"Discount Rate (%)\",\"Discount Rate (%)\",\"Discount Rate (%)\",\"Discount Rate (%)\",\"Discount Rate (%)\",\"Discount Rate (%)\",\"Discount Rate (%)\",\"Discount Rate (%)\",\"Discount Rate (%)\",\"Discount Rate (%)\",\"Discount Rate (%)\",\"Discount Rate (%)\",\"Discount Rate (%)\",\"Discount Rate (%)\",\"Discount Rate (%)\",\"Discount Rate (%)\",\"Discount Rate (%)\",\"Discount Rate (%)\",\"Discount Rate (%)\",\"Discount Rate (%)\",\"Discount Rate (%)\",\"Discount Rate (%)\",\"Discount Rate (%)\",\"Discount Rate (%)\",\"Discount Rate (%)\",\"Discount Rate (%)\",\"Discount Rate (%)\",\"Discount Rate (%)\",\"Discount Rate (%)\",\"Discount Rate (%)\",\"Discount Rate (%)\",\"Discount Rate (%)\",\"Discount Rate (%)\",\"Discount Rate (%)\",\"Discount Rate (%)\",\"Discount Rate (%)\",\"Discount Rate (%)\",\"Discount Rate (%)\",\"Discount Rate (%)\",\"Discount Rate (%)\",\"Discount Rate (%)\",\"Discount Rate (%)\",\"Discount Rate (%)\",\"Discount Rate (%)\",\"Discount Rate (%)\",\"Discount Rate (%)\",\"Discount Rate (%)\",\"Discount Rate (%)\",\"Discount Rate (%)\",\"Discount Rate (%)\",\"Discount Rate (%)\",\"Discount Rate (%)\",\"Discount Rate (%)\",\"Discount Rate (%)\",\"Discount Rate (%)\",\"Discount Rate (%)\",\"Discount Rate (%)\",\"Discount Rate (%)\",\"Discount Rate (%)\",\"Discount Rate (%)\",\"Discount Rate (%)\",\"Discount Rate (%)\",\"Discount Rate (%)\",\"Discount Rate (%)\",\"Discount Rate (%)\",\"Discount Rate (%)\",\"Discount Rate (%)\",\"Discount Rate (%)\",\"Discount Rate (%)\",\"Discount Rate (%)\",\"Discount Rate (%)\",\"Discount Rate (%)\",\"Discount Rate (%)\",\"Discount Rate (%)\",\"Discount Rate (%)\",\"Discount Rate (%)\",\"Discount Rate (%)\",\"Discount Rate (%)\",\"Discount Rate (%)\",\"Discount Rate (%)\",\"Discount Rate (%)\",\"Discount Rate (%)\",\"Discount Rate (%)\",\"Discount Rate (%)\",\"Discount Rate (%)\",\"Discount Rate (%)\",\"Discount Rate (%)\",\"Discount Rate (%)\",\"Discount Rate (%)\",\"Discount Rate (%)\",\"Discount Rate (%)\",\"Discount Rate (%)\",\"Discount Rate (%)\",\"Discount Rate (%)\",\"Discount Rate (%)\",\"Discount Rate (%)\",\"Discount Rate (%)\",\"Discount Rate (%)\",\"Discount Rate (%)\",\"Discount Rate (%)\",\"Discount Rate (%)\",\"Discount Rate (%)\",\"Discount Rate (%)\",\"Discount Rate (%)\",\"Discount Rate (%)\",\"Discount Rate (%)\",\"Discount Rate (%)\",\"Discount Rate (%)\",\"Discount Rate (%)\",\"Discount Rate (%)\",\"Discount Rate (%)\",\"Discount Rate (%)\",\"Discount Rate (%)\",\"Discount Rate (%)\",\"Discount Rate (%)\",\"Discount Rate (%)\",\"Discount Rate (%)\",\"Discount Rate (%)\",\"Discount Rate (%)\",\"Discount Rate (%)\",\"Discount Rate (%)\",\"Discount Rate (%)\",\"Discount Rate (%)\",\"Discount Rate (%)\",\"Discount Rate (%)\",\"Discount Rate (%)\",\"Discount Rate (%)\",\"Discount Rate (%)\",\"Discount Rate (%)\",\"Discount Rate (%)\",\"Discount Rate (%)\",\"Discount Rate (%)\",\"Discount Rate (%)\",\"Discount Rate (%)\",\"Discount Rate (%)\",\"Discount Rate (%)\",\"Discount Rate (%)\",\"Discount Rate (%)\",\"Discount Rate (%)\",\"Discount Rate (%)\",\"Discount Rate (%)\",\"Discount Rate (%)\",\"Discount Rate (%)\",\"Discount Rate (%)\",\"Discount Rate (%)\",\"Discount Rate (%)\",\"Discount Rate (%)\",\"Discount Rate (%)\",\"Discount Rate (%)\",\"Discount Rate (%)\",\"Discount Rate (%)\",\"Discount Rate (%)\",\"Discount Rate (%)\",\"Discount Rate (%)\",\"Discount Rate (%)\",\"Discount Rate (%)\",\"Discount Rate (%)\",\"Discount Rate (%)\",\"Discount Rate (%)\",\"Discount Rate (%)\",\"Discount Rate (%)\",\"Discount Rate (%)\",\"Discount Rate (%)\",\"Discount Rate (%)\",\"Discount Rate (%)\",\"Discount Rate (%)\",\"Discount Rate (%)\",\"Discount Rate (%)\",\"Discount Rate (%)\",\"Discount Rate (%)\",\"Discount Rate (%)\",\"Discount Rate (%)\",\"Discount Rate (%)\",\"Discount Rate (%)\",\"Discount Rate (%)\",\"Discount Rate (%)\",\"Discount Rate (%)\",\"Discount Rate (%)\",\"Discount Rate (%)\",\"Discount Rate (%)\",\"Discount Rate (%)\",\"Discount Rate (%)\",\"Discount Rate (%)\",\"Discount Rate (%)\",\"Discount Rate (%)\",\"Discount Rate (%)\",\"Discount Rate (%)\",\"Discount Rate (%)\",\"Discount Rate (%)\",\"Discount Rate (%)\",\"Discount Rate (%)\",\"Discount Rate (%)\",\"Discount Rate (%)\",\"Discount Rate (%)\",\"Discount Rate (%)\",\"Discount Rate (%)\",\"Discount Rate (%)\",\"Discount Rate (%)\",\"Discount Rate (%)\",\"Discount Rate (%)\",\"Discount Rate (%)\",\"Discount Rate (%)\",\"Discount Rate (%)\",\"Discount Rate (%)\",\"Discount Rate (%)\",\"Discount Rate (%)\",\"Discount Rate (%)\",\"Discount Rate (%)\",\"Discount Rate (%)\",\"Discount Rate (%)\",\"Discount Rate (%)\",\"Discount Rate (%)\",\"Discount Rate (%)\",\"Discount Rate (%)\",\"Discount Rate (%)\",\"Discount Rate (%)\",\"Discount Rate (%)\",\"Discount Rate (%)\",\"Discount Rate (%)\",\"Discount Rate (%)\",\"Discount Rate (%)\",\"Discount Rate (%)\",\"Discount Rate (%)\",\"Discount Rate (%)\",\"Discount Rate (%)\",\"Discount Rate (%)\",\"Discount Rate (%)\",\"Discount Rate (%)\",\"Discount Rate (%)\",\"Discount Rate (%)\",\"Discount Rate (%)\",\"Discount Rate (%)\",\"Discount Rate (%)\",\"Discount Rate (%)\",\"Discount Rate (%)\",\"Discount Rate (%)\",\"Discount Rate (%)\",\"Discount Rate (%)\",\"Discount Rate (%)\",\"Discount Rate (%)\",\"Discount Rate (%)\",\"Discount Rate (%)\",\"Discount Rate (%)\",\"Discount Rate (%)\",\"Discount Rate (%)\",\"Discount Rate (%)\",\"Discount Rate (%)\",\"Discount Rate (%)\",\"Discount Rate (%)\",\"Discount Rate (%)\",\"Discount Rate (%)\",\"Discount Rate (%)\",\"Discount Rate (%)\",\"Discount Rate (%)\",\"Discount Rate (%)\",\"Discount Rate (%)\",\"Discount Rate (%)\",\"Discount Rate (%)\",\"Discount Rate (%)\",\"Discount Rate (%)\",\"Discount Rate (%)\",\"Discount Rate (%)\",\"Discount Rate (%)\",\"Discount Rate (%)\",\"Discount Rate (%)\",\"Discount Rate (%)\",\"Discount Rate (%)\",\"Discount Rate (%)\",\"Discount Rate (%)\",\"Discount Rate (%)\",\"Discount Rate (%)\",\"Discount Rate (%)\",\"Discount Rate (%)\",\"Discount Rate (%)\",\"Discount Rate (%)\",\"Discount Rate (%)\",\"Discount Rate (%)\",\"Discount Rate (%)\",\"Discount Rate (%)\",\"Discount Rate (%)\",\"Discount Rate (%)\",\"Discount Rate (%)\",\"Discount Rate (%)\",\"Discount Rate (%)\",\"Discount Rate (%)\",\"Discount Rate (%)\",\"Discount Rate (%)\",\"Discount Rate (%)\",\"Discount Rate (%)\",\"Discount Rate (%)\",\"Discount Rate (%)\",\"Discount Rate (%)\",\"Discount Rate (%)\",\"Discount Rate (%)\",\"Discount Rate (%)\",\"Discount Rate (%)\",\"Discount Rate (%)\",\"Discount Rate (%)\",\"Discount Rate (%)\",\"Discount Rate (%)\",\"Discount Rate (%)\",\"Discount Rate (%)\",\"Discount Rate (%)\",\"Discount Rate (%)\",\"Discount Rate (%)\",\"Discount Rate (%)\",\"Discount Rate (%)\",\"Discount Rate (%)\",\"Discount Rate (%)\",\"Discount Rate (%)\",\"Discount Rate (%)\",\"Discount Rate (%)\",\"Discount Rate (%)\",\"Discount Rate (%)\",\"Discount Rate (%)\",\"Discount Rate (%)\",\"Discount Rate (%)\",\"Discount Amount\",\"Discount Amount\",\"Discount Amount\",\"Discount Amount\",\"Discount Amount\",\"Discount Amount\",\"Discount Amount\",\"Discount Amount\",\"Discount Amount\",\"Discount Amount\",\"Discount Amount\",\"Discount Amount\",\"Discount Amount\",\"Discount Amount\",\"Discount Amount\",\"Discount Amount\",\"Discount Amount\",\"Discount Amount\",\"Discount Amount\",\"Discount Amount\",\"Discount Amount\",\"Discount Amount\",\"Discount Amount\",\"Discount Amount\",\"Discount Amount\",\"Discount Amount\",\"Discount Amount\",\"Discount Amount\",\"Discount Amount\",\"Discount Amount\",\"Discount Amount\",\"Discount Amount\",\"Discount Amount\",\"Discount Amount\",\"Discount Amount\",\"Discount Amount\",\"Discount Amount\",\"Discount Amount\",\"Discount Amount\",\"Discount Amount\",\"Discount Amount\",\"Discount Amount\",\"Discount Amount\",\"Discount Amount\",\"Discount Amount\",\"Discount Amount\",\"Discount Amount\",\"Discount Amount\",\"Discount Amount\",\"Discount Amount\",\"Discount Amount\",\"Discount Amount\",\"Discount Amount\",\"Discount Amount\",\"Discount Amount\",\"Discount Amount\",\"Discount Amount\",\"Discount Amount\",\"Discount Amount\",\"Discount Amount\",\"Discount Amount\",\"Discount Amount\",\"Discount Amount\",\"Discount Amount\",\"Discount Amount\",\"Discount Amount\",\"Discount Amount\",\"Discount Amount\",\"Discount Amount\",\"Discount Amount\",\"Discount Amount\",\"Discount Amount\",\"Discount Amount\",\"Discount Amount\",\"Discount Amount\",\"Discount Amount\",\"Discount Amount\",\"Discount Amount\",\"Discount Amount\",\"Discount Amount\",\"Discount Amount\",\"Discount Amount\",\"Discount Amount\",\"Discount Amount\",\"Discount Amount\",\"Discount Amount\",\"Discount Amount\",\"Discount Amount\",\"Discount Amount\",\"Discount Amount\",\"Discount Amount\",\"Discount Amount\",\"Discount Amount\",\"Discount Amount\",\"Discount Amount\",\"Discount Amount\",\"Discount Amount\",\"Discount Amount\",\"Discount Amount\",\"Discount Amount\",\"Discount Amount\",\"Discount Amount\",\"Discount Amount\",\"Discount Amount\",\"Discount Amount\",\"Discount Amount\",\"Discount Amount\",\"Discount Amount\",\"Discount Amount\",\"Discount Amount\",\"Discount Amount\",\"Discount Amount\",\"Discount Amount\",\"Discount Amount\",\"Discount Amount\",\"Discount Amount\",\"Discount Amount\",\"Discount Amount\",\"Discount Amount\",\"Discount Amount\",\"Discount Amount\",\"Discount Amount\",\"Discount Amount\",\"Discount Amount\",\"Discount Amount\",\"Discount Amount\",\"Discount Amount\",\"Discount Amount\",\"Discount Amount\",\"Discount Amount\",\"Discount Amount\",\"Discount Amount\",\"Discount Amount\",\"Discount Amount\",\"Discount Amount\",\"Discount Amount\",\"Discount Amount\",\"Discount Amount\",\"Discount Amount\",\"Discount Amount\",\"Discount Amount\",\"Discount Amount\",\"Discount Amount\",\"Discount Amount\",\"Discount Amount\",\"Discount Amount\",\"Discount Amount\",\"Discount Amount\",\"Discount Amount\",\"Discount Amount\",\"Discount Amount\",\"Discount Amount\",\"Discount Amount\",\"Discount Amount\",\"Discount Amount\",\"Discount Amount\",\"Discount Amount\",\"Discount Amount\",\"Discount Amount\",\"Discount Amount\",\"Discount Amount\",\"Discount Amount\",\"Discount Amount\",\"Discount Amount\",\"Discount Amount\",\"Discount Amount\",\"Discount Amount\",\"Discount Amount\",\"Discount Amount\",\"Discount Amount\",\"Discount Amount\",\"Discount Amount\",\"Discount Amount\",\"Discount Amount\",\"Discount Amount\",\"Discount Amount\",\"Discount Amount\",\"Discount Amount\",\"Discount Amount\",\"Discount Amount\",\"Discount Amount\",\"Discount Amount\",\"Discount Amount\",\"Discount Amount\",\"Discount Amount\",\"Discount Amount\",\"Discount Amount\",\"Discount Amount\",\"Discount Amount\",\"Discount Amount\",\"Discount Amount\",\"Discount Amount\",\"Discount Amount\",\"Discount Amount\",\"Discount Amount\",\"Discount Amount\",\"Discount Amount\",\"Discount Amount\",\"Discount Amount\",\"Discount Amount\",\"Discount Amount\",\"Discount Amount\",\"Discount Amount\",\"Discount Amount\",\"Discount Amount\",\"Discount Amount\",\"Discount Amount\",\"Discount Amount\",\"Discount Amount\",\"Discount Amount\",\"Discount Amount\",\"Discount Amount\",\"Discount Amount\",\"Discount Amount\",\"Discount Amount\",\"Discount Amount\",\"Discount Amount\",\"Discount Amount\",\"Discount Amount\",\"Discount Amount\",\"Discount Amount\",\"Discount Amount\",\"Discount Amount\",\"Discount Amount\",\"Discount Amount\",\"Discount Amount\",\"Discount Amount\",\"Discount Amount\",\"Discount Amount\",\"Discount Amount\",\"Discount Amount\",\"Discount Amount\",\"Discount Amount\",\"Discount Amount\",\"Discount Amount\",\"Discount Amount\",\"Discount Amount\",\"Discount Amount\",\"Discount Amount\",\"Discount Amount\",\"Discount Amount\",\"Discount Amount\",\"Discount Amount\",\"Discount Amount\",\"Discount Amount\",\"Discount Amount\",\"Discount Amount\",\"Discount Amount\",\"Discount Amount\",\"Discount Amount\",\"Discount Amount\",\"Discount Amount\",\"Discount Amount\",\"Discount Amount\",\"Discount Amount\",\"Discount Amount\",\"Discount Amount\",\"Discount Amount\",\"Discount Amount\",\"Discount Amount\",\"Discount Amount\",\"Discount Amount\",\"Discount Amount\",\"Discount Amount\",\"Discount Amount\",\"Discount Amount\",\"Discount Amount\",\"Discount Amount\",\"Discount Amount\",\"Discount Amount\",\"Discount Amount\",\"Discount Amount\",\"Discount Amount\",\"Discount Amount\",\"Discount Amount\",\"Discount Amount\",\"Discount Amount\",\"Discount Amount\",\"Discount Amount\",\"Discount Amount\",\"Discount Amount\",\"Discount Amount\",\"Discount Amount\",\"Discount Amount\",\"Discount Amount\",\"Discount Amount\",\"Discount Amount\",\"Discount Amount\",\"Discount Amount\",\"Discount Amount\",\"Discount Amount\",\"Discount Amount\",\"Discount Amount\",\"Discount Amount\",\"Discount Amount\",\"Discount Amount\",\"Discount Amount\",\"Discount Amount\",\"Discount Amount\",\"Discount Amount\",\"Discount Amount\",\"Discount Amount\",\"Discount Amount\",\"Discount Amount\",\"Discount Amount\",\"Discount Amount\",\"Discount Amount\",\"Discount Amount\",\"Discount Amount\",\"Discount Amount\",\"Discount Amount\",\"Discount Amount\",\"Discount Amount\",\"Discount Amount\",\"Discount Amount\",\"Discount Amount\",\"Discount Amount\",\"Discount Amount\",\"Discount Amount\",\"Discount Amount\",\"Discount Amount\",\"Discount Amount\",\"Discount Amount\",\"Discount Amount\",\"Discount Amount\",\"Discount Amount\",\"Discount Amount\",\"Discount Amount\",\"Discount Amount\",\"Discount Amount\",\"Discount Amount\",\"Discount Amount\",\"Discount Amount\",\"Discount Amount\",\"Discount Amount\",\"Discount Amount\",\"Discount Amount\",\"Discount Amount\",\"Discount Amount\",\"Discount Amount\",\"Discount Amount\",\"Discount Amount\",\"Discount Amount\",\"Discount Amount\",\"Discount Amount\",\"Discount Amount\",\"Discount Amount\",\"Discount Amount\",\"Discount Amount\",\"Discount Amount\",\"Discount Amount\",\"Discount Amount\",\"Discount Amount\",\"Discount Amount\",\"Discount Amount\",\"Discount Amount\",\"Discount Amount\",\"Discount Amount\",\"Discount Amount\",\"Discount Amount\",\"Discount Amount\",\"Discount Amount\",\"Discount Amount\",\"Discount Amount\",\"Discount Amount\",\"Discount Amount\",\"Discount Amount\",\"Discount Amount\",\"Discount Amount\",\"Discount Amount\",\"Discount Amount\",\"Discount Amount\",\"Discount Amount\",\"Discount Amount\",\"Discount Amount\",\"Discount Amount\",\"Discount Amount\",\"Discount Amount\",\"Discount Amount\",\"Discount Amount\",\"Discount Amount\",\"Discount Amount\",\"Discount Amount\",\"Discount Amount\",\"Discount Amount\",\"Discount Amount\",\"Discount Amount\",\"Discount Amount\",\"Discount Amount\",\"Discount Amount\",\"Discount Amount\",\"Discount Amount\",\"Discount Amount\",\"Discount Amount\",\"Discount Amount\",\"Discount Amount\",\"Discount Amount\",\"Discount Amount\",\"Discount Amount\",\"Discount Amount\",\"Discount Amount\",\"Discount Amount\",\"Discount Amount\",\"Discount Amount\",\"Discount Amount\",\"Discount Amount\",\"Discount Amount\",\"Discount Amount\",\"Discount Amount\",\"Discount Amount\",\"Discount Amount\",\"Discount Amount\",\"Discount Amount\",\"Discount Amount\",\"Discount Amount\",\"Discount Amount\",\"Discount Amount\",\"Discount Amount\",\"Discount Amount\",\"Discount Amount\",\"Discount Amount\",\"Discount Amount\",\"Discount Amount\",\"Discount Amount\",\"Discount Amount\",\"Discount Amount\",\"Discount Amount\",\"Discount Amount\",\"Discount Amount\",\"Discount Amount\",\"Discount Amount\",\"Discount Amount\",\"Discount Amount\",\"Discount Amount\",\"Discount Amount\",\"Discount Amount\",\"Discount Amount\",\"Discount Amount\",\"Discount Amount\",\"Discount Amount\",\"Discount Amount\",\"Discount Amount\",\"Discount Amount\",\"Discount Amount\",\"Discount Amount\",\"Discount Amount\",\"Discount Amount\",\"Discount Amount\",\"Discount Amount\",\"Discount Amount\",\"Net Sales Value\",\"Net Sales Value\",\"Net Sales Value\",\"Net Sales Value\",\"Net Sales Value\",\"Net Sales Value\",\"Net Sales Value\",\"Net Sales Value\",\"Net Sales Value\",\"Net Sales Value\",\"Net Sales Value\",\"Net Sales Value\",\"Net Sales Value\",\"Net Sales Value\",\"Net Sales Value\",\"Net Sales Value\",\"Net Sales Value\",\"Net Sales Value\",\"Net Sales Value\",\"Net Sales Value\",\"Net Sales Value\",\"Net Sales Value\",\"Net Sales Value\",\"Net Sales Value\",\"Net Sales Value\",\"Net Sales Value\",\"Net Sales Value\",\"Net Sales Value\",\"Net Sales Value\",\"Net Sales Value\",\"Net Sales Value\",\"Net Sales Value\",\"Net Sales Value\",\"Net Sales Value\",\"Net Sales Value\",\"Net Sales Value\",\"Net Sales Value\",\"Net Sales Value\",\"Net Sales Value\",\"Net Sales Value\",\"Net Sales Value\",\"Net Sales Value\",\"Net Sales Value\",\"Net Sales Value\",\"Net Sales Value\",\"Net Sales Value\",\"Net Sales Value\",\"Net Sales Value\",\"Net Sales Value\",\"Net Sales Value\",\"Net Sales Value\",\"Net Sales Value\",\"Net Sales Value\",\"Net Sales Value\",\"Net Sales Value\",\"Net Sales Value\",\"Net Sales Value\",\"Net Sales Value\",\"Net Sales Value\",\"Net Sales Value\",\"Net Sales Value\",\"Net Sales Value\",\"Net Sales Value\",\"Net Sales Value\",\"Net Sales Value\",\"Net Sales Value\",\"Net Sales Value\",\"Net Sales Value\",\"Net Sales Value\",\"Net Sales Value\",\"Net Sales Value\",\"Net Sales Value\",\"Net Sales Value\",\"Net Sales Value\",\"Net Sales Value\",\"Net Sales Value\",\"Net Sales Value\",\"Net Sales Value\",\"Net Sales Value\",\"Net Sales Value\",\"Net Sales Value\",\"Net Sales Value\",\"Net Sales Value\",\"Net Sales Value\",\"Net Sales Value\",\"Net Sales Value\",\"Net Sales Value\",\"Net Sales Value\",\"Net Sales Value\",\"Net Sales Value\",\"Net Sales Value\",\"Net Sales Value\",\"Net Sales Value\",\"Net Sales Value\",\"Net Sales Value\",\"Net Sales Value\",\"Net Sales Value\",\"Net Sales Value\",\"Net Sales Value\",\"Net Sales Value\",\"Net Sales Value\",\"Net Sales Value\",\"Net Sales Value\",\"Net Sales Value\",\"Net Sales Value\",\"Net Sales Value\",\"Net Sales Value\",\"Net Sales Value\",\"Net Sales Value\",\"Net Sales Value\",\"Net Sales Value\",\"Net Sales Value\",\"Net Sales Value\",\"Net Sales Value\",\"Net Sales Value\",\"Net Sales Value\",\"Net Sales Value\",\"Net Sales Value\",\"Net Sales Value\",\"Net Sales Value\",\"Net Sales Value\",\"Net Sales Value\",\"Net Sales Value\",\"Net Sales Value\",\"Net Sales Value\",\"Net Sales Value\",\"Net Sales Value\",\"Net Sales Value\",\"Net Sales Value\",\"Net Sales Value\",\"Net Sales Value\",\"Net Sales Value\",\"Net Sales Value\",\"Net Sales Value\",\"Net Sales Value\",\"Net Sales Value\",\"Net Sales Value\",\"Net Sales Value\",\"Net Sales Value\",\"Net Sales Value\",\"Net Sales Value\",\"Net Sales Value\",\"Net Sales Value\",\"Net Sales Value\",\"Net Sales Value\",\"Net Sales Value\",\"Net Sales Value\",\"Net Sales Value\",\"Net Sales Value\",\"Net Sales Value\",\"Net Sales Value\",\"Net Sales Value\",\"Net Sales Value\",\"Net Sales Value\",\"Net Sales Value\",\"Net Sales Value\",\"Net Sales Value\",\"Net Sales Value\",\"Net Sales Value\",\"Net Sales Value\",\"Net Sales Value\",\"Net Sales Value\",\"Net Sales Value\",\"Net Sales Value\",\"Net Sales Value\",\"Net Sales Value\",\"Net Sales Value\",\"Net Sales Value\",\"Net Sales Value\",\"Net Sales Value\",\"Net Sales Value\",\"Net Sales Value\",\"Net Sales Value\",\"Net Sales Value\",\"Net Sales Value\",\"Net Sales Value\",\"Net Sales Value\",\"Net Sales Value\",\"Net Sales Value\",\"Net Sales Value\",\"Net Sales Value\",\"Net Sales Value\",\"Net Sales Value\",\"Net Sales Value\",\"Net Sales Value\",\"Net Sales Value\",\"Net Sales Value\",\"Net Sales Value\",\"Net Sales Value\",\"Net Sales Value\",\"Net Sales Value\",\"Net Sales Value\",\"Net Sales Value\",\"Net Sales Value\",\"Net Sales Value\",\"Net Sales Value\",\"Net Sales Value\",\"Net Sales Value\",\"Net Sales Value\",\"Net Sales Value\",\"Net Sales Value\",\"Net Sales Value\",\"Net Sales Value\",\"Net Sales Value\",\"Net Sales Value\",\"Net Sales Value\",\"Net Sales Value\",\"Net Sales Value\",\"Net Sales Value\",\"Net Sales Value\",\"Net Sales Value\",\"Net Sales Value\",\"Net Sales Value\",\"Net Sales Value\",\"Net Sales Value\",\"Net Sales Value\",\"Net Sales Value\",\"Net Sales Value\",\"Net Sales Value\",\"Net Sales Value\",\"Net Sales Value\",\"Net Sales Value\",\"Net Sales Value\",\"Net Sales Value\",\"Net Sales Value\",\"Net Sales Value\",\"Net Sales Value\",\"Net Sales Value\",\"Net Sales Value\",\"Net Sales Value\",\"Net Sales Value\",\"Net Sales Value\",\"Net Sales Value\",\"Net Sales Value\",\"Net Sales Value\",\"Net Sales Value\",\"Net Sales Value\",\"Net Sales Value\",\"Net Sales Value\",\"Net Sales Value\",\"Net Sales Value\",\"Net Sales Value\",\"Net Sales Value\",\"Net Sales Value\",\"Net Sales Value\",\"Net Sales Value\",\"Net Sales Value\",\"Net Sales Value\",\"Net Sales Value\",\"Net Sales Value\",\"Net Sales Value\",\"Net Sales Value\",\"Net Sales Value\",\"Net Sales Value\",\"Net Sales Value\",\"Net Sales Value\",\"Net Sales Value\",\"Net Sales Value\",\"Net Sales Value\",\"Net Sales Value\",\"Net Sales Value\",\"Net Sales Value\",\"Net Sales Value\",\"Net Sales Value\",\"Net Sales Value\",\"Net Sales Value\",\"Net Sales Value\",\"Net Sales Value\",\"Net Sales Value\",\"Net Sales Value\",\"Net Sales Value\",\"Net Sales Value\",\"Net Sales Value\",\"Net Sales Value\",\"Net Sales Value\",\"Net Sales Value\",\"Net Sales Value\",\"Net Sales Value\",\"Net Sales Value\",\"Net Sales Value\",\"Net Sales Value\",\"Net Sales Value\",\"Net Sales Value\",\"Net Sales Value\",\"Net Sales Value\",\"Net Sales Value\",\"Net Sales Value\",\"Net Sales Value\",\"Net Sales Value\",\"Net Sales Value\",\"Net Sales Value\",\"Net Sales Value\",\"Net Sales Value\",\"Net Sales Value\",\"Net Sales Value\",\"Net Sales Value\",\"Net Sales Value\",\"Net Sales Value\",\"Net Sales Value\",\"Net Sales Value\",\"Net Sales Value\",\"Net Sales Value\",\"Net Sales Value\",\"Net Sales Value\",\"Net Sales Value\",\"Net Sales Value\",\"Net Sales Value\",\"Net Sales Value\",\"Net Sales Value\",\"Net Sales Value\",\"Net Sales Value\",\"Net Sales Value\",\"Net Sales Value\",\"Net Sales Value\",\"Net Sales Value\",\"Net Sales Value\",\"Net Sales Value\",\"Net Sales Value\",\"Net Sales Value\",\"Net Sales Value\",\"Net Sales Value\",\"Net Sales Value\",\"Net Sales Value\",\"Net Sales Value\",\"Net Sales Value\",\"Net Sales Value\",\"Net Sales Value\",\"Net Sales Value\",\"Net Sales Value\",\"Net Sales Value\",\"Net Sales Value\",\"Net Sales Value\",\"Net Sales Value\",\"Net Sales Value\",\"Net Sales Value\",\"Net Sales Value\",\"Net Sales Value\",\"Net Sales Value\",\"Net Sales Value\",\"Net Sales Value\",\"Net Sales Value\",\"Net Sales Value\",\"Net Sales Value\",\"Net Sales Value\",\"Net Sales Value\",\"Net Sales Value\",\"Net Sales Value\",\"Net Sales Value\",\"Net Sales Value\",\"Net Sales Value\",\"Net Sales Value\",\"Net Sales Value\",\"Net Sales Value\",\"Net Sales Value\",\"Net Sales Value\",\"Net Sales Value\",\"Net Sales Value\",\"Net Sales Value\",\"Net Sales Value\",\"Net Sales Value\",\"Net Sales Value\",\"Net Sales Value\",\"Net Sales Value\",\"Net Sales Value\",\"Net Sales Value\",\"Net Sales Value\",\"Net Sales Value\",\"Net Sales Value\",\"Net Sales Value\",\"Net Sales Value\",\"Net Sales Value\",\"Net Sales Value\",\"Net Sales Value\",\"Net Sales Value\",\"Net Sales Value\",\"Net Sales Value\",\"Net Sales Value\",\"Net Sales Value\",\"Net Sales Value\",\"Net Sales Value\",\"Net Sales Value\",\"Net Sales Value\",\"Net Sales Value\",\"Net Sales Value\",\"Net Sales Value\",\"Net Sales Value\",\"Net Sales Value\",\"Net Sales Value\",\"Net Sales Value\",\"Net Sales Value\",\"Net Sales Value\",\"Net Sales Value\",\"Net Sales Value\",\"Net Sales Value\",\"Net Sales Value\",\"Net Sales Value\",\"Net Sales Value\",\"Net Sales Value\",\"Net Sales Value\",\"Net Sales Value\",\"Net Sales Value\",\"Net Sales Value\",\"Net Sales Value\",\"Net Sales Value\",\"Net Sales Value\",\"Net Sales Value\",\"Net Sales Value\",\"Net Sales Value\",\"Net Sales Value\",\"Net Sales Value\",\"Net Sales Value\",\"Net Sales Value\",\"Net Sales Value\",\"Net Sales Value\",\"Net Sales Value\",\"Net Sales Value\",\"Net Sales Value\",\"Net Sales Value\",\"Net Sales Value\",\"Net Sales Value\",\"Net Sales Value\",\"Net Sales Value\",\"Net Sales Value\",\"Net Sales Value\",\"Net Sales Value\",\"Net Sales Value\",\"Net Sales Value\",\"Net Sales Value\",\"Net Sales Value\",\"Net Sales Value\",\"Net Sales Value\",\"Net Sales Value\",\"Net Sales Value\",\"Net Sales Value\",\"Net Sales Value\",\"Net Sales Value\",\"Net Sales Value\",\"Net Sales Value\",\"Net Sales Value\",\"Net Sales Value\",\"Net Sales Value\",\"Net Sales Value\",\"Net Sales Value\",\"Net Sales Value\",\"Net Sales Value\",\"Net Sales Value\",\"Net Sales Value\",\"Net Sales Value\",\"Net Sales Value\",\"Net Sales Value\"],\"x0\":\" \",\"xaxis\":\"x\",\"y\":[15.0,10.0,7.0,6.0,3.0,3.0,3.0,2.0,2.0,3.0,13.0,4.0,4.0,9.0,5.0,5.0,3.0,3.0,1.0,4.0,10.0,8.0,7.0,5.0,5.0,4.0,5.0,3.0,1.0,3.0,11.0,8.0,7.0,6.0,2.0,3.0,3.0,1.0,3.0,3.0,29.0,8.0,6.0,9.0,7.0,3.0,3.0,1.0,2.0,3.0,13.0,3.0,4.0,6.0,7.0,6.0,4.0,3.0,1.0,2.0,5.0,5.0,5.0,5.0,4.0,2.0,4.0,1.0,1.0,2.0,24.0,14.0,4.0,6.0,6.0,6.0,5.0,3.0,2.0,4.0,12.0,9.0,5.0,5.0,3.0,3.0,6.0,3.0,3.0,1.0,9.0,9.0,3.0,6.0,3.0,2.0,3.0,2.0,2.0,2.0,25.0,15.0,11.0,7.0,6.0,4.0,4.0,4.0,3.0,1.0,10.0,10.0,3.0,3.0,7.0,5.0,4.0,2.0,1.0,3.0,3.0,6.0,5.0,3.0,3.0,3.0,3.0,3.0,2.0,2.0,15.0,7.0,10.0,8.0,4.0,4.0,4.0,2.0,2.0,2.0,14.0,3.0,2.0,5.0,4.0,4.0,4.0,2.0,3.0,1.0,7.0,6.0,4.0,6.0,5.0,2.0,2.0,3.0,2.0,2.0,9.0,12.0,8.0,2.0,3.0,6.0,2.0,1.0,2.0,3.0,12.0,6.0,6.0,6.0,7.0,3.0,5.0,3.0,3.0,1.0,12.0,2.0,7.0,4.0,4.0,3.0,3.0,3.0,3.0,3.0,22.0,10.0,11.0,11.0,2.0,3.0,2.0,2.0,4.0,3.0,12.0,12.0,7.0,3.0,3.0,4.0,4.0,3.0,2.0,1.0,14.0,7.0,7.0,5.0,6.0,3.0,3.0,2.0,2.0,1.0,2.0,11.0,11.0,2.0,5.0,4.0,3.0,2.0,3.0,3.0,7.0,9.0,7.0,3.0,6.0,3.0,5.0,2.0,3.0,2.0,15.0,7.0,7.0,7.0,5.0,2.0,3.0,2.0,2.0,1.0,31.0,12.0,7.0,4.0,8.0,2.0,4.0,2.0,2.0,1.0,16.0,6.0,5.0,2.0,5.0,4.0,3.0,2.0,2.0,1.0,3.0,6.0,4.0,5.0,4.0,4.0,2.0,2.0,3.0,2.0,24.0,11.0,12.0,4.0,3.0,3.0,3.0,3.0,2.0,2.0,5.0,4.0,5.0,4.0,5.0,5.0,5.0,1.0,3.0,2.0,12.0,7.0,6.0,4.0,4.0,3.0,3.0,1.0,3.0,3.0,22.0,2.0,11.0,6.0,4.0,2.0,4.0,2.0,2.0,3.0,13.0,9.0,5.0,4.0,6.0,6.0,4.0,3.0,3.0,1.0,4.0,7.0,3.0,6.0,4.0,3.0,2.0,1.0,3.0,3.0,15.0,7.0,3.0,8.0,5.0,3.0,4.0,3.0,3.0,4.0,12.0,8.0,2.0,4.0,6.0,4.0,4.0,1.0,2.0,1.0,9.0,6.0,7.0,7.0,5.0,3.0,3.0,1.0,2.0,2.0,14.0,14.0,3.0,7.0,7.0,5.0,4.0,2.0,3.0,3.0,4.0,6.0,6.0,3.0,5.0,3.0,4.0,4.0,3.0,3.0,11.0,7.0,6.0,3.0,4.0,3.0,3.0,2.0,2.0,2.0,29.0,2.0,5.0,4.0,7.0,6.0,4.0,2.0,3.0,3.0,15.0,7.0,6.0,5.0,6.0,3.0,4.0,3.0,2.0,2.0,13.0,6.0,4.0,5.0,3.0,3.0,3.0,1.0,3.0,2.0,2.0,17.0,4.0,5.0,7.0,4.0,3.0,3.0,2.0,4.0,10.0,3.0,7.0,3.0,6.0,2.0,6.0,2.0,3.0,1.0,12100.0,10100.0,16100.0,20100.0,8100.0,8100.0,49100.0,54100.0,55100.0,60100.0,400.0,300.0,390.0,465.0,290.0,450.0,500.0,400.0,560.0,1099.0,450.0,500.0,900.0,1300.0,2099.0,1300.0,2600.0,1600.0,1900.0,3100.0,12100.0,10100.0,16100.0,20100.0,8100.0,8100.0,49100.0,54100.0,55100.0,60100.0,400.0,300.0,390.0,465.0,290.0,450.0,500.0,400.0,560.0,1099.0,450.0,500.0,900.0,1300.0,2099.0,1300.0,2600.0,1600.0,1900.0,3100.0,12100.0,10100.0,16100.0,20100.0,8100.0,8100.0,49100.0,54100.0,55100.0,60100.0,400.0,300.0,390.0,465.0,290.0,450.0,500.0,400.0,560.0,1099.0,450.0,500.0,900.0,1300.0,2099.0,1300.0,2600.0,1600.0,1900.0,3100.0,12100.0,10100.0,16100.0,20100.0,8100.0,8100.0,49100.0,54100.0,55100.0,60100.0,400.0,300.0,390.0,465.0,290.0,450.0,500.0,400.0,560.0,1099.0,450.0,500.0,900.0,1300.0,2099.0,1300.0,2600.0,1600.0,1900.0,3100.0,12100.0,10100.0,16100.0,20100.0,8100.0,8100.0,49100.0,54100.0,55100.0,60100.0,400.0,300.0,390.0,465.0,290.0,450.0,500.0,400.0,560.0,1099.0,450.0,500.0,900.0,1300.0,2099.0,1300.0,2600.0,1600.0,1900.0,3100.0,12100.0,10100.0,16100.0,20100.0,8100.0,8100.0,49100.0,54100.0,55100.0,60100.0,400.0,300.0,390.0,465.0,290.0,450.0,500.0,400.0,560.0,1099.0,450.0,500.0,900.0,1300.0,2099.0,1300.0,2600.0,1600.0,1900.0,3100.0,12100.0,10100.0,16100.0,20100.0,8100.0,8100.0,49100.0,54100.0,55100.0,60100.0,400.0,300.0,390.0,465.0,290.0,450.0,500.0,400.0,560.0,1099.0,450.0,500.0,900.0,1300.0,2099.0,1300.0,2600.0,1600.0,1900.0,3100.0,12100.0,10100.0,16100.0,20100.0,8100.0,8100.0,49100.0,54100.0,55100.0,60100.0,400.0,300.0,390.0,465.0,290.0,450.0,500.0,400.0,560.0,1099.0,450.0,500.0,900.0,1300.0,2099.0,1300.0,2600.0,1600.0,1900.0,3100.0,12100.0,10100.0,16100.0,20100.0,8100.0,8100.0,49100.0,54100.0,55100.0,60100.0,400.0,300.0,390.0,465.0,290.0,450.0,500.0,400.0,560.0,1099.0,450.0,500.0,900.0,1300.0,2099.0,1300.0,2600.0,1600.0,1900.0,3100.0,12100.0,10100.0,16100.0,20100.0,8100.0,8100.0,49100.0,54100.0,55100.0,60100.0,400.0,300.0,390.0,465.0,290.0,450.0,500.0,400.0,560.0,1099.0,450.0,500.0,900.0,1300.0,2099.0,1300.0,2600.0,1600.0,1900.0,3100.0,12100.0,10100.0,16100.0,20100.0,8100.0,8100.0,49100.0,54100.0,55100.0,60100.0,400.0,300.0,390.0,465.0,290.0,450.0,500.0,400.0,560.0,1099.0,450.0,500.0,900.0,1300.0,2099.0,1300.0,2600.0,1600.0,1900.0,3100.0,12100.0,10100.0,16100.0,20100.0,8100.0,8100.0,49100.0,54100.0,55100.0,60100.0,400.0,300.0,390.0,465.0,290.0,450.0,500.0,400.0,560.0,1099.0,450.0,500.0,900.0,1300.0,2099.0,1300.0,2600.0,1600.0,1900.0,3100.0,12100.0,10100.0,16100.0,20100.0,8100.0,8100.0,49100.0,54100.0,55100.0,60100.0,400.0,300.0,390.0,465.0,290.0,450.0,500.0,400.0,560.0,1099.0,450.0,500.0,900.0,1300.0,2099.0,1300.0,2600.0,1600.0,1900.0,3100.0,12100.0,10100.0,16100.0,20100.0,8100.0,8100.0,49100.0,54100.0,55100.0,60100.0,400.0,300.0,390.0,465.0,290.0,450.0,500.0,400.0,560.0,1099.0,450.0,500.0,900.0,1300.0,2099.0,1300.0,2600.0,1600.0,1900.0,3100.0,12100.0,10100.0,16100.0,20100.0,8100.0,8100.0,49100.0,54100.0,55100.0,60100.0,400.0,300.0,390.0,465.0,290.0,450.0,500.0,400.0,560.0,1099.0,450.0,500.0,900.0,1300.0,2099.0,1300.0,2600.0,1600.0,1900.0,3100.0,181500.0,101000.0,112700.0,120600.0,24300.0,24300.0,147300.0,108200.0,110200.0,180300.0,5200.0,1200.0,1560.0,4185.0,1450.0,2250.0,1500.0,1200.0,560.0,4396.0,4500.0,4000.0,6300.0,6500.0,10495.0,5200.0,13000.0,4800.0,1900.0,9300.0,133100.0,80800.0,112700.0,120600.0,16200.0,24300.0,147300.0,54100.0,165300.0,180300.0,11600.0,2400.0,2340.0,4185.0,2030.0,1350.0,1500.0,400.0,1120.0,3297.0,5850.0,1500.0,3600.0,7800.0,14693.0,7800.0,10400.0,4800.0,1900.0,6200.0,60500.0,50500.0,80500.0,100500.0,32400.0,16200.0,196400.0,54100.0,55100.0,120200.0,9600.0,4200.0,1560.0,2790.0,1740.0,2700.0,2500.0,1200.0,1120.0,4396.0,5400.0,4500.0,4500.0,6500.0,6297.0,3900.0,15600.0,4800.0,5700.0,3100.0,108900.0,90900.0,48300.0,120600.0,24300.0,16200.0,147300.0,108200.0,110200.0,120200.0,10000.0,4500.0,4290.0,3255.0,1740.0,1800.0,2000.0,1600.0,1680.0,1099.0,4500.0,5000.0,2700.0,3900.0,14693.0,6500.0,10400.0,3200.0,1900.0,9300.0,36300.0,60600.0,80500.0,60300.0,24300.0,24300.0,147300.0,162300.0,110200.0,120200.0,6000.0,2100.0,3900.0,3720.0,1160.0,1800.0,2000.0,800.0,1120.0,2198.0,6300.0,1500.0,1800.0,6500.0,8396.0,5200.0,10400.0,3200.0,5700.0,3100.0,84700.0,60600.0,64400.0,120600.0,40500.0,16200.0,98200.0,162300.0,110200.0,120200.0,3600.0,3600.0,3120.0,930.0,870.0,2700.0,1000.0,400.0,1120.0,3297.0,5400.0,3000.0,5400.0,7800.0,14693.0,3900.0,13000.0,4800.0,5700.0,3100.0,145200.0,20200.0,112700.0,80400.0,32400.0,24300.0,147300.0,162300.0,165300.0,180300.0,8800.0,3000.0,4290.0,5115.0,580.0,1350.0,1000.0,800.0,2240.0,3297.0,5400.0,6000.0,6300.0,3900.0,6297.0,5200.0,10400.0,4800.0,3800.0,3100.0,169400.0,70700.0,112700.0,100500.0,48600.0,24300.0,147300.0,108200.0,110200.0,60100.0,800.0,3300.0,4290.0,930.0,1450.0,1800.0,1500.0,800.0,1680.0,3297.0,3150.0,4500.0,6300.0,3900.0,12594.0,3900.0,13000.0,3200.0,5700.0,6200.0,181500.0,70700.0,112700.0,140700.0,40500.0,16200.0,147300.0,108200.0,110200.0,60100.0,12400.0,3600.0,2730.0,1860.0,2320.0,900.0,2000.0,800.0,1120.0,1099.0,7200.0,3000.0,4500.0,2600.0,10495.0,5200.0,7800.0,3200.0,3800.0,3100.0,36300.0,60600.0,64400.0,100500.0,32400.0,32400.0,98200.0,108200.0,165300.0,120200.0,9600.0,3300.0,4680.0,1860.0,870.0,1350.0,1500.0,1200.0,1120.0,2198.0,2250.0,2000.0,4500.0,5200.0,10495.0,6500.0,13000.0,1600.0,5700.0,6200.0,145200.0,70700.0,96600.0,80400.0,32400.0,24300.0,147300.0,54100.0,165300.0,180300.0,8800.0,600.0,4290.0,2790.0,1160.0,900.0,2000.0,800.0,1120.0,3297.0,5850.0,4500.0,4500.0,5200.0,12594.0,7800.0,10400.0,4800.0,5700.0,3100.0,48400.0,70700.0,48300.0,120600.0,32400.0,24300.0,98200.0,54100.0,165300.0,180300.0,6000.0,2100.0,1170.0,3720.0,1450.0,1350.0,2000.0,1200.0,1680.0,4396.0,5400.0,4000.0,1800.0,5200.0,12594.0,5200.0,10400.0,1600.0,3800.0,3100.0,108900.0,60600.0,112700.0,140700.0,40500.0,24300.0,147300.0,54100.0,110200.0,120200.0,5600.0,4200.0,1170.0,3255.0,2030.0,2250.0,2000.0,800.0,1680.0,3297.0,1800.0,3000.0,5400.0,3900.0,10495.0,3900.0,10400.0,6400.0,5700.0,9300.0,133100.0,70700.0,96600.0,60300.0,32400.0,24300.0,147300.0,108200.0,110200.0,120200.0,11600.0,600.0,1950.0,1860.0,2030.0,2700.0,2000.0,800.0,1680.0,3297.0,6750.0,3500.0,5400.0,6500.0,12594.0,3900.0,10400.0,4800.0,3800.0,6200.0,157300.0,60600.0,64400.0,100500.0,24300.0,24300.0,147300.0,54100.0,165300.0,120200.0,800.0,5100.0,1560.0,2325.0,2030.0,1800.0,1500.0,1200.0,1120.0,4396.0,4500.0,1500.0,6300.0,3900.0,12594.0,2600.0,15600.0,3200.0,5700.0,3100.0,11.654820286277229,11.560497981172013,9.456885675868351,6.935385325,17.995663499847538,16.996488910376506,9.228811758,5.553719335858815,7.410104486,9.928443556922565,18.869241650349192,16.578315839170525,18.15940810281622,18.509507661487792,15.516590589482744,18.120928359044605,18.11487059931267,17.506967212926114,16.723064529319696,16.735953685973765,19.52748279287061,19.19432326805784,18.06086733176471,18.70696234082248,19.938599568896866,18.84207796300867,15.22271398029837,19.60701230337276,16.668537503167975,16.577215459421417,13.10714037,11.463709496680202,9.816115051228891,6.214888201701022,18.735169283110185,17.988541652817347,5.252112549273296,9.238957338523049,8.440205804268277,9.087093183,19.68807392701107,16.221400717005285,18.062949881658987,17.300651364087425,17.296753022092158,15.999206110049954,18.519110434599973,17.294485572056967,15.970574895801048,18.46486650271903,17.68346638923947,15.348901860554824,16.507743182560283,18.007000090221872,18.114262113072808,15.46512976386208,18.017017754952228,16.361022367492804,18.39585553993682,17.004750688604858,10.872805596507074,10.924438305127364,8.668041319975172,9.15394956510188,17.14675853,18.531892689272368,8.601079913939643,7.621790957934959,8.907134380813915,5.007822189204133,17.050296756410482,16.988645263794755,19.276068842283127,17.943877040928143,18.18516737,19.88747923876981,17.811924888427626,18.703844700598,17.253385885722242,16.946078261315066,19.18987070662069,17.361322083094507,16.02048658180877,19.357934276476374,15.234732926198292,18.60252596927542,17.406483200942667,18.333913713826863,15.980169189765196,15.444062499880264,13.97120599044711,12.454656502759502,8.417729657551561,5.870670938165718,16.789339641673248,15.77608924263355,8.569248919012532,7.823773919213602,6.710453536396899,6.095201440402829,17.93227484021013,17.216943503508052,16.530115799511485,15.251729901882404,16.440144508699397,16.45459054571782,19.68043912697078,16.09063730242208,17.399930976359215,18.468603160082225,18.32601839,19.78474373,15.089827398292504,19.129058785086663,17.788713430687906,19.664976226088747,15.763121102348151,19.976878852757167,18.90416189542705,17.67182384213527,12.138161178646731,14.568101405876613,8.097087086978906,7.747990880089501,15.416672988182352,17.328633769441627,8.532277919222786,5.935084193732397,7.584590638090228,9.086087808184844,17.712694366059047,17.297226571292995,16.631517798104518,17.57311945929308,17.80206774460188,17.720234230056935,15.546114238860747,16.34737903216006,16.55972731,16.116142409871937,17.19470437031755,17.344507543451314,17.673372623533588,16.12159665461466,18.93978420230747,17.37960448895497,18.09216823548678,17.606097637738944,17.34439087327293,15.571977508677003,12.909518695550387,12.30153101000048,7.732667088605965,7.233846742335281,19.766831365800545,17.280653277840116,5.420506661087877,6.849975641919071,8.412626482,7.256695570137941,15.748829671065495,16.297069597052808,17.50762493541124,15.1832518428718,15.938455664261197,17.928214808149125,16.535162659048446,18.256299861322955,19.823368540983964,18.849528742533984,16.425245732431218,16.664805311476034,15.949968876338524,15.04362021431778,15.361697147391324,16.434022160959007,16.037142358953453,17.505278151312616,18.18304095386449,19.589124796030404,11.830807065757378,12.542569443833564,8.741302312619077,7.988812722257784,17.618584504223975,16.065576095795734,8.658225361838774,7.178725899241335,8.469412279922093,9.815204448449323,18.1827493,19.765153002365825,18.92254531147246,19.281034650470858,16.32460954733587,18.37684554984166,19.064839659653387,19.80471510796803,15.43763350743192,17.255076532776307,19.712827800715463,17.641355011219655,15.023751382395178,16.419682015631825,18.02035182755711,16.376949996056055,17.47825748343215,19.44792540341673,16.299804815008002,17.896569377392915,14.951726212630405,12.89156528,7.679385595700298,5.794802079132935,19.573817544625605,15.821231411481408,9.238450997439106,9.66608228994852,5.059801277154096,9.549832271096296,15.572393552260316,18.238803806330296,19.290096487627693,19.910383731112333,16.179877661293183,15.394282418650445,19.3585164762582,16.95879599,15.407747962556613,16.47136519172397,15.433532890326084,16.36791411468696,15.621580491719644,19.53824509570855,18.270293510266427,15.13260350934779,18.46189327518684,15.512031643665622,18.27644174,17.446359233235064,14.18072848140974,12.018882550575643,6.8582545692088726,7.208362951650773,17.163530232883033,16.637783394762867,7.341874344,9.771367467386684,6.473304705016388,6.439919959844064,17.383934419542282,18.19607161886354,18.06839101100181,16.37059554802535,19.81697935484416,18.488201692458688,16.866970455692478,15.733725334060328,17.579216196028618,17.157583429640418,19.14081734702039,19.00377425590465,16.692868112380438,17.79136355557608,17.077659911214088,16.475250778378637,17.56215896478952,18.96663746046982,17.645393099050505,17.967140745969115,11.055737610601057,11.089181533506844,8.977343373608086,7.421325599756022,16.55384816728682,17.916967740237514,7.802860890712338,9.835773221649369,6.268913808500697,6.819110662867928,19.358680561154664,16.989392099533365,17.486581496995672,15.910879946410272,15.142414582224038,15.562571068980672,17.631190157525147,18.57874079,16.38611185129275,16.93486485,17.567207007320203,17.50576723926849,15.69166816204708,15.387569812034188,19.71631112064685,19.53756201,16.813584438418655,19.008249819154447,17.68404468466699,17.25697328037778,14.804872842537035,12.235384909777393,6.170397894995827,5.072124185625713,19.735603599981864,19.940610270596174,8.394469320070762,6.106930704565366,6.508719077620175,9.058746494473578,18.18850808050756,17.11762611534941,16.38558507315613,19.12478535136138,15.08981884368552,18.484266350177315,17.12451515523473,19.99240704193018,18.496026255860414,15.189462972324602,15.184208763066303,19.586695249039863,19.38396295954193,17.532956267424286,15.414069193640822,18.907667806517047,19.505267589109387,16.633587502836683,17.39005186,15.884585970545755,11.373284494894524,14.543081726618366,7.826353712362323,8.491486174501922,17.337519103119437,15.608132560631024,6.066191918625036,9.791440079818337,5.084108426,7.7852682485613505,17.944983621038663,18.608386289838247,17.691253121203026,15.671319590244828,17.85265232658667,15.62485856943532,17.856694031534317,15.770607296808862,18.396734384081515,17.06230087626719,18.86666515,18.81403992251914,15.282012114668662,19.658731682629465,15.815118150903215,18.39797564,15.866930268436874,18.075415642705345,18.284851872547016,19.518796120885742,11.524539230295993,10.213810468042144,9.282922284442732,9.050468381243416,18.20853577279757,17.332796591638523,9.012749993982965,9.350885905323567,6.326891692775114,9.766900148699394,15.777249859064732,15.229304442688909,19.28772746,15.60269272274946,15.892574208908874,18.896467585467096,16.910579249287487,19.70033865255617,19.14985254610939,19.240252523603576,18.162499060632666,19.98225655005082,16.14683638678368,17.08635767990947,19.94004576107969,19.779006866153992,16.64271659980247,18.722344392748926,17.600281769941432,16.857977908607836,12.185270263226371,13.963014728119951,9.852661168268146,6.415230294327099,17.73983300508189,19.17680154386712,9.0850151618866,5.055218412429214,5.4118021861669225,5.511042321019265,15.042477125501795,17.232149290972764,18.98898033,15.716729075087828,17.228389814068915,16.27280994568704,19.34909310194873,18.99129131753696,15.915601890636466,15.239116676500377,15.306006713238707,15.19158998254244,15.953024294750776,18.62938274091684,16.954566884971847,18.864268684287676,18.71790805277376,19.91591999825912,15.553473626805486,17.414973804849325,10.161940419951064,14.686374208896371,5.485156670073213,5.466379335661308,17.250382709384482,15.842078721704562,6.008199566158192,6.642595335085532,5.425910532590122,8.440678834544997,18.999270165031213,19.965340034290687,17.779865225407995,19.52019766172181,15.770057720595435,16.332136927068014,16.21466375518408,15.722275799583652,19.18500512,18.68568031901656,16.47799820687296,16.80302997490994,17.147528049146253,16.442619307927696,15.072954200256858,15.47568742173152,17.057027189656758,18.965550182210706,16.793014485395556,15.333299833359746,21153.49881959317,11676.102960983731,10657.910156703634,8364.074702073072,4372.946230462952,4130.1468052214905,13594.039718999667,6009.124321399238,8165.935143619563,17900.983733131387,981.200565818158,198.93979007004629,283.2867664,774.6228956332641,224.99056354749976,407.7208880785036,271.72305898969006,210.08360655511336,93.64916136419028,735.7125240354067,878.7367256791777,767.7729307223136,1137.8346419011768,1215.952552153461,2092.556024755726,979.7880540764507,1978.952817438788,941.1365905618924,316.7022125601915,1541.6810377261918,17445.603828100593,9262.677273317604,11062.761662734962,7495.155171251433,3035.097424,4371.215621634616,7736.3617850795645,4998.27592,13951.660194455462,16384.029009441005,2283.8165755332843,389.3136172081268,422.6730272308203,724.0322595870588,351.1240863484708,215.9892824856744,277.7866565189996,69.17794228822787,178.87043883297173,608.7866485946464,1034.482783770509,230.2335279083224,594.2787545721702,1404.546007037306,2661.5285322737877,1206.2801215812424,1873.769846515032,785.3290736396547,349.5212552587996,1054.2945426935012,6578.047386,5516.841344089318,6977.773262580014,9199.719313,5555.549763666768,3002.166615662124,16892.520950977458,4123.388908242812,4907.831043828467,6019.402271423368,1636.8284886154065,713.5231010793797,300.7066739396168,500.6341694418952,316.4219122,536.9619394467849,445.2981222106906,224.446136407176,193.2379219200891,744.9496003674103,1036.253018157517,781.2594937392528,720.9218961813946,1258.2657279709645,959.3311323627064,725.4985128017413,2715.411379347056,880.0278582636894,910.8696438166164,478.7659374962882,15214.643323596902,11321.282761008388,4065.763424597404,7080.029151427856,4079.8095329265993,2555.726457306635,12622.50365770546,8465.323380589118,7394.919797109382,7326.432131364201,1793.227484021013,774.7624576578623,709.1419677990427,496.4438083062723,286.05851445136955,296.1826298229208,393.60878253941553,257.4501968387533,292.31884040283484,202.96994872930364,824.6708274,989.2371867,407.4253397538976,746.0332926183797,2613.695664370974,1278.2234546957686,1639.3645946442075,639.2601232882294,359.1790760131139,1643.4796173185805,4406.152507848764,8828.269451961227,6518.155105,4672.038501,3746.2515361283113,4210.858005974315,12568.045375015165,9632.641646,8358.218883175432,10921.477545438182,1062.7616619635428,363.2417579971529,648.6291941260762,653.7200438857026,206.50398583738183,318.96421614102485,310.92228477721494,130.77903225728048,185.46894582812064,354.2328101689852,1083.2663753300055,260.16761315176973,318.1207072236046,1047.903782549953,1590.1842816257354,903.7394334256584,1881.5854964906252,563.3951244076462,988.6302797765568,482.7313027689872,10934.36233513118,7454.727792,4979.837605062242,8724.019171256348,8005.566703149221,2799.465831010099,5322.937541188297,11117.510466834652,9270.714383551673,8722.548075305805,566.9578681583579,586.6945055,546.2378979848307,141.20424213870774,138.6645642790724,484.0617998200264,165.35162659048444,73.02519944529182,222.0217276590204,621.4689626413455,886.9632695512857,499.9441593,861.2983193222805,1173.4023767167869,2257.0941618662077,640.9268642774013,2084.828506663949,840.2533512630056,1036.433334370276,607.2628686769425,17178.331859479713,2533.599028,9851.447706321698,6423.005428695258,5708.4213793685685,3903.934991278363,12753.565957988514,11651.072134468686,13999.93849871122,17696.813620554134,1600.0819382556272,592.9545900709747,811.7771938621686,986.2249223715844,94.68273537454805,248.08741492286245,190.64839659653387,158.43772086374423,345.8029906,568.8998732856348,1064.4927012386352,1058.4813006731792,946.496337090896,640.3675986096412,1134.7415545812712,851.6013997949149,1817.7387782769435,933.5004194,619.392583,554.7936506991804,25328.224204195907,9114.336652,8654.667566354236,5823.776089528599,9512.875326688045,3844.5592329899823,13608.238319227805,10458.70104,5575.901007423813,5739.449194928873,124.57914841808253,601.8805256088998,827.5451393,185.16656869934468,234.60822608875117,277.09708353570795,290.3777471,135.6703679,258.8501657709511,543.0609103711392,486.1562860452716,736.5561351609133,984.1595709783376,761.9915587326334,2300.960764682954,590.1715368645638,2400.046125774289,496.3850125972999,1041.7571792393028,1081.674272460574,25738.02219375868,8497.349963,7729.252899498399,10142.166672972637,6951.2297443176285,2695.3209099515843,10814.580908727954,10572.619599712394,7133.581784928059,3870.391895866282,2155.607868023243,655.0585782790876,493.26707460034953,304.4930771932715,459.7539210323845,166.3938152321282,337.3394091138496,125.86980267248262,196.88722139552053,188.5618418917482,1378.1388489854685,570.1132276771395,751.1790650571197,462.57545244497805,1792.3004076819186,856.7130404756892,1369.8483992535828,606.9323987350342,670.5249377639192,556.9813631250425,4013.232752648183,6720.044009305148,5781.409132603607,7458.432227754803,5363.446806200929,5805.097547836955,7662.4093946795165,10642.306625824614,10362.514525451652,8196.571017,1858.433333870848,560.6499393,818.3720140593974,295.9423670032311,131.73900686534913,210.09470943123907,264.4678523628772,222.9448894546092,183.5244527344788,372.2283295,395.26215766470455,350.1153447853698,706.1250672921186,800.1536302257778,2069.2268521118867,1269.941530500357,2185.765976994425,304.13199710647115,1007.9905470260184,1069.9323433834222,21496.67536736378,8650.417131212616,5960.604367,4077.987845243073,6394.335566394124,4845.568295754872,12365.053308464232,3303.8495111698635,10758.912635306153,16332.91992953586,1600.5887110846652,102.70575669209646,702.9415996383979,533.5815113029824,175.04189858675204,166.35839715159582,342.49030310469453,159.93925633544143,207.15549406563667,500.79659419754216,888.2762126393787,881.4012862067939,872.2783331793868,911.7137259060628,1941.247874247125,1474.7980889083296,2028.5478292673763,798.4122001361608,991.2329560641352,492.4221650869184,5504.669695528949,10281.958780719186,3780.128843071002,10240.73232644932,5617.356189410698,3792.776212233339,5957.000464089785,5297.16908318172,8404.031228425323,14036.838652156111,1076.6990172623198,390.7761120866032,206.9876615180754,582.9730887571076,258.8634587355067,210.9355906873768,357.13388063068635,189.24728756170632,309.0651376525695,750.0587465207058,1018.7999178928936,752.5615969007656,275.0762180640359,1022.2540474967324,1991.755979924751,956.6947332531784,1650.1607479174352,289.2066502832855,694.8243711567867,605.0826797474581,12550.223221792336,6189.569144,10461.85341456696,12734.009012409486,7374.456987983018,4211.869571768161,13275.780741136909,5058.829274780051,6972.234645438176,11739.81397873667,883.5259921,639.6307865929342,225.66641125104533,507.8676481254949,322.61925644085017,425.17052067300966,338.2115849857497,157.60270922044933,321.71752277463776,634.3511257,326.9249830913879,599.4676965015246,871.9291648863186,666.3679495164693,2092.707802625314,771.3812677800057,1730.8425263794568,1198.2300411359313,1003.2160608866616,1567.7919455005288,16218.594720354302,9871.851412780805,9517.670688547028,3868.383867479241,5747.705893646532,4659.962775159711,13382.22733345896,5469.746322,5963.806009155948,6624.272869865156,1744.9273465582085,103.39289574583658,370.2851163679746,292.3311607966336,349.7363132,439.3658685335501,386.98186203897455,151.9303305402957,267.3821117626926,502.4336768242174,1033.155453143613,531.7056493889854,861.4633119165419,1210.9098781595944,2135.2581534933543,735.7064786872193,1946.6624374884707,955.9641599164376,591.0319978186085,1079.7283759006582,15984.732280583024,8899.942770591202,3532.4408955271488,5493.711232339615,4191.842998380429,3849.625129374208,8850.077960951015,3593.6440762812726,8969.030110371472,10145.695959123086,151.9941613202497,1018.232341748825,277.3658975163647,453.8445956350321,320.1321717280873,293.97846468722423,243.2199563277612,188.6673095950038,214.8720573840411,821.4225068239679,741.5099193092833,252.04544962364912,1080.2942670962138,641.2621530091802,1898.2878519803487,402.3678729650195,2660.896241586454,606.8976058307425,957.2018256675468,475.33229483415215,160346.50118040683,89323.89703901627,102042.08984329636,112235.92529792692,19927.053769537048,20169.85319477851,133705.96028100033,102190.87567860076,102034.06485638044,162399.01626686862,4218.799434181842,1001.0602099299538,1276.713233596067,3410.377104366736,1225.0094364525005,1842.2791119214965,1228.27694101031,989.9163934448866,466.35083863580974,3660.287475964593,3621.2632743208223,3232.2270692776865,5162.165358098823,5284.0474478465385,8402.443975244274,4220.211945923549,11021.047182561211,3858.863409438108,1583.2977874398084,7758.318962273808,115654.3961718994,71537.32273,101637.23833726504,113104.84482874857,13164.90257613615,19928.784378365384,139563.63821492044,49101.72407985903,151348.33980554453,163915.971,9316.183424466715,2010.6863827918733,1917.32697276918,3460.967740412941,1678.8759136515291,1134.0107175143255,1222.2133434810005,330.8220577117721,941.1295611670282,2688.213351405353,4815.517216229491,1269.7664720916775,3005.7212454278297,6395.4539929626935,12031.471467726213,6593.719878418758,8526.230153484968,4014.670926360345,1550.4787447412004,5145.705457306499,53921.95261411322,44983.15865591068,73522.22673741999,91300.28069,26844.450236333232,13197.833384337877,179507.47904902254,49976.61109175719,50192.16895617153,114180.59772857664,7963.171511384594,3486.4768989206204,1259.2933260603832,2289.365830558105,1423.5780877694751,2163.038060553215,2054.701877789309,975.5538636,926.7620780799108,3651.0503996325897,4363.7469818424825,3718.740506260747,3779.0781038186055,5241.734272029035,5337.668867637293,3174.5014871982585,12884.588620652945,3919.972141736311,4789.130356183384,2621.234062503712,93685.35668,79578.71723899161,44234.2365754026,113519.97084857216,20220.19047,13644.273542693363,134677.49634229453,99734.67661941088,102805.08020289062,112873.5678686358,8206.772515978988,3725.2375423421377,3580.858032200957,2758.556191693728,1453.9414855486305,1503.8173701770793,1606.3912174605844,1342.5498031612467,1387.681159597165,896.0300512706964,3675.3291725801582,4010.762813281055,2292.574660246102,3153.9667073816204,12079.304335629024,5221.776545304231,8760.635405355792,2560.73987671177,1540.820923986886,7656.5203826814195,31893.847492151235,51771.73054803877,73981.84489498199,55627.96149930603,20553.74846387169,20089.14199402569,134731.95462498485,152667.35835357232,101841.78111682455,109278.5224545618,4937.238338036457,1736.758242002847,3251.370805873924,3066.2799561142974,953.4960141626182,1481.0357838589753,1689.0777152227852,669.2209677427195,934.5310541718792,1843.7671898310148,5216.733624669994,1239.8323868482305,1481.8792927763957,5452.096217450047,6805.815718374264,4296.260566574341,8518.414503509375,2636.604875592354,4711.369720223443,2617.268697231013,73765.63766486882,53145.272207939706,59420.16239493776,111875.98082874365,32494.43329685078,13400.5341689899,92877.06246,151182.48953316535,100929.28561644832,111477.4519246942,3033.042131841642,3013.305494506099,2573.762102015169,788.7957578612923,731.3354357209275,2215.9382001799736,834.6483734095156,326.97480055470817,897.9782723409796,2675.5310373586544,4513.0367304487145,2500.055840655719,4538.701680677719,6626.597623283213,12435.905838133793,3259.073135722598,10915.17149333605,3959.7466487369934,4663.566665629724,2492.7371313230574,128021.66814052028,17666.40097234562,102848.55229367832,73976.99457130473,26691.57862063143,20396.06500872164,134546.43404201147,150648.92786553132,151300.0615012888,162603.18637944586,7199.918061744373,2407.045409929025,3478.2228061378314,4128.775077628416,485.317264625452,1101.9125850771377,809.3516034034661,641.5622791362557,1894.197009433525,2728.100126714365,4335.507298761365,4941.518699326821,5353.503662909104,3259.6324013903586,5162.258445418729,4348.398600205085,8582.261221723056,3866.499580635997,3180.607417029696,2545.2063493008195,144071.7757958041,61585.66335,104045.33243364576,94676.22391,39087.12467331196,20455.44076701002,133691.7616807722,97741.29896,104624.09899257618,54360.55080507113,675.4208515819175,2698.119474,3462.454860680772,744.8334313006553,1215.391773911249,1522.902916464292,1209.622252856127,664.3296321,1421.1498342290488,2753.9390896288605,2663.8437139547286,3763.443864839087,5315.840429021662,3138.008441267367,10293.039235317046,3309.8284631354363,10599.95387422571,2703.614987,4658.242820760697,5118.325727539426,155761.9778062413,62202.65003674302,104970.7471005016,130557.83332702736,33548.77025568237,13504.679090048416,136485.41909127205,97627.3804,103066.41821507194,56229.60810413372,10244.392131976758,2944.9414217209123,2236.7329253996504,1555.5069228067284,1860.2460789676156,733.6061847678718,1662.6605908861504,674.1301973275174,923.1127786044794,910.438158108252,5821.861151014532,2429.8867723228605,3748.82093494288,2137.424547555022,8702.699592318082,4343.286959524311,6430.151600746417,2593.0676012649656,3129.4750622360807,2543.0186368749573,32286.767247351818,53879.955990694856,58618.59086739639,93041.56777,27036.55319379907,26594.902452163045,90537.59060532048,97557.6933741754,154937.48547454836,112003.42898323276,7741.566666129152,2739.350060715399,3861.6279859406022,1564.057632996769,738.2609931346509,1139.9052905687608,1235.5321476371228,977.0551105453908,936.4755472655212,1825.771670519881,1854.7378423352957,1649.88465521463,3793.874932707881,4399.846369774223,8425.773147888114,5230.058469499643,10814.234023005574,1295.868002893529,4692.009452973982,5130.067656616578,123703.3246326362,62049.58286878739,90639.39563343403,76322.01215475693,26005.664433605874,19454.43170424513,134934.94669153576,50796.150488830135,154541.08736469384,163967.08007046414,7199.411288915335,497.2942433079036,3587.0584003616023,2256.418488697017,984.9581014,733.6416028484042,1657.5096968953055,640.0607436645586,912.8445059343632,2796.203405802458,4961.723787360621,3618.598713793206,3627.721666820613,4288.286274093937,10652.752125752875,6325.201911,8371.452170732624,4001.5877998638393,4708.767043935864,2607.577834913081,42895.33030447105,60418.041219280814,44519.871156929,110359.26767355068,26782.643810589303,20507.223787766663,92242.99953591022,48802.83091681828,156895.96877157467,166263.16134784388,4923.300983,1709.2238879133968,963.0123384819246,3137.0269112428923,1191.1365412644932,1139.0644093126232,1642.8661193693138,1010.7527124382937,1370.9348623474305,3645.941253479294,4381.200082107106,3247.438403099234,1524.923781935964,4177.745952503268,10602.24402007525,4243.305266746822,8749.839252082566,1310.7933497167146,3105.1756288432134,2494.9173202525417,96349.77677820766,54410.43085636646,102238.14658543305,127965.99098759051,33125.543012016984,20088.13042823184,134024.2192588631,49041.17072521995,103227.76535456182,108460.18602126332,4716.474007892375,3560.3692134070657,944.3335887489546,2747.1323518745053,1707.3807435591498,1824.8294793269904,1661.7884150142504,642.3972907795506,1358.2824772253623,2662.648874,1473.075016908612,2400.532303498476,4528.070835113682,3233.6320504835307,8402.292197374685,3128.6187322199944,8669.157473620544,5201.769958864069,4696.783939113338,7732.208054499471,116881.4052796457,60828.14859,87082.32931145297,56431.61613252076,26652.294106353467,19640.03722484029,133917.77266654104,102730.2536777516,104236.19399084404,113575.72713013484,9855.072653441792,496.6071042541634,1579.7148836320252,1567.6688392033664,1680.2636867744009,2260.634131,1613.018137961025,648.0696694597043,1412.6178882373074,2794.5663231757826,5716.844546856387,2968.2943506110146,4538.536688083458,5289.090121840405,10458.741846506646,3164.2935213127807,8453.337563,3844.035840083562,3208.9680021813915,5120.271624099341,141315.26771941697,51700.05723,60867.55910447285,95006.2887676604,20108.15700161957,20450.37487062579,138449.92203904898,50506.35592371873,156330.96988962853,110054.30404087692,648.0058386797502,4081.767658251175,1282.6341024836352,1871.155404364968,1709.867828271913,1506.0215353127758,1256.780043672239,1011.332690404996,905.1279426159588,3574.577493176032,3758.4900806907167,1247.9545503763509,5219.705732903786,3258.737847,10695.712148019653,2197.6321270349804,12939.103758413548,2593.1023941692574,4742.7981743324535,2624.667705165848],\"y0\":\" \",\"yaxis\":\"y\",\"type\":\"box\"}],                        {\"template\":{\"data\":{\"histogram2dcontour\":[{\"type\":\"histogram2dcontour\",\"colorbar\":{\"outlinewidth\":0,\"ticks\":\"\"},\"colorscale\":[[0.0,\"#0d0887\"],[0.1111111111111111,\"#46039f\"],[0.2222222222222222,\"#7201a8\"],[0.3333333333333333,\"#9c179e\"],[0.4444444444444444,\"#bd3786\"],[0.5555555555555556,\"#d8576b\"],[0.6666666666666666,\"#ed7953\"],[0.7777777777777778,\"#fb9f3a\"],[0.8888888888888888,\"#fdca26\"],[1.0,\"#f0f921\"]]}],\"choropleth\":[{\"type\":\"choropleth\",\"colorbar\":{\"outlinewidth\":0,\"ticks\":\"\"}}],\"histogram2d\":[{\"type\":\"histogram2d\",\"colorbar\":{\"outlinewidth\":0,\"ticks\":\"\"},\"colorscale\":[[0.0,\"#0d0887\"],[0.1111111111111111,\"#46039f\"],[0.2222222222222222,\"#7201a8\"],[0.3333333333333333,\"#9c179e\"],[0.4444444444444444,\"#bd3786\"],[0.5555555555555556,\"#d8576b\"],[0.6666666666666666,\"#ed7953\"],[0.7777777777777778,\"#fb9f3a\"],[0.8888888888888888,\"#fdca26\"],[1.0,\"#f0f921\"]]}],\"heatmap\":[{\"type\":\"heatmap\",\"colorbar\":{\"outlinewidth\":0,\"ticks\":\"\"},\"colorscale\":[[0.0,\"#0d0887\"],[0.1111111111111111,\"#46039f\"],[0.2222222222222222,\"#7201a8\"],[0.3333333333333333,\"#9c179e\"],[0.4444444444444444,\"#bd3786\"],[0.5555555555555556,\"#d8576b\"],[0.6666666666666666,\"#ed7953\"],[0.7777777777777778,\"#fb9f3a\"],[0.8888888888888888,\"#fdca26\"],[1.0,\"#f0f921\"]]}],\"heatmapgl\":[{\"type\":\"heatmapgl\",\"colorbar\":{\"outlinewidth\":0,\"ticks\":\"\"},\"colorscale\":[[0.0,\"#0d0887\"],[0.1111111111111111,\"#46039f\"],[0.2222222222222222,\"#7201a8\"],[0.3333333333333333,\"#9c179e\"],[0.4444444444444444,\"#bd3786\"],[0.5555555555555556,\"#d8576b\"],[0.6666666666666666,\"#ed7953\"],[0.7777777777777778,\"#fb9f3a\"],[0.8888888888888888,\"#fdca26\"],[1.0,\"#f0f921\"]]}],\"contourcarpet\":[{\"type\":\"contourcarpet\",\"colorbar\":{\"outlinewidth\":0,\"ticks\":\"\"}}],\"contour\":[{\"type\":\"contour\",\"colorbar\":{\"outlinewidth\":0,\"ticks\":\"\"},\"colorscale\":[[0.0,\"#0d0887\"],[0.1111111111111111,\"#46039f\"],[0.2222222222222222,\"#7201a8\"],[0.3333333333333333,\"#9c179e\"],[0.4444444444444444,\"#bd3786\"],[0.5555555555555556,\"#d8576b\"],[0.6666666666666666,\"#ed7953\"],[0.7777777777777778,\"#fb9f3a\"],[0.8888888888888888,\"#fdca26\"],[1.0,\"#f0f921\"]]}],\"surface\":[{\"type\":\"surface\",\"colorbar\":{\"outlinewidth\":0,\"ticks\":\"\"},\"colorscale\":[[0.0,\"#0d0887\"],[0.1111111111111111,\"#46039f\"],[0.2222222222222222,\"#7201a8\"],[0.3333333333333333,\"#9c179e\"],[0.4444444444444444,\"#bd3786\"],[0.5555555555555556,\"#d8576b\"],[0.6666666666666666,\"#ed7953\"],[0.7777777777777778,\"#fb9f3a\"],[0.8888888888888888,\"#fdca26\"],[1.0,\"#f0f921\"]]}],\"mesh3d\":[{\"type\":\"mesh3d\",\"colorbar\":{\"outlinewidth\":0,\"ticks\":\"\"}}],\"scatter\":[{\"fillpattern\":{\"fillmode\":\"overlay\",\"size\":10,\"solidity\":0.2},\"type\":\"scatter\"}],\"parcoords\":[{\"type\":\"parcoords\",\"line\":{\"colorbar\":{\"outlinewidth\":0,\"ticks\":\"\"}}}],\"scatterpolargl\":[{\"type\":\"scatterpolargl\",\"marker\":{\"colorbar\":{\"outlinewidth\":0,\"ticks\":\"\"}}}],\"bar\":[{\"error_x\":{\"color\":\"#2a3f5f\"},\"error_y\":{\"color\":\"#2a3f5f\"},\"marker\":{\"line\":{\"color\":\"#E5ECF6\",\"width\":0.5},\"pattern\":{\"fillmode\":\"overlay\",\"size\":10,\"solidity\":0.2}},\"type\":\"bar\"}],\"scattergeo\":[{\"type\":\"scattergeo\",\"marker\":{\"colorbar\":{\"outlinewidth\":0,\"ticks\":\"\"}}}],\"scatterpolar\":[{\"type\":\"scatterpolar\",\"marker\":{\"colorbar\":{\"outlinewidth\":0,\"ticks\":\"\"}}}],\"histogram\":[{\"marker\":{\"pattern\":{\"fillmode\":\"overlay\",\"size\":10,\"solidity\":0.2}},\"type\":\"histogram\"}],\"scattergl\":[{\"type\":\"scattergl\",\"marker\":{\"colorbar\":{\"outlinewidth\":0,\"ticks\":\"\"}}}],\"scatter3d\":[{\"type\":\"scatter3d\",\"line\":{\"colorbar\":{\"outlinewidth\":0,\"ticks\":\"\"}},\"marker\":{\"colorbar\":{\"outlinewidth\":0,\"ticks\":\"\"}}}],\"scattermapbox\":[{\"type\":\"scattermapbox\",\"marker\":{\"colorbar\":{\"outlinewidth\":0,\"ticks\":\"\"}}}],\"scatterternary\":[{\"type\":\"scatterternary\",\"marker\":{\"colorbar\":{\"outlinewidth\":0,\"ticks\":\"\"}}}],\"scattercarpet\":[{\"type\":\"scattercarpet\",\"marker\":{\"colorbar\":{\"outlinewidth\":0,\"ticks\":\"\"}}}],\"carpet\":[{\"aaxis\":{\"endlinecolor\":\"#2a3f5f\",\"gridcolor\":\"white\",\"linecolor\":\"white\",\"minorgridcolor\":\"white\",\"startlinecolor\":\"#2a3f5f\"},\"baxis\":{\"endlinecolor\":\"#2a3f5f\",\"gridcolor\":\"white\",\"linecolor\":\"white\",\"minorgridcolor\":\"white\",\"startlinecolor\":\"#2a3f5f\"},\"type\":\"carpet\"}],\"table\":[{\"cells\":{\"fill\":{\"color\":\"#EBF0F8\"},\"line\":{\"color\":\"white\"}},\"header\":{\"fill\":{\"color\":\"#C8D4E3\"},\"line\":{\"color\":\"white\"}},\"type\":\"table\"}],\"barpolar\":[{\"marker\":{\"line\":{\"color\":\"#E5ECF6\",\"width\":0.5},\"pattern\":{\"fillmode\":\"overlay\",\"size\":10,\"solidity\":0.2}},\"type\":\"barpolar\"}],\"pie\":[{\"automargin\":true,\"type\":\"pie\"}]},\"layout\":{\"autotypenumbers\":\"strict\",\"colorway\":[\"#636efa\",\"#EF553B\",\"#00cc96\",\"#ab63fa\",\"#FFA15A\",\"#19d3f3\",\"#FF6692\",\"#B6E880\",\"#FF97FF\",\"#FECB52\"],\"font\":{\"color\":\"#2a3f5f\"},\"hovermode\":\"closest\",\"hoverlabel\":{\"align\":\"left\"},\"paper_bgcolor\":\"white\",\"plot_bgcolor\":\"#E5ECF6\",\"polar\":{\"bgcolor\":\"#E5ECF6\",\"angularaxis\":{\"gridcolor\":\"white\",\"linecolor\":\"white\",\"ticks\":\"\"},\"radialaxis\":{\"gridcolor\":\"white\",\"linecolor\":\"white\",\"ticks\":\"\"}},\"ternary\":{\"bgcolor\":\"#E5ECF6\",\"aaxis\":{\"gridcolor\":\"white\",\"linecolor\":\"white\",\"ticks\":\"\"},\"baxis\":{\"gridcolor\":\"white\",\"linecolor\":\"white\",\"ticks\":\"\"},\"caxis\":{\"gridcolor\":\"white\",\"linecolor\":\"white\",\"ticks\":\"\"}},\"coloraxis\":{\"colorbar\":{\"outlinewidth\":0,\"ticks\":\"\"}},\"colorscale\":{\"sequential\":[[0.0,\"#0d0887\"],[0.1111111111111111,\"#46039f\"],[0.2222222222222222,\"#7201a8\"],[0.3333333333333333,\"#9c179e\"],[0.4444444444444444,\"#bd3786\"],[0.5555555555555556,\"#d8576b\"],[0.6666666666666666,\"#ed7953\"],[0.7777777777777778,\"#fb9f3a\"],[0.8888888888888888,\"#fdca26\"],[1.0,\"#f0f921\"]],\"sequentialminus\":[[0.0,\"#0d0887\"],[0.1111111111111111,\"#46039f\"],[0.2222222222222222,\"#7201a8\"],[0.3333333333333333,\"#9c179e\"],[0.4444444444444444,\"#bd3786\"],[0.5555555555555556,\"#d8576b\"],[0.6666666666666666,\"#ed7953\"],[0.7777777777777778,\"#fb9f3a\"],[0.8888888888888888,\"#fdca26\"],[1.0,\"#f0f921\"]],\"diverging\":[[0,\"#8e0152\"],[0.1,\"#c51b7d\"],[0.2,\"#de77ae\"],[0.3,\"#f1b6da\"],[0.4,\"#fde0ef\"],[0.5,\"#f7f7f7\"],[0.6,\"#e6f5d0\"],[0.7,\"#b8e186\"],[0.8,\"#7fbc41\"],[0.9,\"#4d9221\"],[1,\"#276419\"]]},\"xaxis\":{\"gridcolor\":\"white\",\"linecolor\":\"white\",\"ticks\":\"\",\"title\":{\"standoff\":15},\"zerolinecolor\":\"white\",\"automargin\":true,\"zerolinewidth\":2},\"yaxis\":{\"gridcolor\":\"white\",\"linecolor\":\"white\",\"ticks\":\"\",\"title\":{\"standoff\":15},\"zerolinecolor\":\"white\",\"automargin\":true,\"zerolinewidth\":2},\"scene\":{\"xaxis\":{\"backgroundcolor\":\"#E5ECF6\",\"gridcolor\":\"white\",\"linecolor\":\"white\",\"showbackground\":true,\"ticks\":\"\",\"zerolinecolor\":\"white\",\"gridwidth\":2},\"yaxis\":{\"backgroundcolor\":\"#E5ECF6\",\"gridcolor\":\"white\",\"linecolor\":\"white\",\"showbackground\":true,\"ticks\":\"\",\"zerolinecolor\":\"white\",\"gridwidth\":2},\"zaxis\":{\"backgroundcolor\":\"#E5ECF6\",\"gridcolor\":\"white\",\"linecolor\":\"white\",\"showbackground\":true,\"ticks\":\"\",\"zerolinecolor\":\"white\",\"gridwidth\":2}},\"shapedefaults\":{\"line\":{\"color\":\"#2a3f5f\"}},\"annotationdefaults\":{\"arrowcolor\":\"#2a3f5f\",\"arrowhead\":0,\"arrowwidth\":1},\"geo\":{\"bgcolor\":\"white\",\"landcolor\":\"#E5ECF6\",\"subunitcolor\":\"white\",\"showland\":true,\"showlakes\":true,\"lakecolor\":\"white\"},\"title\":{\"x\":0.05},\"mapbox\":{\"style\":\"light\"}}},\"xaxis\":{\"anchor\":\"y\",\"domain\":[0.0,1.0],\"title\":{\"text\":\"variable\"}},\"yaxis\":{\"anchor\":\"x\",\"domain\":[0.0,1.0],\"title\":{\"text\":\"value\"}},\"legend\":{\"tracegroupgap\":0},\"margin\":{\"t\":60},\"boxmode\":\"group\",\"height\":600,\"width\":600},                        {\"responsive\": true}                    ).then(function(){\n",
       "                            \n",
       "var gd = document.getElementById('ecd75d04-0bfb-46c5-bd3e-22e8ea1c5c56');\n",
       "var x = new MutationObserver(function (mutations, observer) {{\n",
       "        var display = window.getComputedStyle(gd).display;\n",
       "        if (!display || display === 'none') {{\n",
       "            console.log([gd, 'removed!']);\n",
       "            Plotly.purge(gd);\n",
       "            observer.disconnect();\n",
       "        }}\n",
       "}});\n",
       "\n",
       "// Listen for the removal of the full notebook cells\n",
       "var notebookContainer = gd.closest('#notebook-container');\n",
       "if (notebookContainer) {{\n",
       "    x.observe(notebookContainer, {childList: true});\n",
       "}}\n",
       "\n",
       "// Listen for the clearing of the current output cell\n",
       "var outputEl = gd.closest('.output');\n",
       "if (outputEl) {{\n",
       "    x.observe(outputEl, {childList: true});\n",
       "}}\n",
       "\n",
       "                        })                };                });            </script>        </div>"
      ]
     },
     "metadata": {},
     "output_type": "display_data"
    }
   ],
   "source": [
    "import plotly.express as px\n",
    "ax=px.box(df_num,width=600,height=600)\n",
    "ax.show()"
   ]
  },
  {
   "cell_type": "markdown",
   "id": "e1669c08-0861-4909-bde1-9de003ce2595",
   "metadata": {},
   "source": [
    "# so from box plot we can observe the outer layer even we can values of diferent quardant in seond plotply box plot"
   ]
  },
  {
   "cell_type": "code",
   "execution_count": 204,
   "id": "4706086a-83a5-4f20-8348-c14dc89630cc",
   "metadata": {},
   "outputs": [],
   "source": [
    "df_cat=df.select_dtypes(include=[\"object\"])"
   ]
  },
  {
   "cell_type": "code",
   "execution_count": 205,
   "id": "1544282b-ded0-4359-a4f6-c31893b912e7",
   "metadata": {},
   "outputs": [
    {
     "data": {
      "text/html": [
       "<div>\n",
       "<style scoped>\n",
       "    .dataframe tbody tr th:only-of-type {\n",
       "        vertical-align: middle;\n",
       "    }\n",
       "\n",
       "    .dataframe tbody tr th {\n",
       "        vertical-align: top;\n",
       "    }\n",
       "\n",
       "    .dataframe thead th {\n",
       "        text-align: right;\n",
       "    }\n",
       "</style>\n",
       "<table border=\"1\" class=\"dataframe\">\n",
       "  <thead>\n",
       "    <tr style=\"text-align: right;\">\n",
       "      <th></th>\n",
       "      <th>Date</th>\n",
       "      <th>Day</th>\n",
       "      <th>SKU</th>\n",
       "      <th>City</th>\n",
       "      <th>BU</th>\n",
       "      <th>Brand</th>\n",
       "      <th>Model</th>\n",
       "    </tr>\n",
       "  </thead>\n",
       "  <tbody>\n",
       "    <tr>\n",
       "      <th>0</th>\n",
       "      <td>01-04-2021</td>\n",
       "      <td>Thursday</td>\n",
       "      <td>M01</td>\n",
       "      <td>C</td>\n",
       "      <td>Mobiles</td>\n",
       "      <td>RealU</td>\n",
       "      <td>RU-10</td>\n",
       "    </tr>\n",
       "    <tr>\n",
       "      <th>1</th>\n",
       "      <td>01-04-2021</td>\n",
       "      <td>Thursday</td>\n",
       "      <td>M02</td>\n",
       "      <td>C</td>\n",
       "      <td>Mobiles</td>\n",
       "      <td>RealU</td>\n",
       "      <td>RU-9 Plus</td>\n",
       "    </tr>\n",
       "    <tr>\n",
       "      <th>2</th>\n",
       "      <td>01-04-2021</td>\n",
       "      <td>Thursday</td>\n",
       "      <td>M03</td>\n",
       "      <td>C</td>\n",
       "      <td>Mobiles</td>\n",
       "      <td>YouM</td>\n",
       "      <td>YM-99</td>\n",
       "    </tr>\n",
       "    <tr>\n",
       "      <th>3</th>\n",
       "      <td>01-04-2021</td>\n",
       "      <td>Thursday</td>\n",
       "      <td>M04</td>\n",
       "      <td>C</td>\n",
       "      <td>Mobiles</td>\n",
       "      <td>YouM</td>\n",
       "      <td>YM-99 Plus</td>\n",
       "    </tr>\n",
       "    <tr>\n",
       "      <th>4</th>\n",
       "      <td>01-04-2021</td>\n",
       "      <td>Thursday</td>\n",
       "      <td>M05</td>\n",
       "      <td>C</td>\n",
       "      <td>Mobiles</td>\n",
       "      <td>YouM</td>\n",
       "      <td>YM-98</td>\n",
       "    </tr>\n",
       "  </tbody>\n",
       "</table>\n",
       "</div>"
      ],
      "text/plain": [
       "         Date       Day  SKU City       BU  Brand       Model\n",
       "0  01-04-2021  Thursday  M01    C  Mobiles  RealU       RU-10\n",
       "1  01-04-2021  Thursday  M02    C  Mobiles  RealU   RU-9 Plus\n",
       "2  01-04-2021  Thursday  M03    C  Mobiles   YouM       YM-99\n",
       "3  01-04-2021  Thursday  M04    C  Mobiles   YouM  YM-99 Plus\n",
       "4  01-04-2021  Thursday  M05    C  Mobiles   YouM      YM-98 "
      ]
     },
     "execution_count": 205,
     "metadata": {},
     "output_type": "execute_result"
    }
   ],
   "source": [
    "df_cat.head()"
   ]
  },
  {
   "cell_type": "code",
   "execution_count": 206,
   "id": "5127f8a7-8f32-4ed4-969b-67f34499841c",
   "metadata": {},
   "outputs": [],
   "source": [
    "brand=df_cat[\"Brand\"].value_counts().reset_index()\n",
    "brand.columns=[\"Brand\", \"count\"]"
   ]
  },
  {
   "cell_type": "code",
   "execution_count": 207,
   "id": "4914376d-b2f6-4c4e-966a-582cefa71662",
   "metadata": {},
   "outputs": [],
   "source": [
    "ax=px.bar(brand,x=\"Brand\",y=\"count\",color=\"Brand\",text=\"count\",title=\"brand count\")"
   ]
  },
  {
   "cell_type": "code",
   "execution_count": 208,
   "id": "4bc450da-dbb8-44f1-b495-da3c119f3c5c",
   "metadata": {},
   "outputs": [
    {
     "data": {
      "application/vnd.plotly.v1+json": {
       "config": {
        "plotlyServerURL": "https://plot.ly"
       },
       "data": [
        {
         "alignmentgroup": "True",
         "hovertemplate": "Brand=%{x}<br>count=%{text}<extra></extra>",
         "legendgroup": "Jeera",
         "marker": {
          "color": "#636efa",
          "pattern": {
           "shape": ""
          }
         },
         "name": "Jeera",
         "offsetgroup": "Jeera",
         "orientation": "v",
         "showlegend": true,
         "text": [
          90
         ],
         "textposition": "auto",
         "type": "bar",
         "x": [
          "Jeera"
         ],
         "xaxis": "x",
         "y": [
          90
         ],
         "yaxis": "y"
        },
        {
         "alignmentgroup": "True",
         "hovertemplate": "Brand=%{x}<br>count=%{text}<extra></extra>",
         "legendgroup": "Gear",
         "marker": {
          "color": "#EF553B",
          "pattern": {
           "shape": ""
          }
         },
         "name": "Gear",
         "offsetgroup": "Gear",
         "orientation": "v",
         "showlegend": true,
         "text": [
          60
         ],
         "textposition": "auto",
         "type": "bar",
         "x": [
          "Gear"
         ],
         "xaxis": "x",
         "y": [
          60
         ],
         "yaxis": "y"
        },
        {
         "alignmentgroup": "True",
         "hovertemplate": "Brand=%{x}<br>count=%{text}<extra></extra>",
         "legendgroup": "Viva",
         "marker": {
          "color": "#00cc96",
          "pattern": {
           "shape": ""
          }
         },
         "name": "Viva",
         "offsetgroup": "Viva",
         "orientation": "v",
         "showlegend": true,
         "text": [
          60
         ],
         "textposition": "auto",
         "type": "bar",
         "x": [
          "Viva"
         ],
         "xaxis": "x",
         "y": [
          60
         ],
         "yaxis": "y"
        },
        {
         "alignmentgroup": "True",
         "hovertemplate": "Brand=%{x}<br>count=%{text}<extra></extra>",
         "legendgroup": "RealU",
         "marker": {
          "color": "#ab63fa",
          "pattern": {
           "shape": ""
          }
         },
         "name": "RealU",
         "offsetgroup": "RealU",
         "orientation": "v",
         "showlegend": true,
         "text": [
          45
         ],
         "textposition": "auto",
         "type": "bar",
         "x": [
          "RealU"
         ],
         "xaxis": "x",
         "y": [
          45
         ],
         "yaxis": "y"
        },
        {
         "alignmentgroup": "True",
         "hovertemplate": "Brand=%{x}<br>count=%{text}<extra></extra>",
         "legendgroup": "YouM",
         "marker": {
          "color": "#FFA15A",
          "pattern": {
           "shape": ""
          }
         },
         "name": "YouM",
         "offsetgroup": "YouM",
         "orientation": "v",
         "showlegend": true,
         "text": [
          45
         ],
         "textposition": "auto",
         "type": "bar",
         "x": [
          "YouM"
         ],
         "xaxis": "x",
         "y": [
          45
         ],
         "yaxis": "y"
        },
        {
         "alignmentgroup": "True",
         "hovertemplate": "Brand=%{x}<br>count=%{text}<extra></extra>",
         "legendgroup": "Babaji",
         "marker": {
          "color": "#19d3f3",
          "pattern": {
           "shape": ""
          }
         },
         "name": "Babaji",
         "offsetgroup": "Babaji",
         "orientation": "v",
         "showlegend": true,
         "text": [
          45
         ],
         "textposition": "auto",
         "type": "bar",
         "x": [
          "Babaji"
         ],
         "xaxis": "x",
         "y": [
          45
         ],
         "yaxis": "y"
        },
        {
         "alignmentgroup": "True",
         "hovertemplate": "Brand=%{x}<br>count=%{text}<extra></extra>",
         "legendgroup": "Vedic",
         "marker": {
          "color": "#FF6692",
          "pattern": {
           "shape": ""
          }
         },
         "name": "Vedic",
         "offsetgroup": "Vedic",
         "orientation": "v",
         "showlegend": true,
         "text": [
          45
         ],
         "textposition": "auto",
         "type": "bar",
         "x": [
          "Vedic"
         ],
         "xaxis": "x",
         "y": [
          45
         ],
         "yaxis": "y"
        },
        {
         "alignmentgroup": "True",
         "hovertemplate": "Brand=%{x}<br>count=%{text}<extra></extra>",
         "legendgroup": "Sumsang",
         "marker": {
          "color": "#B6E880",
          "pattern": {
           "shape": ""
          }
         },
         "name": "Sumsang",
         "offsetgroup": "Sumsang",
         "orientation": "v",
         "showlegend": true,
         "text": [
          30
         ],
         "textposition": "auto",
         "type": "bar",
         "x": [
          "Sumsang"
         ],
         "xaxis": "x",
         "y": [
          30
         ],
         "yaxis": "y"
        },
        {
         "alignmentgroup": "True",
         "hovertemplate": "Brand=%{x}<br>count=%{text}<extra></extra>",
         "legendgroup": "Orange",
         "marker": {
          "color": "#FF97FF",
          "pattern": {
           "shape": ""
          }
         },
         "name": "Orange",
         "offsetgroup": "Orange",
         "orientation": "v",
         "showlegend": true,
         "text": [
          30
         ],
         "textposition": "auto",
         "type": "bar",
         "x": [
          "Orange"
         ],
         "xaxis": "x",
         "y": [
          30
         ],
         "yaxis": "y"
        }
       ],
       "layout": {
        "autosize": true,
        "barmode": "relative",
        "legend": {
         "title": {
          "text": "Brand"
         },
         "tracegroupgap": 0
        },
        "template": {
         "data": {
          "bar": [
           {
            "error_x": {
             "color": "#2a3f5f"
            },
            "error_y": {
             "color": "#2a3f5f"
            },
            "marker": {
             "line": {
              "color": "#E5ECF6",
              "width": 0.5
             },
             "pattern": {
              "fillmode": "overlay",
              "size": 10,
              "solidity": 0.2
             }
            },
            "type": "bar"
           }
          ],
          "barpolar": [
           {
            "marker": {
             "line": {
              "color": "#E5ECF6",
              "width": 0.5
             },
             "pattern": {
              "fillmode": "overlay",
              "size": 10,
              "solidity": 0.2
             }
            },
            "type": "barpolar"
           }
          ],
          "carpet": [
           {
            "aaxis": {
             "endlinecolor": "#2a3f5f",
             "gridcolor": "white",
             "linecolor": "white",
             "minorgridcolor": "white",
             "startlinecolor": "#2a3f5f"
            },
            "baxis": {
             "endlinecolor": "#2a3f5f",
             "gridcolor": "white",
             "linecolor": "white",
             "minorgridcolor": "white",
             "startlinecolor": "#2a3f5f"
            },
            "type": "carpet"
           }
          ],
          "choropleth": [
           {
            "colorbar": {
             "outlinewidth": 0,
             "ticks": ""
            },
            "type": "choropleth"
           }
          ],
          "contour": [
           {
            "colorbar": {
             "outlinewidth": 0,
             "ticks": ""
            },
            "colorscale": [
             [
              0,
              "#0d0887"
             ],
             [
              0.1111111111111111,
              "#46039f"
             ],
             [
              0.2222222222222222,
              "#7201a8"
             ],
             [
              0.3333333333333333,
              "#9c179e"
             ],
             [
              0.4444444444444444,
              "#bd3786"
             ],
             [
              0.5555555555555556,
              "#d8576b"
             ],
             [
              0.6666666666666666,
              "#ed7953"
             ],
             [
              0.7777777777777778,
              "#fb9f3a"
             ],
             [
              0.8888888888888888,
              "#fdca26"
             ],
             [
              1,
              "#f0f921"
             ]
            ],
            "type": "contour"
           }
          ],
          "contourcarpet": [
           {
            "colorbar": {
             "outlinewidth": 0,
             "ticks": ""
            },
            "type": "contourcarpet"
           }
          ],
          "heatmap": [
           {
            "colorbar": {
             "outlinewidth": 0,
             "ticks": ""
            },
            "colorscale": [
             [
              0,
              "#0d0887"
             ],
             [
              0.1111111111111111,
              "#46039f"
             ],
             [
              0.2222222222222222,
              "#7201a8"
             ],
             [
              0.3333333333333333,
              "#9c179e"
             ],
             [
              0.4444444444444444,
              "#bd3786"
             ],
             [
              0.5555555555555556,
              "#d8576b"
             ],
             [
              0.6666666666666666,
              "#ed7953"
             ],
             [
              0.7777777777777778,
              "#fb9f3a"
             ],
             [
              0.8888888888888888,
              "#fdca26"
             ],
             [
              1,
              "#f0f921"
             ]
            ],
            "type": "heatmap"
           }
          ],
          "heatmapgl": [
           {
            "colorbar": {
             "outlinewidth": 0,
             "ticks": ""
            },
            "colorscale": [
             [
              0,
              "#0d0887"
             ],
             [
              0.1111111111111111,
              "#46039f"
             ],
             [
              0.2222222222222222,
              "#7201a8"
             ],
             [
              0.3333333333333333,
              "#9c179e"
             ],
             [
              0.4444444444444444,
              "#bd3786"
             ],
             [
              0.5555555555555556,
              "#d8576b"
             ],
             [
              0.6666666666666666,
              "#ed7953"
             ],
             [
              0.7777777777777778,
              "#fb9f3a"
             ],
             [
              0.8888888888888888,
              "#fdca26"
             ],
             [
              1,
              "#f0f921"
             ]
            ],
            "type": "heatmapgl"
           }
          ],
          "histogram": [
           {
            "marker": {
             "pattern": {
              "fillmode": "overlay",
              "size": 10,
              "solidity": 0.2
             }
            },
            "type": "histogram"
           }
          ],
          "histogram2d": [
           {
            "colorbar": {
             "outlinewidth": 0,
             "ticks": ""
            },
            "colorscale": [
             [
              0,
              "#0d0887"
             ],
             [
              0.1111111111111111,
              "#46039f"
             ],
             [
              0.2222222222222222,
              "#7201a8"
             ],
             [
              0.3333333333333333,
              "#9c179e"
             ],
             [
              0.4444444444444444,
              "#bd3786"
             ],
             [
              0.5555555555555556,
              "#d8576b"
             ],
             [
              0.6666666666666666,
              "#ed7953"
             ],
             [
              0.7777777777777778,
              "#fb9f3a"
             ],
             [
              0.8888888888888888,
              "#fdca26"
             ],
             [
              1,
              "#f0f921"
             ]
            ],
            "type": "histogram2d"
           }
          ],
          "histogram2dcontour": [
           {
            "colorbar": {
             "outlinewidth": 0,
             "ticks": ""
            },
            "colorscale": [
             [
              0,
              "#0d0887"
             ],
             [
              0.1111111111111111,
              "#46039f"
             ],
             [
              0.2222222222222222,
              "#7201a8"
             ],
             [
              0.3333333333333333,
              "#9c179e"
             ],
             [
              0.4444444444444444,
              "#bd3786"
             ],
             [
              0.5555555555555556,
              "#d8576b"
             ],
             [
              0.6666666666666666,
              "#ed7953"
             ],
             [
              0.7777777777777778,
              "#fb9f3a"
             ],
             [
              0.8888888888888888,
              "#fdca26"
             ],
             [
              1,
              "#f0f921"
             ]
            ],
            "type": "histogram2dcontour"
           }
          ],
          "mesh3d": [
           {
            "colorbar": {
             "outlinewidth": 0,
             "ticks": ""
            },
            "type": "mesh3d"
           }
          ],
          "parcoords": [
           {
            "line": {
             "colorbar": {
              "outlinewidth": 0,
              "ticks": ""
             }
            },
            "type": "parcoords"
           }
          ],
          "pie": [
           {
            "automargin": true,
            "type": "pie"
           }
          ],
          "scatter": [
           {
            "fillpattern": {
             "fillmode": "overlay",
             "size": 10,
             "solidity": 0.2
            },
            "type": "scatter"
           }
          ],
          "scatter3d": [
           {
            "line": {
             "colorbar": {
              "outlinewidth": 0,
              "ticks": ""
             }
            },
            "marker": {
             "colorbar": {
              "outlinewidth": 0,
              "ticks": ""
             }
            },
            "type": "scatter3d"
           }
          ],
          "scattercarpet": [
           {
            "marker": {
             "colorbar": {
              "outlinewidth": 0,
              "ticks": ""
             }
            },
            "type": "scattercarpet"
           }
          ],
          "scattergeo": [
           {
            "marker": {
             "colorbar": {
              "outlinewidth": 0,
              "ticks": ""
             }
            },
            "type": "scattergeo"
           }
          ],
          "scattergl": [
           {
            "marker": {
             "colorbar": {
              "outlinewidth": 0,
              "ticks": ""
             }
            },
            "type": "scattergl"
           }
          ],
          "scattermapbox": [
           {
            "marker": {
             "colorbar": {
              "outlinewidth": 0,
              "ticks": ""
             }
            },
            "type": "scattermapbox"
           }
          ],
          "scatterpolar": [
           {
            "marker": {
             "colorbar": {
              "outlinewidth": 0,
              "ticks": ""
             }
            },
            "type": "scatterpolar"
           }
          ],
          "scatterpolargl": [
           {
            "marker": {
             "colorbar": {
              "outlinewidth": 0,
              "ticks": ""
             }
            },
            "type": "scatterpolargl"
           }
          ],
          "scatterternary": [
           {
            "marker": {
             "colorbar": {
              "outlinewidth": 0,
              "ticks": ""
             }
            },
            "type": "scatterternary"
           }
          ],
          "surface": [
           {
            "colorbar": {
             "outlinewidth": 0,
             "ticks": ""
            },
            "colorscale": [
             [
              0,
              "#0d0887"
             ],
             [
              0.1111111111111111,
              "#46039f"
             ],
             [
              0.2222222222222222,
              "#7201a8"
             ],
             [
              0.3333333333333333,
              "#9c179e"
             ],
             [
              0.4444444444444444,
              "#bd3786"
             ],
             [
              0.5555555555555556,
              "#d8576b"
             ],
             [
              0.6666666666666666,
              "#ed7953"
             ],
             [
              0.7777777777777778,
              "#fb9f3a"
             ],
             [
              0.8888888888888888,
              "#fdca26"
             ],
             [
              1,
              "#f0f921"
             ]
            ],
            "type": "surface"
           }
          ],
          "table": [
           {
            "cells": {
             "fill": {
              "color": "#EBF0F8"
             },
             "line": {
              "color": "white"
             }
            },
            "header": {
             "fill": {
              "color": "#C8D4E3"
             },
             "line": {
              "color": "white"
             }
            },
            "type": "table"
           }
          ]
         },
         "layout": {
          "annotationdefaults": {
           "arrowcolor": "#2a3f5f",
           "arrowhead": 0,
           "arrowwidth": 1
          },
          "autotypenumbers": "strict",
          "coloraxis": {
           "colorbar": {
            "outlinewidth": 0,
            "ticks": ""
           }
          },
          "colorscale": {
           "diverging": [
            [
             0,
             "#8e0152"
            ],
            [
             0.1,
             "#c51b7d"
            ],
            [
             0.2,
             "#de77ae"
            ],
            [
             0.3,
             "#f1b6da"
            ],
            [
             0.4,
             "#fde0ef"
            ],
            [
             0.5,
             "#f7f7f7"
            ],
            [
             0.6,
             "#e6f5d0"
            ],
            [
             0.7,
             "#b8e186"
            ],
            [
             0.8,
             "#7fbc41"
            ],
            [
             0.9,
             "#4d9221"
            ],
            [
             1,
             "#276419"
            ]
           ],
           "sequential": [
            [
             0,
             "#0d0887"
            ],
            [
             0.1111111111111111,
             "#46039f"
            ],
            [
             0.2222222222222222,
             "#7201a8"
            ],
            [
             0.3333333333333333,
             "#9c179e"
            ],
            [
             0.4444444444444444,
             "#bd3786"
            ],
            [
             0.5555555555555556,
             "#d8576b"
            ],
            [
             0.6666666666666666,
             "#ed7953"
            ],
            [
             0.7777777777777778,
             "#fb9f3a"
            ],
            [
             0.8888888888888888,
             "#fdca26"
            ],
            [
             1,
             "#f0f921"
            ]
           ],
           "sequentialminus": [
            [
             0,
             "#0d0887"
            ],
            [
             0.1111111111111111,
             "#46039f"
            ],
            [
             0.2222222222222222,
             "#7201a8"
            ],
            [
             0.3333333333333333,
             "#9c179e"
            ],
            [
             0.4444444444444444,
             "#bd3786"
            ],
            [
             0.5555555555555556,
             "#d8576b"
            ],
            [
             0.6666666666666666,
             "#ed7953"
            ],
            [
             0.7777777777777778,
             "#fb9f3a"
            ],
            [
             0.8888888888888888,
             "#fdca26"
            ],
            [
             1,
             "#f0f921"
            ]
           ]
          },
          "colorway": [
           "#636efa",
           "#EF553B",
           "#00cc96",
           "#ab63fa",
           "#FFA15A",
           "#19d3f3",
           "#FF6692",
           "#B6E880",
           "#FF97FF",
           "#FECB52"
          ],
          "font": {
           "color": "#2a3f5f"
          },
          "geo": {
           "bgcolor": "white",
           "lakecolor": "white",
           "landcolor": "#E5ECF6",
           "showlakes": true,
           "showland": true,
           "subunitcolor": "white"
          },
          "hoverlabel": {
           "align": "left"
          },
          "hovermode": "closest",
          "mapbox": {
           "style": "light"
          },
          "paper_bgcolor": "white",
          "plot_bgcolor": "#E5ECF6",
          "polar": {
           "angularaxis": {
            "gridcolor": "white",
            "linecolor": "white",
            "ticks": ""
           },
           "bgcolor": "#E5ECF6",
           "radialaxis": {
            "gridcolor": "white",
            "linecolor": "white",
            "ticks": ""
           }
          },
          "scene": {
           "xaxis": {
            "backgroundcolor": "#E5ECF6",
            "gridcolor": "white",
            "gridwidth": 2,
            "linecolor": "white",
            "showbackground": true,
            "ticks": "",
            "zerolinecolor": "white"
           },
           "yaxis": {
            "backgroundcolor": "#E5ECF6",
            "gridcolor": "white",
            "gridwidth": 2,
            "linecolor": "white",
            "showbackground": true,
            "ticks": "",
            "zerolinecolor": "white"
           },
           "zaxis": {
            "backgroundcolor": "#E5ECF6",
            "gridcolor": "white",
            "gridwidth": 2,
            "linecolor": "white",
            "showbackground": true,
            "ticks": "",
            "zerolinecolor": "white"
           }
          },
          "shapedefaults": {
           "line": {
            "color": "#2a3f5f"
           }
          },
          "ternary": {
           "aaxis": {
            "gridcolor": "white",
            "linecolor": "white",
            "ticks": ""
           },
           "baxis": {
            "gridcolor": "white",
            "linecolor": "white",
            "ticks": ""
           },
           "bgcolor": "#E5ECF6",
           "caxis": {
            "gridcolor": "white",
            "linecolor": "white",
            "ticks": ""
           }
          },
          "title": {
           "x": 0.05
          },
          "xaxis": {
           "automargin": true,
           "gridcolor": "white",
           "linecolor": "white",
           "ticks": "",
           "title": {
            "standoff": 15
           },
           "zerolinecolor": "white",
           "zerolinewidth": 2
          },
          "yaxis": {
           "automargin": true,
           "gridcolor": "white",
           "linecolor": "white",
           "ticks": "",
           "title": {
            "standoff": 15
           },
           "zerolinecolor": "white",
           "zerolinewidth": 2
          }
         }
        },
        "title": {
         "text": "brand count"
        },
        "xaxis": {
         "anchor": "y",
         "autorange": true,
         "categoryarray": [
          "Jeera",
          "Gear",
          "Viva",
          "RealU",
          "YouM",
          "Babaji",
          "Vedic",
          "Sumsang",
          "Orange"
         ],
         "categoryorder": "array",
         "domain": [
          0,
          1
         ],
         "range": [
          -0.5,
          8.5
         ],
         "title": {
          "text": "Brand"
         },
         "type": "category"
        },
        "yaxis": {
         "anchor": "x",
         "autorange": true,
         "domain": [
          0,
          1
         ],
         "range": [
          0,
          94.73684210526315
         ],
         "title": {
          "text": "count"
         },
         "type": "linear"
        }
       }
      },
      "image/png": "[encoded data removed]",
      "text/html": [
       "<div>                            <div id=\"8165db19-f6f4-4718-95eb-68156f03865e\" class=\"plotly-graph-div\" style=\"height:525px; width:100%;\"></div>            <script type=\"text/javascript\">                require([\"plotly\"], function(Plotly) {                    window.PLOTLYENV=window.PLOTLYENV || {};                                    if (document.getElementById(\"8165db19-f6f4-4718-95eb-68156f03865e\")) {                    Plotly.newPlot(                        \"8165db19-f6f4-4718-95eb-68156f03865e\",                        [{\"alignmentgroup\":\"True\",\"hovertemplate\":\"Brand=%{x}\\u003cbr\\u003ecount=%{text}\\u003cextra\\u003e\\u003c\\u002fextra\\u003e\",\"legendgroup\":\"Jeera\",\"marker\":{\"color\":\"#636efa\",\"pattern\":{\"shape\":\"\"}},\"name\":\"Jeera\",\"offsetgroup\":\"Jeera\",\"orientation\":\"v\",\"showlegend\":true,\"text\":[90.0],\"textposition\":\"auto\",\"x\":[\"Jeera\"],\"xaxis\":\"x\",\"y\":[90],\"yaxis\":\"y\",\"type\":\"bar\"},{\"alignmentgroup\":\"True\",\"hovertemplate\":\"Brand=%{x}\\u003cbr\\u003ecount=%{text}\\u003cextra\\u003e\\u003c\\u002fextra\\u003e\",\"legendgroup\":\"Gear\",\"marker\":{\"color\":\"#EF553B\",\"pattern\":{\"shape\":\"\"}},\"name\":\"Gear\",\"offsetgroup\":\"Gear\",\"orientation\":\"v\",\"showlegend\":true,\"text\":[60.0],\"textposition\":\"auto\",\"x\":[\"Gear\"],\"xaxis\":\"x\",\"y\":[60],\"yaxis\":\"y\",\"type\":\"bar\"},{\"alignmentgroup\":\"True\",\"hovertemplate\":\"Brand=%{x}\\u003cbr\\u003ecount=%{text}\\u003cextra\\u003e\\u003c\\u002fextra\\u003e\",\"legendgroup\":\"Viva\",\"marker\":{\"color\":\"#00cc96\",\"pattern\":{\"shape\":\"\"}},\"name\":\"Viva\",\"offsetgroup\":\"Viva\",\"orientation\":\"v\",\"showlegend\":true,\"text\":[60.0],\"textposition\":\"auto\",\"x\":[\"Viva\"],\"xaxis\":\"x\",\"y\":[60],\"yaxis\":\"y\",\"type\":\"bar\"},{\"alignmentgroup\":\"True\",\"hovertemplate\":\"Brand=%{x}\\u003cbr\\u003ecount=%{text}\\u003cextra\\u003e\\u003c\\u002fextra\\u003e\",\"legendgroup\":\"RealU\",\"marker\":{\"color\":\"#ab63fa\",\"pattern\":{\"shape\":\"\"}},\"name\":\"RealU\",\"offsetgroup\":\"RealU\",\"orientation\":\"v\",\"showlegend\":true,\"text\":[45.0],\"textposition\":\"auto\",\"x\":[\"RealU\"],\"xaxis\":\"x\",\"y\":[45],\"yaxis\":\"y\",\"type\":\"bar\"},{\"alignmentgroup\":\"True\",\"hovertemplate\":\"Brand=%{x}\\u003cbr\\u003ecount=%{text}\\u003cextra\\u003e\\u003c\\u002fextra\\u003e\",\"legendgroup\":\"YouM\",\"marker\":{\"color\":\"#FFA15A\",\"pattern\":{\"shape\":\"\"}},\"name\":\"YouM\",\"offsetgroup\":\"YouM\",\"orientation\":\"v\",\"showlegend\":true,\"text\":[45.0],\"textposition\":\"auto\",\"x\":[\"YouM\"],\"xaxis\":\"x\",\"y\":[45],\"yaxis\":\"y\",\"type\":\"bar\"},{\"alignmentgroup\":\"True\",\"hovertemplate\":\"Brand=%{x}\\u003cbr\\u003ecount=%{text}\\u003cextra\\u003e\\u003c\\u002fextra\\u003e\",\"legendgroup\":\"Babaji\",\"marker\":{\"color\":\"#19d3f3\",\"pattern\":{\"shape\":\"\"}},\"name\":\"Babaji\",\"offsetgroup\":\"Babaji\",\"orientation\":\"v\",\"showlegend\":true,\"text\":[45.0],\"textposition\":\"auto\",\"x\":[\"Babaji\"],\"xaxis\":\"x\",\"y\":[45],\"yaxis\":\"y\",\"type\":\"bar\"},{\"alignmentgroup\":\"True\",\"hovertemplate\":\"Brand=%{x}\\u003cbr\\u003ecount=%{text}\\u003cextra\\u003e\\u003c\\u002fextra\\u003e\",\"legendgroup\":\"Vedic\",\"marker\":{\"color\":\"#FF6692\",\"pattern\":{\"shape\":\"\"}},\"name\":\"Vedic\",\"offsetgroup\":\"Vedic\",\"orientation\":\"v\",\"showlegend\":true,\"text\":[45.0],\"textposition\":\"auto\",\"x\":[\"Vedic\"],\"xaxis\":\"x\",\"y\":[45],\"yaxis\":\"y\",\"type\":\"bar\"},{\"alignmentgroup\":\"True\",\"hovertemplate\":\"Brand=%{x}\\u003cbr\\u003ecount=%{text}\\u003cextra\\u003e\\u003c\\u002fextra\\u003e\",\"legendgroup\":\"Sumsang\",\"marker\":{\"color\":\"#B6E880\",\"pattern\":{\"shape\":\"\"}},\"name\":\"Sumsang\",\"offsetgroup\":\"Sumsang\",\"orientation\":\"v\",\"showlegend\":true,\"text\":[30.0],\"textposition\":\"auto\",\"x\":[\"Sumsang\"],\"xaxis\":\"x\",\"y\":[30],\"yaxis\":\"y\",\"type\":\"bar\"},{\"alignmentgroup\":\"True\",\"hovertemplate\":\"Brand=%{x}\\u003cbr\\u003ecount=%{text}\\u003cextra\\u003e\\u003c\\u002fextra\\u003e\",\"legendgroup\":\"Orange\",\"marker\":{\"color\":\"#FF97FF\",\"pattern\":{\"shape\":\"\"}},\"name\":\"Orange\",\"offsetgroup\":\"Orange\",\"orientation\":\"v\",\"showlegend\":true,\"text\":[30.0],\"textposition\":\"auto\",\"x\":[\"Orange\"],\"xaxis\":\"x\",\"y\":[30],\"yaxis\":\"y\",\"type\":\"bar\"}],                        {\"template\":{\"data\":{\"histogram2dcontour\":[{\"type\":\"histogram2dcontour\",\"colorbar\":{\"outlinewidth\":0,\"ticks\":\"\"},\"colorscale\":[[0.0,\"#0d0887\"],[0.1111111111111111,\"#46039f\"],[0.2222222222222222,\"#7201a8\"],[0.3333333333333333,\"#9c179e\"],[0.4444444444444444,\"#bd3786\"],[0.5555555555555556,\"#d8576b\"],[0.6666666666666666,\"#ed7953\"],[0.7777777777777778,\"#fb9f3a\"],[0.8888888888888888,\"#fdca26\"],[1.0,\"#f0f921\"]]}],\"choropleth\":[{\"type\":\"choropleth\",\"colorbar\":{\"outlinewidth\":0,\"ticks\":\"\"}}],\"histogram2d\":[{\"type\":\"histogram2d\",\"colorbar\":{\"outlinewidth\":0,\"ticks\":\"\"},\"colorscale\":[[0.0,\"#0d0887\"],[0.1111111111111111,\"#46039f\"],[0.2222222222222222,\"#7201a8\"],[0.3333333333333333,\"#9c179e\"],[0.4444444444444444,\"#bd3786\"],[0.5555555555555556,\"#d8576b\"],[0.6666666666666666,\"#ed7953\"],[0.7777777777777778,\"#fb9f3a\"],[0.8888888888888888,\"#fdca26\"],[1.0,\"#f0f921\"]]}],\"heatmap\":[{\"type\":\"heatmap\",\"colorbar\":{\"outlinewidth\":0,\"ticks\":\"\"},\"colorscale\":[[0.0,\"#0d0887\"],[0.1111111111111111,\"#46039f\"],[0.2222222222222222,\"#7201a8\"],[0.3333333333333333,\"#9c179e\"],[0.4444444444444444,\"#bd3786\"],[0.5555555555555556,\"#d8576b\"],[0.6666666666666666,\"#ed7953\"],[0.7777777777777778,\"#fb9f3a\"],[0.8888888888888888,\"#fdca26\"],[1.0,\"#f0f921\"]]}],\"heatmapgl\":[{\"type\":\"heatmapgl\",\"colorbar\":{\"outlinewidth\":0,\"ticks\":\"\"},\"colorscale\":[[0.0,\"#0d0887\"],[0.1111111111111111,\"#46039f\"],[0.2222222222222222,\"#7201a8\"],[0.3333333333333333,\"#9c179e\"],[0.4444444444444444,\"#bd3786\"],[0.5555555555555556,\"#d8576b\"],[0.6666666666666666,\"#ed7953\"],[0.7777777777777778,\"#fb9f3a\"],[0.8888888888888888,\"#fdca26\"],[1.0,\"#f0f921\"]]}],\"contourcarpet\":[{\"type\":\"contourcarpet\",\"colorbar\":{\"outlinewidth\":0,\"ticks\":\"\"}}],\"contour\":[{\"type\":\"contour\",\"colorbar\":{\"outlinewidth\":0,\"ticks\":\"\"},\"colorscale\":[[0.0,\"#0d0887\"],[0.1111111111111111,\"#46039f\"],[0.2222222222222222,\"#7201a8\"],[0.3333333333333333,\"#9c179e\"],[0.4444444444444444,\"#bd3786\"],[0.5555555555555556,\"#d8576b\"],[0.6666666666666666,\"#ed7953\"],[0.7777777777777778,\"#fb9f3a\"],[0.8888888888888888,\"#fdca26\"],[1.0,\"#f0f921\"]]}],\"surface\":[{\"type\":\"surface\",\"colorbar\":{\"outlinewidth\":0,\"ticks\":\"\"},\"colorscale\":[[0.0,\"#0d0887\"],[0.1111111111111111,\"#46039f\"],[0.2222222222222222,\"#7201a8\"],[0.3333333333333333,\"#9c179e\"],[0.4444444444444444,\"#bd3786\"],[0.5555555555555556,\"#d8576b\"],[0.6666666666666666,\"#ed7953\"],[0.7777777777777778,\"#fb9f3a\"],[0.8888888888888888,\"#fdca26\"],[1.0,\"#f0f921\"]]}],\"mesh3d\":[{\"type\":\"mesh3d\",\"colorbar\":{\"outlinewidth\":0,\"ticks\":\"\"}}],\"scatter\":[{\"fillpattern\":{\"fillmode\":\"overlay\",\"size\":10,\"solidity\":0.2},\"type\":\"scatter\"}],\"parcoords\":[{\"type\":\"parcoords\",\"line\":{\"colorbar\":{\"outlinewidth\":0,\"ticks\":\"\"}}}],\"scatterpolargl\":[{\"type\":\"scatterpolargl\",\"marker\":{\"colorbar\":{\"outlinewidth\":0,\"ticks\":\"\"}}}],\"bar\":[{\"error_x\":{\"color\":\"#2a3f5f\"},\"error_y\":{\"color\":\"#2a3f5f\"},\"marker\":{\"line\":{\"color\":\"#E5ECF6\",\"width\":0.5},\"pattern\":{\"fillmode\":\"overlay\",\"size\":10,\"solidity\":0.2}},\"type\":\"bar\"}],\"scattergeo\":[{\"type\":\"scattergeo\",\"marker\":{\"colorbar\":{\"outlinewidth\":0,\"ticks\":\"\"}}}],\"scatterpolar\":[{\"type\":\"scatterpolar\",\"marker\":{\"colorbar\":{\"outlinewidth\":0,\"ticks\":\"\"}}}],\"histogram\":[{\"marker\":{\"pattern\":{\"fillmode\":\"overlay\",\"size\":10,\"solidity\":0.2}},\"type\":\"histogram\"}],\"scattergl\":[{\"type\":\"scattergl\",\"marker\":{\"colorbar\":{\"outlinewidth\":0,\"ticks\":\"\"}}}],\"scatter3d\":[{\"type\":\"scatter3d\",\"line\":{\"colorbar\":{\"outlinewidth\":0,\"ticks\":\"\"}},\"marker\":{\"colorbar\":{\"outlinewidth\":0,\"ticks\":\"\"}}}],\"scattermapbox\":[{\"type\":\"scattermapbox\",\"marker\":{\"colorbar\":{\"outlinewidth\":0,\"ticks\":\"\"}}}],\"scatterternary\":[{\"type\":\"scatterternary\",\"marker\":{\"colorbar\":{\"outlinewidth\":0,\"ticks\":\"\"}}}],\"scattercarpet\":[{\"type\":\"scattercarpet\",\"marker\":{\"colorbar\":{\"outlinewidth\":0,\"ticks\":\"\"}}}],\"carpet\":[{\"aaxis\":{\"endlinecolor\":\"#2a3f5f\",\"gridcolor\":\"white\",\"linecolor\":\"white\",\"minorgridcolor\":\"white\",\"startlinecolor\":\"#2a3f5f\"},\"baxis\":{\"endlinecolor\":\"#2a3f5f\",\"gridcolor\":\"white\",\"linecolor\":\"white\",\"minorgridcolor\":\"white\",\"startlinecolor\":\"#2a3f5f\"},\"type\":\"carpet\"}],\"table\":[{\"cells\":{\"fill\":{\"color\":\"#EBF0F8\"},\"line\":{\"color\":\"white\"}},\"header\":{\"fill\":{\"color\":\"#C8D4E3\"},\"line\":{\"color\":\"white\"}},\"type\":\"table\"}],\"barpolar\":[{\"marker\":{\"line\":{\"color\":\"#E5ECF6\",\"width\":0.5},\"pattern\":{\"fillmode\":\"overlay\",\"size\":10,\"solidity\":0.2}},\"type\":\"barpolar\"}],\"pie\":[{\"automargin\":true,\"type\":\"pie\"}]},\"layout\":{\"autotypenumbers\":\"strict\",\"colorway\":[\"#636efa\",\"#EF553B\",\"#00cc96\",\"#ab63fa\",\"#FFA15A\",\"#19d3f3\",\"#FF6692\",\"#B6E880\",\"#FF97FF\",\"#FECB52\"],\"font\":{\"color\":\"#2a3f5f\"},\"hovermode\":\"closest\",\"hoverlabel\":{\"align\":\"left\"},\"paper_bgcolor\":\"white\",\"plot_bgcolor\":\"#E5ECF6\",\"polar\":{\"bgcolor\":\"#E5ECF6\",\"angularaxis\":{\"gridcolor\":\"white\",\"linecolor\":\"white\",\"ticks\":\"\"},\"radialaxis\":{\"gridcolor\":\"white\",\"linecolor\":\"white\",\"ticks\":\"\"}},\"ternary\":{\"bgcolor\":\"#E5ECF6\",\"aaxis\":{\"gridcolor\":\"white\",\"linecolor\":\"white\",\"ticks\":\"\"},\"baxis\":{\"gridcolor\":\"white\",\"linecolor\":\"white\",\"ticks\":\"\"},\"caxis\":{\"gridcolor\":\"white\",\"linecolor\":\"white\",\"ticks\":\"\"}},\"coloraxis\":{\"colorbar\":{\"outlinewidth\":0,\"ticks\":\"\"}},\"colorscale\":{\"sequential\":[[0.0,\"#0d0887\"],[0.1111111111111111,\"#46039f\"],[0.2222222222222222,\"#7201a8\"],[0.3333333333333333,\"#9c179e\"],[0.4444444444444444,\"#bd3786\"],[0.5555555555555556,\"#d8576b\"],[0.6666666666666666,\"#ed7953\"],[0.7777777777777778,\"#fb9f3a\"],[0.8888888888888888,\"#fdca26\"],[1.0,\"#f0f921\"]],\"sequentialminus\":[[0.0,\"#0d0887\"],[0.1111111111111111,\"#46039f\"],[0.2222222222222222,\"#7201a8\"],[0.3333333333333333,\"#9c179e\"],[0.4444444444444444,\"#bd3786\"],[0.5555555555555556,\"#d8576b\"],[0.6666666666666666,\"#ed7953\"],[0.7777777777777778,\"#fb9f3a\"],[0.8888888888888888,\"#fdca26\"],[1.0,\"#f0f921\"]],\"diverging\":[[0,\"#8e0152\"],[0.1,\"#c51b7d\"],[0.2,\"#de77ae\"],[0.3,\"#f1b6da\"],[0.4,\"#fde0ef\"],[0.5,\"#f7f7f7\"],[0.6,\"#e6f5d0\"],[0.7,\"#b8e186\"],[0.8,\"#7fbc41\"],[0.9,\"#4d9221\"],[1,\"#276419\"]]},\"xaxis\":{\"gridcolor\":\"white\",\"linecolor\":\"white\",\"ticks\":\"\",\"title\":{\"standoff\":15},\"zerolinecolor\":\"white\",\"automargin\":true,\"zerolinewidth\":2},\"yaxis\":{\"gridcolor\":\"white\",\"linecolor\":\"white\",\"ticks\":\"\",\"title\":{\"standoff\":15},\"zerolinecolor\":\"white\",\"automargin\":true,\"zerolinewidth\":2},\"scene\":{\"xaxis\":{\"backgroundcolor\":\"#E5ECF6\",\"gridcolor\":\"white\",\"linecolor\":\"white\",\"showbackground\":true,\"ticks\":\"\",\"zerolinecolor\":\"white\",\"gridwidth\":2},\"yaxis\":{\"backgroundcolor\":\"#E5ECF6\",\"gridcolor\":\"white\",\"linecolor\":\"white\",\"showbackground\":true,\"ticks\":\"\",\"zerolinecolor\":\"white\",\"gridwidth\":2},\"zaxis\":{\"backgroundcolor\":\"#E5ECF6\",\"gridcolor\":\"white\",\"linecolor\":\"white\",\"showbackground\":true,\"ticks\":\"\",\"zerolinecolor\":\"white\",\"gridwidth\":2}},\"shapedefaults\":{\"line\":{\"color\":\"#2a3f5f\"}},\"annotationdefaults\":{\"arrowcolor\":\"#2a3f5f\",\"arrowhead\":0,\"arrowwidth\":1},\"geo\":{\"bgcolor\":\"white\",\"landcolor\":\"#E5ECF6\",\"subunitcolor\":\"white\",\"showland\":true,\"showlakes\":true,\"lakecolor\":\"white\"},\"title\":{\"x\":0.05},\"mapbox\":{\"style\":\"light\"}}},\"xaxis\":{\"anchor\":\"y\",\"domain\":[0.0,1.0],\"title\":{\"text\":\"Brand\"},\"categoryorder\":\"array\",\"categoryarray\":[\"Jeera\",\"Gear\",\"Viva\",\"RealU\",\"YouM\",\"Babaji\",\"Vedic\",\"Sumsang\",\"Orange\"]},\"yaxis\":{\"anchor\":\"x\",\"domain\":[0.0,1.0],\"title\":{\"text\":\"count\"}},\"legend\":{\"title\":{\"text\":\"Brand\"},\"tracegroupgap\":0},\"title\":{\"text\":\"brand count\"},\"barmode\":\"relative\"},                        {\"responsive\": true}                    ).then(function(){\n",
       "                            \n",
       "var gd = document.getElementById('8165db19-f6f4-4718-95eb-68156f03865e');\n",
       "var x = new MutationObserver(function (mutations, observer) {{\n",
       "        var display = window.getComputedStyle(gd).display;\n",
       "        if (!display || display === 'none') {{\n",
       "            console.log([gd, 'removed!']);\n",
       "            Plotly.purge(gd);\n",
       "            observer.disconnect();\n",
       "        }}\n",
       "}});\n",
       "\n",
       "// Listen for the removal of the full notebook cells\n",
       "var notebookContainer = gd.closest('#notebook-container');\n",
       "if (notebookContainer) {{\n",
       "    x.observe(notebookContainer, {childList: true});\n",
       "}}\n",
       "\n",
       "// Listen for the clearing of the current output cell\n",
       "var outputEl = gd.closest('.output');\n",
       "if (outputEl) {{\n",
       "    x.observe(outputEl, {childList: true});\n",
       "}}\n",
       "\n",
       "                        })                };                });            </script>        </div>"
      ]
     },
     "metadata": {},
     "output_type": "display_data"
    }
   ],
   "source": [
    "ax.show()"
   ]
  },
  {
   "cell_type": "code",
   "execution_count": 209,
   "id": "53c7fb93-f249-4e48-bf02-4efebed6c186",
   "metadata": {},
   "outputs": [
    {
     "data": {
      "application/vnd.plotly.v1+json": {
       "config": {
        "plotlyServerURL": "https://plot.ly"
       },
       "data": [
        {
         "alignmentgroup": "True",
         "hovertemplate": "Day=%{x}<br>count=%{text}<extra></extra>",
         "legendgroup": "Thursday",
         "marker": {
          "color": "#636efa",
          "pattern": {
           "shape": ""
          }
         },
         "name": "Thursday",
         "offsetgroup": "Thursday",
         "orientation": "v",
         "showlegend": true,
         "text": [
          90
         ],
         "textposition": "auto",
         "type": "bar",
         "x": [
          "Thursday"
         ],
         "xaxis": "x",
         "y": [
          90
         ],
         "yaxis": "y"
        },
        {
         "alignmentgroup": "True",
         "hovertemplate": "Day=%{x}<br>count=%{text}<extra></extra>",
         "legendgroup": "Friday",
         "marker": {
          "color": "#EF553B",
          "pattern": {
           "shape": ""
          }
         },
         "name": "Friday",
         "offsetgroup": "Friday",
         "orientation": "v",
         "showlegend": true,
         "text": [
          60
         ],
         "textposition": "auto",
         "type": "bar",
         "x": [
          "Friday"
         ],
         "xaxis": "x",
         "y": [
          60
         ],
         "yaxis": "y"
        },
        {
         "alignmentgroup": "True",
         "hovertemplate": "Day=%{x}<br>count=%{text}<extra></extra>",
         "legendgroup": "Saturday",
         "marker": {
          "color": "#00cc96",
          "pattern": {
           "shape": ""
          }
         },
         "name": "Saturday",
         "offsetgroup": "Saturday",
         "orientation": "v",
         "showlegend": true,
         "text": [
          60
         ],
         "textposition": "auto",
         "type": "bar",
         "x": [
          "Saturday"
         ],
         "xaxis": "x",
         "y": [
          60
         ],
         "yaxis": "y"
        },
        {
         "alignmentgroup": "True",
         "hovertemplate": "Day=%{x}<br>count=%{text}<extra></extra>",
         "legendgroup": "Sunday",
         "marker": {
          "color": "#ab63fa",
          "pattern": {
           "shape": ""
          }
         },
         "name": "Sunday",
         "offsetgroup": "Sunday",
         "orientation": "v",
         "showlegend": true,
         "text": [
          60
         ],
         "textposition": "auto",
         "type": "bar",
         "x": [
          "Sunday"
         ],
         "xaxis": "x",
         "y": [
          60
         ],
         "yaxis": "y"
        },
        {
         "alignmentgroup": "True",
         "hovertemplate": "Day=%{x}<br>count=%{text}<extra></extra>",
         "legendgroup": "Monday",
         "marker": {
          "color": "#FFA15A",
          "pattern": {
           "shape": ""
          }
         },
         "name": "Monday",
         "offsetgroup": "Monday",
         "orientation": "v",
         "showlegend": true,
         "text": [
          60
         ],
         "textposition": "auto",
         "type": "bar",
         "x": [
          "Monday"
         ],
         "xaxis": "x",
         "y": [
          60
         ],
         "yaxis": "y"
        },
        {
         "alignmentgroup": "True",
         "hovertemplate": "Day=%{x}<br>count=%{text}<extra></extra>",
         "legendgroup": "Tuesday",
         "marker": {
          "color": "#19d3f3",
          "pattern": {
           "shape": ""
          }
         },
         "name": "Tuesday",
         "offsetgroup": "Tuesday",
         "orientation": "v",
         "showlegend": true,
         "text": [
          60
         ],
         "textposition": "auto",
         "type": "bar",
         "x": [
          "Tuesday"
         ],
         "xaxis": "x",
         "y": [
          60
         ],
         "yaxis": "y"
        },
        {
         "alignmentgroup": "True",
         "hovertemplate": "Day=%{x}<br>count=%{text}<extra></extra>",
         "legendgroup": "Wednesday",
         "marker": {
          "color": "#FF6692",
          "pattern": {
           "shape": ""
          }
         },
         "name": "Wednesday",
         "offsetgroup": "Wednesday",
         "orientation": "v",
         "showlegend": true,
         "text": [
          60
         ],
         "textposition": "auto",
         "type": "bar",
         "x": [
          "Wednesday"
         ],
         "xaxis": "x",
         "y": [
          60
         ],
         "yaxis": "y"
        }
       ],
       "layout": {
        "autosize": true,
        "barmode": "relative",
        "legend": {
         "title": {
          "text": "Day"
         },
         "tracegroupgap": 0
        },
        "template": {
         "data": {
          "bar": [
           {
            "error_x": {
             "color": "#2a3f5f"
            },
            "error_y": {
             "color": "#2a3f5f"
            },
            "marker": {
             "line": {
              "color": "#E5ECF6",
              "width": 0.5
             },
             "pattern": {
              "fillmode": "overlay",
              "size": 10,
              "solidity": 0.2
             }
            },
            "type": "bar"
           }
          ],
          "barpolar": [
           {
            "marker": {
             "line": {
              "color": "#E5ECF6",
              "width": 0.5
             },
             "pattern": {
              "fillmode": "overlay",
              "size": 10,
              "solidity": 0.2
             }
            },
            "type": "barpolar"
           }
          ],
          "carpet": [
           {
            "aaxis": {
             "endlinecolor": "#2a3f5f",
             "gridcolor": "white",
             "linecolor": "white",
             "minorgridcolor": "white",
             "startlinecolor": "#2a3f5f"
            },
            "baxis": {
             "endlinecolor": "#2a3f5f",
             "gridcolor": "white",
             "linecolor": "white",
             "minorgridcolor": "white",
             "startlinecolor": "#2a3f5f"
            },
            "type": "carpet"
           }
          ],
          "choropleth": [
           {
            "colorbar": {
             "outlinewidth": 0,
             "ticks": ""
            },
            "type": "choropleth"
           }
          ],
          "contour": [
           {
            "colorbar": {
             "outlinewidth": 0,
             "ticks": ""
            },
            "colorscale": [
             [
              0,
              "#0d0887"
             ],
             [
              0.1111111111111111,
              "#46039f"
             ],
             [
              0.2222222222222222,
              "#7201a8"
             ],
             [
              0.3333333333333333,
              "#9c179e"
             ],
             [
              0.4444444444444444,
              "#bd3786"
             ],
             [
              0.5555555555555556,
              "#d8576b"
             ],
             [
              0.6666666666666666,
              "#ed7953"
             ],
             [
              0.7777777777777778,
              "#fb9f3a"
             ],
             [
              0.8888888888888888,
              "#fdca26"
             ],
             [
              1,
              "#f0f921"
             ]
            ],
            "type": "contour"
           }
          ],
          "contourcarpet": [
           {
            "colorbar": {
             "outlinewidth": 0,
             "ticks": ""
            },
            "type": "contourcarpet"
           }
          ],
          "heatmap": [
           {
            "colorbar": {
             "outlinewidth": 0,
             "ticks": ""
            },
            "colorscale": [
             [
              0,
              "#0d0887"
             ],
             [
              0.1111111111111111,
              "#46039f"
             ],
             [
              0.2222222222222222,
              "#7201a8"
             ],
             [
              0.3333333333333333,
              "#9c179e"
             ],
             [
              0.4444444444444444,
              "#bd3786"
             ],
             [
              0.5555555555555556,
              "#d8576b"
             ],
             [
              0.6666666666666666,
              "#ed7953"
             ],
             [
              0.7777777777777778,
              "#fb9f3a"
             ],
             [
              0.8888888888888888,
              "#fdca26"
             ],
             [
              1,
              "#f0f921"
             ]
            ],
            "type": "heatmap"
           }
          ],
          "heatmapgl": [
           {
            "colorbar": {
             "outlinewidth": 0,
             "ticks": ""
            },
            "colorscale": [
             [
              0,
              "#0d0887"
             ],
             [
              0.1111111111111111,
              "#46039f"
             ],
             [
              0.2222222222222222,
              "#7201a8"
             ],
             [
              0.3333333333333333,
              "#9c179e"
             ],
             [
              0.4444444444444444,
              "#bd3786"
             ],
             [
              0.5555555555555556,
              "#d8576b"
             ],
             [
              0.6666666666666666,
              "#ed7953"
             ],
             [
              0.7777777777777778,
              "#fb9f3a"
             ],
             [
              0.8888888888888888,
              "#fdca26"
             ],
             [
              1,
              "#f0f921"
             ]
            ],
            "type": "heatmapgl"
           }
          ],
          "histogram": [
           {
            "marker": {
             "pattern": {
              "fillmode": "overlay",
              "size": 10,
              "solidity": 0.2
             }
            },
            "type": "histogram"
           }
          ],
          "histogram2d": [
           {
            "colorbar": {
             "outlinewidth": 0,
             "ticks": ""
            },
            "colorscale": [
             [
              0,
              "#0d0887"
             ],
             [
              0.1111111111111111,
              "#46039f"
             ],
             [
              0.2222222222222222,
              "#7201a8"
             ],
             [
              0.3333333333333333,
              "#9c179e"
             ],
             [
              0.4444444444444444,
              "#bd3786"
             ],
             [
              0.5555555555555556,
              "#d8576b"
             ],
             [
              0.6666666666666666,
              "#ed7953"
             ],
             [
              0.7777777777777778,
              "#fb9f3a"
             ],
             [
              0.8888888888888888,
              "#fdca26"
             ],
             [
              1,
              "#f0f921"
             ]
            ],
            "type": "histogram2d"
           }
          ],
          "histogram2dcontour": [
           {
            "colorbar": {
             "outlinewidth": 0,
             "ticks": ""
            },
            "colorscale": [
             [
              0,
              "#0d0887"
             ],
             [
              0.1111111111111111,
              "#46039f"
             ],
             [
              0.2222222222222222,
              "#7201a8"
             ],
             [
              0.3333333333333333,
              "#9c179e"
             ],
             [
              0.4444444444444444,
              "#bd3786"
             ],
             [
              0.5555555555555556,
              "#d8576b"
             ],
             [
              0.6666666666666666,
              "#ed7953"
             ],
             [
              0.7777777777777778,
              "#fb9f3a"
             ],
             [
              0.8888888888888888,
              "#fdca26"
             ],
             [
              1,
              "#f0f921"
             ]
            ],
            "type": "histogram2dcontour"
           }
          ],
          "mesh3d": [
           {
            "colorbar": {
             "outlinewidth": 0,
             "ticks": ""
            },
            "type": "mesh3d"
           }
          ],
          "parcoords": [
           {
            "line": {
             "colorbar": {
              "outlinewidth": 0,
              "ticks": ""
             }
            },
            "type": "parcoords"
           }
          ],
          "pie": [
           {
            "automargin": true,
            "type": "pie"
           }
          ],
          "scatter": [
           {
            "fillpattern": {
             "fillmode": "overlay",
             "size": 10,
             "solidity": 0.2
            },
            "type": "scatter"
           }
          ],
          "scatter3d": [
           {
            "line": {
             "colorbar": {
              "outlinewidth": 0,
              "ticks": ""
             }
            },
            "marker": {
             "colorbar": {
              "outlinewidth": 0,
              "ticks": ""
             }
            },
            "type": "scatter3d"
           }
          ],
          "scattercarpet": [
           {
            "marker": {
             "colorbar": {
              "outlinewidth": 0,
              "ticks": ""
             }
            },
            "type": "scattercarpet"
           }
          ],
          "scattergeo": [
           {
            "marker": {
             "colorbar": {
              "outlinewidth": 0,
              "ticks": ""
             }
            },
            "type": "scattergeo"
           }
          ],
          "scattergl": [
           {
            "marker": {
             "colorbar": {
              "outlinewidth": 0,
              "ticks": ""
             }
            },
            "type": "scattergl"
           }
          ],
          "scattermapbox": [
           {
            "marker": {
             "colorbar": {
              "outlinewidth": 0,
              "ticks": ""
             }
            },
            "type": "scattermapbox"
           }
          ],
          "scatterpolar": [
           {
            "marker": {
             "colorbar": {
              "outlinewidth": 0,
              "ticks": ""
             }
            },
            "type": "scatterpolar"
           }
          ],
          "scatterpolargl": [
           {
            "marker": {
             "colorbar": {
              "outlinewidth": 0,
              "ticks": ""
             }
            },
            "type": "scatterpolargl"
           }
          ],
          "scatterternary": [
           {
            "marker": {
             "colorbar": {
              "outlinewidth": 0,
              "ticks": ""
             }
            },
            "type": "scatterternary"
           }
          ],
          "surface": [
           {
            "colorbar": {
             "outlinewidth": 0,
             "ticks": ""
            },
            "colorscale": [
             [
              0,
              "#0d0887"
             ],
             [
              0.1111111111111111,
              "#46039f"
             ],
             [
              0.2222222222222222,
              "#7201a8"
             ],
             [
              0.3333333333333333,
              "#9c179e"
             ],
             [
              0.4444444444444444,
              "#bd3786"
             ],
             [
              0.5555555555555556,
              "#d8576b"
             ],
             [
              0.6666666666666666,
              "#ed7953"
             ],
             [
              0.7777777777777778,
              "#fb9f3a"
             ],
             [
              0.8888888888888888,
              "#fdca26"
             ],
             [
              1,
              "#f0f921"
             ]
            ],
            "type": "surface"
           }
          ],
          "table": [
           {
            "cells": {
             "fill": {
              "color": "#EBF0F8"
             },
             "line": {
              "color": "white"
             }
            },
            "header": {
             "fill": {
              "color": "#C8D4E3"
             },
             "line": {
              "color": "white"
             }
            },
            "type": "table"
           }
          ]
         },
         "layout": {
          "annotationdefaults": {
           "arrowcolor": "#2a3f5f",
           "arrowhead": 0,
           "arrowwidth": 1
          },
          "autotypenumbers": "strict",
          "coloraxis": {
           "colorbar": {
            "outlinewidth": 0,
            "ticks": ""
           }
          },
          "colorscale": {
           "diverging": [
            [
             0,
             "#8e0152"
            ],
            [
             0.1,
             "#c51b7d"
            ],
            [
             0.2,
             "#de77ae"
            ],
            [
             0.3,
             "#f1b6da"
            ],
            [
             0.4,
             "#fde0ef"
            ],
            [
             0.5,
             "#f7f7f7"
            ],
            [
             0.6,
             "#e6f5d0"
            ],
            [
             0.7,
             "#b8e186"
            ],
            [
             0.8,
             "#7fbc41"
            ],
            [
             0.9,
             "#4d9221"
            ],
            [
             1,
             "#276419"
            ]
           ],
           "sequential": [
            [
             0,
             "#0d0887"
            ],
            [
             0.1111111111111111,
             "#46039f"
            ],
            [
             0.2222222222222222,
             "#7201a8"
            ],
            [
             0.3333333333333333,
             "#9c179e"
            ],
            [
             0.4444444444444444,
             "#bd3786"
            ],
            [
             0.5555555555555556,
             "#d8576b"
            ],
            [
             0.6666666666666666,
             "#ed7953"
            ],
            [
             0.7777777777777778,
             "#fb9f3a"
            ],
            [
             0.8888888888888888,
             "#fdca26"
            ],
            [
             1,
             "#f0f921"
            ]
           ],
           "sequentialminus": [
            [
             0,
             "#0d0887"
            ],
            [
             0.1111111111111111,
             "#46039f"
            ],
            [
             0.2222222222222222,
             "#7201a8"
            ],
            [
             0.3333333333333333,
             "#9c179e"
            ],
            [
             0.4444444444444444,
             "#bd3786"
            ],
            [
             0.5555555555555556,
             "#d8576b"
            ],
            [
             0.6666666666666666,
             "#ed7953"
            ],
            [
             0.7777777777777778,
             "#fb9f3a"
            ],
            [
             0.8888888888888888,
             "#fdca26"
            ],
            [
             1,
             "#f0f921"
            ]
           ]
          },
          "colorway": [
           "#636efa",
           "#EF553B",
           "#00cc96",
           "#ab63fa",
           "#FFA15A",
           "#19d3f3",
           "#FF6692",
           "#B6E880",
           "#FF97FF",
           "#FECB52"
          ],
          "font": {
           "color": "#2a3f5f"
          },
          "geo": {
           "bgcolor": "white",
           "lakecolor": "white",
           "landcolor": "#E5ECF6",
           "showlakes": true,
           "showland": true,
           "subunitcolor": "white"
          },
          "hoverlabel": {
           "align": "left"
          },
          "hovermode": "closest",
          "mapbox": {
           "style": "light"
          },
          "paper_bgcolor": "white",
          "plot_bgcolor": "#E5ECF6",
          "polar": {
           "angularaxis": {
            "gridcolor": "white",
            "linecolor": "white",
            "ticks": ""
           },
           "bgcolor": "#E5ECF6",
           "radialaxis": {
            "gridcolor": "white",
            "linecolor": "white",
            "ticks": ""
           }
          },
          "scene": {
           "xaxis": {
            "backgroundcolor": "#E5ECF6",
            "gridcolor": "white",
            "gridwidth": 2,
            "linecolor": "white",
            "showbackground": true,
            "ticks": "",
            "zerolinecolor": "white"
           },
           "yaxis": {
            "backgroundcolor": "#E5ECF6",
            "gridcolor": "white",
            "gridwidth": 2,
            "linecolor": "white",
            "showbackground": true,
            "ticks": "",
            "zerolinecolor": "white"
           },
           "zaxis": {
            "backgroundcolor": "#E5ECF6",
            "gridcolor": "white",
            "gridwidth": 2,
            "linecolor": "white",
            "showbackground": true,
            "ticks": "",
            "zerolinecolor": "white"
           }
          },
          "shapedefaults": {
           "line": {
            "color": "#2a3f5f"
           }
          },
          "ternary": {
           "aaxis": {
            "gridcolor": "white",
            "linecolor": "white",
            "ticks": ""
           },
           "baxis": {
            "gridcolor": "white",
            "linecolor": "white",
            "ticks": ""
           },
           "bgcolor": "#E5ECF6",
           "caxis": {
            "gridcolor": "white",
            "linecolor": "white",
            "ticks": ""
           }
          },
          "title": {
           "x": 0.05
          },
          "xaxis": {
           "automargin": true,
           "gridcolor": "white",
           "linecolor": "white",
           "ticks": "",
           "title": {
            "standoff": 15
           },
           "zerolinecolor": "white",
           "zerolinewidth": 2
          },
          "yaxis": {
           "automargin": true,
           "gridcolor": "white",
           "linecolor": "white",
           "ticks": "",
           "title": {
            "standoff": 15
           },
           "zerolinecolor": "white",
           "zerolinewidth": 2
          }
         }
        },
        "title": {
         "text": "NUMBER OF SALES IN DAY"
        },
        "xaxis": {
         "anchor": "y",
         "autorange": true,
         "categoryarray": [
          "Thursday",
          "Friday",
          "Saturday",
          "Sunday",
          "Monday",
          "Tuesday",
          "Wednesday"
         ],
         "categoryorder": "array",
         "domain": [
          0,
          1
         ],
         "range": [
          -0.5,
          6.5
         ],
         "title": {
          "text": "Day"
         },
         "type": "category"
        },
        "yaxis": {
         "anchor": "x",
         "autorange": true,
         "domain": [
          0,
          1
         ],
         "range": [
          0,
          94.73684210526315
         ],
         "title": {
          "text": "count"
         },
         "type": "linear"
        }
       }
      },
      "image/png": "[encoded data removed]",
      "text/html": [
       "<div>                            <div id=\"50340cee-cc9a-43ca-87ec-cf1114e288fe\" class=\"plotly-graph-div\" style=\"height:525px; width:100%;\"></div>            <script type=\"text/javascript\">                require([\"plotly\"], function(Plotly) {                    window.PLOTLYENV=window.PLOTLYENV || {};                                    if (document.getElementById(\"50340cee-cc9a-43ca-87ec-cf1114e288fe\")) {                    Plotly.newPlot(                        \"50340cee-cc9a-43ca-87ec-cf1114e288fe\",                        [{\"alignmentgroup\":\"True\",\"hovertemplate\":\"Day=%{x}\\u003cbr\\u003ecount=%{text}\\u003cextra\\u003e\\u003c\\u002fextra\\u003e\",\"legendgroup\":\"Thursday\",\"marker\":{\"color\":\"#636efa\",\"pattern\":{\"shape\":\"\"}},\"name\":\"Thursday\",\"offsetgroup\":\"Thursday\",\"orientation\":\"v\",\"showlegend\":true,\"text\":[90.0],\"textposition\":\"auto\",\"x\":[\"Thursday\"],\"xaxis\":\"x\",\"y\":[90],\"yaxis\":\"y\",\"type\":\"bar\"},{\"alignmentgroup\":\"True\",\"hovertemplate\":\"Day=%{x}\\u003cbr\\u003ecount=%{text}\\u003cextra\\u003e\\u003c\\u002fextra\\u003e\",\"legendgroup\":\"Friday\",\"marker\":{\"color\":\"#EF553B\",\"pattern\":{\"shape\":\"\"}},\"name\":\"Friday\",\"offsetgroup\":\"Friday\",\"orientation\":\"v\",\"showlegend\":true,\"text\":[60.0],\"textposition\":\"auto\",\"x\":[\"Friday\"],\"xaxis\":\"x\",\"y\":[60],\"yaxis\":\"y\",\"type\":\"bar\"},{\"alignmentgroup\":\"True\",\"hovertemplate\":\"Day=%{x}\\u003cbr\\u003ecount=%{text}\\u003cextra\\u003e\\u003c\\u002fextra\\u003e\",\"legendgroup\":\"Saturday\",\"marker\":{\"color\":\"#00cc96\",\"pattern\":{\"shape\":\"\"}},\"name\":\"Saturday\",\"offsetgroup\":\"Saturday\",\"orientation\":\"v\",\"showlegend\":true,\"text\":[60.0],\"textposition\":\"auto\",\"x\":[\"Saturday\"],\"xaxis\":\"x\",\"y\":[60],\"yaxis\":\"y\",\"type\":\"bar\"},{\"alignmentgroup\":\"True\",\"hovertemplate\":\"Day=%{x}\\u003cbr\\u003ecount=%{text}\\u003cextra\\u003e\\u003c\\u002fextra\\u003e\",\"legendgroup\":\"Sunday\",\"marker\":{\"color\":\"#ab63fa\",\"pattern\":{\"shape\":\"\"}},\"name\":\"Sunday\",\"offsetgroup\":\"Sunday\",\"orientation\":\"v\",\"showlegend\":true,\"text\":[60.0],\"textposition\":\"auto\",\"x\":[\"Sunday\"],\"xaxis\":\"x\",\"y\":[60],\"yaxis\":\"y\",\"type\":\"bar\"},{\"alignmentgroup\":\"True\",\"hovertemplate\":\"Day=%{x}\\u003cbr\\u003ecount=%{text}\\u003cextra\\u003e\\u003c\\u002fextra\\u003e\",\"legendgroup\":\"Monday\",\"marker\":{\"color\":\"#FFA15A\",\"pattern\":{\"shape\":\"\"}},\"name\":\"Monday\",\"offsetgroup\":\"Monday\",\"orientation\":\"v\",\"showlegend\":true,\"text\":[60.0],\"textposition\":\"auto\",\"x\":[\"Monday\"],\"xaxis\":\"x\",\"y\":[60],\"yaxis\":\"y\",\"type\":\"bar\"},{\"alignmentgroup\":\"True\",\"hovertemplate\":\"Day=%{x}\\u003cbr\\u003ecount=%{text}\\u003cextra\\u003e\\u003c\\u002fextra\\u003e\",\"legendgroup\":\"Tuesday\",\"marker\":{\"color\":\"#19d3f3\",\"pattern\":{\"shape\":\"\"}},\"name\":\"Tuesday\",\"offsetgroup\":\"Tuesday\",\"orientation\":\"v\",\"showlegend\":true,\"text\":[60.0],\"textposition\":\"auto\",\"x\":[\"Tuesday\"],\"xaxis\":\"x\",\"y\":[60],\"yaxis\":\"y\",\"type\":\"bar\"},{\"alignmentgroup\":\"True\",\"hovertemplate\":\"Day=%{x}\\u003cbr\\u003ecount=%{text}\\u003cextra\\u003e\\u003c\\u002fextra\\u003e\",\"legendgroup\":\"Wednesday\",\"marker\":{\"color\":\"#FF6692\",\"pattern\":{\"shape\":\"\"}},\"name\":\"Wednesday\",\"offsetgroup\":\"Wednesday\",\"orientation\":\"v\",\"showlegend\":true,\"text\":[60.0],\"textposition\":\"auto\",\"x\":[\"Wednesday\"],\"xaxis\":\"x\",\"y\":[60],\"yaxis\":\"y\",\"type\":\"bar\"}],                        {\"template\":{\"data\":{\"histogram2dcontour\":[{\"type\":\"histogram2dcontour\",\"colorbar\":{\"outlinewidth\":0,\"ticks\":\"\"},\"colorscale\":[[0.0,\"#0d0887\"],[0.1111111111111111,\"#46039f\"],[0.2222222222222222,\"#7201a8\"],[0.3333333333333333,\"#9c179e\"],[0.4444444444444444,\"#bd3786\"],[0.5555555555555556,\"#d8576b\"],[0.6666666666666666,\"#ed7953\"],[0.7777777777777778,\"#fb9f3a\"],[0.8888888888888888,\"#fdca26\"],[1.0,\"#f0f921\"]]}],\"choropleth\":[{\"type\":\"choropleth\",\"colorbar\":{\"outlinewidth\":0,\"ticks\":\"\"}}],\"histogram2d\":[{\"type\":\"histogram2d\",\"colorbar\":{\"outlinewidth\":0,\"ticks\":\"\"},\"colorscale\":[[0.0,\"#0d0887\"],[0.1111111111111111,\"#46039f\"],[0.2222222222222222,\"#7201a8\"],[0.3333333333333333,\"#9c179e\"],[0.4444444444444444,\"#bd3786\"],[0.5555555555555556,\"#d8576b\"],[0.6666666666666666,\"#ed7953\"],[0.7777777777777778,\"#fb9f3a\"],[0.8888888888888888,\"#fdca26\"],[1.0,\"#f0f921\"]]}],\"heatmap\":[{\"type\":\"heatmap\",\"colorbar\":{\"outlinewidth\":0,\"ticks\":\"\"},\"colorscale\":[[0.0,\"#0d0887\"],[0.1111111111111111,\"#46039f\"],[0.2222222222222222,\"#7201a8\"],[0.3333333333333333,\"#9c179e\"],[0.4444444444444444,\"#bd3786\"],[0.5555555555555556,\"#d8576b\"],[0.6666666666666666,\"#ed7953\"],[0.7777777777777778,\"#fb9f3a\"],[0.8888888888888888,\"#fdca26\"],[1.0,\"#f0f921\"]]}],\"heatmapgl\":[{\"type\":\"heatmapgl\",\"colorbar\":{\"outlinewidth\":0,\"ticks\":\"\"},\"colorscale\":[[0.0,\"#0d0887\"],[0.1111111111111111,\"#46039f\"],[0.2222222222222222,\"#7201a8\"],[0.3333333333333333,\"#9c179e\"],[0.4444444444444444,\"#bd3786\"],[0.5555555555555556,\"#d8576b\"],[0.6666666666666666,\"#ed7953\"],[0.7777777777777778,\"#fb9f3a\"],[0.8888888888888888,\"#fdca26\"],[1.0,\"#f0f921\"]]}],\"contourcarpet\":[{\"type\":\"contourcarpet\",\"colorbar\":{\"outlinewidth\":0,\"ticks\":\"\"}}],\"contour\":[{\"type\":\"contour\",\"colorbar\":{\"outlinewidth\":0,\"ticks\":\"\"},\"colorscale\":[[0.0,\"#0d0887\"],[0.1111111111111111,\"#46039f\"],[0.2222222222222222,\"#7201a8\"],[0.3333333333333333,\"#9c179e\"],[0.4444444444444444,\"#bd3786\"],[0.5555555555555556,\"#d8576b\"],[0.6666666666666666,\"#ed7953\"],[0.7777777777777778,\"#fb9f3a\"],[0.8888888888888888,\"#fdca26\"],[1.0,\"#f0f921\"]]}],\"surface\":[{\"type\":\"surface\",\"colorbar\":{\"outlinewidth\":0,\"ticks\":\"\"},\"colorscale\":[[0.0,\"#0d0887\"],[0.1111111111111111,\"#46039f\"],[0.2222222222222222,\"#7201a8\"],[0.3333333333333333,\"#9c179e\"],[0.4444444444444444,\"#bd3786\"],[0.5555555555555556,\"#d8576b\"],[0.6666666666666666,\"#ed7953\"],[0.7777777777777778,\"#fb9f3a\"],[0.8888888888888888,\"#fdca26\"],[1.0,\"#f0f921\"]]}],\"mesh3d\":[{\"type\":\"mesh3d\",\"colorbar\":{\"outlinewidth\":0,\"ticks\":\"\"}}],\"scatter\":[{\"fillpattern\":{\"fillmode\":\"overlay\",\"size\":10,\"solidity\":0.2},\"type\":\"scatter\"}],\"parcoords\":[{\"type\":\"parcoords\",\"line\":{\"colorbar\":{\"outlinewidth\":0,\"ticks\":\"\"}}}],\"scatterpolargl\":[{\"type\":\"scatterpolargl\",\"marker\":{\"colorbar\":{\"outlinewidth\":0,\"ticks\":\"\"}}}],\"bar\":[{\"error_x\":{\"color\":\"#2a3f5f\"},\"error_y\":{\"color\":\"#2a3f5f\"},\"marker\":{\"line\":{\"color\":\"#E5ECF6\",\"width\":0.5},\"pattern\":{\"fillmode\":\"overlay\",\"size\":10,\"solidity\":0.2}},\"type\":\"bar\"}],\"scattergeo\":[{\"type\":\"scattergeo\",\"marker\":{\"colorbar\":{\"outlinewidth\":0,\"ticks\":\"\"}}}],\"scatterpolar\":[{\"type\":\"scatterpolar\",\"marker\":{\"colorbar\":{\"outlinewidth\":0,\"ticks\":\"\"}}}],\"histogram\":[{\"marker\":{\"pattern\":{\"fillmode\":\"overlay\",\"size\":10,\"solidity\":0.2}},\"type\":\"histogram\"}],\"scattergl\":[{\"type\":\"scattergl\",\"marker\":{\"colorbar\":{\"outlinewidth\":0,\"ticks\":\"\"}}}],\"scatter3d\":[{\"type\":\"scatter3d\",\"line\":{\"colorbar\":{\"outlinewidth\":0,\"ticks\":\"\"}},\"marker\":{\"colorbar\":{\"outlinewidth\":0,\"ticks\":\"\"}}}],\"scattermapbox\":[{\"type\":\"scattermapbox\",\"marker\":{\"colorbar\":{\"outlinewidth\":0,\"ticks\":\"\"}}}],\"scatterternary\":[{\"type\":\"scatterternary\",\"marker\":{\"colorbar\":{\"outlinewidth\":0,\"ticks\":\"\"}}}],\"scattercarpet\":[{\"type\":\"scattercarpet\",\"marker\":{\"colorbar\":{\"outlinewidth\":0,\"ticks\":\"\"}}}],\"carpet\":[{\"aaxis\":{\"endlinecolor\":\"#2a3f5f\",\"gridcolor\":\"white\",\"linecolor\":\"white\",\"minorgridcolor\":\"white\",\"startlinecolor\":\"#2a3f5f\"},\"baxis\":{\"endlinecolor\":\"#2a3f5f\",\"gridcolor\":\"white\",\"linecolor\":\"white\",\"minorgridcolor\":\"white\",\"startlinecolor\":\"#2a3f5f\"},\"type\":\"carpet\"}],\"table\":[{\"cells\":{\"fill\":{\"color\":\"#EBF0F8\"},\"line\":{\"color\":\"white\"}},\"header\":{\"fill\":{\"color\":\"#C8D4E3\"},\"line\":{\"color\":\"white\"}},\"type\":\"table\"}],\"barpolar\":[{\"marker\":{\"line\":{\"color\":\"#E5ECF6\",\"width\":0.5},\"pattern\":{\"fillmode\":\"overlay\",\"size\":10,\"solidity\":0.2}},\"type\":\"barpolar\"}],\"pie\":[{\"automargin\":true,\"type\":\"pie\"}]},\"layout\":{\"autotypenumbers\":\"strict\",\"colorway\":[\"#636efa\",\"#EF553B\",\"#00cc96\",\"#ab63fa\",\"#FFA15A\",\"#19d3f3\",\"#FF6692\",\"#B6E880\",\"#FF97FF\",\"#FECB52\"],\"font\":{\"color\":\"#2a3f5f\"},\"hovermode\":\"closest\",\"hoverlabel\":{\"align\":\"left\"},\"paper_bgcolor\":\"white\",\"plot_bgcolor\":\"#E5ECF6\",\"polar\":{\"bgcolor\":\"#E5ECF6\",\"angularaxis\":{\"gridcolor\":\"white\",\"linecolor\":\"white\",\"ticks\":\"\"},\"radialaxis\":{\"gridcolor\":\"white\",\"linecolor\":\"white\",\"ticks\":\"\"}},\"ternary\":{\"bgcolor\":\"#E5ECF6\",\"aaxis\":{\"gridcolor\":\"white\",\"linecolor\":\"white\",\"ticks\":\"\"},\"baxis\":{\"gridcolor\":\"white\",\"linecolor\":\"white\",\"ticks\":\"\"},\"caxis\":{\"gridcolor\":\"white\",\"linecolor\":\"white\",\"ticks\":\"\"}},\"coloraxis\":{\"colorbar\":{\"outlinewidth\":0,\"ticks\":\"\"}},\"colorscale\":{\"sequential\":[[0.0,\"#0d0887\"],[0.1111111111111111,\"#46039f\"],[0.2222222222222222,\"#7201a8\"],[0.3333333333333333,\"#9c179e\"],[0.4444444444444444,\"#bd3786\"],[0.5555555555555556,\"#d8576b\"],[0.6666666666666666,\"#ed7953\"],[0.7777777777777778,\"#fb9f3a\"],[0.8888888888888888,\"#fdca26\"],[1.0,\"#f0f921\"]],\"sequentialminus\":[[0.0,\"#0d0887\"],[0.1111111111111111,\"#46039f\"],[0.2222222222222222,\"#7201a8\"],[0.3333333333333333,\"#9c179e\"],[0.4444444444444444,\"#bd3786\"],[0.5555555555555556,\"#d8576b\"],[0.6666666666666666,\"#ed7953\"],[0.7777777777777778,\"#fb9f3a\"],[0.8888888888888888,\"#fdca26\"],[1.0,\"#f0f921\"]],\"diverging\":[[0,\"#8e0152\"],[0.1,\"#c51b7d\"],[0.2,\"#de77ae\"],[0.3,\"#f1b6da\"],[0.4,\"#fde0ef\"],[0.5,\"#f7f7f7\"],[0.6,\"#e6f5d0\"],[0.7,\"#b8e186\"],[0.8,\"#7fbc41\"],[0.9,\"#4d9221\"],[1,\"#276419\"]]},\"xaxis\":{\"gridcolor\":\"white\",\"linecolor\":\"white\",\"ticks\":\"\",\"title\":{\"standoff\":15},\"zerolinecolor\":\"white\",\"automargin\":true,\"zerolinewidth\":2},\"yaxis\":{\"gridcolor\":\"white\",\"linecolor\":\"white\",\"ticks\":\"\",\"title\":{\"standoff\":15},\"zerolinecolor\":\"white\",\"automargin\":true,\"zerolinewidth\":2},\"scene\":{\"xaxis\":{\"backgroundcolor\":\"#E5ECF6\",\"gridcolor\":\"white\",\"linecolor\":\"white\",\"showbackground\":true,\"ticks\":\"\",\"zerolinecolor\":\"white\",\"gridwidth\":2},\"yaxis\":{\"backgroundcolor\":\"#E5ECF6\",\"gridcolor\":\"white\",\"linecolor\":\"white\",\"showbackground\":true,\"ticks\":\"\",\"zerolinecolor\":\"white\",\"gridwidth\":2},\"zaxis\":{\"backgroundcolor\":\"#E5ECF6\",\"gridcolor\":\"white\",\"linecolor\":\"white\",\"showbackground\":true,\"ticks\":\"\",\"zerolinecolor\":\"white\",\"gridwidth\":2}},\"shapedefaults\":{\"line\":{\"color\":\"#2a3f5f\"}},\"annotationdefaults\":{\"arrowcolor\":\"#2a3f5f\",\"arrowhead\":0,\"arrowwidth\":1},\"geo\":{\"bgcolor\":\"white\",\"landcolor\":\"#E5ECF6\",\"subunitcolor\":\"white\",\"showland\":true,\"showlakes\":true,\"lakecolor\":\"white\"},\"title\":{\"x\":0.05},\"mapbox\":{\"style\":\"light\"}}},\"xaxis\":{\"anchor\":\"y\",\"domain\":[0.0,1.0],\"title\":{\"text\":\"Day\"},\"categoryorder\":\"array\",\"categoryarray\":[\"Thursday\",\"Friday\",\"Saturday\",\"Sunday\",\"Monday\",\"Tuesday\",\"Wednesday\"]},\"yaxis\":{\"anchor\":\"x\",\"domain\":[0.0,1.0],\"title\":{\"text\":\"count\"}},\"legend\":{\"title\":{\"text\":\"Day\"},\"tracegroupgap\":0},\"title\":{\"text\":\"NUMBER OF SALES IN DAY\"},\"barmode\":\"relative\"},                        {\"responsive\": true}                    ).then(function(){\n",
       "                            \n",
       "var gd = document.getElementById('50340cee-cc9a-43ca-87ec-cf1114e288fe');\n",
       "var x = new MutationObserver(function (mutations, observer) {{\n",
       "        var display = window.getComputedStyle(gd).display;\n",
       "        if (!display || display === 'none') {{\n",
       "            console.log([gd, 'removed!']);\n",
       "            Plotly.purge(gd);\n",
       "            observer.disconnect();\n",
       "        }}\n",
       "}});\n",
       "\n",
       "// Listen for the removal of the full notebook cells\n",
       "var notebookContainer = gd.closest('#notebook-container');\n",
       "if (notebookContainer) {{\n",
       "    x.observe(notebookContainer, {childList: true});\n",
       "}}\n",
       "\n",
       "// Listen for the clearing of the current output cell\n",
       "var outputEl = gd.closest('.output');\n",
       "if (outputEl) {{\n",
       "    x.observe(outputEl, {childList: true});\n",
       "}}\n",
       "\n",
       "                        })                };                });            </script>        </div>"
      ]
     },
     "metadata": {},
     "output_type": "display_data"
    }
   ],
   "source": [
    "day=df_cat[\"Day\"].value_counts().reset_index()\n",
    "day.columns=[\"Day\", \"count\"]\n",
    "ax=px.bar(day,x=\"Day\",y=\"count\",color=\"Day\",text=\"count\",title=\"NUMBER OF SALES IN DAY\")\n",
    "ax.show()"
   ]
  },
  {
   "cell_type": "code",
   "execution_count": 210,
   "id": "55067e98-1604-491a-9c04-52fba1a303ed",
   "metadata": {},
   "outputs": [
    {
     "data": {
      "application/vnd.plotly.v1+json": {
       "config": {
        "plotlyServerURL": "https://plot.ly"
       },
       "data": [
        {
         "alignmentgroup": "True",
         "hovertemplate": "Date=%{x}<br>count=%{text}<extra></extra>",
         "legendgroup": "01-04-2021",
         "marker": {
          "color": "#636efa",
          "pattern": {
           "shape": ""
          }
         },
         "name": "01-04-2021",
         "offsetgroup": "01-04-2021",
         "orientation": "v",
         "showlegend": true,
         "text": [
          30
         ],
         "textposition": "auto",
         "type": "bar",
         "x": [
          "01-04-2021"
         ],
         "xaxis": "x",
         "y": [
          30
         ],
         "yaxis": "y"
        },
        {
         "alignmentgroup": "True",
         "hovertemplate": "Date=%{x}<br>count=%{text}<extra></extra>",
         "legendgroup": "02-04-2021",
         "marker": {
          "color": "#EF553B",
          "pattern": {
           "shape": ""
          }
         },
         "name": "02-04-2021",
         "offsetgroup": "02-04-2021",
         "orientation": "v",
         "showlegend": true,
         "text": [
          30
         ],
         "textposition": "auto",
         "type": "bar",
         "x": [
          "02-04-2021"
         ],
         "xaxis": "x",
         "y": [
          30
         ],
         "yaxis": "y"
        },
        {
         "alignmentgroup": "True",
         "hovertemplate": "Date=%{x}<br>count=%{text}<extra></extra>",
         "legendgroup": "03-04-2021",
         "marker": {
          "color": "#00cc96",
          "pattern": {
           "shape": ""
          }
         },
         "name": "03-04-2021",
         "offsetgroup": "03-04-2021",
         "orientation": "v",
         "showlegend": true,
         "text": [
          30
         ],
         "textposition": "auto",
         "type": "bar",
         "x": [
          "03-04-2021"
         ],
         "xaxis": "x",
         "y": [
          30
         ],
         "yaxis": "y"
        },
        {
         "alignmentgroup": "True",
         "hovertemplate": "Date=%{x}<br>count=%{text}<extra></extra>",
         "legendgroup": "04-04-2021",
         "marker": {
          "color": "#ab63fa",
          "pattern": {
           "shape": ""
          }
         },
         "name": "04-04-2021",
         "offsetgroup": "04-04-2021",
         "orientation": "v",
         "showlegend": true,
         "text": [
          30
         ],
         "textposition": "auto",
         "type": "bar",
         "x": [
          "04-04-2021"
         ],
         "xaxis": "x",
         "y": [
          30
         ],
         "yaxis": "y"
        },
        {
         "alignmentgroup": "True",
         "hovertemplate": "Date=%{x}<br>count=%{text}<extra></extra>",
         "legendgroup": "05-04-2021",
         "marker": {
          "color": "#FFA15A",
          "pattern": {
           "shape": ""
          }
         },
         "name": "05-04-2021",
         "offsetgroup": "05-04-2021",
         "orientation": "v",
         "showlegend": true,
         "text": [
          30
         ],
         "textposition": "auto",
         "type": "bar",
         "x": [
          "05-04-2021"
         ],
         "xaxis": "x",
         "y": [
          30
         ],
         "yaxis": "y"
        },
        {
         "alignmentgroup": "True",
         "hovertemplate": "Date=%{x}<br>count=%{text}<extra></extra>",
         "legendgroup": "06-04-2021",
         "marker": {
          "color": "#19d3f3",
          "pattern": {
           "shape": ""
          }
         },
         "name": "06-04-2021",
         "offsetgroup": "06-04-2021",
         "orientation": "v",
         "showlegend": true,
         "text": [
          30
         ],
         "textposition": "auto",
         "type": "bar",
         "x": [
          "06-04-2021"
         ],
         "xaxis": "x",
         "y": [
          30
         ],
         "yaxis": "y"
        },
        {
         "alignmentgroup": "True",
         "hovertemplate": "Date=%{x}<br>count=%{text}<extra></extra>",
         "legendgroup": "07-04-2021",
         "marker": {
          "color": "#FF6692",
          "pattern": {
           "shape": ""
          }
         },
         "name": "07-04-2021",
         "offsetgroup": "07-04-2021",
         "orientation": "v",
         "showlegend": true,
         "text": [
          30
         ],
         "textposition": "auto",
         "type": "bar",
         "x": [
          "07-04-2021"
         ],
         "xaxis": "x",
         "y": [
          30
         ],
         "yaxis": "y"
        },
        {
         "alignmentgroup": "True",
         "hovertemplate": "Date=%{x}<br>count=%{text}<extra></extra>",
         "legendgroup": "08-04-2021",
         "marker": {
          "color": "#B6E880",
          "pattern": {
           "shape": ""
          }
         },
         "name": "08-04-2021",
         "offsetgroup": "08-04-2021",
         "orientation": "v",
         "showlegend": true,
         "text": [
          30
         ],
         "textposition": "auto",
         "type": "bar",
         "x": [
          "08-04-2021"
         ],
         "xaxis": "x",
         "y": [
          30
         ],
         "yaxis": "y"
        },
        {
         "alignmentgroup": "True",
         "hovertemplate": "Date=%{x}<br>count=%{text}<extra></extra>",
         "legendgroup": "09-04-2021",
         "marker": {
          "color": "#FF97FF",
          "pattern": {
           "shape": ""
          }
         },
         "name": "09-04-2021",
         "offsetgroup": "09-04-2021",
         "orientation": "v",
         "showlegend": true,
         "text": [
          30
         ],
         "textposition": "auto",
         "type": "bar",
         "x": [
          "09-04-2021"
         ],
         "xaxis": "x",
         "y": [
          30
         ],
         "yaxis": "y"
        },
        {
         "alignmentgroup": "True",
         "hovertemplate": "Date=%{x}<br>count=%{text}<extra></extra>",
         "legendgroup": "10-04-2021",
         "marker": {
          "color": "#FECB52",
          "pattern": {
           "shape": ""
          }
         },
         "name": "10-04-2021",
         "offsetgroup": "10-04-2021",
         "orientation": "v",
         "showlegend": true,
         "text": [
          30
         ],
         "textposition": "auto",
         "type": "bar",
         "x": [
          "10-04-2021"
         ],
         "xaxis": "x",
         "y": [
          30
         ],
         "yaxis": "y"
        },
        {
         "alignmentgroup": "True",
         "hovertemplate": "Date=%{x}<br>count=%{text}<extra></extra>",
         "legendgroup": "11-04-2021",
         "marker": {
          "color": "#636efa",
          "pattern": {
           "shape": ""
          }
         },
         "name": "11-04-2021",
         "offsetgroup": "11-04-2021",
         "orientation": "v",
         "showlegend": true,
         "text": [
          30
         ],
         "textposition": "auto",
         "type": "bar",
         "x": [
          "11-04-2021"
         ],
         "xaxis": "x",
         "y": [
          30
         ],
         "yaxis": "y"
        },
        {
         "alignmentgroup": "True",
         "hovertemplate": "Date=%{x}<br>count=%{text}<extra></extra>",
         "legendgroup": "12-04-2021",
         "marker": {
          "color": "#EF553B",
          "pattern": {
           "shape": ""
          }
         },
         "name": "12-04-2021",
         "offsetgroup": "12-04-2021",
         "orientation": "v",
         "showlegend": true,
         "text": [
          30
         ],
         "textposition": "auto",
         "type": "bar",
         "x": [
          "12-04-2021"
         ],
         "xaxis": "x",
         "y": [
          30
         ],
         "yaxis": "y"
        },
        {
         "alignmentgroup": "True",
         "hovertemplate": "Date=%{x}<br>count=%{text}<extra></extra>",
         "legendgroup": "13-04-2021",
         "marker": {
          "color": "#00cc96",
          "pattern": {
           "shape": ""
          }
         },
         "name": "13-04-2021",
         "offsetgroup": "13-04-2021",
         "orientation": "v",
         "showlegend": true,
         "text": [
          30
         ],
         "textposition": "auto",
         "type": "bar",
         "x": [
          "13-04-2021"
         ],
         "xaxis": "x",
         "y": [
          30
         ],
         "yaxis": "y"
        },
        {
         "alignmentgroup": "True",
         "hovertemplate": "Date=%{x}<br>count=%{text}<extra></extra>",
         "legendgroup": "14-04-2021",
         "marker": {
          "color": "#ab63fa",
          "pattern": {
           "shape": ""
          }
         },
         "name": "14-04-2021",
         "offsetgroup": "14-04-2021",
         "orientation": "v",
         "showlegend": true,
         "text": [
          30
         ],
         "textposition": "auto",
         "type": "bar",
         "x": [
          "14-04-2021"
         ],
         "xaxis": "x",
         "y": [
          30
         ],
         "yaxis": "y"
        },
        {
         "alignmentgroup": "True",
         "hovertemplate": "Date=%{x}<br>count=%{text}<extra></extra>",
         "legendgroup": "15-04-2021",
         "marker": {
          "color": "#FFA15A",
          "pattern": {
           "shape": ""
          }
         },
         "name": "15-04-2021",
         "offsetgroup": "15-04-2021",
         "orientation": "v",
         "showlegend": true,
         "text": [
          30
         ],
         "textposition": "auto",
         "type": "bar",
         "x": [
          "15-04-2021"
         ],
         "xaxis": "x",
         "y": [
          30
         ],
         "yaxis": "y"
        }
       ],
       "layout": {
        "autosize": true,
        "barmode": "relative",
        "legend": {
         "title": {
          "text": "Date"
         },
         "tracegroupgap": 0
        },
        "template": {
         "data": {
          "bar": [
           {
            "error_x": {
             "color": "#2a3f5f"
            },
            "error_y": {
             "color": "#2a3f5f"
            },
            "marker": {
             "line": {
              "color": "#E5ECF6",
              "width": 0.5
             },
             "pattern": {
              "fillmode": "overlay",
              "size": 10,
              "solidity": 0.2
             }
            },
            "type": "bar"
           }
          ],
          "barpolar": [
           {
            "marker": {
             "line": {
              "color": "#E5ECF6",
              "width": 0.5
             },
             "pattern": {
              "fillmode": "overlay",
              "size": 10,
              "solidity": 0.2
             }
            },
            "type": "barpolar"
           }
          ],
          "carpet": [
           {
            "aaxis": {
             "endlinecolor": "#2a3f5f",
             "gridcolor": "white",
             "linecolor": "white",
             "minorgridcolor": "white",
             "startlinecolor": "#2a3f5f"
            },
            "baxis": {
             "endlinecolor": "#2a3f5f",
             "gridcolor": "white",
             "linecolor": "white",
             "minorgridcolor": "white",
             "startlinecolor": "#2a3f5f"
            },
            "type": "carpet"
           }
          ],
          "choropleth": [
           {
            "colorbar": {
             "outlinewidth": 0,
             "ticks": ""
            },
            "type": "choropleth"
           }
          ],
          "contour": [
           {
            "colorbar": {
             "outlinewidth": 0,
             "ticks": ""
            },
            "colorscale": [
             [
              0,
              "#0d0887"
             ],
             [
              0.1111111111111111,
              "#46039f"
             ],
             [
              0.2222222222222222,
              "#7201a8"
             ],
             [
              0.3333333333333333,
              "#9c179e"
             ],
             [
              0.4444444444444444,
              "#bd3786"
             ],
             [
              0.5555555555555556,
              "#d8576b"
             ],
             [
              0.6666666666666666,
              "#ed7953"
             ],
             [
              0.7777777777777778,
              "#fb9f3a"
             ],
             [
              0.8888888888888888,
              "#fdca26"
             ],
             [
              1,
              "#f0f921"
             ]
            ],
            "type": "contour"
           }
          ],
          "contourcarpet": [
           {
            "colorbar": {
             "outlinewidth": 0,
             "ticks": ""
            },
            "type": "contourcarpet"
           }
          ],
          "heatmap": [
           {
            "colorbar": {
             "outlinewidth": 0,
             "ticks": ""
            },
            "colorscale": [
             [
              0,
              "#0d0887"
             ],
             [
              0.1111111111111111,
              "#46039f"
             ],
             [
              0.2222222222222222,
              "#7201a8"
             ],
             [
              0.3333333333333333,
              "#9c179e"
             ],
             [
              0.4444444444444444,
              "#bd3786"
             ],
             [
              0.5555555555555556,
              "#d8576b"
             ],
             [
              0.6666666666666666,
              "#ed7953"
             ],
             [
              0.7777777777777778,
              "#fb9f3a"
             ],
             [
              0.8888888888888888,
              "#fdca26"
             ],
             [
              1,
              "#f0f921"
             ]
            ],
            "type": "heatmap"
           }
          ],
          "heatmapgl": [
           {
            "colorbar": {
             "outlinewidth": 0,
             "ticks": ""
            },
            "colorscale": [
             [
              0,
              "#0d0887"
             ],
             [
              0.1111111111111111,
              "#46039f"
             ],
             [
              0.2222222222222222,
              "#7201a8"
             ],
             [
              0.3333333333333333,
              "#9c179e"
             ],
             [
              0.4444444444444444,
              "#bd3786"
             ],
             [
              0.5555555555555556,
              "#d8576b"
             ],
             [
              0.6666666666666666,
              "#ed7953"
             ],
             [
              0.7777777777777778,
              "#fb9f3a"
             ],
             [
              0.8888888888888888,
              "#fdca26"
             ],
             [
              1,
              "#f0f921"
             ]
            ],
            "type": "heatmapgl"
           }
          ],
          "histogram": [
           {
            "marker": {
             "pattern": {
              "fillmode": "overlay",
              "size": 10,
              "solidity": 0.2
             }
            },
            "type": "histogram"
           }
          ],
          "histogram2d": [
           {
            "colorbar": {
             "outlinewidth": 0,
             "ticks": ""
            },
            "colorscale": [
             [
              0,
              "#0d0887"
             ],
             [
              0.1111111111111111,
              "#46039f"
             ],
             [
              0.2222222222222222,
              "#7201a8"
             ],
             [
              0.3333333333333333,
              "#9c179e"
             ],
             [
              0.4444444444444444,
              "#bd3786"
             ],
             [
              0.5555555555555556,
              "#d8576b"
             ],
             [
              0.6666666666666666,
              "#ed7953"
             ],
             [
              0.7777777777777778,
              "#fb9f3a"
             ],
             [
              0.8888888888888888,
              "#fdca26"
             ],
             [
              1,
              "#f0f921"
             ]
            ],
            "type": "histogram2d"
           }
          ],
          "histogram2dcontour": [
           {
            "colorbar": {
             "outlinewidth": 0,
             "ticks": ""
            },
            "colorscale": [
             [
              0,
              "#0d0887"
             ],
             [
              0.1111111111111111,
              "#46039f"
             ],
             [
              0.2222222222222222,
              "#7201a8"
             ],
             [
              0.3333333333333333,
              "#9c179e"
             ],
             [
              0.4444444444444444,
              "#bd3786"
             ],
             [
              0.5555555555555556,
              "#d8576b"
             ],
             [
              0.6666666666666666,
              "#ed7953"
             ],
             [
              0.7777777777777778,
              "#fb9f3a"
             ],
             [
              0.8888888888888888,
              "#fdca26"
             ],
             [
              1,
              "#f0f921"
             ]
            ],
            "type": "histogram2dcontour"
           }
          ],
          "mesh3d": [
           {
            "colorbar": {
             "outlinewidth": 0,
             "ticks": ""
            },
            "type": "mesh3d"
           }
          ],
          "parcoords": [
           {
            "line": {
             "colorbar": {
              "outlinewidth": 0,
              "ticks": ""
             }
            },
            "type": "parcoords"
           }
          ],
          "pie": [
           {
            "automargin": true,
            "type": "pie"
           }
          ],
          "scatter": [
           {
            "fillpattern": {
             "fillmode": "overlay",
             "size": 10,
             "solidity": 0.2
            },
            "type": "scatter"
           }
          ],
          "scatter3d": [
           {
            "line": {
             "colorbar": {
              "outlinewidth": 0,
              "ticks": ""
             }
            },
            "marker": {
             "colorbar": {
              "outlinewidth": 0,
              "ticks": ""
             }
            },
            "type": "scatter3d"
           }
          ],
          "scattercarpet": [
           {
            "marker": {
             "colorbar": {
              "outlinewidth": 0,
              "ticks": ""
             }
            },
            "type": "scattercarpet"
           }
          ],
          "scattergeo": [
           {
            "marker": {
             "colorbar": {
              "outlinewidth": 0,
              "ticks": ""
             }
            },
            "type": "scattergeo"
           }
          ],
          "scattergl": [
           {
            "marker": {
             "colorbar": {
              "outlinewidth": 0,
              "ticks": ""
             }
            },
            "type": "scattergl"
           }
          ],
          "scattermapbox": [
           {
            "marker": {
             "colorbar": {
              "outlinewidth": 0,
              "ticks": ""
             }
            },
            "type": "scattermapbox"
           }
          ],
          "scatterpolar": [
           {
            "marker": {
             "colorbar": {
              "outlinewidth": 0,
              "ticks": ""
             }
            },
            "type": "scatterpolar"
           }
          ],
          "scatterpolargl": [
           {
            "marker": {
             "colorbar": {
              "outlinewidth": 0,
              "ticks": ""
             }
            },
            "type": "scatterpolargl"
           }
          ],
          "scatterternary": [
           {
            "marker": {
             "colorbar": {
              "outlinewidth": 0,
              "ticks": ""
             }
            },
            "type": "scatterternary"
           }
          ],
          "surface": [
           {
            "colorbar": {
             "outlinewidth": 0,
             "ticks": ""
            },
            "colorscale": [
             [
              0,
              "#0d0887"
             ],
             [
              0.1111111111111111,
              "#46039f"
             ],
             [
              0.2222222222222222,
              "#7201a8"
             ],
             [
              0.3333333333333333,
              "#9c179e"
             ],
             [
              0.4444444444444444,
              "#bd3786"
             ],
             [
              0.5555555555555556,
              "#d8576b"
             ],
             [
              0.6666666666666666,
              "#ed7953"
             ],
             [
              0.7777777777777778,
              "#fb9f3a"
             ],
             [
              0.8888888888888888,
              "#fdca26"
             ],
             [
              1,
              "#f0f921"
             ]
            ],
            "type": "surface"
           }
          ],
          "table": [
           {
            "cells": {
             "fill": {
              "color": "#EBF0F8"
             },
             "line": {
              "color": "white"
             }
            },
            "header": {
             "fill": {
              "color": "#C8D4E3"
             },
             "line": {
              "color": "white"
             }
            },
            "type": "table"
           }
          ]
         },
         "layout": {
          "annotationdefaults": {
           "arrowcolor": "#2a3f5f",
           "arrowhead": 0,
           "arrowwidth": 1
          },
          "autotypenumbers": "strict",
          "coloraxis": {
           "colorbar": {
            "outlinewidth": 0,
            "ticks": ""
           }
          },
          "colorscale": {
           "diverging": [
            [
             0,
             "#8e0152"
            ],
            [
             0.1,
             "#c51b7d"
            ],
            [
             0.2,
             "#de77ae"
            ],
            [
             0.3,
             "#f1b6da"
            ],
            [
             0.4,
             "#fde0ef"
            ],
            [
             0.5,
             "#f7f7f7"
            ],
            [
             0.6,
             "#e6f5d0"
            ],
            [
             0.7,
             "#b8e186"
            ],
            [
             0.8,
             "#7fbc41"
            ],
            [
             0.9,
             "#4d9221"
            ],
            [
             1,
             "#276419"
            ]
           ],
           "sequential": [
            [
             0,
             "#0d0887"
            ],
            [
             0.1111111111111111,
             "#46039f"
            ],
            [
             0.2222222222222222,
             "#7201a8"
            ],
            [
             0.3333333333333333,
             "#9c179e"
            ],
            [
             0.4444444444444444,
             "#bd3786"
            ],
            [
             0.5555555555555556,
             "#d8576b"
            ],
            [
             0.6666666666666666,
             "#ed7953"
            ],
            [
             0.7777777777777778,
             "#fb9f3a"
            ],
            [
             0.8888888888888888,
             "#fdca26"
            ],
            [
             1,
             "#f0f921"
            ]
           ],
           "sequentialminus": [
            [
             0,
             "#0d0887"
            ],
            [
             0.1111111111111111,
             "#46039f"
            ],
            [
             0.2222222222222222,
             "#7201a8"
            ],
            [
             0.3333333333333333,
             "#9c179e"
            ],
            [
             0.4444444444444444,
             "#bd3786"
            ],
            [
             0.5555555555555556,
             "#d8576b"
            ],
            [
             0.6666666666666666,
             "#ed7953"
            ],
            [
             0.7777777777777778,
             "#fb9f3a"
            ],
            [
             0.8888888888888888,
             "#fdca26"
            ],
            [
             1,
             "#f0f921"
            ]
           ]
          },
          "colorway": [
           "#636efa",
           "#EF553B",
           "#00cc96",
           "#ab63fa",
           "#FFA15A",
           "#19d3f3",
           "#FF6692",
           "#B6E880",
           "#FF97FF",
           "#FECB52"
          ],
          "font": {
           "color": "#2a3f5f"
          },
          "geo": {
           "bgcolor": "white",
           "lakecolor": "white",
           "landcolor": "#E5ECF6",
           "showlakes": true,
           "showland": true,
           "subunitcolor": "white"
          },
          "hoverlabel": {
           "align": "left"
          },
          "hovermode": "closest",
          "mapbox": {
           "style": "light"
          },
          "paper_bgcolor": "white",
          "plot_bgcolor": "#E5ECF6",
          "polar": {
           "angularaxis": {
            "gridcolor": "white",
            "linecolor": "white",
            "ticks": ""
           },
           "bgcolor": "#E5ECF6",
           "radialaxis": {
            "gridcolor": "white",
            "linecolor": "white",
            "ticks": ""
           }
          },
          "scene": {
           "xaxis": {
            "backgroundcolor": "#E5ECF6",
            "gridcolor": "white",
            "gridwidth": 2,
            "linecolor": "white",
            "showbackground": true,
            "ticks": "",
            "zerolinecolor": "white"
           },
           "yaxis": {
            "backgroundcolor": "#E5ECF6",
            "gridcolor": "white",
            "gridwidth": 2,
            "linecolor": "white",
            "showbackground": true,
            "ticks": "",
            "zerolinecolor": "white"
           },
           "zaxis": {
            "backgroundcolor": "#E5ECF6",
            "gridcolor": "white",
            "gridwidth": 2,
            "linecolor": "white",
            "showbackground": true,
            "ticks": "",
            "zerolinecolor": "white"
           }
          },
          "shapedefaults": {
           "line": {
            "color": "#2a3f5f"
           }
          },
          "ternary": {
           "aaxis": {
            "gridcolor": "white",
            "linecolor": "white",
            "ticks": ""
           },
           "baxis": {
            "gridcolor": "white",
            "linecolor": "white",
            "ticks": ""
           },
           "bgcolor": "#E5ECF6",
           "caxis": {
            "gridcolor": "white",
            "linecolor": "white",
            "ticks": ""
           }
          },
          "title": {
           "x": 0.05
          },
          "xaxis": {
           "automargin": true,
           "gridcolor": "white",
           "linecolor": "white",
           "ticks": "",
           "title": {
            "standoff": 15
           },
           "zerolinecolor": "white",
           "zerolinewidth": 2
          },
          "yaxis": {
           "automargin": true,
           "gridcolor": "white",
           "linecolor": "white",
           "ticks": "",
           "title": {
            "standoff": 15
           },
           "zerolinecolor": "white",
           "zerolinewidth": 2
          }
         }
        },
        "title": {
         "text": "NUMBER OF SALES IN DATE"
        },
        "xaxis": {
         "anchor": "y",
         "autorange": true,
         "categoryarray": [
          "01-04-2021",
          "02-04-2021",
          "03-04-2021",
          "04-04-2021",
          "05-04-2021",
          "06-04-2021",
          "07-04-2021",
          "08-04-2021",
          "09-04-2021",
          "10-04-2021",
          "11-04-2021",
          "12-04-2021",
          "13-04-2021",
          "14-04-2021",
          "15-04-2021"
         ],
         "categoryorder": "array",
         "domain": [
          0,
          1
         ],
         "range": [
          -0.5,
          14.5
         ],
         "title": {
          "text": "Date"
         },
         "type": "category"
        },
        "yaxis": {
         "anchor": "x",
         "autorange": true,
         "domain": [
          0,
          1
         ],
         "range": [
          0,
          31.57894736842105
         ],
         "title": {
          "text": "count"
         },
         "type": "linear"
        }
       }
      },
      "image/png": "[encoded data removed]",
      "text/html": [
       "<div>                            <div id=\"30baaa74-3c58-45ef-8cf5-e3861fb7a8d1\" class=\"plotly-graph-div\" style=\"height:525px; width:100%;\"></div>            <script type=\"text/javascript\">                require([\"plotly\"], function(Plotly) {                    window.PLOTLYENV=window.PLOTLYENV || {};                                    if (document.getElementById(\"30baaa74-3c58-45ef-8cf5-e3861fb7a8d1\")) {                    Plotly.newPlot(                        \"30baaa74-3c58-45ef-8cf5-e3861fb7a8d1\",                        [{\"alignmentgroup\":\"True\",\"hovertemplate\":\"Date=%{x}\\u003cbr\\u003ecount=%{text}\\u003cextra\\u003e\\u003c\\u002fextra\\u003e\",\"legendgroup\":\"01-04-2021\",\"marker\":{\"color\":\"#636efa\",\"pattern\":{\"shape\":\"\"}},\"name\":\"01-04-2021\",\"offsetgroup\":\"01-04-2021\",\"orientation\":\"v\",\"showlegend\":true,\"text\":[30.0],\"textposition\":\"auto\",\"x\":[\"01-04-2021\"],\"xaxis\":\"x\",\"y\":[30],\"yaxis\":\"y\",\"type\":\"bar\"},{\"alignmentgroup\":\"True\",\"hovertemplate\":\"Date=%{x}\\u003cbr\\u003ecount=%{text}\\u003cextra\\u003e\\u003c\\u002fextra\\u003e\",\"legendgroup\":\"02-04-2021\",\"marker\":{\"color\":\"#EF553B\",\"pattern\":{\"shape\":\"\"}},\"name\":\"02-04-2021\",\"offsetgroup\":\"02-04-2021\",\"orientation\":\"v\",\"showlegend\":true,\"text\":[30.0],\"textposition\":\"auto\",\"x\":[\"02-04-2021\"],\"xaxis\":\"x\",\"y\":[30],\"yaxis\":\"y\",\"type\":\"bar\"},{\"alignmentgroup\":\"True\",\"hovertemplate\":\"Date=%{x}\\u003cbr\\u003ecount=%{text}\\u003cextra\\u003e\\u003c\\u002fextra\\u003e\",\"legendgroup\":\"03-04-2021\",\"marker\":{\"color\":\"#00cc96\",\"pattern\":{\"shape\":\"\"}},\"name\":\"03-04-2021\",\"offsetgroup\":\"03-04-2021\",\"orientation\":\"v\",\"showlegend\":true,\"text\":[30.0],\"textposition\":\"auto\",\"x\":[\"03-04-2021\"],\"xaxis\":\"x\",\"y\":[30],\"yaxis\":\"y\",\"type\":\"bar\"},{\"alignmentgroup\":\"True\",\"hovertemplate\":\"Date=%{x}\\u003cbr\\u003ecount=%{text}\\u003cextra\\u003e\\u003c\\u002fextra\\u003e\",\"legendgroup\":\"04-04-2021\",\"marker\":{\"color\":\"#ab63fa\",\"pattern\":{\"shape\":\"\"}},\"name\":\"04-04-2021\",\"offsetgroup\":\"04-04-2021\",\"orientation\":\"v\",\"showlegend\":true,\"text\":[30.0],\"textposition\":\"auto\",\"x\":[\"04-04-2021\"],\"xaxis\":\"x\",\"y\":[30],\"yaxis\":\"y\",\"type\":\"bar\"},{\"alignmentgroup\":\"True\",\"hovertemplate\":\"Date=%{x}\\u003cbr\\u003ecount=%{text}\\u003cextra\\u003e\\u003c\\u002fextra\\u003e\",\"legendgroup\":\"05-04-2021\",\"marker\":{\"color\":\"#FFA15A\",\"pattern\":{\"shape\":\"\"}},\"name\":\"05-04-2021\",\"offsetgroup\":\"05-04-2021\",\"orientation\":\"v\",\"showlegend\":true,\"text\":[30.0],\"textposition\":\"auto\",\"x\":[\"05-04-2021\"],\"xaxis\":\"x\",\"y\":[30],\"yaxis\":\"y\",\"type\":\"bar\"},{\"alignmentgroup\":\"True\",\"hovertemplate\":\"Date=%{x}\\u003cbr\\u003ecount=%{text}\\u003cextra\\u003e\\u003c\\u002fextra\\u003e\",\"legendgroup\":\"06-04-2021\",\"marker\":{\"color\":\"#19d3f3\",\"pattern\":{\"shape\":\"\"}},\"name\":\"06-04-2021\",\"offsetgroup\":\"06-04-2021\",\"orientation\":\"v\",\"showlegend\":true,\"text\":[30.0],\"textposition\":\"auto\",\"x\":[\"06-04-2021\"],\"xaxis\":\"x\",\"y\":[30],\"yaxis\":\"y\",\"type\":\"bar\"},{\"alignmentgroup\":\"True\",\"hovertemplate\":\"Date=%{x}\\u003cbr\\u003ecount=%{text}\\u003cextra\\u003e\\u003c\\u002fextra\\u003e\",\"legendgroup\":\"07-04-2021\",\"marker\":{\"color\":\"#FF6692\",\"pattern\":{\"shape\":\"\"}},\"name\":\"07-04-2021\",\"offsetgroup\":\"07-04-2021\",\"orientation\":\"v\",\"showlegend\":true,\"text\":[30.0],\"textposition\":\"auto\",\"x\":[\"07-04-2021\"],\"xaxis\":\"x\",\"y\":[30],\"yaxis\":\"y\",\"type\":\"bar\"},{\"alignmentgroup\":\"True\",\"hovertemplate\":\"Date=%{x}\\u003cbr\\u003ecount=%{text}\\u003cextra\\u003e\\u003c\\u002fextra\\u003e\",\"legendgroup\":\"08-04-2021\",\"marker\":{\"color\":\"#B6E880\",\"pattern\":{\"shape\":\"\"}},\"name\":\"08-04-2021\",\"offsetgroup\":\"08-04-2021\",\"orientation\":\"v\",\"showlegend\":true,\"text\":[30.0],\"textposition\":\"auto\",\"x\":[\"08-04-2021\"],\"xaxis\":\"x\",\"y\":[30],\"yaxis\":\"y\",\"type\":\"bar\"},{\"alignmentgroup\":\"True\",\"hovertemplate\":\"Date=%{x}\\u003cbr\\u003ecount=%{text}\\u003cextra\\u003e\\u003c\\u002fextra\\u003e\",\"legendgroup\":\"09-04-2021\",\"marker\":{\"color\":\"#FF97FF\",\"pattern\":{\"shape\":\"\"}},\"name\":\"09-04-2021\",\"offsetgroup\":\"09-04-2021\",\"orientation\":\"v\",\"showlegend\":true,\"text\":[30.0],\"textposition\":\"auto\",\"x\":[\"09-04-2021\"],\"xaxis\":\"x\",\"y\":[30],\"yaxis\":\"y\",\"type\":\"bar\"},{\"alignmentgroup\":\"True\",\"hovertemplate\":\"Date=%{x}\\u003cbr\\u003ecount=%{text}\\u003cextra\\u003e\\u003c\\u002fextra\\u003e\",\"legendgroup\":\"10-04-2021\",\"marker\":{\"color\":\"#FECB52\",\"pattern\":{\"shape\":\"\"}},\"name\":\"10-04-2021\",\"offsetgroup\":\"10-04-2021\",\"orientation\":\"v\",\"showlegend\":true,\"text\":[30.0],\"textposition\":\"auto\",\"x\":[\"10-04-2021\"],\"xaxis\":\"x\",\"y\":[30],\"yaxis\":\"y\",\"type\":\"bar\"},{\"alignmentgroup\":\"True\",\"hovertemplate\":\"Date=%{x}\\u003cbr\\u003ecount=%{text}\\u003cextra\\u003e\\u003c\\u002fextra\\u003e\",\"legendgroup\":\"11-04-2021\",\"marker\":{\"color\":\"#636efa\",\"pattern\":{\"shape\":\"\"}},\"name\":\"11-04-2021\",\"offsetgroup\":\"11-04-2021\",\"orientation\":\"v\",\"showlegend\":true,\"text\":[30.0],\"textposition\":\"auto\",\"x\":[\"11-04-2021\"],\"xaxis\":\"x\",\"y\":[30],\"yaxis\":\"y\",\"type\":\"bar\"},{\"alignmentgroup\":\"True\",\"hovertemplate\":\"Date=%{x}\\u003cbr\\u003ecount=%{text}\\u003cextra\\u003e\\u003c\\u002fextra\\u003e\",\"legendgroup\":\"12-04-2021\",\"marker\":{\"color\":\"#EF553B\",\"pattern\":{\"shape\":\"\"}},\"name\":\"12-04-2021\",\"offsetgroup\":\"12-04-2021\",\"orientation\":\"v\",\"showlegend\":true,\"text\":[30.0],\"textposition\":\"auto\",\"x\":[\"12-04-2021\"],\"xaxis\":\"x\",\"y\":[30],\"yaxis\":\"y\",\"type\":\"bar\"},{\"alignmentgroup\":\"True\",\"hovertemplate\":\"Date=%{x}\\u003cbr\\u003ecount=%{text}\\u003cextra\\u003e\\u003c\\u002fextra\\u003e\",\"legendgroup\":\"13-04-2021\",\"marker\":{\"color\":\"#00cc96\",\"pattern\":{\"shape\":\"\"}},\"name\":\"13-04-2021\",\"offsetgroup\":\"13-04-2021\",\"orientation\":\"v\",\"showlegend\":true,\"text\":[30.0],\"textposition\":\"auto\",\"x\":[\"13-04-2021\"],\"xaxis\":\"x\",\"y\":[30],\"yaxis\":\"y\",\"type\":\"bar\"},{\"alignmentgroup\":\"True\",\"hovertemplate\":\"Date=%{x}\\u003cbr\\u003ecount=%{text}\\u003cextra\\u003e\\u003c\\u002fextra\\u003e\",\"legendgroup\":\"14-04-2021\",\"marker\":{\"color\":\"#ab63fa\",\"pattern\":{\"shape\":\"\"}},\"name\":\"14-04-2021\",\"offsetgroup\":\"14-04-2021\",\"orientation\":\"v\",\"showlegend\":true,\"text\":[30.0],\"textposition\":\"auto\",\"x\":[\"14-04-2021\"],\"xaxis\":\"x\",\"y\":[30],\"yaxis\":\"y\",\"type\":\"bar\"},{\"alignmentgroup\":\"True\",\"hovertemplate\":\"Date=%{x}\\u003cbr\\u003ecount=%{text}\\u003cextra\\u003e\\u003c\\u002fextra\\u003e\",\"legendgroup\":\"15-04-2021\",\"marker\":{\"color\":\"#FFA15A\",\"pattern\":{\"shape\":\"\"}},\"name\":\"15-04-2021\",\"offsetgroup\":\"15-04-2021\",\"orientation\":\"v\",\"showlegend\":true,\"text\":[30.0],\"textposition\":\"auto\",\"x\":[\"15-04-2021\"],\"xaxis\":\"x\",\"y\":[30],\"yaxis\":\"y\",\"type\":\"bar\"}],                        {\"template\":{\"data\":{\"histogram2dcontour\":[{\"type\":\"histogram2dcontour\",\"colorbar\":{\"outlinewidth\":0,\"ticks\":\"\"},\"colorscale\":[[0.0,\"#0d0887\"],[0.1111111111111111,\"#46039f\"],[0.2222222222222222,\"#7201a8\"],[0.3333333333333333,\"#9c179e\"],[0.4444444444444444,\"#bd3786\"],[0.5555555555555556,\"#d8576b\"],[0.6666666666666666,\"#ed7953\"],[0.7777777777777778,\"#fb9f3a\"],[0.8888888888888888,\"#fdca26\"],[1.0,\"#f0f921\"]]}],\"choropleth\":[{\"type\":\"choropleth\",\"colorbar\":{\"outlinewidth\":0,\"ticks\":\"\"}}],\"histogram2d\":[{\"type\":\"histogram2d\",\"colorbar\":{\"outlinewidth\":0,\"ticks\":\"\"},\"colorscale\":[[0.0,\"#0d0887\"],[0.1111111111111111,\"#46039f\"],[0.2222222222222222,\"#7201a8\"],[0.3333333333333333,\"#9c179e\"],[0.4444444444444444,\"#bd3786\"],[0.5555555555555556,\"#d8576b\"],[0.6666666666666666,\"#ed7953\"],[0.7777777777777778,\"#fb9f3a\"],[0.8888888888888888,\"#fdca26\"],[1.0,\"#f0f921\"]]}],\"heatmap\":[{\"type\":\"heatmap\",\"colorbar\":{\"outlinewidth\":0,\"ticks\":\"\"},\"colorscale\":[[0.0,\"#0d0887\"],[0.1111111111111111,\"#46039f\"],[0.2222222222222222,\"#7201a8\"],[0.3333333333333333,\"#9c179e\"],[0.4444444444444444,\"#bd3786\"],[0.5555555555555556,\"#d8576b\"],[0.6666666666666666,\"#ed7953\"],[0.7777777777777778,\"#fb9f3a\"],[0.8888888888888888,\"#fdca26\"],[1.0,\"#f0f921\"]]}],\"heatmapgl\":[{\"type\":\"heatmapgl\",\"colorbar\":{\"outlinewidth\":0,\"ticks\":\"\"},\"colorscale\":[[0.0,\"#0d0887\"],[0.1111111111111111,\"#46039f\"],[0.2222222222222222,\"#7201a8\"],[0.3333333333333333,\"#9c179e\"],[0.4444444444444444,\"#bd3786\"],[0.5555555555555556,\"#d8576b\"],[0.6666666666666666,\"#ed7953\"],[0.7777777777777778,\"#fb9f3a\"],[0.8888888888888888,\"#fdca26\"],[1.0,\"#f0f921\"]]}],\"contourcarpet\":[{\"type\":\"contourcarpet\",\"colorbar\":{\"outlinewidth\":0,\"ticks\":\"\"}}],\"contour\":[{\"type\":\"contour\",\"colorbar\":{\"outlinewidth\":0,\"ticks\":\"\"},\"colorscale\":[[0.0,\"#0d0887\"],[0.1111111111111111,\"#46039f\"],[0.2222222222222222,\"#7201a8\"],[0.3333333333333333,\"#9c179e\"],[0.4444444444444444,\"#bd3786\"],[0.5555555555555556,\"#d8576b\"],[0.6666666666666666,\"#ed7953\"],[0.7777777777777778,\"#fb9f3a\"],[0.8888888888888888,\"#fdca26\"],[1.0,\"#f0f921\"]]}],\"surface\":[{\"type\":\"surface\",\"colorbar\":{\"outlinewidth\":0,\"ticks\":\"\"},\"colorscale\":[[0.0,\"#0d0887\"],[0.1111111111111111,\"#46039f\"],[0.2222222222222222,\"#7201a8\"],[0.3333333333333333,\"#9c179e\"],[0.4444444444444444,\"#bd3786\"],[0.5555555555555556,\"#d8576b\"],[0.6666666666666666,\"#ed7953\"],[0.7777777777777778,\"#fb9f3a\"],[0.8888888888888888,\"#fdca26\"],[1.0,\"#f0f921\"]]}],\"mesh3d\":[{\"type\":\"mesh3d\",\"colorbar\":{\"outlinewidth\":0,\"ticks\":\"\"}}],\"scatter\":[{\"fillpattern\":{\"fillmode\":\"overlay\",\"size\":10,\"solidity\":0.2},\"type\":\"scatter\"}],\"parcoords\":[{\"type\":\"parcoords\",\"line\":{\"colorbar\":{\"outlinewidth\":0,\"ticks\":\"\"}}}],\"scatterpolargl\":[{\"type\":\"scatterpolargl\",\"marker\":{\"colorbar\":{\"outlinewidth\":0,\"ticks\":\"\"}}}],\"bar\":[{\"error_x\":{\"color\":\"#2a3f5f\"},\"error_y\":{\"color\":\"#2a3f5f\"},\"marker\":{\"line\":{\"color\":\"#E5ECF6\",\"width\":0.5},\"pattern\":{\"fillmode\":\"overlay\",\"size\":10,\"solidity\":0.2}},\"type\":\"bar\"}],\"scattergeo\":[{\"type\":\"scattergeo\",\"marker\":{\"colorbar\":{\"outlinewidth\":0,\"ticks\":\"\"}}}],\"scatterpolar\":[{\"type\":\"scatterpolar\",\"marker\":{\"colorbar\":{\"outlinewidth\":0,\"ticks\":\"\"}}}],\"histogram\":[{\"marker\":{\"pattern\":{\"fillmode\":\"overlay\",\"size\":10,\"solidity\":0.2}},\"type\":\"histogram\"}],\"scattergl\":[{\"type\":\"scattergl\",\"marker\":{\"colorbar\":{\"outlinewidth\":0,\"ticks\":\"\"}}}],\"scatter3d\":[{\"type\":\"scatter3d\",\"line\":{\"colorbar\":{\"outlinewidth\":0,\"ticks\":\"\"}},\"marker\":{\"colorbar\":{\"outlinewidth\":0,\"ticks\":\"\"}}}],\"scattermapbox\":[{\"type\":\"scattermapbox\",\"marker\":{\"colorbar\":{\"outlinewidth\":0,\"ticks\":\"\"}}}],\"scatterternary\":[{\"type\":\"scatterternary\",\"marker\":{\"colorbar\":{\"outlinewidth\":0,\"ticks\":\"\"}}}],\"scattercarpet\":[{\"type\":\"scattercarpet\",\"marker\":{\"colorbar\":{\"outlinewidth\":0,\"ticks\":\"\"}}}],\"carpet\":[{\"aaxis\":{\"endlinecolor\":\"#2a3f5f\",\"gridcolor\":\"white\",\"linecolor\":\"white\",\"minorgridcolor\":\"white\",\"startlinecolor\":\"#2a3f5f\"},\"baxis\":{\"endlinecolor\":\"#2a3f5f\",\"gridcolor\":\"white\",\"linecolor\":\"white\",\"minorgridcolor\":\"white\",\"startlinecolor\":\"#2a3f5f\"},\"type\":\"carpet\"}],\"table\":[{\"cells\":{\"fill\":{\"color\":\"#EBF0F8\"},\"line\":{\"color\":\"white\"}},\"header\":{\"fill\":{\"color\":\"#C8D4E3\"},\"line\":{\"color\":\"white\"}},\"type\":\"table\"}],\"barpolar\":[{\"marker\":{\"line\":{\"color\":\"#E5ECF6\",\"width\":0.5},\"pattern\":{\"fillmode\":\"overlay\",\"size\":10,\"solidity\":0.2}},\"type\":\"barpolar\"}],\"pie\":[{\"automargin\":true,\"type\":\"pie\"}]},\"layout\":{\"autotypenumbers\":\"strict\",\"colorway\":[\"#636efa\",\"#EF553B\",\"#00cc96\",\"#ab63fa\",\"#FFA15A\",\"#19d3f3\",\"#FF6692\",\"#B6E880\",\"#FF97FF\",\"#FECB52\"],\"font\":{\"color\":\"#2a3f5f\"},\"hovermode\":\"closest\",\"hoverlabel\":{\"align\":\"left\"},\"paper_bgcolor\":\"white\",\"plot_bgcolor\":\"#E5ECF6\",\"polar\":{\"bgcolor\":\"#E5ECF6\",\"angularaxis\":{\"gridcolor\":\"white\",\"linecolor\":\"white\",\"ticks\":\"\"},\"radialaxis\":{\"gridcolor\":\"white\",\"linecolor\":\"white\",\"ticks\":\"\"}},\"ternary\":{\"bgcolor\":\"#E5ECF6\",\"aaxis\":{\"gridcolor\":\"white\",\"linecolor\":\"white\",\"ticks\":\"\"},\"baxis\":{\"gridcolor\":\"white\",\"linecolor\":\"white\",\"ticks\":\"\"},\"caxis\":{\"gridcolor\":\"white\",\"linecolor\":\"white\",\"ticks\":\"\"}},\"coloraxis\":{\"colorbar\":{\"outlinewidth\":0,\"ticks\":\"\"}},\"colorscale\":{\"sequential\":[[0.0,\"#0d0887\"],[0.1111111111111111,\"#46039f\"],[0.2222222222222222,\"#7201a8\"],[0.3333333333333333,\"#9c179e\"],[0.4444444444444444,\"#bd3786\"],[0.5555555555555556,\"#d8576b\"],[0.6666666666666666,\"#ed7953\"],[0.7777777777777778,\"#fb9f3a\"],[0.8888888888888888,\"#fdca26\"],[1.0,\"#f0f921\"]],\"sequentialminus\":[[0.0,\"#0d0887\"],[0.1111111111111111,\"#46039f\"],[0.2222222222222222,\"#7201a8\"],[0.3333333333333333,\"#9c179e\"],[0.4444444444444444,\"#bd3786\"],[0.5555555555555556,\"#d8576b\"],[0.6666666666666666,\"#ed7953\"],[0.7777777777777778,\"#fb9f3a\"],[0.8888888888888888,\"#fdca26\"],[1.0,\"#f0f921\"]],\"diverging\":[[0,\"#8e0152\"],[0.1,\"#c51b7d\"],[0.2,\"#de77ae\"],[0.3,\"#f1b6da\"],[0.4,\"#fde0ef\"],[0.5,\"#f7f7f7\"],[0.6,\"#e6f5d0\"],[0.7,\"#b8e186\"],[0.8,\"#7fbc41\"],[0.9,\"#4d9221\"],[1,\"#276419\"]]},\"xaxis\":{\"gridcolor\":\"white\",\"linecolor\":\"white\",\"ticks\":\"\",\"title\":{\"standoff\":15},\"zerolinecolor\":\"white\",\"automargin\":true,\"zerolinewidth\":2},\"yaxis\":{\"gridcolor\":\"white\",\"linecolor\":\"white\",\"ticks\":\"\",\"title\":{\"standoff\":15},\"zerolinecolor\":\"white\",\"automargin\":true,\"zerolinewidth\":2},\"scene\":{\"xaxis\":{\"backgroundcolor\":\"#E5ECF6\",\"gridcolor\":\"white\",\"linecolor\":\"white\",\"showbackground\":true,\"ticks\":\"\",\"zerolinecolor\":\"white\",\"gridwidth\":2},\"yaxis\":{\"backgroundcolor\":\"#E5ECF6\",\"gridcolor\":\"white\",\"linecolor\":\"white\",\"showbackground\":true,\"ticks\":\"\",\"zerolinecolor\":\"white\",\"gridwidth\":2},\"zaxis\":{\"backgroundcolor\":\"#E5ECF6\",\"gridcolor\":\"white\",\"linecolor\":\"white\",\"showbackground\":true,\"ticks\":\"\",\"zerolinecolor\":\"white\",\"gridwidth\":2}},\"shapedefaults\":{\"line\":{\"color\":\"#2a3f5f\"}},\"annotationdefaults\":{\"arrowcolor\":\"#2a3f5f\",\"arrowhead\":0,\"arrowwidth\":1},\"geo\":{\"bgcolor\":\"white\",\"landcolor\":\"#E5ECF6\",\"subunitcolor\":\"white\",\"showland\":true,\"showlakes\":true,\"lakecolor\":\"white\"},\"title\":{\"x\":0.05},\"mapbox\":{\"style\":\"light\"}}},\"xaxis\":{\"anchor\":\"y\",\"domain\":[0.0,1.0],\"title\":{\"text\":\"Date\"},\"categoryorder\":\"array\",\"categoryarray\":[\"01-04-2021\",\"02-04-2021\",\"03-04-2021\",\"04-04-2021\",\"05-04-2021\",\"06-04-2021\",\"07-04-2021\",\"08-04-2021\",\"09-04-2021\",\"10-04-2021\",\"11-04-2021\",\"12-04-2021\",\"13-04-2021\",\"14-04-2021\",\"15-04-2021\"]},\"yaxis\":{\"anchor\":\"x\",\"domain\":[0.0,1.0],\"title\":{\"text\":\"count\"}},\"legend\":{\"title\":{\"text\":\"Date\"},\"tracegroupgap\":0},\"title\":{\"text\":\"NUMBER OF SALES IN DATE\"},\"barmode\":\"relative\"},                        {\"responsive\": true}                    ).then(function(){\n",
       "                            \n",
       "var gd = document.getElementById('30baaa74-3c58-45ef-8cf5-e3861fb7a8d1');\n",
       "var x = new MutationObserver(function (mutations, observer) {{\n",
       "        var display = window.getComputedStyle(gd).display;\n",
       "        if (!display || display === 'none') {{\n",
       "            console.log([gd, 'removed!']);\n",
       "            Plotly.purge(gd);\n",
       "            observer.disconnect();\n",
       "        }}\n",
       "}});\n",
       "\n",
       "// Listen for the removal of the full notebook cells\n",
       "var notebookContainer = gd.closest('#notebook-container');\n",
       "if (notebookContainer) {{\n",
       "    x.observe(notebookContainer, {childList: true});\n",
       "}}\n",
       "\n",
       "// Listen for the clearing of the current output cell\n",
       "var outputEl = gd.closest('.output');\n",
       "if (outputEl) {{\n",
       "    x.observe(outputEl, {childList: true});\n",
       "}}\n",
       "\n",
       "                        })                };                });            </script>        </div>"
      ]
     },
     "metadata": {},
     "output_type": "display_data"
    }
   ],
   "source": [
    "date=df_cat[\"Date\"].value_counts().reset_index()\n",
    "day.columns=[\"Date\", \"count\"]\n",
    "ax=px.bar(date,x=\"Date\",y=\"count\",color=\"Date\",text=\"count\",title=\"NUMBER OF SALES IN DATE\")\n",
    "ax.show()"
   ]
  },
  {
   "cell_type": "markdown",
   "id": "95bbd587-fa87-4905-8dac-8f7733767007",
   "metadata": {},
   "source": [
    "### FROM GRAPS WE OBESERVE EACH DAY 30 PRODUCTS ARE SELLING AND MOST POPULAR BRAND IS JEERA "
   ]
  },
  {
   "cell_type": "code",
   "execution_count": 212,
   "id": "5c3a8592-8719-44d7-a726-bd3500899a3d",
   "metadata": {},
   "outputs": [],
   "source": [
    "df_standardized=df.copy()"
   ]
  },
  {
   "cell_type": "code",
   "execution_count": 213,
   "id": "2d7035e4-e302-4e56-a5c3-238014ffc8b7",
   "metadata": {},
   "outputs": [],
   "source": [
    "for column in df.select_dtypes(include='number').columns:\n",
    "    # Calculate mean and standard deviation for each numerical column\n",
    "    mean = df[column].mean()\n",
    "    std = df[column].std()\n",
    "    \n",
    "    # Apply the standardization formula\n",
    "    df_standardized[column] = (df[column] - mean) / std\n"
   ]
  },
  {
   "cell_type": "code",
   "execution_count": 214,
   "id": "d33e5455-49a9-4de6-aee4-777a3fe6d20c",
   "metadata": {},
   "outputs": [
    {
     "data": {
      "image/png": "[encoded data removed]",
      "text/plain": [
       "<Figure size 1200x1200 with 6 Axes>"
      ]
     },
     "metadata": {},
     "output_type": "display_data"
    }
   ],
   "source": [
    "ax=df_standardized.hist(figsize=(12,12),grid=False)"
   ]
  },
  {
   "cell_type": "code",
   "execution_count": 215,
   "id": "d1a500c3-6b40-4c6a-a4f4-25cfa7f96506",
   "metadata": {},
   "outputs": [
    {
     "data": {
      "image/png": "[encoded data removed]",
      "text/plain": [
       "<Figure size 1200x1200 with 6 Axes>"
      ]
     },
     "metadata": {},
     "output_type": "display_data"
    }
   ],
   "source": [
    "ax=df_num.hist(figsize=(12,12),grid=False)"
   ]
  },
  {
   "cell_type": "code",
   "execution_count": 216,
   "id": "51dc7902-05d4-459a-b595-c0c671745a6f",
   "metadata": {},
   "outputs": [],
   "source": [
    "# as we observe the values in x-axis scale down to  one digit "
   ]
  }
 ],
 "metadata": {
  "kernelspec": {
   "display_name": "Python 3 (ipykernel)",
   "language": "python",
   "name": "python3"
  },
  "language_info": {
   "codemirror_mode": {
    "name": "ipython",
    "version": 3
   },
   "file_extension": ".py",
   "mimetype": "text/x-python",
   "name": "python",
   "nbconvert_exporter": "python",
   "pygments_lexer": "ipython3",
   "version": "3.12.4"
  }
 },
 "nbformat": 4,
 "nbformat_minor": 5
}
