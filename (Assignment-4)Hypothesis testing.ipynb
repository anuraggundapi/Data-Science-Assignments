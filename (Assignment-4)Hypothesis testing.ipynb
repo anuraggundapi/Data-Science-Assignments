{
 "cells": [
  {
   "cell_type": "markdown",
   "metadata": {
    "id": "4gRNMqG1KNcv"
   },
   "source": [
    "# **Z_Test**"
   ]
  },
  {
   "cell_type": "markdown",
   "metadata": {
    "id": "BGgHM6dpA95h"
   },
   "source": [
    "\n",
    "\n",
    "```\n",
    "# Scenario:\n",
    "Bombay hospitality Ltd. operates a franchise model for\n",
    "producing exotic Norwegian dinners throughout New England.\n",
    "The operating cost for a franchise in a week (W) is given by\n",
    "the equation W = $1,000 + $5X, where X represents the number\n",
    "of units produced in a week. Recent feedback from restaurant owners suggests that this cost model may no longer be accurate, as their observed weekly operating costs are higher.\n",
    "```\n",
    "\n",
    "\n",
    "```\n",
    "# Objective:\n",
    "To investigate the restaurant owners' claim about the increase\n",
    "in weekly operating costs using hypothesis testing.\n",
    "```\n",
    "\n",
    "\n",
    "\n",
    "```\n",
    "-->Given Data\n",
    "* sample_mean(x_bar) = 3050\n",
    "* theoretical_mean(mu) = 4000\n",
    "* sigma = 125\n",
    "* n = 25\n",
    "```\n",
    "\n",
    "\n"
   ]
  },
  {
   "cell_type": "markdown",
   "metadata": {
    "id": "hLuzN6wwBNrT"
   },
   "source": [
    "# Task 1: State the Hypotheses Statement\n",
    "\n",
    "\n",
    "\n",
    "```\n",
    "# H0:The weekly operating cost model is accurate==4000\n",
    "# H1:The weekly operating cost is higher than the model suggests--> μ > 4,000\n",
    "\n",
    "\n",
    "```\n",
    "\n"
   ]
  },
  {
   "cell_type": "code",
   "execution_count": 4,
   "metadata": {
    "colab": {
     "base_uri": "https://localhost:8080/"
    },
    "executionInfo": {
     "elapsed": 1159,
     "status": "ok",
     "timestamp": 1726814337839,
     "user": {
      "displayName": "VAMSI KRISHNA G",
      "userId": "11260790973035289653"
     },
     "user_tz": -330
    },
    "id": "w7F3-nIB_sAA",
    "outputId": "dbd96413-bd54-4115-ddd9-a0a9cfbab161"
   },
   "outputs": [
    {
     "name": "stdout",
     "output_type": "stream",
     "text": [
      "Test Statistic: -38.0\n",
      "Critical Value: 1.959963984540054\n",
      "Fail to reject the null hypothesis. There is no strong evidence to support the restaurant owners' claim.\n"
     ]
    }
   ],
   "source": [
    "import numpy as np\n",
    "import scipy.stats as stats\n",
    "\n",
    "# Given Data\n",
    "sample_mean = 3050      # x̄\n",
    "theoretical_mean = 4000 # μ\n",
    "sigma = 125             # σ\n",
    "n = 25\n",
    "\n",
    "# 2. Calculate test statistic(z= (x̄ - μ) / (σ / √n))\n",
    "\n",
    "Z_stats = (sample_mean - theoretical_mean) / (sigma / np.sqrt(n))\n",
    "print(\"Test Statistic:\", Z_stats)\n",
    "\n",
    "\n",
    "# 3.Determine critical value\n",
    "alpha = 0.05            # 5% == 5/100==0.05\n",
    "critical_value=stats.norm.ppf(0.975)\n",
    "print(\"Critical Value:\", critical_value)\n",
    "\n",
    "\"\"\"100-(Alpha/2)== (100-0.025)==0.975).\n",
    "ppf is the function called  point of percentile in python to get  z-critical value\n",
    "print(\"Critical Value:\", critical_value)\"\"\"\n",
    "\n",
    "\n",
    "# 4. Make a decision\n",
    "if Z_stats > critical_value:\n",
    "    print(\"Reject the null hypothesis. There is strong evidence to support the restaurant owners' claim.\")\n",
    "else:\n",
    "    print(\"Fail to reject the null hypothesis. There is no strong evidence to support the restaurant owners' claim.\")"
   ]
  },
  {
   "cell_type": "markdown",
   "metadata": {
    "id": "RQwE2zGnFaUM"
   },
   "source": [
    "# 5.Conclusion\n",
    "\n",
    "\n",
    "```\n",
    "# Based on the decision, there is strong evidence to support\n",
    "the restaurant owners' claim that the weekly operating costs\n",
    "are higher than the model suggests.\n",
    "```\n",
    "\n"
   ]
  },
  {
   "cell_type": "markdown",
   "metadata": {
    "id": "ZGP3CmEGFleW"
   },
   "source": [
    "\n",
    "\n",
    "---\n",
    "\n",
    "\n",
    "\n",
    "---\n",
    "\n",
    "\n",
    "\n",
    "---\n",
    "\n",
    "\n",
    "\n"
   ]
  },
  {
   "cell_type": "markdown",
   "metadata": {
    "id": "3R3FjU8RFsEY"
   },
   "source": [
    "# **Chisquare test**"
   ]
  },
  {
   "cell_type": "markdown",
   "metadata": {
    "id": "XIg_m0kPKI7j"
   },
   "source": [
    "\n",
    "\n",
    "```\n",
    "# Scenario:\n",
    "Mizzare Corporation has collected data on customer\n",
    "satisfaction levels for two types of smart home devices:\n",
    "Smart Thermostats and Smart Lights. They want to determine\n",
    "if there's a significant association between the type of\n",
    "device purchased and the customer's satisfaction level.\n",
    "```\n",
    "\n",
    "\n",
    "\n",
    "```\n",
    "# Objective:\n",
    "\n",
    "To use the Chi-Square test for independence to determine if\n",
    "there's a significant association between the type of smart\n",
    "home device purchased (Smart Thermostats vs. Smart Lights)\n",
    "and the customer satisfaction level.\n",
    "```\n",
    "\n"
   ]
  },
  {
   "cell_type": "markdown",
   "metadata": {
    "id": "OgKGIMZvQpOw"
   },
   "source": [
    "# Given Dataset(Observed_Data)"
   ]
  },
  {
   "cell_type": "code",
   "execution_count": 10,
   "metadata": {
    "colab": {
     "base_uri": "https://localhost:8080/"
    },
    "executionInfo": {
     "elapsed": 521,
     "status": "ok",
     "timestamp": 1726816267486,
     "user": {
      "displayName": "VAMSI KRISHNA G",
      "userId": "11260790973035289653"
     },
     "user_tz": -330
    },
    "id": "KGs4nWmAQlY8",
    "outputId": "ad3986ce-7721-4741-90c5-9c3052c57504"
   },
   "outputs": [
    {
     "name": "stdout",
     "output_type": "stream",
     "text": [
      "       Satisfaction  Smart Thermostat  Smart Light  Col_Total\n",
      "0    Very Satisfied                50           70        120\n",
      "1         Satisfied                80          100        180\n",
      "2           Neutral                60           90        150\n",
      "3       Unsatisfied                30           50         80\n",
      "4  Very Unsatisfied                20           50         70\n",
      "5         Row_Total               240          360        600\n"
     ]
    }
   ],
   "source": [
    "import pandas as pd\n",
    "\n",
    "data = {'Satisfaction': ['Very Satisfied', 'Satisfied', 'Neutral', 'Unsatisfied', 'Very Unsatisfied','Row_Total'],\n",
    "        'Smart Thermostat': [50, 80, 60, 30, 20,240],\n",
    "        'Smart Light': [70, 100, 90, 50, 50,360],\n",
    "        'Col_Total': [120, 180, 150, 80, 70,600]}\n",
    "\n",
    "df = pd.DataFrame(data)\n",
    "print(df)"
   ]
  },
  {
   "cell_type": "markdown",
   "metadata": {
    "id": "Irgc-43lRbPZ"
   },
   "source": [
    "# Calculating Expected Data\n",
    "\n",
    "\n",
    "```\n",
    "# Calculating Expected data by using the formula\n",
    "-->(Row_Total*Col_Total)/Sub_total\n",
    ".Sub_Total=Sum of Row_Total (or) Sum of Col_Total\n",
    "```\n",
    "\n"
   ]
  },
  {
   "cell_type": "code",
   "execution_count": 12,
   "metadata": {
    "colab": {
     "base_uri": "https://localhost:8080/"
    },
    "executionInfo": {
     "elapsed": 434,
     "status": "ok",
     "timestamp": 1726818718681,
     "user": {
      "displayName": "VAMSI KRISHNA G",
      "userId": "11260790973035289653"
     },
     "user_tz": -330
    },
    "id": "Kr6S7Z75R4Dp",
    "outputId": "499a4f82-8709-4752-c695-bf90dd6f9eab"
   },
   "outputs": [
    {
     "name": "stdout",
     "output_type": "stream",
     "text": [
      "Chi2ContingencyResult(statistic=5.638227513227513, pvalue=0.22784371130697179, dof=4, expected_freq=array([[ 48.,  72.],\n",
      "       [ 72., 108.],\n",
      "       [ 60.,  90.],\n",
      "       [ 32.,  48.],\n",
      "       [ 28.,  42.]]))\n"
     ]
    }
   ],
   "source": [
    "import scipy.stats as stats\n",
    "print(stats.chi2_contingency(df.iloc[0:5,1:3]))"
   ]
  },
  {
   "cell_type": "markdown",
   "metadata": {
    "id": "Jl0Wu5lbXD27"
   },
   "source": [
    "# From the Above work"
   ]
  },
  {
   "cell_type": "code",
   "execution_count": 14,
   "metadata": {
    "executionInfo": {
     "elapsed": 398,
     "status": "ok",
     "timestamp": 1726818023957,
     "user": {
      "displayName": "VAMSI KRISHNA G",
      "userId": "11260790973035289653"
     },
     "user_tz": -330
    },
    "id": "glxtPXQzUIHl"
   },
   "outputs": [],
   "source": [
    "Observed=[50,70,80,100,60,90,30,50,20,50]\n",
    "Expected=[48,72,72,108,60,90,32,48,28,42]"
   ]
  },
  {
   "cell_type": "markdown",
   "metadata": {
    "id": "aWuvAM0EY3K6"
   },
   "source": [
    "# Assignment Tasks"
   ]
  },
  {
   "cell_type": "markdown",
   "metadata": {
    "id": "iZ9ksZczY7w4"
   },
   "source": [
    "# 1.State the Hypotheses\n",
    "\n",
    "\n",
    "1. **Null Hypothesis (H0):** *There is no association between the type of smart home device and customer satisfaction level*.\n",
    "\n",
    "2. **Alternative Hypothesis (H1):** *There is an association between the type of smart home device and customer satisfaction level.*\n",
    "\n"
   ]
  },
  {
   "cell_type": "markdown",
   "metadata": {
    "id": "YdjioDxLZ0tx"
   },
   "source": [
    "# 2.Compute the Chi-Square Statistic\n",
    "\n",
    "\n",
    "```\n",
    "# Formula:(observed - expected)^2 / expected\n",
    "```\n",
    "\n"
   ]
  },
  {
   "cell_type": "code",
   "execution_count": 18,
   "metadata": {
    "colab": {
     "base_uri": "https://localhost:8080/"
    },
    "executionInfo": {
     "elapsed": 466,
     "status": "ok",
     "timestamp": 1726819752603,
     "user": {
      "displayName": "VAMSI KRISHNA G",
      "userId": "11260790973035289653"
     },
     "user_tz": -330
    },
    "id": "we6mPsYhXXcW",
    "outputId": "001086b0-fc90-4b6b-9941-8bc07547a88d"
   },
   "outputs": [
    {
     "data": {
      "text/plain": [
       "Power_divergenceResult(statistic=5.638227513227513, pvalue=0.7755084888723772)"
      ]
     },
     "execution_count": 18,
     "metadata": {},
     "output_type": "execute_result"
    }
   ],
   "source": [
    "#Using Scipy Package\n",
    "Chi_Stats=stats.chisquare(Observed,Expected)\n",
    "Chi_Stats"
   ]
  },
  {
   "cell_type": "markdown",
   "metadata": {
    "id": "SEDCZVHubbdk"
   },
   "source": [
    "# 3.Determine the Critical Value\n",
    "\n",
    "\n",
    "```\n",
    "# Degrees of Freedom = (Number of Rows - 1) * (Number of Columns - 1)\n",
    "In this case, df = (5 - 1) * (2 - 1) = 4\n",
    "\n",
    "\n",
    "```\n",
    "\n"
   ]
  },
  {
   "cell_type": "code",
   "execution_count": 20,
   "metadata": {
    "colab": {
     "base_uri": "https://localhost:8080/"
    },
    "executionInfo": {
     "elapsed": 614,
     "status": "ok",
     "timestamp": 1726819491889,
     "user": {
      "displayName": "VAMSI KRISHNA G",
      "userId": "11260790973035289653"
     },
     "user_tz": -330
    },
    "id": "T_D-B7SgaMA5",
    "outputId": "c831174f-cbcb-49f8-b42f-97f7818bdf74"
   },
   "outputs": [
    {
     "data": {
      "text/plain": [
       "9.487729036781154"
      ]
     },
     "execution_count": 20,
     "metadata": {},
     "output_type": "execute_result"
    }
   ],
   "source": [
    "df=4 #Degree of Freedom\n",
    "alpha=0.05 #(5%)\n",
    "Chi_critical=stats.chi2.ppf(0.95,4)\n",
    "Chi_critical"
   ]
  },
  {
   "cell_type": "markdown",
   "metadata": {
    "id": "h4CDbHk9d3TT"
   },
   "source": [
    "# 4.Make a Decision"
   ]
  },
  {
   "cell_type": "code",
   "execution_count": 24,
   "metadata": {
    "colab": {
     "base_uri": "https://localhost:8080/"
    },
    "executionInfo": {
     "elapsed": 1644,
     "status": "ok",
     "timestamp": 1726819786092,
     "user": {
      "displayName": "VAMSI KRISHNA G",
      "userId": "11260790973035289653"
     },
     "user_tz": -330
    },
    "id": "xkykDAzOdls3",
    "outputId": "2b2680e2-f6ff-40a6-ce18-8e91f223de57"
   },
   "outputs": [
    {
     "name": "stdout",
     "output_type": "stream",
     "text": [
      "Fail to reject the null hypothesis.\n"
     ]
    }
   ],
   "source": [
    "# Access the statistic value from the chi_Stats object using .statistic\n",
    "\n",
    "if Chi_Stats.statistic > Chi_critical:\n",
    "    print(\"Reject the null hypothesis.\")\n",
    "else:\n",
    "    print(\"Fail to reject the null hypothesis.\")"
   ]
  }
 ],
 "metadata": {
  "colab": {
   "authorship_tag": "ABX9TyPpPQnpDcHpcPc1KkeIeOCI",
   "provenance": []
  },
  "kernelspec": {
   "display_name": "Python 3 (ipykernel)",
   "language": "python",
   "name": "python3"
  },
  "language_info": {
   "codemirror_mode": {
    "name": "ipython",
    "version": 3
   },
   "file_extension": ".py",
   "mimetype": "text/x-python",
   "name": "python",
   "nbconvert_exporter": "python",
   "pygments_lexer": "ipython3",
   "version": "3.12.4"
  }
 },
 "nbformat": 4,
 "nbformat_minor": 4
}
