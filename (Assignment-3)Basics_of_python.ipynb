{
 "cells": [
  {
   "cell_type": "markdown",
   "metadata": {
    "id": "R31ZNG5pHKLp"
   },
   "source": [
    "Exercise 1: Prime Numbers\n",
    "Write a Python program that checks whether a given number is prime or not. A prime number is a natural number greater than 1 that has no positive divisors other than 1 and itself."
   ]
  },
  {
   "cell_type": "code",
   "execution_count": 2,
   "metadata": {
    "colab": {
     "base_uri": "https://localhost:8080/"
    },
    "id": "gz8tQS3rHM9W",
    "outputId": "60cacc3b-f813-4c51-8fdb-54ebd733227f"
   },
   "outputs": [
    {
     "name": "stdin",
     "output_type": "stream",
     "text": [
      "enter a number : 9\n"
     ]
    },
    {
     "name": "stdout",
     "output_type": "stream",
     "text": [
      "9 is not a prime\n"
     ]
    }
   ],
   "source": [
    "a= int(input(\"enter a number :\"))\n",
    "flag= False\n",
    "if a==1:\n",
    "  print(a, \" is not a prime number\")\n",
    "elif a>1 :\n",
    "    for i in range(2,a):\n",
    "        if(a%i==0):\n",
    "            flag= True\n",
    "            break;\n",
    "if flag :\n",
    "    print(a,\"is not a prime\")\n",
    "else:\n",
    "  print(a,\"is a prime\")"
   ]
  },
  {
   "cell_type": "markdown",
   "metadata": {
    "id": "dZk2MHixHn-f"
   },
   "source": [
    "Exercise 2: Product of Random Numbers\n",
    "Develop a Python program that generates two random numbers and asks the user to enter the product of these numbers. The program should then check if the user's answer is correct and display an appropriate message."
   ]
  },
  {
   "cell_type": "code",
   "execution_count": 4,
   "metadata": {
    "colab": {
     "base_uri": "https://localhost:8080/"
    },
    "id": "BqmHgbGYHr4j",
    "outputId": "5f3e2669-395b-431f-bf1c-08a58adc9ab5"
   },
   "outputs": [
    {
     "name": "stdout",
     "output_type": "stream",
     "text": [
      "6\n",
      "1\n"
     ]
    },
    {
     "name": "stdin",
     "output_type": "stream",
     "text": [
      "enter the product of this number:  6\n"
     ]
    },
    {
     "name": "stdout",
     "output_type": "stream",
     "text": [
      "correct answer\n"
     ]
    }
   ],
   "source": [
    "import random\n",
    "a=random.randint(1,10)\n",
    "b =random.randint(1,10)\n",
    "print(a)\n",
    "print(b)\n",
    "product = int(input('enter the product of this number: '))\n",
    "if a*b == product:\n",
    "  print('correct answer')\n",
    "else:\n",
    "  print('enter the wrong answer')"
   ]
  },
  {
   "cell_type": "markdown",
   "metadata": {
    "id": "aD79amtYKAzO"
   },
   "source": [
    "Exercise 3: Squares of Even/Odd Numbers\n",
    "Create a Python script that prints the squares of all even or odd numbers within the range of 100 to 200. Choose either even or odd numbers and document your choice in the code."
   ]
  },
  {
   "cell_type": "code",
   "execution_count": 18,
   "metadata": {
    "colab": {
     "base_uri": "https://localhost:8080/"
    },
    "id": "bl4yEBmdKJ3H",
    "outputId": "9886ee5b-71a7-43f0-8e95-d58c5a44671b"
   },
   "outputs": [
    {
     "name": "stdout",
     "output_type": "stream",
     "text": [
      "Squares of even numbers within the range of 100 to 200:\n",
      "The square of 100 is 10000\n",
      "The square of 102 is 10404\n",
      "The square of 104 is 10816\n",
      "The square of 106 is 11236\n",
      "The square of 108 is 11664\n",
      "The square of 110 is 12100\n",
      "The square of 112 is 12544\n",
      "The square of 114 is 12996\n",
      "The square of 116 is 13456\n",
      "The square of 118 is 13924\n",
      "The square of 120 is 14400\n",
      "The square of 122 is 14884\n",
      "The square of 124 is 15376\n",
      "The square of 126 is 15876\n",
      "The square of 128 is 16384\n",
      "The square of 130 is 16900\n",
      "The square of 132 is 17424\n",
      "The square of 134 is 17956\n",
      "The square of 136 is 18496\n",
      "The square of 138 is 19044\n",
      "The square of 140 is 19600\n",
      "The square of 142 is 20164\n",
      "The square of 144 is 20736\n",
      "The square of 146 is 21316\n",
      "The square of 148 is 21904\n",
      "The square of 150 is 22500\n",
      "The square of 152 is 23104\n",
      "The square of 154 is 23716\n",
      "The square of 156 is 24336\n",
      "The square of 158 is 24964\n",
      "The square of 160 is 25600\n",
      "The square of 162 is 26244\n",
      "The square of 164 is 26896\n",
      "The square of 166 is 27556\n",
      "The square of 168 is 28224\n",
      "The square of 170 is 28900\n",
      "The square of 172 is 29584\n",
      "The square of 174 is 30276\n",
      "The square of 176 is 30976\n",
      "The square of 178 is 31684\n",
      "The square of 180 is 32400\n",
      "The square of 182 is 33124\n",
      "The square of 184 is 33856\n",
      "The square of 186 is 34596\n",
      "The square of 188 is 35344\n",
      "The square of 190 is 36100\n",
      "The square of 192 is 36864\n",
      "The square of 194 is 37636\n",
      "The square of 196 is 38416\n",
      "The square of 198 is 39204\n",
      "The square of 200 is 40000\n"
     ]
    }
   ],
   "source": [
    "print(\"Squares of even numbers within the range of 100 to 200:\")\n",
    "for num in range(100, 200+ 1):\n",
    "    if num % 2 == 0:  # Checking if the number is even\n",
    "        print(f\"The square of {num} is {num ** 2}\")\n"
   ]
  },
  {
   "cell_type": "markdown",
   "metadata": {
    "id": "KUUBnnGzKokD"
   },
   "source": [
    "Exercise 4: Word counter\n",
    "write a program to count the number of words in a given text.\n",
    "example:\n",
    "input_text = \"This is a sample text. This text will be used to demonstrate the word counter.\"\n",
    "Expected output:\n",
    "'This': 2\n",
    "'is': 1\n",
    "'a': 1\n",
    "'sample': 1"
   ]
  },
  {
   "cell_type": "code",
   "execution_count": 8,
   "metadata": {
    "colab": {
     "base_uri": "https://localhost:8080/"
    },
    "id": "RR5TQ4OzKuQ3",
    "outputId": "2c201978-15b5-4429-83dd-00b565b29e7f"
   },
   "outputs": [
    {
     "name": "stdin",
     "output_type": "stream",
     "text": [
      "Enter a sting : This is a sample text. This text will be used to demonstrate the word counter.\n"
     ]
    },
    {
     "name": "stdout",
     "output_type": "stream",
     "text": [
      "This: 2\n",
      "is: 1\n",
      "a: 1\n",
      "sample: 1\n",
      "text.: 1\n",
      "text: 1\n",
      "will: 1\n",
      "be: 1\n",
      "used: 1\n",
      "to: 1\n",
      "demonstrate: 1\n",
      "the: 1\n",
      "word: 1\n",
      "counter.: 1\n"
     ]
    }
   ],
   "source": [
    "a= (input(\"Enter a sting :\"))\n",
    "word_count={}\n",
    "for word in a.split():\n",
    "        word_count[word]=word_count.get(word,0)+1\n",
    "for word,count in word_count.items():\n",
    "    print(f\"{word}: {count}\")"
   ]
  },
  {
   "cell_type": "markdown",
   "metadata": {
    "id": "UFGOCJMXLZ63"
   },
   "source": [
    "\n",
    "Exercise 5: Check for Palindrome\n",
    "Write a Python function called is_palindrome that takes a string as input and returns True if the string is a palindrome, and False otherwise. A palindrome is a word, phrase, number, or other sequence of characters that reads the same forward and backward, ignoring spaces, punctuation, and capitalization.\n",
    "Example:\n",
    "Input: \"racecar\"\n",
    "Expected Output: True"
   ]
  },
  {
   "cell_type": "code",
   "execution_count": 22,
   "metadata": {
    "colab": {
     "base_uri": "https://localhost:8080/"
    },
    "id": "O_i-CQQ5Lg0-",
    "outputId": "69f59b59-00df-4f91-e302-6bf79f114eeb"
   },
   "outputs": [
    {
     "name": "stdin",
     "output_type": "stream",
     "text": [
      "Enter a sting : MALAYALAM\n"
     ]
    },
    {
     "name": "stdout",
     "output_type": "stream",
     "text": [
      "MALAYALAM is palindrome\n"
     ]
    }
   ],
   "source": [
    "a= (input(\"Enter a sting :\"))\n",
    "b=a[::-1]\n",
    "if a==b:\n",
    "    print(a,\"is palindrome\")\n",
    "else:\n",
    "    print(a,\"is not a palindrome\")"
   ]
  }
 ],
 "metadata": {
  "colab": {
   "provenance": []
  },
  "kernelspec": {
   "display_name": "Python 3 (ipykernel)",
   "language": "python",
   "name": "python3"
  },
  "language_info": {
   "codemirror_mode": {
    "name": "ipython",
    "version": 3
   },
   "file_extension": ".py",
   "mimetype": "text/x-python",
   "name": "python",
   "nbconvert_exporter": "python",
   "pygments_lexer": "ipython3",
   "version": "3.12.4"
  }
 },
 "nbformat": 4,
 "nbformat_minor": 4
}
